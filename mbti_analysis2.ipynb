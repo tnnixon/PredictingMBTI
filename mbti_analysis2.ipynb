{
  "cells": [
    {
      "cell_type": "code",
      "execution_count": 1,
      "id": "be3dd5a5",
      "metadata": {
        "id": "be3dd5a5"
      },
      "outputs": [],
      "source": [
        "import pandas as pd\n",
        "import matplotlib.pyplot as plt\n",
        "import seaborn as sns"
      ]
    },
    {
      "cell_type": "code",
      "execution_count": 2,
      "id": "80e4a7fa",
      "metadata": {
        "id": "80e4a7fa"
      },
      "outputs": [],
      "source": [
        "df=pd.read_csv(\"mbti_1.csv\")"
      ]
    },
    {
      "cell_type": "code",
      "execution_count": 3,
      "id": "67d3f6bb",
      "metadata": {
        "colab": {
          "base_uri": "https://localhost:8080/",
          "height": 363
        },
        "id": "67d3f6bb",
        "outputId": "2b12ac02-95c3-4a51-a469-5cb93516d0b6"
      },
      "outputs": [
        {
          "output_type": "execute_result",
          "data": {
            "text/html": [
              "\n",
              "  <div id=\"df-bf7f45f9-5398-4d61-a45e-b38f013275bd\">\n",
              "    <div class=\"colab-df-container\">\n",
              "      <div>\n",
              "<style scoped>\n",
              "    .dataframe tbody tr th:only-of-type {\n",
              "        vertical-align: middle;\n",
              "    }\n",
              "\n",
              "    .dataframe tbody tr th {\n",
              "        vertical-align: top;\n",
              "    }\n",
              "\n",
              "    .dataframe thead th {\n",
              "        text-align: right;\n",
              "    }\n",
              "</style>\n",
              "<table border=\"1\" class=\"dataframe\">\n",
              "  <thead>\n",
              "    <tr style=\"text-align: right;\">\n",
              "      <th></th>\n",
              "      <th>type</th>\n",
              "      <th>posts</th>\n",
              "    </tr>\n",
              "  </thead>\n",
              "  <tbody>\n",
              "    <tr>\n",
              "      <th>0</th>\n",
              "      <td>INFJ</td>\n",
              "      <td>'http://www.youtube.com/watch?v=qsXHcwe3krw|||...</td>\n",
              "    </tr>\n",
              "    <tr>\n",
              "      <th>1</th>\n",
              "      <td>ENTP</td>\n",
              "      <td>'I'm finding the lack of me in these posts ver...</td>\n",
              "    </tr>\n",
              "    <tr>\n",
              "      <th>2</th>\n",
              "      <td>INTP</td>\n",
              "      <td>'Good one  _____   https://www.youtube.com/wat...</td>\n",
              "    </tr>\n",
              "    <tr>\n",
              "      <th>3</th>\n",
              "      <td>INTJ</td>\n",
              "      <td>'Dear INTP,   I enjoyed our conversation the o...</td>\n",
              "    </tr>\n",
              "    <tr>\n",
              "      <th>4</th>\n",
              "      <td>ENTJ</td>\n",
              "      <td>'You're fired.|||That's another silly misconce...</td>\n",
              "    </tr>\n",
              "    <tr>\n",
              "      <th>5</th>\n",
              "      <td>INTJ</td>\n",
              "      <td>'18/37 @.@|||Science  is not perfect. No scien...</td>\n",
              "    </tr>\n",
              "    <tr>\n",
              "      <th>6</th>\n",
              "      <td>INFJ</td>\n",
              "      <td>'No, I can't draw on my own nails (haha). Thos...</td>\n",
              "    </tr>\n",
              "    <tr>\n",
              "      <th>7</th>\n",
              "      <td>INTJ</td>\n",
              "      <td>'I tend to build up a collection of things on ...</td>\n",
              "    </tr>\n",
              "    <tr>\n",
              "      <th>8</th>\n",
              "      <td>INFJ</td>\n",
              "      <td>I'm not sure, that's a good question. The dist...</td>\n",
              "    </tr>\n",
              "    <tr>\n",
              "      <th>9</th>\n",
              "      <td>INTP</td>\n",
              "      <td>'https://www.youtube.com/watch?v=w8-egj0y8Qs||...</td>\n",
              "    </tr>\n",
              "  </tbody>\n",
              "</table>\n",
              "</div>\n",
              "      <button class=\"colab-df-convert\" onclick=\"convertToInteractive('df-bf7f45f9-5398-4d61-a45e-b38f013275bd')\"\n",
              "              title=\"Convert this dataframe to an interactive table.\"\n",
              "              style=\"display:none;\">\n",
              "        \n",
              "  <svg xmlns=\"http://www.w3.org/2000/svg\" height=\"24px\"viewBox=\"0 0 24 24\"\n",
              "       width=\"24px\">\n",
              "    <path d=\"M0 0h24v24H0V0z\" fill=\"none\"/>\n",
              "    <path d=\"M18.56 5.44l.94 2.06.94-2.06 2.06-.94-2.06-.94-.94-2.06-.94 2.06-2.06.94zm-11 1L8.5 8.5l.94-2.06 2.06-.94-2.06-.94L8.5 2.5l-.94 2.06-2.06.94zm10 10l.94 2.06.94-2.06 2.06-.94-2.06-.94-.94-2.06-.94 2.06-2.06.94z\"/><path d=\"M17.41 7.96l-1.37-1.37c-.4-.4-.92-.59-1.43-.59-.52 0-1.04.2-1.43.59L10.3 9.45l-7.72 7.72c-.78.78-.78 2.05 0 2.83L4 21.41c.39.39.9.59 1.41.59.51 0 1.02-.2 1.41-.59l7.78-7.78 2.81-2.81c.8-.78.8-2.07 0-2.86zM5.41 20L4 18.59l7.72-7.72 1.47 1.35L5.41 20z\"/>\n",
              "  </svg>\n",
              "      </button>\n",
              "      \n",
              "  <style>\n",
              "    .colab-df-container {\n",
              "      display:flex;\n",
              "      flex-wrap:wrap;\n",
              "      gap: 12px;\n",
              "    }\n",
              "\n",
              "    .colab-df-convert {\n",
              "      background-color: #E8F0FE;\n",
              "      border: none;\n",
              "      border-radius: 50%;\n",
              "      cursor: pointer;\n",
              "      display: none;\n",
              "      fill: #1967D2;\n",
              "      height: 32px;\n",
              "      padding: 0 0 0 0;\n",
              "      width: 32px;\n",
              "    }\n",
              "\n",
              "    .colab-df-convert:hover {\n",
              "      background-color: #E2EBFA;\n",
              "      box-shadow: 0px 1px 2px rgba(60, 64, 67, 0.3), 0px 1px 3px 1px rgba(60, 64, 67, 0.15);\n",
              "      fill: #174EA6;\n",
              "    }\n",
              "\n",
              "    [theme=dark] .colab-df-convert {\n",
              "      background-color: #3B4455;\n",
              "      fill: #D2E3FC;\n",
              "    }\n",
              "\n",
              "    [theme=dark] .colab-df-convert:hover {\n",
              "      background-color: #434B5C;\n",
              "      box-shadow: 0px 1px 3px 1px rgba(0, 0, 0, 0.15);\n",
              "      filter: drop-shadow(0px 1px 2px rgba(0, 0, 0, 0.3));\n",
              "      fill: #FFFFFF;\n",
              "    }\n",
              "  </style>\n",
              "\n",
              "      <script>\n",
              "        const buttonEl =\n",
              "          document.querySelector('#df-bf7f45f9-5398-4d61-a45e-b38f013275bd button.colab-df-convert');\n",
              "        buttonEl.style.display =\n",
              "          google.colab.kernel.accessAllowed ? 'block' : 'none';\n",
              "\n",
              "        async function convertToInteractive(key) {\n",
              "          const element = document.querySelector('#df-bf7f45f9-5398-4d61-a45e-b38f013275bd');\n",
              "          const dataTable =\n",
              "            await google.colab.kernel.invokeFunction('convertToInteractive',\n",
              "                                                     [key], {});\n",
              "          if (!dataTable) return;\n",
              "\n",
              "          const docLinkHtml = 'Like what you see? Visit the ' +\n",
              "            '<a target=\"_blank\" href=https://colab.research.google.com/notebooks/data_table.ipynb>data table notebook</a>'\n",
              "            + ' to learn more about interactive tables.';\n",
              "          element.innerHTML = '';\n",
              "          dataTable['output_type'] = 'display_data';\n",
              "          await google.colab.output.renderOutput(dataTable, element);\n",
              "          const docLink = document.createElement('div');\n",
              "          docLink.innerHTML = docLinkHtml;\n",
              "          element.appendChild(docLink);\n",
              "        }\n",
              "      </script>\n",
              "    </div>\n",
              "  </div>\n",
              "  "
            ],
            "text/plain": [
              "   type                                              posts\n",
              "0  INFJ  'http://www.youtube.com/watch?v=qsXHcwe3krw|||...\n",
              "1  ENTP  'I'm finding the lack of me in these posts ver...\n",
              "2  INTP  'Good one  _____   https://www.youtube.com/wat...\n",
              "3  INTJ  'Dear INTP,   I enjoyed our conversation the o...\n",
              "4  ENTJ  'You're fired.|||That's another silly misconce...\n",
              "5  INTJ  '18/37 @.@|||Science  is not perfect. No scien...\n",
              "6  INFJ  'No, I can't draw on my own nails (haha). Thos...\n",
              "7  INTJ  'I tend to build up a collection of things on ...\n",
              "8  INFJ  I'm not sure, that's a good question. The dist...\n",
              "9  INTP  'https://www.youtube.com/watch?v=w8-egj0y8Qs||..."
            ]
          },
          "metadata": {},
          "execution_count": 3
        }
      ],
      "source": [
        "df.head(10)"
      ]
    },
    {
      "cell_type": "code",
      "execution_count": 4,
      "id": "da19f5cc",
      "metadata": {
        "colab": {
          "base_uri": "https://localhost:8080/"
        },
        "id": "da19f5cc",
        "outputId": "9656cc59-917d-45a2-fac8-b2e21c877a4b"
      },
      "outputs": [
        {
          "output_type": "execute_result",
          "data": {
            "text/plain": [
              "8675"
            ]
          },
          "metadata": {},
          "execution_count": 4
        }
      ],
      "source": [
        "len(df)"
      ]
    },
    {
      "cell_type": "code",
      "execution_count": 5,
      "id": "4f57db67",
      "metadata": {
        "colab": {
          "base_uri": "https://localhost:8080/",
          "height": 279
        },
        "id": "4f57db67",
        "outputId": "2f8efedd-28b4-4dc5-e77c-2f5c37be38d1"
      },
      "outputs": [
        {
          "output_type": "display_data",
          "data": {
            "image/png": "[encoded data removed]",
            "text/plain": [
              "<Figure size 432x288 with 1 Axes>"
            ]
          },
          "metadata": {
            "needs_background": "light"
          }
        }
      ],
      "source": [
        "tot_mbti_posts=[]\n",
        "for i in \"EISNTFJP\":\n",
        "    tot_mbti_posts.append(sum([1 if i in x else 0 for x in df['type']]))\n",
        "    \n",
        "total_per_posts_df=pd.DataFrame(zip(tot_mbti_posts,['E','I','S','N','T','F','J','P']\n",
        "                                    ,['EI','EI','SN','SN','TF','TF','JP','JP'])\n",
        "                                 ,columns=['total_posts','personality','group'])\n",
        "sns.barplot(x='personality',y='total_posts',hue='group',data=total_per_posts_df)\n",
        "plt.xlabel('Personality types')\n",
        "plt.ylabel('Count of pipe-delimited posts')\n",
        "plt.legend([])\n",
        "plt.show()"
      ]
    },
    {
      "cell_type": "code",
      "execution_count": 6,
      "id": "9ee94dc6",
      "metadata": {
        "id": "9ee94dc6"
      },
      "outputs": [],
      "source": [
        "df['num_of_posts']= [len([x for x in post.split('|||') if len(x)>0]) for post in df['posts']]"
      ]
    },
    {
      "cell_type": "code",
      "execution_count": 7,
      "id": "fc0cc47e",
      "metadata": {
        "colab": {
          "base_uri": "https://localhost:8080/",
          "height": 551
        },
        "id": "fc0cc47e",
        "outputId": "42e5ee32-9956-49d4-e159-0b4733ac4288"
      },
      "outputs": [
        {
          "output_type": "execute_result",
          "data": {
            "text/html": [
              "\n",
              "  <div id=\"df-6ec0b153-48ee-492e-8f47-bec9a92324fb\">\n",
              "    <div class=\"colab-df-container\">\n",
              "      <div>\n",
              "<style scoped>\n",
              "    .dataframe tbody tr th:only-of-type {\n",
              "        vertical-align: middle;\n",
              "    }\n",
              "\n",
              "    .dataframe tbody tr th {\n",
              "        vertical-align: top;\n",
              "    }\n",
              "\n",
              "    .dataframe thead th {\n",
              "        text-align: right;\n",
              "    }\n",
              "</style>\n",
              "<table border=\"1\" class=\"dataframe\">\n",
              "  <thead>\n",
              "    <tr style=\"text-align: right;\">\n",
              "      <th></th>\n",
              "      <th>type</th>\n",
              "      <th>num_of_posts</th>\n",
              "    </tr>\n",
              "  </thead>\n",
              "  <tbody>\n",
              "    <tr>\n",
              "      <th>0</th>\n",
              "      <td>ENFJ</td>\n",
              "      <td>9283</td>\n",
              "    </tr>\n",
              "    <tr>\n",
              "      <th>1</th>\n",
              "      <td>ENFP</td>\n",
              "      <td>32610</td>\n",
              "    </tr>\n",
              "    <tr>\n",
              "      <th>2</th>\n",
              "      <td>ENTJ</td>\n",
              "      <td>11235</td>\n",
              "    </tr>\n",
              "    <tr>\n",
              "      <th>3</th>\n",
              "      <td>ENTP</td>\n",
              "      <td>33544</td>\n",
              "    </tr>\n",
              "    <tr>\n",
              "      <th>4</th>\n",
              "      <td>ESFJ</td>\n",
              "      <td>2018</td>\n",
              "    </tr>\n",
              "    <tr>\n",
              "      <th>5</th>\n",
              "      <td>ESFP</td>\n",
              "      <td>2213</td>\n",
              "    </tr>\n",
              "    <tr>\n",
              "      <th>6</th>\n",
              "      <td>ESTJ</td>\n",
              "      <td>1916</td>\n",
              "    </tr>\n",
              "    <tr>\n",
              "      <th>7</th>\n",
              "      <td>ESTP</td>\n",
              "      <td>4329</td>\n",
              "    </tr>\n",
              "    <tr>\n",
              "      <th>8</th>\n",
              "      <td>INFJ</td>\n",
              "      <td>71948</td>\n",
              "    </tr>\n",
              "    <tr>\n",
              "      <th>9</th>\n",
              "      <td>INFP</td>\n",
              "      <td>89595</td>\n",
              "    </tr>\n",
              "    <tr>\n",
              "      <th>10</th>\n",
              "      <td>INTJ</td>\n",
              "      <td>52406</td>\n",
              "    </tr>\n",
              "    <tr>\n",
              "      <th>11</th>\n",
              "      <td>INTP</td>\n",
              "      <td>63251</td>\n",
              "    </tr>\n",
              "    <tr>\n",
              "      <th>12</th>\n",
              "      <td>ISFJ</td>\n",
              "      <td>8114</td>\n",
              "    </tr>\n",
              "    <tr>\n",
              "      <th>13</th>\n",
              "      <td>ISFP</td>\n",
              "      <td>12971</td>\n",
              "    </tr>\n",
              "    <tr>\n",
              "      <th>14</th>\n",
              "      <td>ISTJ</td>\n",
              "      <td>9870</td>\n",
              "    </tr>\n",
              "    <tr>\n",
              "      <th>15</th>\n",
              "      <td>ISTP</td>\n",
              "      <td>16454</td>\n",
              "    </tr>\n",
              "  </tbody>\n",
              "</table>\n",
              "</div>\n",
              "      <button class=\"colab-df-convert\" onclick=\"convertToInteractive('df-6ec0b153-48ee-492e-8f47-bec9a92324fb')\"\n",
              "              title=\"Convert this dataframe to an interactive table.\"\n",
              "              style=\"display:none;\">\n",
              "        \n",
              "  <svg xmlns=\"http://www.w3.org/2000/svg\" height=\"24px\"viewBox=\"0 0 24 24\"\n",
              "       width=\"24px\">\n",
              "    <path d=\"M0 0h24v24H0V0z\" fill=\"none\"/>\n",
              "    <path d=\"M18.56 5.44l.94 2.06.94-2.06 2.06-.94-2.06-.94-.94-2.06-.94 2.06-2.06.94zm-11 1L8.5 8.5l.94-2.06 2.06-.94-2.06-.94L8.5 2.5l-.94 2.06-2.06.94zm10 10l.94 2.06.94-2.06 2.06-.94-2.06-.94-.94-2.06-.94 2.06-2.06.94z\"/><path d=\"M17.41 7.96l-1.37-1.37c-.4-.4-.92-.59-1.43-.59-.52 0-1.04.2-1.43.59L10.3 9.45l-7.72 7.72c-.78.78-.78 2.05 0 2.83L4 21.41c.39.39.9.59 1.41.59.51 0 1.02-.2 1.41-.59l7.78-7.78 2.81-2.81c.8-.78.8-2.07 0-2.86zM5.41 20L4 18.59l7.72-7.72 1.47 1.35L5.41 20z\"/>\n",
              "  </svg>\n",
              "      </button>\n",
              "      \n",
              "  <style>\n",
              "    .colab-df-container {\n",
              "      display:flex;\n",
              "      flex-wrap:wrap;\n",
              "      gap: 12px;\n",
              "    }\n",
              "\n",
              "    .colab-df-convert {\n",
              "      background-color: #E8F0FE;\n",
              "      border: none;\n",
              "      border-radius: 50%;\n",
              "      cursor: pointer;\n",
              "      display: none;\n",
              "      fill: #1967D2;\n",
              "      height: 32px;\n",
              "      padding: 0 0 0 0;\n",
              "      width: 32px;\n",
              "    }\n",
              "\n",
              "    .colab-df-convert:hover {\n",
              "      background-color: #E2EBFA;\n",
              "      box-shadow: 0px 1px 2px rgba(60, 64, 67, 0.3), 0px 1px 3px 1px rgba(60, 64, 67, 0.15);\n",
              "      fill: #174EA6;\n",
              "    }\n",
              "\n",
              "    [theme=dark] .colab-df-convert {\n",
              "      background-color: #3B4455;\n",
              "      fill: #D2E3FC;\n",
              "    }\n",
              "\n",
              "    [theme=dark] .colab-df-convert:hover {\n",
              "      background-color: #434B5C;\n",
              "      box-shadow: 0px 1px 3px 1px rgba(0, 0, 0, 0.15);\n",
              "      filter: drop-shadow(0px 1px 2px rgba(0, 0, 0, 0.3));\n",
              "      fill: #FFFFFF;\n",
              "    }\n",
              "  </style>\n",
              "\n",
              "      <script>\n",
              "        const buttonEl =\n",
              "          document.querySelector('#df-6ec0b153-48ee-492e-8f47-bec9a92324fb button.colab-df-convert');\n",
              "        buttonEl.style.display =\n",
              "          google.colab.kernel.accessAllowed ? 'block' : 'none';\n",
              "\n",
              "        async function convertToInteractive(key) {\n",
              "          const element = document.querySelector('#df-6ec0b153-48ee-492e-8f47-bec9a92324fb');\n",
              "          const dataTable =\n",
              "            await google.colab.kernel.invokeFunction('convertToInteractive',\n",
              "                                                     [key], {});\n",
              "          if (!dataTable) return;\n",
              "\n",
              "          const docLinkHtml = 'Like what you see? Visit the ' +\n",
              "            '<a target=\"_blank\" href=https://colab.research.google.com/notebooks/data_table.ipynb>data table notebook</a>'\n",
              "            + ' to learn more about interactive tables.';\n",
              "          element.innerHTML = '';\n",
              "          dataTable['output_type'] = 'display_data';\n",
              "          await google.colab.output.renderOutput(dataTable, element);\n",
              "          const docLink = document.createElement('div');\n",
              "          docLink.innerHTML = docLinkHtml;\n",
              "          element.appendChild(docLink);\n",
              "        }\n",
              "      </script>\n",
              "    </div>\n",
              "  </div>\n",
              "  "
            ],
            "text/plain": [
              "    type  num_of_posts\n",
              "0   ENFJ          9283\n",
              "1   ENFP         32610\n",
              "2   ENTJ         11235\n",
              "3   ENTP         33544\n",
              "4   ESFJ          2018\n",
              "5   ESFP          2213\n",
              "6   ESTJ          1916\n",
              "7   ESTP          4329\n",
              "8   INFJ         71948\n",
              "9   INFP         89595\n",
              "10  INTJ         52406\n",
              "11  INTP         63251\n",
              "12  ISFJ          8114\n",
              "13  ISFP         12971\n",
              "14  ISTJ          9870\n",
              "15  ISTP         16454"
            ]
          },
          "metadata": {},
          "execution_count": 7
        }
      ],
      "source": [
        "comments_by_type=df.groupby(\"type\")['num_of_posts'].sum().reset_index()\n",
        "comments_by_type"
      ]
    },
    {
      "cell_type": "code",
      "execution_count": 8,
      "id": "dee7a3cd",
      "metadata": {
        "colab": {
          "base_uri": "https://localhost:8080/",
          "height": 388
        },
        "id": "dee7a3cd",
        "outputId": "755650a1-d676-4747-ccf3-0f4837914f37"
      },
      "outputs": [
        {
          "output_type": "display_data",
          "data": {
            "image/png": "[encoded data removed]",
            "text/plain": [
              "<Figure size 864x432 with 1 Axes>"
            ]
          },
          "metadata": {
            "needs_background": "light"
          }
        }
      ],
      "source": [
        "plt.figure(figsize = (12,6))\n",
        "sns.barplot(x='type',y='num_of_posts',data=comments_by_type)\n",
        "plt.xlabel('Personality types')\n",
        "plt.ylabel('Number of posts available')\n",
        "plt.show()"
      ]
    },
    {
      "cell_type": "code",
      "execution_count": 9,
      "id": "3618656f",
      "metadata": {
        "id": "3618656f"
      },
      "outputs": [],
      "source": [
        "#consider only posts greater than or eaual to 50\n",
        "#df=df[df['num_of_posts']>=50]"
      ]
    },
    {
      "cell_type": "code",
      "execution_count": 10,
      "id": "fb52d883",
      "metadata": {
        "colab": {
          "base_uri": "https://localhost:8080/",
          "height": 206
        },
        "id": "fb52d883",
        "outputId": "9da43d50-e085-48bd-85a8-ecd3f6fd0cc8"
      },
      "outputs": [
        {
          "output_type": "execute_result",
          "data": {
            "text/html": [
              "\n",
              "  <div id=\"df-ee5be52d-04e1-42eb-82e5-f93ded6d2693\">\n",
              "    <div class=\"colab-df-container\">\n",
              "      <div>\n",
              "<style scoped>\n",
              "    .dataframe tbody tr th:only-of-type {\n",
              "        vertical-align: middle;\n",
              "    }\n",
              "\n",
              "    .dataframe tbody tr th {\n",
              "        vertical-align: top;\n",
              "    }\n",
              "\n",
              "    .dataframe thead th {\n",
              "        text-align: right;\n",
              "    }\n",
              "</style>\n",
              "<table border=\"1\" class=\"dataframe\">\n",
              "  <thead>\n",
              "    <tr style=\"text-align: right;\">\n",
              "      <th></th>\n",
              "      <th>type</th>\n",
              "      <th>posts</th>\n",
              "      <th>num_of_posts</th>\n",
              "    </tr>\n",
              "  </thead>\n",
              "  <tbody>\n",
              "    <tr>\n",
              "      <th>0</th>\n",
              "      <td>INFJ</td>\n",
              "      <td>'http://www.youtube.com/watch?v=qsXHcwe3krw|||...</td>\n",
              "      <td>50</td>\n",
              "    </tr>\n",
              "    <tr>\n",
              "      <th>1</th>\n",
              "      <td>ENTP</td>\n",
              "      <td>'I'm finding the lack of me in these posts ver...</td>\n",
              "      <td>50</td>\n",
              "    </tr>\n",
              "    <tr>\n",
              "      <th>2</th>\n",
              "      <td>INTP</td>\n",
              "      <td>'Good one  _____   https://www.youtube.com/wat...</td>\n",
              "      <td>50</td>\n",
              "    </tr>\n",
              "    <tr>\n",
              "      <th>3</th>\n",
              "      <td>INTJ</td>\n",
              "      <td>'Dear INTP,   I enjoyed our conversation the o...</td>\n",
              "      <td>50</td>\n",
              "    </tr>\n",
              "    <tr>\n",
              "      <th>4</th>\n",
              "      <td>ENTJ</td>\n",
              "      <td>'You're fired.|||That's another silly misconce...</td>\n",
              "      <td>50</td>\n",
              "    </tr>\n",
              "  </tbody>\n",
              "</table>\n",
              "</div>\n",
              "      <button class=\"colab-df-convert\" onclick=\"convertToInteractive('df-ee5be52d-04e1-42eb-82e5-f93ded6d2693')\"\n",
              "              title=\"Convert this dataframe to an interactive table.\"\n",
              "              style=\"display:none;\">\n",
              "        \n",
              "  <svg xmlns=\"http://www.w3.org/2000/svg\" height=\"24px\"viewBox=\"0 0 24 24\"\n",
              "       width=\"24px\">\n",
              "    <path d=\"M0 0h24v24H0V0z\" fill=\"none\"/>\n",
              "    <path d=\"M18.56 5.44l.94 2.06.94-2.06 2.06-.94-2.06-.94-.94-2.06-.94 2.06-2.06.94zm-11 1L8.5 8.5l.94-2.06 2.06-.94-2.06-.94L8.5 2.5l-.94 2.06-2.06.94zm10 10l.94 2.06.94-2.06 2.06-.94-2.06-.94-.94-2.06-.94 2.06-2.06.94z\"/><path d=\"M17.41 7.96l-1.37-1.37c-.4-.4-.92-.59-1.43-.59-.52 0-1.04.2-1.43.59L10.3 9.45l-7.72 7.72c-.78.78-.78 2.05 0 2.83L4 21.41c.39.39.9.59 1.41.59.51 0 1.02-.2 1.41-.59l7.78-7.78 2.81-2.81c.8-.78.8-2.07 0-2.86zM5.41 20L4 18.59l7.72-7.72 1.47 1.35L5.41 20z\"/>\n",
              "  </svg>\n",
              "      </button>\n",
              "      \n",
              "  <style>\n",
              "    .colab-df-container {\n",
              "      display:flex;\n",
              "      flex-wrap:wrap;\n",
              "      gap: 12px;\n",
              "    }\n",
              "\n",
              "    .colab-df-convert {\n",
              "      background-color: #E8F0FE;\n",
              "      border: none;\n",
              "      border-radius: 50%;\n",
              "      cursor: pointer;\n",
              "      display: none;\n",
              "      fill: #1967D2;\n",
              "      height: 32px;\n",
              "      padding: 0 0 0 0;\n",
              "      width: 32px;\n",
              "    }\n",
              "\n",
              "    .colab-df-convert:hover {\n",
              "      background-color: #E2EBFA;\n",
              "      box-shadow: 0px 1px 2px rgba(60, 64, 67, 0.3), 0px 1px 3px 1px rgba(60, 64, 67, 0.15);\n",
              "      fill: #174EA6;\n",
              "    }\n",
              "\n",
              "    [theme=dark] .colab-df-convert {\n",
              "      background-color: #3B4455;\n",
              "      fill: #D2E3FC;\n",
              "    }\n",
              "\n",
              "    [theme=dark] .colab-df-convert:hover {\n",
              "      background-color: #434B5C;\n",
              "      box-shadow: 0px 1px 3px 1px rgba(0, 0, 0, 0.15);\n",
              "      filter: drop-shadow(0px 1px 2px rgba(0, 0, 0, 0.3));\n",
              "      fill: #FFFFFF;\n",
              "    }\n",
              "  </style>\n",
              "\n",
              "      <script>\n",
              "        const buttonEl =\n",
              "          document.querySelector('#df-ee5be52d-04e1-42eb-82e5-f93ded6d2693 button.colab-df-convert');\n",
              "        buttonEl.style.display =\n",
              "          google.colab.kernel.accessAllowed ? 'block' : 'none';\n",
              "\n",
              "        async function convertToInteractive(key) {\n",
              "          const element = document.querySelector('#df-ee5be52d-04e1-42eb-82e5-f93ded6d2693');\n",
              "          const dataTable =\n",
              "            await google.colab.kernel.invokeFunction('convertToInteractive',\n",
              "                                                     [key], {});\n",
              "          if (!dataTable) return;\n",
              "\n",
              "          const docLinkHtml = 'Like what you see? Visit the ' +\n",
              "            '<a target=\"_blank\" href=https://colab.research.google.com/notebooks/data_table.ipynb>data table notebook</a>'\n",
              "            + ' to learn more about interactive tables.';\n",
              "          element.innerHTML = '';\n",
              "          dataTable['output_type'] = 'display_data';\n",
              "          await google.colab.output.renderOutput(dataTable, element);\n",
              "          const docLink = document.createElement('div');\n",
              "          docLink.innerHTML = docLinkHtml;\n",
              "          element.appendChild(docLink);\n",
              "        }\n",
              "      </script>\n",
              "    </div>\n",
              "  </div>\n",
              "  "
            ],
            "text/plain": [
              "   type                                              posts  num_of_posts\n",
              "0  INFJ  'http://www.youtube.com/watch?v=qsXHcwe3krw|||...            50\n",
              "1  ENTP  'I'm finding the lack of me in these posts ver...            50\n",
              "2  INTP  'Good one  _____   https://www.youtube.com/wat...            50\n",
              "3  INTJ  'Dear INTP,   I enjoyed our conversation the o...            50\n",
              "4  ENTJ  'You're fired.|||That's another silly misconce...            50"
            ]
          },
          "metadata": {},
          "execution_count": 10
        }
      ],
      "source": [
        "df.head()"
      ]
    },
    {
      "cell_type": "code",
      "execution_count": 11,
      "id": "61014fbe",
      "metadata": {
        "colab": {
          "base_uri": "https://localhost:8080/"
        },
        "id": "61014fbe",
        "outputId": "bb8844fc-263f-4a8f-c405-e63b12635dc7"
      },
      "outputs": [
        {
          "output_type": "execute_result",
          "data": {
            "text/plain": [
              "INFP    1832\n",
              "INFJ    1470\n",
              "INTP    1304\n",
              "INTJ    1091\n",
              "ENTP     685\n",
              "ENFP     675\n",
              "ISTP     337\n",
              "ISFP     271\n",
              "ENTJ     231\n",
              "ISTJ     205\n",
              "ENFJ     190\n",
              "ISFJ     166\n",
              "ESTP      89\n",
              "ESFP      48\n",
              "ESFJ      42\n",
              "ESTJ      39\n",
              "Name: type, dtype: int64"
            ]
          },
          "metadata": {},
          "execution_count": 11
        }
      ],
      "source": [
        "df['type'].value_counts()"
      ]
    },
    {
      "cell_type": "code",
      "source": [
        "! pip install emoji"
      ],
      "metadata": {
        "colab": {
          "base_uri": "https://localhost:8080/"
        },
        "id": "kDcllSAOEPXY",
        "outputId": "51137911-b295-4348-e4fb-00b2b4b5959e"
      },
      "id": "kDcllSAOEPXY",
      "execution_count": 12,
      "outputs": [
        {
          "output_type": "stream",
          "name": "stdout",
          "text": [
            "Collecting emoji\n",
            "  Downloading emoji-1.6.3.tar.gz (174 kB)\n",
            "\u001b[?25l\r\u001b[K     |█▉                              | 10 kB 21.8 MB/s eta 0:00:01\r\u001b[K     |███▊                            | 20 kB 12.7 MB/s eta 0:00:01\r\u001b[K     |█████▋                          | 30 kB 9.7 MB/s eta 0:00:01\r\u001b[K     |███████▌                        | 40 kB 4.6 MB/s eta 0:00:01\r\u001b[K     |█████████▍                      | 51 kB 4.4 MB/s eta 0:00:01\r\u001b[K     |███████████▎                    | 61 kB 5.2 MB/s eta 0:00:01\r\u001b[K     |█████████████▏                  | 71 kB 5.8 MB/s eta 0:00:01\r\u001b[K     |███████████████                 | 81 kB 5.6 MB/s eta 0:00:01\r\u001b[K     |█████████████████               | 92 kB 6.3 MB/s eta 0:00:01\r\u001b[K     |██████████████████▉             | 102 kB 5.3 MB/s eta 0:00:01\r\u001b[K     |████████████████████▊           | 112 kB 5.3 MB/s eta 0:00:01\r\u001b[K     |██████████████████████▋         | 122 kB 5.3 MB/s eta 0:00:01\r\u001b[K     |████████████████████████▌       | 133 kB 5.3 MB/s eta 0:00:01\r\u001b[K     |██████████████████████████▍     | 143 kB 5.3 MB/s eta 0:00:01\r\u001b[K     |████████████████████████████▏   | 153 kB 5.3 MB/s eta 0:00:01\r\u001b[K     |██████████████████████████████  | 163 kB 5.3 MB/s eta 0:00:01\r\u001b[K     |████████████████████████████████| 174 kB 5.3 MB/s eta 0:00:01\r\u001b[K     |████████████████████████████████| 174 kB 5.3 MB/s \n",
            "\u001b[?25hBuilding wheels for collected packages: emoji\n",
            "  Building wheel for emoji (setup.py) ... \u001b[?25l\u001b[?25hdone\n",
            "  Created wheel for emoji: filename=emoji-1.6.3-py3-none-any.whl size=170298 sha256=d7042ed2049c0dd7b1455c66d05eb8217178017415f83719455eadf2c5edc646\n",
            "  Stored in directory: /root/.cache/pip/wheels/03/8b/d7/ad579fbef83c287215c0caab60fb0ae0f30c4d7ce5f580eade\n",
            "Successfully built emoji\n",
            "Installing collected packages: emoji\n",
            "Successfully installed emoji-1.6.3\n"
          ]
        }
      ]
    },
    {
      "cell_type": "code",
      "execution_count": 13,
      "id": "e3c91604",
      "metadata": {
        "id": "e3c91604"
      },
      "outputs": [],
      "source": [
        "import regex as re,emoji,string"
      ]
    },
    {
      "cell_type": "code",
      "execution_count": 14,
      "id": "ad3c370f",
      "metadata": {
        "id": "ad3c370f"
      },
      "outputs": [],
      "source": [
        "def find_emoji(text):\n",
        "\n",
        "    emoji_list = []\n",
        "    data = re.findall(r'\\X', text)\n",
        "    for word in data:\n",
        "        if any(char in emoji.UNICODE_EMOJI['en'] for char in word):\n",
        "            emoji_list.append(word)\n",
        "    \n",
        "    return emoji_list"
      ]
    },
    {
      "cell_type": "code",
      "execution_count": 15,
      "id": "d1b809aa",
      "metadata": {
        "id": "d1b809aa"
      },
      "outputs": [],
      "source": [
        "#[[print(find_emoji(x)) for x in post.split(\"|||\") if len(find_emoji(x))>0] for post in df['posts']]"
      ]
    },
    {
      "cell_type": "code",
      "execution_count": 16,
      "id": "b13170db",
      "metadata": {
        "id": "b13170db"
      },
      "outputs": [],
      "source": [
        "df['emoji_count']=[len(find_emoji(post)) for post in df['posts']]"
      ]
    },
    {
      "cell_type": "code",
      "execution_count": 17,
      "id": "8d50f750",
      "metadata": {
        "colab": {
          "base_uri": "https://localhost:8080/",
          "height": 206
        },
        "id": "8d50f750",
        "outputId": "df04ce8b-8f9e-4ffb-cd3b-6cd1343dcb6a"
      },
      "outputs": [
        {
          "output_type": "execute_result",
          "data": {
            "text/html": [
              "\n",
              "  <div id=\"df-412a2fa0-07d2-48fc-9998-e2efe47d3af8\">\n",
              "    <div class=\"colab-df-container\">\n",
              "      <div>\n",
              "<style scoped>\n",
              "    .dataframe tbody tr th:only-of-type {\n",
              "        vertical-align: middle;\n",
              "    }\n",
              "\n",
              "    .dataframe tbody tr th {\n",
              "        vertical-align: top;\n",
              "    }\n",
              "\n",
              "    .dataframe thead th {\n",
              "        text-align: right;\n",
              "    }\n",
              "</style>\n",
              "<table border=\"1\" class=\"dataframe\">\n",
              "  <thead>\n",
              "    <tr style=\"text-align: right;\">\n",
              "      <th></th>\n",
              "      <th>type</th>\n",
              "      <th>posts</th>\n",
              "      <th>num_of_posts</th>\n",
              "      <th>emoji_count</th>\n",
              "    </tr>\n",
              "  </thead>\n",
              "  <tbody>\n",
              "    <tr>\n",
              "      <th>0</th>\n",
              "      <td>INFJ</td>\n",
              "      <td>'http://www.youtube.com/watch?v=qsXHcwe3krw|||...</td>\n",
              "      <td>50</td>\n",
              "      <td>0</td>\n",
              "    </tr>\n",
              "    <tr>\n",
              "      <th>1</th>\n",
              "      <td>ENTP</td>\n",
              "      <td>'I'm finding the lack of me in these posts ver...</td>\n",
              "      <td>50</td>\n",
              "      <td>0</td>\n",
              "    </tr>\n",
              "    <tr>\n",
              "      <th>2</th>\n",
              "      <td>INTP</td>\n",
              "      <td>'Good one  _____   https://www.youtube.com/wat...</td>\n",
              "      <td>50</td>\n",
              "      <td>0</td>\n",
              "    </tr>\n",
              "    <tr>\n",
              "      <th>3</th>\n",
              "      <td>INTJ</td>\n",
              "      <td>'Dear INTP,   I enjoyed our conversation the o...</td>\n",
              "      <td>50</td>\n",
              "      <td>0</td>\n",
              "    </tr>\n",
              "    <tr>\n",
              "      <th>4</th>\n",
              "      <td>ENTJ</td>\n",
              "      <td>'You're fired.|||That's another silly misconce...</td>\n",
              "      <td>50</td>\n",
              "      <td>0</td>\n",
              "    </tr>\n",
              "  </tbody>\n",
              "</table>\n",
              "</div>\n",
              "      <button class=\"colab-df-convert\" onclick=\"convertToInteractive('df-412a2fa0-07d2-48fc-9998-e2efe47d3af8')\"\n",
              "              title=\"Convert this dataframe to an interactive table.\"\n",
              "              style=\"display:none;\">\n",
              "        \n",
              "  <svg xmlns=\"http://www.w3.org/2000/svg\" height=\"24px\"viewBox=\"0 0 24 24\"\n",
              "       width=\"24px\">\n",
              "    <path d=\"M0 0h24v24H0V0z\" fill=\"none\"/>\n",
              "    <path d=\"M18.56 5.44l.94 2.06.94-2.06 2.06-.94-2.06-.94-.94-2.06-.94 2.06-2.06.94zm-11 1L8.5 8.5l.94-2.06 2.06-.94-2.06-.94L8.5 2.5l-.94 2.06-2.06.94zm10 10l.94 2.06.94-2.06 2.06-.94-2.06-.94-.94-2.06-.94 2.06-2.06.94z\"/><path d=\"M17.41 7.96l-1.37-1.37c-.4-.4-.92-.59-1.43-.59-.52 0-1.04.2-1.43.59L10.3 9.45l-7.72 7.72c-.78.78-.78 2.05 0 2.83L4 21.41c.39.39.9.59 1.41.59.51 0 1.02-.2 1.41-.59l7.78-7.78 2.81-2.81c.8-.78.8-2.07 0-2.86zM5.41 20L4 18.59l7.72-7.72 1.47 1.35L5.41 20z\"/>\n",
              "  </svg>\n",
              "      </button>\n",
              "      \n",
              "  <style>\n",
              "    .colab-df-container {\n",
              "      display:flex;\n",
              "      flex-wrap:wrap;\n",
              "      gap: 12px;\n",
              "    }\n",
              "\n",
              "    .colab-df-convert {\n",
              "      background-color: #E8F0FE;\n",
              "      border: none;\n",
              "      border-radius: 50%;\n",
              "      cursor: pointer;\n",
              "      display: none;\n",
              "      fill: #1967D2;\n",
              "      height: 32px;\n",
              "      padding: 0 0 0 0;\n",
              "      width: 32px;\n",
              "    }\n",
              "\n",
              "    .colab-df-convert:hover {\n",
              "      background-color: #E2EBFA;\n",
              "      box-shadow: 0px 1px 2px rgba(60, 64, 67, 0.3), 0px 1px 3px 1px rgba(60, 64, 67, 0.15);\n",
              "      fill: #174EA6;\n",
              "    }\n",
              "\n",
              "    [theme=dark] .colab-df-convert {\n",
              "      background-color: #3B4455;\n",
              "      fill: #D2E3FC;\n",
              "    }\n",
              "\n",
              "    [theme=dark] .colab-df-convert:hover {\n",
              "      background-color: #434B5C;\n",
              "      box-shadow: 0px 1px 3px 1px rgba(0, 0, 0, 0.15);\n",
              "      filter: drop-shadow(0px 1px 2px rgba(0, 0, 0, 0.3));\n",
              "      fill: #FFFFFF;\n",
              "    }\n",
              "  </style>\n",
              "\n",
              "      <script>\n",
              "        const buttonEl =\n",
              "          document.querySelector('#df-412a2fa0-07d2-48fc-9998-e2efe47d3af8 button.colab-df-convert');\n",
              "        buttonEl.style.display =\n",
              "          google.colab.kernel.accessAllowed ? 'block' : 'none';\n",
              "\n",
              "        async function convertToInteractive(key) {\n",
              "          const element = document.querySelector('#df-412a2fa0-07d2-48fc-9998-e2efe47d3af8');\n",
              "          const dataTable =\n",
              "            await google.colab.kernel.invokeFunction('convertToInteractive',\n",
              "                                                     [key], {});\n",
              "          if (!dataTable) return;\n",
              "\n",
              "          const docLinkHtml = 'Like what you see? Visit the ' +\n",
              "            '<a target=\"_blank\" href=https://colab.research.google.com/notebooks/data_table.ipynb>data table notebook</a>'\n",
              "            + ' to learn more about interactive tables.';\n",
              "          element.innerHTML = '';\n",
              "          dataTable['output_type'] = 'display_data';\n",
              "          await google.colab.output.renderOutput(dataTable, element);\n",
              "          const docLink = document.createElement('div');\n",
              "          docLink.innerHTML = docLinkHtml;\n",
              "          element.appendChild(docLink);\n",
              "        }\n",
              "      </script>\n",
              "    </div>\n",
              "  </div>\n",
              "  "
            ],
            "text/plain": [
              "   type  ... emoji_count\n",
              "0  INFJ  ...           0\n",
              "1  ENTP  ...           0\n",
              "2  INTP  ...           0\n",
              "3  INTJ  ...           0\n",
              "4  ENTJ  ...           0\n",
              "\n",
              "[5 rows x 4 columns]"
            ]
          },
          "metadata": {},
          "execution_count": 17
        }
      ],
      "source": [
        "df.head()"
      ]
    },
    {
      "cell_type": "code",
      "execution_count": 18,
      "id": "f5aa0ff9",
      "metadata": {
        "colab": {
          "base_uri": "https://localhost:8080/"
        },
        "id": "f5aa0ff9",
        "outputId": "8af507d6-cc38-46ad-9291-a36aecaec4ea"
      },
      "outputs": [
        {
          "output_type": "execute_result",
          "data": {
            "text/plain": [
              "0     8536\n",
              "1       88\n",
              "2       22\n",
              "3       11\n",
              "4        6\n",
              "5        3\n",
              "6        2\n",
              "46       1\n",
              "55       1\n",
              "42       1\n",
              "8        1\n",
              "96       1\n",
              "11       1\n",
              "14       1\n",
              "Name: emoji_count, dtype: int64"
            ]
          },
          "metadata": {},
          "execution_count": 18
        }
      ],
      "source": [
        "df['emoji_count'].value_counts()"
      ]
    },
    {
      "cell_type": "code",
      "execution_count": 19,
      "id": "2c9a47eb",
      "metadata": {
        "id": "2c9a47eb"
      },
      "outputs": [],
      "source": [
        "df['emojis']=[find_emoji(post) for post in df['posts']]"
      ]
    },
    {
      "cell_type": "code",
      "execution_count": 20,
      "id": "1f58e463",
      "metadata": {
        "colab": {
          "base_uri": "https://localhost:8080/",
          "height": 206
        },
        "id": "1f58e463",
        "outputId": "51f14dd3-f5dd-46c7-bb92-3ae7f8f33e1b"
      },
      "outputs": [
        {
          "output_type": "execute_result",
          "data": {
            "text/html": [
              "\n",
              "  <div id=\"df-ef673929-d524-4356-aec6-81268a4e5ff2\">\n",
              "    <div class=\"colab-df-container\">\n",
              "      <div>\n",
              "<style scoped>\n",
              "    .dataframe tbody tr th:only-of-type {\n",
              "        vertical-align: middle;\n",
              "    }\n",
              "\n",
              "    .dataframe tbody tr th {\n",
              "        vertical-align: top;\n",
              "    }\n",
              "\n",
              "    .dataframe thead th {\n",
              "        text-align: right;\n",
              "    }\n",
              "</style>\n",
              "<table border=\"1\" class=\"dataframe\">\n",
              "  <thead>\n",
              "    <tr style=\"text-align: right;\">\n",
              "      <th></th>\n",
              "      <th>type</th>\n",
              "      <th>posts</th>\n",
              "      <th>num_of_posts</th>\n",
              "      <th>emoji_count</th>\n",
              "      <th>emojis</th>\n",
              "    </tr>\n",
              "  </thead>\n",
              "  <tbody>\n",
              "    <tr>\n",
              "      <th>83</th>\n",
              "      <td>ENTJ</td>\n",
              "      <td>'Bump|||Escobar and Co.  Escobar- ENTJ Gustavo...</td>\n",
              "      <td>50</td>\n",
              "      <td>3</td>\n",
              "      <td>[😂, 😂, 😂]</td>\n",
              "    </tr>\n",
              "    <tr>\n",
              "      <th>161</th>\n",
              "      <td>INTJ</td>\n",
              "      <td>'Above and on top of that what really irked th...</td>\n",
              "      <td>50</td>\n",
              "      <td>1</td>\n",
              "      <td>[™]</td>\n",
              "    </tr>\n",
              "    <tr>\n",
              "      <th>182</th>\n",
              "      <td>INTP</td>\n",
              "      <td>'What are you? A weakling? You're just going t...</td>\n",
              "      <td>50</td>\n",
              "      <td>1</td>\n",
              "      <td>[♥]</td>\n",
              "    </tr>\n",
              "    <tr>\n",
              "      <th>189</th>\n",
              "      <td>ISTJ</td>\n",
              "      <td>'If it's not what you expected, try browns ins...</td>\n",
              "      <td>50</td>\n",
              "      <td>1</td>\n",
              "      <td>[😊]</td>\n",
              "    </tr>\n",
              "    <tr>\n",
              "      <th>396</th>\n",
              "      <td>ENFP</td>\n",
              "      <td>The ENFP Te Bitch Slap Revealed  This has happ...</td>\n",
              "      <td>50</td>\n",
              "      <td>4</td>\n",
              "      <td>[😁, 😂, 😋, 😱]</td>\n",
              "    </tr>\n",
              "  </tbody>\n",
              "</table>\n",
              "</div>\n",
              "      <button class=\"colab-df-convert\" onclick=\"convertToInteractive('df-ef673929-d524-4356-aec6-81268a4e5ff2')\"\n",
              "              title=\"Convert this dataframe to an interactive table.\"\n",
              "              style=\"display:none;\">\n",
              "        \n",
              "  <svg xmlns=\"http://www.w3.org/2000/svg\" height=\"24px\"viewBox=\"0 0 24 24\"\n",
              "       width=\"24px\">\n",
              "    <path d=\"M0 0h24v24H0V0z\" fill=\"none\"/>\n",
              "    <path d=\"M18.56 5.44l.94 2.06.94-2.06 2.06-.94-2.06-.94-.94-2.06-.94 2.06-2.06.94zm-11 1L8.5 8.5l.94-2.06 2.06-.94-2.06-.94L8.5 2.5l-.94 2.06-2.06.94zm10 10l.94 2.06.94-2.06 2.06-.94-2.06-.94-.94-2.06-.94 2.06-2.06.94z\"/><path d=\"M17.41 7.96l-1.37-1.37c-.4-.4-.92-.59-1.43-.59-.52 0-1.04.2-1.43.59L10.3 9.45l-7.72 7.72c-.78.78-.78 2.05 0 2.83L4 21.41c.39.39.9.59 1.41.59.51 0 1.02-.2 1.41-.59l7.78-7.78 2.81-2.81c.8-.78.8-2.07 0-2.86zM5.41 20L4 18.59l7.72-7.72 1.47 1.35L5.41 20z\"/>\n",
              "  </svg>\n",
              "      </button>\n",
              "      \n",
              "  <style>\n",
              "    .colab-df-container {\n",
              "      display:flex;\n",
              "      flex-wrap:wrap;\n",
              "      gap: 12px;\n",
              "    }\n",
              "\n",
              "    .colab-df-convert {\n",
              "      background-color: #E8F0FE;\n",
              "      border: none;\n",
              "      border-radius: 50%;\n",
              "      cursor: pointer;\n",
              "      display: none;\n",
              "      fill: #1967D2;\n",
              "      height: 32px;\n",
              "      padding: 0 0 0 0;\n",
              "      width: 32px;\n",
              "    }\n",
              "\n",
              "    .colab-df-convert:hover {\n",
              "      background-color: #E2EBFA;\n",
              "      box-shadow: 0px 1px 2px rgba(60, 64, 67, 0.3), 0px 1px 3px 1px rgba(60, 64, 67, 0.15);\n",
              "      fill: #174EA6;\n",
              "    }\n",
              "\n",
              "    [theme=dark] .colab-df-convert {\n",
              "      background-color: #3B4455;\n",
              "      fill: #D2E3FC;\n",
              "    }\n",
              "\n",
              "    [theme=dark] .colab-df-convert:hover {\n",
              "      background-color: #434B5C;\n",
              "      box-shadow: 0px 1px 3px 1px rgba(0, 0, 0, 0.15);\n",
              "      filter: drop-shadow(0px 1px 2px rgba(0, 0, 0, 0.3));\n",
              "      fill: #FFFFFF;\n",
              "    }\n",
              "  </style>\n",
              "\n",
              "      <script>\n",
              "        const buttonEl =\n",
              "          document.querySelector('#df-ef673929-d524-4356-aec6-81268a4e5ff2 button.colab-df-convert');\n",
              "        buttonEl.style.display =\n",
              "          google.colab.kernel.accessAllowed ? 'block' : 'none';\n",
              "\n",
              "        async function convertToInteractive(key) {\n",
              "          const element = document.querySelector('#df-ef673929-d524-4356-aec6-81268a4e5ff2');\n",
              "          const dataTable =\n",
              "            await google.colab.kernel.invokeFunction('convertToInteractive',\n",
              "                                                     [key], {});\n",
              "          if (!dataTable) return;\n",
              "\n",
              "          const docLinkHtml = 'Like what you see? Visit the ' +\n",
              "            '<a target=\"_blank\" href=https://colab.research.google.com/notebooks/data_table.ipynb>data table notebook</a>'\n",
              "            + ' to learn more about interactive tables.';\n",
              "          element.innerHTML = '';\n",
              "          dataTable['output_type'] = 'display_data';\n",
              "          await google.colab.output.renderOutput(dataTable, element);\n",
              "          const docLink = document.createElement('div');\n",
              "          docLink.innerHTML = docLinkHtml;\n",
              "          element.appendChild(docLink);\n",
              "        }\n",
              "      </script>\n",
              "    </div>\n",
              "  </div>\n",
              "  "
            ],
            "text/plain": [
              "     type  ...        emojis\n",
              "83   ENTJ  ...     [😂, 😂, 😂]\n",
              "161  INTJ  ...           [™]\n",
              "182  INTP  ...           [♥]\n",
              "189  ISTJ  ...           [😊]\n",
              "396  ENFP  ...  [😁, 😂, 😋, 😱]\n",
              "\n",
              "[5 rows x 5 columns]"
            ]
          },
          "metadata": {},
          "execution_count": 20
        }
      ],
      "source": [
        "df[df['emoji_count']>0].head()"
      ]
    },
    {
      "cell_type": "code",
      "execution_count": 21,
      "id": "421be96a",
      "metadata": {
        "id": "421be96a"
      },
      "outputs": [],
      "source": [
        "import nltk\n",
        "from nltk.corpus import stopwords\n",
        "from nltk.stem import WordNetLemmatizer \n",
        "from textblob import TextBlob"
      ]
    },
    {
      "cell_type": "code",
      "execution_count": 22,
      "id": "da9f85fb",
      "metadata": {
        "colab": {
          "base_uri": "https://localhost:8080/"
        },
        "id": "da9f85fb",
        "outputId": "d50e6dbc-fa30-4318-9710-093f6dd4937f"
      },
      "outputs": [
        {
          "output_type": "stream",
          "name": "stdout",
          "text": [
            "[nltk_data] Downloading package punkt to /root/nltk_data...\n",
            "[nltk_data]   Unzipping tokenizers/punkt.zip.\n"
          ]
        },
        {
          "output_type": "execute_result",
          "data": {
            "text/plain": [
              "True"
            ]
          },
          "metadata": {},
          "execution_count": 22
        }
      ],
      "source": [
        "nltk.download('punkt')"
      ]
    },
    {
      "cell_type": "code",
      "execution_count": 23,
      "id": "1b526a00",
      "metadata": {
        "colab": {
          "base_uri": "https://localhost:8080/"
        },
        "id": "1b526a00",
        "outputId": "325d9451-27d5-4829-9538-388f9ceca236"
      },
      "outputs": [
        {
          "output_type": "stream",
          "name": "stdout",
          "text": [
            "[nltk_data] Downloading package stopwords to /root/nltk_data...\n",
            "[nltk_data]   Unzipping corpora/stopwords.zip.\n"
          ]
        },
        {
          "output_type": "execute_result",
          "data": {
            "text/plain": [
              "True"
            ]
          },
          "metadata": {},
          "execution_count": 23
        }
      ],
      "source": [
        "nltk.download('stopwords')"
      ]
    },
    {
      "cell_type": "code",
      "execution_count": 24,
      "id": "6811eb36",
      "metadata": {
        "id": "6811eb36"
      },
      "outputs": [],
      "source": [
        "sw = stopwords.words('english')\n",
        "\n",
        "def clean_text(text):\n",
        "    text = text.lower()\n",
        "    text = re.sub('@', '', text)\n",
        "    text = re.sub('\\[.*?\\]', '', text)\n",
        "    text = re.sub('https?://\\S+|www\\.\\S+', '', text)\n",
        "    text = re.sub('<.*?>+', '', text)\n",
        "    text = re.sub('[%s]' % re.escape(string.punctuation), '', text)\n",
        "    text = re.sub('\\n', '', text)\n",
        "    text = re.sub('\\w*\\d\\w*', '', text)\n",
        "    text = re.sub(r\"[^a-zA-Z ]+\", \"\", text)\n",
        "    \n",
        "    #Tokenize the data\n",
        "    text = nltk.word_tokenize(text)\n",
        "    #Remove stopwords\n",
        "    text = [w for w in text if w not in sw]\n",
        "    return text"
      ]
    },
    {
      "cell_type": "code",
      "execution_count": 25,
      "id": "67a6a883",
      "metadata": {
        "id": "67a6a883"
      },
      "outputs": [],
      "source": [
        "df['clean_posts']=df['posts'].apply(lambda x: clean_text(x))"
      ]
    },
    {
      "cell_type": "code",
      "execution_count": 26,
      "id": "d032b7b8",
      "metadata": {
        "id": "d032b7b8",
        "outputId": "86c76f1b-fd8c-4d3e-c488-714eceee179b",
        "colab": {
          "base_uri": "https://localhost:8080/",
          "height": 206
        }
      },
      "outputs": [
        {
          "output_type": "execute_result",
          "data": {
            "text/html": [
              "\n",
              "  <div id=\"df-51a7d042-a96c-42c7-93b7-f767e56044e5\">\n",
              "    <div class=\"colab-df-container\">\n",
              "      <div>\n",
              "<style scoped>\n",
              "    .dataframe tbody tr th:only-of-type {\n",
              "        vertical-align: middle;\n",
              "    }\n",
              "\n",
              "    .dataframe tbody tr th {\n",
              "        vertical-align: top;\n",
              "    }\n",
              "\n",
              "    .dataframe thead th {\n",
              "        text-align: right;\n",
              "    }\n",
              "</style>\n",
              "<table border=\"1\" class=\"dataframe\">\n",
              "  <thead>\n",
              "    <tr style=\"text-align: right;\">\n",
              "      <th></th>\n",
              "      <th>type</th>\n",
              "      <th>posts</th>\n",
              "      <th>num_of_posts</th>\n",
              "      <th>emoji_count</th>\n",
              "      <th>emojis</th>\n",
              "      <th>clean_posts</th>\n",
              "    </tr>\n",
              "  </thead>\n",
              "  <tbody>\n",
              "    <tr>\n",
              "      <th>0</th>\n",
              "      <td>INFJ</td>\n",
              "      <td>'http://www.youtube.com/watch?v=qsXHcwe3krw|||...</td>\n",
              "      <td>50</td>\n",
              "      <td>0</td>\n",
              "      <td>[]</td>\n",
              "      <td>[intj, moments, sportscenter, top, ten, plays,...</td>\n",
              "    </tr>\n",
              "    <tr>\n",
              "      <th>1</th>\n",
              "      <td>ENTP</td>\n",
              "      <td>'I'm finding the lack of me in these posts ver...</td>\n",
              "      <td>50</td>\n",
              "      <td>0</td>\n",
              "      <td>[]</td>\n",
              "      <td>[im, finding, lack, posts, alarmingsex, boring...</td>\n",
              "    </tr>\n",
              "    <tr>\n",
              "      <th>2</th>\n",
              "      <td>INTP</td>\n",
              "      <td>'Good one  _____   https://www.youtube.com/wat...</td>\n",
              "      <td>50</td>\n",
              "      <td>0</td>\n",
              "      <td>[]</td>\n",
              "      <td>[good, one, course, say, know, thats, blessing...</td>\n",
              "    </tr>\n",
              "    <tr>\n",
              "      <th>3</th>\n",
              "      <td>INTJ</td>\n",
              "      <td>'Dear INTP,   I enjoyed our conversation the o...</td>\n",
              "      <td>50</td>\n",
              "      <td>0</td>\n",
              "      <td>[]</td>\n",
              "      <td>[dear, intp, enjoyed, conversation, day, esote...</td>\n",
              "    </tr>\n",
              "    <tr>\n",
              "      <th>4</th>\n",
              "      <td>ENTJ</td>\n",
              "      <td>'You're fired.|||That's another silly misconce...</td>\n",
              "      <td>50</td>\n",
              "      <td>0</td>\n",
              "      <td>[]</td>\n",
              "      <td>[youre, firedthats, another, silly, misconcept...</td>\n",
              "    </tr>\n",
              "  </tbody>\n",
              "</table>\n",
              "</div>\n",
              "      <button class=\"colab-df-convert\" onclick=\"convertToInteractive('df-51a7d042-a96c-42c7-93b7-f767e56044e5')\"\n",
              "              title=\"Convert this dataframe to an interactive table.\"\n",
              "              style=\"display:none;\">\n",
              "        \n",
              "  <svg xmlns=\"http://www.w3.org/2000/svg\" height=\"24px\"viewBox=\"0 0 24 24\"\n",
              "       width=\"24px\">\n",
              "    <path d=\"M0 0h24v24H0V0z\" fill=\"none\"/>\n",
              "    <path d=\"M18.56 5.44l.94 2.06.94-2.06 2.06-.94-2.06-.94-.94-2.06-.94 2.06-2.06.94zm-11 1L8.5 8.5l.94-2.06 2.06-.94-2.06-.94L8.5 2.5l-.94 2.06-2.06.94zm10 10l.94 2.06.94-2.06 2.06-.94-2.06-.94-.94-2.06-.94 2.06-2.06.94z\"/><path d=\"M17.41 7.96l-1.37-1.37c-.4-.4-.92-.59-1.43-.59-.52 0-1.04.2-1.43.59L10.3 9.45l-7.72 7.72c-.78.78-.78 2.05 0 2.83L4 21.41c.39.39.9.59 1.41.59.51 0 1.02-.2 1.41-.59l7.78-7.78 2.81-2.81c.8-.78.8-2.07 0-2.86zM5.41 20L4 18.59l7.72-7.72 1.47 1.35L5.41 20z\"/>\n",
              "  </svg>\n",
              "      </button>\n",
              "      \n",
              "  <style>\n",
              "    .colab-df-container {\n",
              "      display:flex;\n",
              "      flex-wrap:wrap;\n",
              "      gap: 12px;\n",
              "    }\n",
              "\n",
              "    .colab-df-convert {\n",
              "      background-color: #E8F0FE;\n",
              "      border: none;\n",
              "      border-radius: 50%;\n",
              "      cursor: pointer;\n",
              "      display: none;\n",
              "      fill: #1967D2;\n",
              "      height: 32px;\n",
              "      padding: 0 0 0 0;\n",
              "      width: 32px;\n",
              "    }\n",
              "\n",
              "    .colab-df-convert:hover {\n",
              "      background-color: #E2EBFA;\n",
              "      box-shadow: 0px 1px 2px rgba(60, 64, 67, 0.3), 0px 1px 3px 1px rgba(60, 64, 67, 0.15);\n",
              "      fill: #174EA6;\n",
              "    }\n",
              "\n",
              "    [theme=dark] .colab-df-convert {\n",
              "      background-color: #3B4455;\n",
              "      fill: #D2E3FC;\n",
              "    }\n",
              "\n",
              "    [theme=dark] .colab-df-convert:hover {\n",
              "      background-color: #434B5C;\n",
              "      box-shadow: 0px 1px 3px 1px rgba(0, 0, 0, 0.15);\n",
              "      filter: drop-shadow(0px 1px 2px rgba(0, 0, 0, 0.3));\n",
              "      fill: #FFFFFF;\n",
              "    }\n",
              "  </style>\n",
              "\n",
              "      <script>\n",
              "        const buttonEl =\n",
              "          document.querySelector('#df-51a7d042-a96c-42c7-93b7-f767e56044e5 button.colab-df-convert');\n",
              "        buttonEl.style.display =\n",
              "          google.colab.kernel.accessAllowed ? 'block' : 'none';\n",
              "\n",
              "        async function convertToInteractive(key) {\n",
              "          const element = document.querySelector('#df-51a7d042-a96c-42c7-93b7-f767e56044e5');\n",
              "          const dataTable =\n",
              "            await google.colab.kernel.invokeFunction('convertToInteractive',\n",
              "                                                     [key], {});\n",
              "          if (!dataTable) return;\n",
              "\n",
              "          const docLinkHtml = 'Like what you see? Visit the ' +\n",
              "            '<a target=\"_blank\" href=https://colab.research.google.com/notebooks/data_table.ipynb>data table notebook</a>'\n",
              "            + ' to learn more about interactive tables.';\n",
              "          element.innerHTML = '';\n",
              "          dataTable['output_type'] = 'display_data';\n",
              "          await google.colab.output.renderOutput(dataTable, element);\n",
              "          const docLink = document.createElement('div');\n",
              "          docLink.innerHTML = docLinkHtml;\n",
              "          element.appendChild(docLink);\n",
              "        }\n",
              "      </script>\n",
              "    </div>\n",
              "  </div>\n",
              "  "
            ],
            "text/plain": [
              "   type  ...                                        clean_posts\n",
              "0  INFJ  ...  [intj, moments, sportscenter, top, ten, plays,...\n",
              "1  ENTP  ...  [im, finding, lack, posts, alarmingsex, boring...\n",
              "2  INTP  ...  [good, one, course, say, know, thats, blessing...\n",
              "3  INTJ  ...  [dear, intp, enjoyed, conversation, day, esote...\n",
              "4  ENTJ  ...  [youre, firedthats, another, silly, misconcept...\n",
              "\n",
              "[5 rows x 6 columns]"
            ]
          },
          "metadata": {},
          "execution_count": 26
        }
      ],
      "source": [
        "df.head()"
      ]
    },
    {
      "cell_type": "code",
      "execution_count": 27,
      "id": "43047efb",
      "metadata": {
        "colab": {
          "base_uri": "https://localhost:8080/"
        },
        "id": "43047efb",
        "outputId": "6430265b-38db-4b2e-adde-0c361aab5f14"
      },
      "outputs": [
        {
          "output_type": "stream",
          "name": "stdout",
          "text": [
            "[nltk_data] Downloading package wordnet to /root/nltk_data...\n",
            "[nltk_data]   Unzipping corpora/wordnet.zip.\n"
          ]
        },
        {
          "output_type": "execute_result",
          "data": {
            "text/plain": [
              "True"
            ]
          },
          "metadata": {},
          "execution_count": 27
        }
      ],
      "source": [
        "nltk.download('wordnet')"
      ]
    },
    {
      "cell_type": "code",
      "execution_count": 28,
      "id": "3c8a0842",
      "metadata": {
        "colab": {
          "base_uri": "https://localhost:8080/"
        },
        "id": "3c8a0842",
        "outputId": "b80a463e-14cb-4752-e0e2-8c931209384d"
      },
      "outputs": [
        {
          "output_type": "stream",
          "name": "stdout",
          "text": [
            "[nltk_data] Downloading package omw-1.4 to /root/nltk_data...\n",
            "[nltk_data]   Unzipping corpora/omw-1.4.zip.\n"
          ]
        },
        {
          "output_type": "execute_result",
          "data": {
            "text/plain": [
              "True"
            ]
          },
          "metadata": {},
          "execution_count": 28
        }
      ],
      "source": [
        "nltk.download('omw-1.4')"
      ]
    },
    {
      "cell_type": "code",
      "execution_count": 29,
      "id": "fdb3c543",
      "metadata": {
        "id": "fdb3c543"
      },
      "outputs": [],
      "source": [
        "#Lemmatizer\n",
        "lemmatizer = WordNetLemmatizer()\n",
        "def lem(text):\n",
        "    text = [lemmatizer.lemmatize(t) for t in text]\n",
        "    text = [lemmatizer.lemmatize(t, 'v') for t in text]\n",
        "    return text\n",
        "df['clean_posts'] = df['clean_posts'].apply(lambda x: lem(x))"
      ]
    },
    {
      "cell_type": "code",
      "execution_count": 30,
      "id": "77a12637",
      "metadata": {
        "colab": {
          "base_uri": "https://localhost:8080/",
          "height": 363
        },
        "id": "77a12637",
        "outputId": "df3d98c5-7005-48ce-da53-8faf18b590fd"
      },
      "outputs": [
        {
          "output_type": "execute_result",
          "data": {
            "text/html": [
              "\n",
              "  <div id=\"df-b2073fb6-6cd6-4a7d-bd8c-a20c1808ba52\">\n",
              "    <div class=\"colab-df-container\">\n",
              "      <div>\n",
              "<style scoped>\n",
              "    .dataframe tbody tr th:only-of-type {\n",
              "        vertical-align: middle;\n",
              "    }\n",
              "\n",
              "    .dataframe tbody tr th {\n",
              "        vertical-align: top;\n",
              "    }\n",
              "\n",
              "    .dataframe thead th {\n",
              "        text-align: right;\n",
              "    }\n",
              "</style>\n",
              "<table border=\"1\" class=\"dataframe\">\n",
              "  <thead>\n",
              "    <tr style=\"text-align: right;\">\n",
              "      <th></th>\n",
              "      <th>type</th>\n",
              "      <th>posts</th>\n",
              "      <th>num_of_posts</th>\n",
              "      <th>emoji_count</th>\n",
              "      <th>emojis</th>\n",
              "      <th>clean_posts</th>\n",
              "    </tr>\n",
              "  </thead>\n",
              "  <tbody>\n",
              "    <tr>\n",
              "      <th>0</th>\n",
              "      <td>INFJ</td>\n",
              "      <td>'http://www.youtube.com/watch?v=qsXHcwe3krw|||...</td>\n",
              "      <td>50</td>\n",
              "      <td>0</td>\n",
              "      <td>[]</td>\n",
              "      <td>[intj, moment, sportscenter, top, ten, play, p...</td>\n",
              "    </tr>\n",
              "    <tr>\n",
              "      <th>1</th>\n",
              "      <td>ENTP</td>\n",
              "      <td>'I'm finding the lack of me in these posts ver...</td>\n",
              "      <td>50</td>\n",
              "      <td>0</td>\n",
              "      <td>[]</td>\n",
              "      <td>[im, find, lack, post, alarmingsex, bore, posi...</td>\n",
              "    </tr>\n",
              "    <tr>\n",
              "      <th>2</th>\n",
              "      <td>INTP</td>\n",
              "      <td>'Good one  _____   https://www.youtube.com/wat...</td>\n",
              "      <td>50</td>\n",
              "      <td>0</td>\n",
              "      <td>[]</td>\n",
              "      <td>[good, one, course, say, know, thats, bless, c...</td>\n",
              "    </tr>\n",
              "    <tr>\n",
              "      <th>3</th>\n",
              "      <td>INTJ</td>\n",
              "      <td>'Dear INTP,   I enjoyed our conversation the o...</td>\n",
              "      <td>50</td>\n",
              "      <td>0</td>\n",
              "      <td>[]</td>\n",
              "      <td>[dear, intp, enjoy, conversation, day, esoteri...</td>\n",
              "    </tr>\n",
              "    <tr>\n",
              "      <th>4</th>\n",
              "      <td>ENTJ</td>\n",
              "      <td>'You're fired.|||That's another silly misconce...</td>\n",
              "      <td>50</td>\n",
              "      <td>0</td>\n",
              "      <td>[]</td>\n",
              "      <td>[youre, firedthats, another, silly, misconcept...</td>\n",
              "    </tr>\n",
              "    <tr>\n",
              "      <th>5</th>\n",
              "      <td>INTJ</td>\n",
              "      <td>'18/37 @.@|||Science  is not perfect. No scien...</td>\n",
              "      <td>50</td>\n",
              "      <td>0</td>\n",
              "      <td>[]</td>\n",
              "      <td>[science, perfect, scientist, claim, scientifi...</td>\n",
              "    </tr>\n",
              "    <tr>\n",
              "      <th>6</th>\n",
              "      <td>INFJ</td>\n",
              "      <td>'No, I can't draw on my own nails (haha). Thos...</td>\n",
              "      <td>50</td>\n",
              "      <td>0</td>\n",
              "      <td>[]</td>\n",
              "      <td>[cant, draw, nail, haha, do, professional, nai...</td>\n",
              "    </tr>\n",
              "    <tr>\n",
              "      <th>7</th>\n",
              "      <td>INTJ</td>\n",
              "      <td>'I tend to build up a collection of things on ...</td>\n",
              "      <td>50</td>\n",
              "      <td>0</td>\n",
              "      <td>[]</td>\n",
              "      <td>[tend, build, collection, thing, desktop, use,...</td>\n",
              "    </tr>\n",
              "    <tr>\n",
              "      <th>8</th>\n",
              "      <td>INFJ</td>\n",
              "      <td>I'm not sure, that's a good question. The dist...</td>\n",
              "      <td>50</td>\n",
              "      <td>0</td>\n",
              "      <td>[]</td>\n",
              "      <td>[im, sure, thats, good, question, distinction,...</td>\n",
              "    </tr>\n",
              "    <tr>\n",
              "      <th>9</th>\n",
              "      <td>INTP</td>\n",
              "      <td>'https://www.youtube.com/watch?v=w8-egj0y8Qs||...</td>\n",
              "      <td>50</td>\n",
              "      <td>0</td>\n",
              "      <td>[]</td>\n",
              "      <td>[position, actually, let, go, person, due, var...</td>\n",
              "    </tr>\n",
              "  </tbody>\n",
              "</table>\n",
              "</div>\n",
              "      <button class=\"colab-df-convert\" onclick=\"convertToInteractive('df-b2073fb6-6cd6-4a7d-bd8c-a20c1808ba52')\"\n",
              "              title=\"Convert this dataframe to an interactive table.\"\n",
              "              style=\"display:none;\">\n",
              "        \n",
              "  <svg xmlns=\"http://www.w3.org/2000/svg\" height=\"24px\"viewBox=\"0 0 24 24\"\n",
              "       width=\"24px\">\n",
              "    <path d=\"M0 0h24v24H0V0z\" fill=\"none\"/>\n",
              "    <path d=\"M18.56 5.44l.94 2.06.94-2.06 2.06-.94-2.06-.94-.94-2.06-.94 2.06-2.06.94zm-11 1L8.5 8.5l.94-2.06 2.06-.94-2.06-.94L8.5 2.5l-.94 2.06-2.06.94zm10 10l.94 2.06.94-2.06 2.06-.94-2.06-.94-.94-2.06-.94 2.06-2.06.94z\"/><path d=\"M17.41 7.96l-1.37-1.37c-.4-.4-.92-.59-1.43-.59-.52 0-1.04.2-1.43.59L10.3 9.45l-7.72 7.72c-.78.78-.78 2.05 0 2.83L4 21.41c.39.39.9.59 1.41.59.51 0 1.02-.2 1.41-.59l7.78-7.78 2.81-2.81c.8-.78.8-2.07 0-2.86zM5.41 20L4 18.59l7.72-7.72 1.47 1.35L5.41 20z\"/>\n",
              "  </svg>\n",
              "      </button>\n",
              "      \n",
              "  <style>\n",
              "    .colab-df-container {\n",
              "      display:flex;\n",
              "      flex-wrap:wrap;\n",
              "      gap: 12px;\n",
              "    }\n",
              "\n",
              "    .colab-df-convert {\n",
              "      background-color: #E8F0FE;\n",
              "      border: none;\n",
              "      border-radius: 50%;\n",
              "      cursor: pointer;\n",
              "      display: none;\n",
              "      fill: #1967D2;\n",
              "      height: 32px;\n",
              "      padding: 0 0 0 0;\n",
              "      width: 32px;\n",
              "    }\n",
              "\n",
              "    .colab-df-convert:hover {\n",
              "      background-color: #E2EBFA;\n",
              "      box-shadow: 0px 1px 2px rgba(60, 64, 67, 0.3), 0px 1px 3px 1px rgba(60, 64, 67, 0.15);\n",
              "      fill: #174EA6;\n",
              "    }\n",
              "\n",
              "    [theme=dark] .colab-df-convert {\n",
              "      background-color: #3B4455;\n",
              "      fill: #D2E3FC;\n",
              "    }\n",
              "\n",
              "    [theme=dark] .colab-df-convert:hover {\n",
              "      background-color: #434B5C;\n",
              "      box-shadow: 0px 1px 3px 1px rgba(0, 0, 0, 0.15);\n",
              "      filter: drop-shadow(0px 1px 2px rgba(0, 0, 0, 0.3));\n",
              "      fill: #FFFFFF;\n",
              "    }\n",
              "  </style>\n",
              "\n",
              "      <script>\n",
              "        const buttonEl =\n",
              "          document.querySelector('#df-b2073fb6-6cd6-4a7d-bd8c-a20c1808ba52 button.colab-df-convert');\n",
              "        buttonEl.style.display =\n",
              "          google.colab.kernel.accessAllowed ? 'block' : 'none';\n",
              "\n",
              "        async function convertToInteractive(key) {\n",
              "          const element = document.querySelector('#df-b2073fb6-6cd6-4a7d-bd8c-a20c1808ba52');\n",
              "          const dataTable =\n",
              "            await google.colab.kernel.invokeFunction('convertToInteractive',\n",
              "                                                     [key], {});\n",
              "          if (!dataTable) return;\n",
              "\n",
              "          const docLinkHtml = 'Like what you see? Visit the ' +\n",
              "            '<a target=\"_blank\" href=https://colab.research.google.com/notebooks/data_table.ipynb>data table notebook</a>'\n",
              "            + ' to learn more about interactive tables.';\n",
              "          element.innerHTML = '';\n",
              "          dataTable['output_type'] = 'display_data';\n",
              "          await google.colab.output.renderOutput(dataTable, element);\n",
              "          const docLink = document.createElement('div');\n",
              "          docLink.innerHTML = docLinkHtml;\n",
              "          element.appendChild(docLink);\n",
              "        }\n",
              "      </script>\n",
              "    </div>\n",
              "  </div>\n",
              "  "
            ],
            "text/plain": [
              "   type  ...                                        clean_posts\n",
              "0  INFJ  ...  [intj, moment, sportscenter, top, ten, play, p...\n",
              "1  ENTP  ...  [im, find, lack, post, alarmingsex, bore, posi...\n",
              "2  INTP  ...  [good, one, course, say, know, thats, bless, c...\n",
              "3  INTJ  ...  [dear, intp, enjoy, conversation, day, esoteri...\n",
              "4  ENTJ  ...  [youre, firedthats, another, silly, misconcept...\n",
              "5  INTJ  ...  [science, perfect, scientist, claim, scientifi...\n",
              "6  INFJ  ...  [cant, draw, nail, haha, do, professional, nai...\n",
              "7  INTJ  ...  [tend, build, collection, thing, desktop, use,...\n",
              "8  INFJ  ...  [im, sure, thats, good, question, distinction,...\n",
              "9  INTP  ...  [position, actually, let, go, person, due, var...\n",
              "\n",
              "[10 rows x 6 columns]"
            ]
          },
          "metadata": {},
          "execution_count": 30
        }
      ],
      "source": [
        "df.head(10)"
      ]
    },
    {
      "cell_type": "code",
      "execution_count": 31,
      "id": "80e61194",
      "metadata": {
        "id": "80e61194"
      },
      "outputs": [],
      "source": [
        "#From lists of comments to a single list containing all words      \n",
        "all_words=[]        \n",
        "#for i in range(len(df)):\n",
        "    #all_words = all_words + df['clean_posts'][i]"
      ]
    },
    {
      "cell_type": "code",
      "execution_count": 32,
      "id": "792eeba7",
      "metadata": {
        "id": "792eeba7"
      },
      "outputs": [],
      "source": [
        "#5348769\n",
        "#len(all_words)"
      ]
    },
    {
      "cell_type": "code",
      "execution_count": 33,
      "id": "9cb5b32c",
      "metadata": {
        "id": "9cb5b32c"
      },
      "outputs": [],
      "source": [
        "import numpy as np"
      ]
    },
    {
      "cell_type": "code",
      "execution_count": 34,
      "id": "a2cb0a01",
      "metadata": {
        "id": "a2cb0a01"
      },
      "outputs": [],
      "source": [
        "#len(np.unique(all_words))"
      ]
    },
    {
      "cell_type": "code",
      "execution_count": 35,
      "id": "d61d36c9",
      "metadata": {
        "id": "d61d36c9"
      },
      "outputs": [],
      "source": [
        "df['clean_posts1']=[str(thing) for thing in df['clean_posts']]"
      ]
    },
    {
      "cell_type": "code",
      "execution_count": 36,
      "id": "25082885",
      "metadata": {
        "id": "25082885"
      },
      "outputs": [],
      "source": [
        "#blob=TextBlob(df['clean_posts'][0])"
      ]
    },
    {
      "cell_type": "code",
      "execution_count": 37,
      "id": "f7d44ee8",
      "metadata": {
        "id": "f7d44ee8"
      },
      "outputs": [],
      "source": [
        "sentiment = []\n",
        "for i in range(len(df)):\n",
        "    blob = TextBlob(df['clean_posts1'][i])\n",
        "    for sentence in blob.sentences:\n",
        "        sentiment.append(sentence.sentiment.polarity)\n",
        "df['sentiment']=sentiment"
      ]
    },
    {
      "cell_type": "code",
      "execution_count": 38,
      "id": "538b4d16",
      "metadata": {
        "colab": {
          "base_uri": "https://localhost:8080/",
          "height": 363
        },
        "id": "538b4d16",
        "outputId": "d5329a88-69f8-4617-bcc6-22369abde4e7"
      },
      "outputs": [
        {
          "output_type": "execute_result",
          "data": {
            "text/html": [
              "\n",
              "  <div id=\"df-8fedb567-3354-46ec-8608-f8e8a4c68555\">\n",
              "    <div class=\"colab-df-container\">\n",
              "      <div>\n",
              "<style scoped>\n",
              "    .dataframe tbody tr th:only-of-type {\n",
              "        vertical-align: middle;\n",
              "    }\n",
              "\n",
              "    .dataframe tbody tr th {\n",
              "        vertical-align: top;\n",
              "    }\n",
              "\n",
              "    .dataframe thead th {\n",
              "        text-align: right;\n",
              "    }\n",
              "</style>\n",
              "<table border=\"1\" class=\"dataframe\">\n",
              "  <thead>\n",
              "    <tr style=\"text-align: right;\">\n",
              "      <th></th>\n",
              "      <th>type</th>\n",
              "      <th>posts</th>\n",
              "      <th>num_of_posts</th>\n",
              "      <th>emoji_count</th>\n",
              "      <th>emojis</th>\n",
              "      <th>clean_posts</th>\n",
              "      <th>clean_posts1</th>\n",
              "      <th>sentiment</th>\n",
              "    </tr>\n",
              "  </thead>\n",
              "  <tbody>\n",
              "    <tr>\n",
              "      <th>0</th>\n",
              "      <td>INFJ</td>\n",
              "      <td>'http://www.youtube.com/watch?v=qsXHcwe3krw|||...</td>\n",
              "      <td>50</td>\n",
              "      <td>0</td>\n",
              "      <td>[]</td>\n",
              "      <td>[intj, moment, sportscenter, top, ten, play, p...</td>\n",
              "      <td>['intj', 'moment', 'sportscenter', 'top', 'ten...</td>\n",
              "      <td>0.098116</td>\n",
              "    </tr>\n",
              "    <tr>\n",
              "      <th>1</th>\n",
              "      <td>ENTP</td>\n",
              "      <td>'I'm finding the lack of me in these posts ver...</td>\n",
              "      <td>50</td>\n",
              "      <td>0</td>\n",
              "      <td>[]</td>\n",
              "      <td>[im, find, lack, post, alarmingsex, bore, posi...</td>\n",
              "      <td>['im', 'find', 'lack', 'post', 'alarmingsex', ...</td>\n",
              "      <td>0.098953</td>\n",
              "    </tr>\n",
              "    <tr>\n",
              "      <th>2</th>\n",
              "      <td>INTP</td>\n",
              "      <td>'Good one  _____   https://www.youtube.com/wat...</td>\n",
              "      <td>50</td>\n",
              "      <td>0</td>\n",
              "      <td>[]</td>\n",
              "      <td>[good, one, course, say, know, thats, bless, c...</td>\n",
              "      <td>['good', 'one', 'course', 'say', 'know', 'that...</td>\n",
              "      <td>0.129627</td>\n",
              "    </tr>\n",
              "    <tr>\n",
              "      <th>3</th>\n",
              "      <td>INTJ</td>\n",
              "      <td>'Dear INTP,   I enjoyed our conversation the o...</td>\n",
              "      <td>50</td>\n",
              "      <td>0</td>\n",
              "      <td>[]</td>\n",
              "      <td>[dear, intp, enjoy, conversation, day, esoteri...</td>\n",
              "      <td>['dear', 'intp', 'enjoy', 'conversation', 'day...</td>\n",
              "      <td>0.096569</td>\n",
              "    </tr>\n",
              "    <tr>\n",
              "      <th>4</th>\n",
              "      <td>ENTJ</td>\n",
              "      <td>'You're fired.|||That's another silly misconce...</td>\n",
              "      <td>50</td>\n",
              "      <td>0</td>\n",
              "      <td>[]</td>\n",
              "      <td>[youre, firedthats, another, silly, misconcept...</td>\n",
              "      <td>['youre', 'firedthats', 'another', 'silly', 'm...</td>\n",
              "      <td>0.011339</td>\n",
              "    </tr>\n",
              "    <tr>\n",
              "      <th>5</th>\n",
              "      <td>INTJ</td>\n",
              "      <td>'18/37 @.@|||Science  is not perfect. No scien...</td>\n",
              "      <td>50</td>\n",
              "      <td>0</td>\n",
              "      <td>[]</td>\n",
              "      <td>[science, perfect, scientist, claim, scientifi...</td>\n",
              "      <td>['science', 'perfect', 'scientist', 'claim', '...</td>\n",
              "      <td>0.067968</td>\n",
              "    </tr>\n",
              "    <tr>\n",
              "      <th>6</th>\n",
              "      <td>INFJ</td>\n",
              "      <td>'No, I can't draw on my own nails (haha). Thos...</td>\n",
              "      <td>50</td>\n",
              "      <td>0</td>\n",
              "      <td>[]</td>\n",
              "      <td>[cant, draw, nail, haha, do, professional, nai...</td>\n",
              "      <td>['cant', 'draw', 'nail', 'haha', 'do', 'profes...</td>\n",
              "      <td>0.110950</td>\n",
              "    </tr>\n",
              "    <tr>\n",
              "      <th>7</th>\n",
              "      <td>INTJ</td>\n",
              "      <td>'I tend to build up a collection of things on ...</td>\n",
              "      <td>50</td>\n",
              "      <td>0</td>\n",
              "      <td>[]</td>\n",
              "      <td>[tend, build, collection, thing, desktop, use,...</td>\n",
              "      <td>['tend', 'build', 'collection', 'thing', 'desk...</td>\n",
              "      <td>0.090952</td>\n",
              "    </tr>\n",
              "    <tr>\n",
              "      <th>8</th>\n",
              "      <td>INFJ</td>\n",
              "      <td>I'm not sure, that's a good question. The dist...</td>\n",
              "      <td>50</td>\n",
              "      <td>0</td>\n",
              "      <td>[]</td>\n",
              "      <td>[im, sure, thats, good, question, distinction,...</td>\n",
              "      <td>['im', 'sure', 'thats', 'good', 'question', 'd...</td>\n",
              "      <td>0.073609</td>\n",
              "    </tr>\n",
              "    <tr>\n",
              "      <th>9</th>\n",
              "      <td>INTP</td>\n",
              "      <td>'https://www.youtube.com/watch?v=w8-egj0y8Qs||...</td>\n",
              "      <td>50</td>\n",
              "      <td>0</td>\n",
              "      <td>[]</td>\n",
              "      <td>[position, actually, let, go, person, due, var...</td>\n",
              "      <td>['position', 'actually', 'let', 'go', 'person'...</td>\n",
              "      <td>0.161103</td>\n",
              "    </tr>\n",
              "  </tbody>\n",
              "</table>\n",
              "</div>\n",
              "      <button class=\"colab-df-convert\" onclick=\"convertToInteractive('df-8fedb567-3354-46ec-8608-f8e8a4c68555')\"\n",
              "              title=\"Convert this dataframe to an interactive table.\"\n",
              "              style=\"display:none;\">\n",
              "        \n",
              "  <svg xmlns=\"http://www.w3.org/2000/svg\" height=\"24px\"viewBox=\"0 0 24 24\"\n",
              "       width=\"24px\">\n",
              "    <path d=\"M0 0h24v24H0V0z\" fill=\"none\"/>\n",
              "    <path d=\"M18.56 5.44l.94 2.06.94-2.06 2.06-.94-2.06-.94-.94-2.06-.94 2.06-2.06.94zm-11 1L8.5 8.5l.94-2.06 2.06-.94-2.06-.94L8.5 2.5l-.94 2.06-2.06.94zm10 10l.94 2.06.94-2.06 2.06-.94-2.06-.94-.94-2.06-.94 2.06-2.06.94z\"/><path d=\"M17.41 7.96l-1.37-1.37c-.4-.4-.92-.59-1.43-.59-.52 0-1.04.2-1.43.59L10.3 9.45l-7.72 7.72c-.78.78-.78 2.05 0 2.83L4 21.41c.39.39.9.59 1.41.59.51 0 1.02-.2 1.41-.59l7.78-7.78 2.81-2.81c.8-.78.8-2.07 0-2.86zM5.41 20L4 18.59l7.72-7.72 1.47 1.35L5.41 20z\"/>\n",
              "  </svg>\n",
              "      </button>\n",
              "      \n",
              "  <style>\n",
              "    .colab-df-container {\n",
              "      display:flex;\n",
              "      flex-wrap:wrap;\n",
              "      gap: 12px;\n",
              "    }\n",
              "\n",
              "    .colab-df-convert {\n",
              "      background-color: #E8F0FE;\n",
              "      border: none;\n",
              "      border-radius: 50%;\n",
              "      cursor: pointer;\n",
              "      display: none;\n",
              "      fill: #1967D2;\n",
              "      height: 32px;\n",
              "      padding: 0 0 0 0;\n",
              "      width: 32px;\n",
              "    }\n",
              "\n",
              "    .colab-df-convert:hover {\n",
              "      background-color: #E2EBFA;\n",
              "      box-shadow: 0px 1px 2px rgba(60, 64, 67, 0.3), 0px 1px 3px 1px rgba(60, 64, 67, 0.15);\n",
              "      fill: #174EA6;\n",
              "    }\n",
              "\n",
              "    [theme=dark] .colab-df-convert {\n",
              "      background-color: #3B4455;\n",
              "      fill: #D2E3FC;\n",
              "    }\n",
              "\n",
              "    [theme=dark] .colab-df-convert:hover {\n",
              "      background-color: #434B5C;\n",
              "      box-shadow: 0px 1px 3px 1px rgba(0, 0, 0, 0.15);\n",
              "      filter: drop-shadow(0px 1px 2px rgba(0, 0, 0, 0.3));\n",
              "      fill: #FFFFFF;\n",
              "    }\n",
              "  </style>\n",
              "\n",
              "      <script>\n",
              "        const buttonEl =\n",
              "          document.querySelector('#df-8fedb567-3354-46ec-8608-f8e8a4c68555 button.colab-df-convert');\n",
              "        buttonEl.style.display =\n",
              "          google.colab.kernel.accessAllowed ? 'block' : 'none';\n",
              "\n",
              "        async function convertToInteractive(key) {\n",
              "          const element = document.querySelector('#df-8fedb567-3354-46ec-8608-f8e8a4c68555');\n",
              "          const dataTable =\n",
              "            await google.colab.kernel.invokeFunction('convertToInteractive',\n",
              "                                                     [key], {});\n",
              "          if (!dataTable) return;\n",
              "\n",
              "          const docLinkHtml = 'Like what you see? Visit the ' +\n",
              "            '<a target=\"_blank\" href=https://colab.research.google.com/notebooks/data_table.ipynb>data table notebook</a>'\n",
              "            + ' to learn more about interactive tables.';\n",
              "          element.innerHTML = '';\n",
              "          dataTable['output_type'] = 'display_data';\n",
              "          await google.colab.output.renderOutput(dataTable, element);\n",
              "          const docLink = document.createElement('div');\n",
              "          docLink.innerHTML = docLinkHtml;\n",
              "          element.appendChild(docLink);\n",
              "        }\n",
              "      </script>\n",
              "    </div>\n",
              "  </div>\n",
              "  "
            ],
            "text/plain": [
              "   type  ... sentiment\n",
              "0  INFJ  ...  0.098116\n",
              "1  ENTP  ...  0.098953\n",
              "2  INTP  ...  0.129627\n",
              "3  INTJ  ...  0.096569\n",
              "4  ENTJ  ...  0.011339\n",
              "5  INTJ  ...  0.067968\n",
              "6  INFJ  ...  0.110950\n",
              "7  INTJ  ...  0.090952\n",
              "8  INFJ  ...  0.073609\n",
              "9  INTP  ...  0.161103\n",
              "\n",
              "[10 rows x 8 columns]"
            ]
          },
          "metadata": {},
          "execution_count": 38
        }
      ],
      "source": [
        "df.head(10)"
      ]
    },
    {
      "cell_type": "code",
      "execution_count": 39,
      "id": "2a33e90b",
      "metadata": {
        "colab": {
          "base_uri": "https://localhost:8080/",
          "height": 280
        },
        "id": "2a33e90b",
        "outputId": "54523690-f8da-4ff4-9c0e-30767735e851"
      },
      "outputs": [
        {
          "output_type": "display_data",
          "data": {
            "image/png": "[encoded data removed]",
            "text/plain": [
              "<Figure size 432x288 with 1 Axes>"
            ]
          },
          "metadata": {
            "needs_background": "light"
          }
        }
      ],
      "source": [
        "sns.histplot(data=df,x='sentiment')\n",
        "plt.show()"
      ]
    },
    {
      "cell_type": "code",
      "execution_count": 40,
      "id": "03e03f07",
      "metadata": {
        "colab": {
          "base_uri": "https://localhost:8080/",
          "height": 392
        },
        "id": "03e03f07",
        "outputId": "49f3d50b-adbe-4a51-f01a-64492e6cfddd"
      },
      "outputs": [
        {
          "output_type": "display_data",
          "data": {
            "image/png": "[encoded data removed]",
            "text/plain": [
              "<Figure size 864x432 with 1 Axes>"
            ]
          },
          "metadata": {
            "needs_background": "light"
          }
        }
      ],
      "source": [
        "plt.figure(figsize = (12,6))\n",
        "sns.scatterplot(x='type',y='sentiment',data=df)\n",
        "plt.show()"
      ]
    },
    {
      "cell_type": "code",
      "execution_count": 41,
      "id": "4ec80780",
      "metadata": {
        "colab": {
          "base_uri": "https://localhost:8080/",
          "height": 388
        },
        "id": "4ec80780",
        "outputId": "d01256f7-61f9-407f-b402-3179ef0c6cfe"
      },
      "outputs": [
        {
          "output_type": "display_data",
          "data": {
            "image/png": "[encoded data removed]",
            "text/plain": [
              "<Figure size 864x432 with 1 Axes>"
            ]
          },
          "metadata": {
            "needs_background": "light"
          }
        }
      ],
      "source": [
        "plt.figure(figsize = (12,6))\n",
        "sns.barplot(x='type',y='emoji_count',data=df)\n",
        "plt.xlabel('Personality types')\n",
        "plt.ylabel('Number of Emojis')\n",
        "plt.show()"
      ]
    },
    {
      "cell_type": "code",
      "execution_count": 42,
      "id": "c1eeb1b9",
      "metadata": {
        "colab": {
          "base_uri": "https://localhost:8080/",
          "height": 206
        },
        "id": "c1eeb1b9",
        "outputId": "b850d38d-da14-4bd6-a759-3555a4128223"
      },
      "outputs": [
        {
          "output_type": "execute_result",
          "data": {
            "text/html": [
              "\n",
              "  <div id=\"df-7df6af7d-7478-4554-b6e6-c1b6abdf37fa\">\n",
              "    <div class=\"colab-df-container\">\n",
              "      <div>\n",
              "<style scoped>\n",
              "    .dataframe tbody tr th:only-of-type {\n",
              "        vertical-align: middle;\n",
              "    }\n",
              "\n",
              "    .dataframe tbody tr th {\n",
              "        vertical-align: top;\n",
              "    }\n",
              "\n",
              "    .dataframe thead th {\n",
              "        text-align: right;\n",
              "    }\n",
              "</style>\n",
              "<table border=\"1\" class=\"dataframe\">\n",
              "  <thead>\n",
              "    <tr style=\"text-align: right;\">\n",
              "      <th></th>\n",
              "      <th>type</th>\n",
              "      <th>posts</th>\n",
              "      <th>num_of_posts</th>\n",
              "      <th>emoji_count</th>\n",
              "      <th>emojis</th>\n",
              "      <th>clean_posts</th>\n",
              "      <th>clean_posts1</th>\n",
              "      <th>sentiment</th>\n",
              "      <th>eori</th>\n",
              "      <th>nors</th>\n",
              "      <th>torf</th>\n",
              "      <th>jorp</th>\n",
              "    </tr>\n",
              "  </thead>\n",
              "  <tbody>\n",
              "    <tr>\n",
              "      <th>0</th>\n",
              "      <td>INFJ</td>\n",
              "      <td>'http://www.youtube.com/watch?v=qsXHcwe3krw|||...</td>\n",
              "      <td>50</td>\n",
              "      <td>0</td>\n",
              "      <td>[]</td>\n",
              "      <td>[intj, moment, sportscenter, top, ten, play, p...</td>\n",
              "      <td>['intj', 'moment', 'sportscenter', 'top', 'ten...</td>\n",
              "      <td>0.098116</td>\n",
              "      <td>I</td>\n",
              "      <td>N</td>\n",
              "      <td>F</td>\n",
              "      <td>J</td>\n",
              "    </tr>\n",
              "    <tr>\n",
              "      <th>1</th>\n",
              "      <td>ENTP</td>\n",
              "      <td>'I'm finding the lack of me in these posts ver...</td>\n",
              "      <td>50</td>\n",
              "      <td>0</td>\n",
              "      <td>[]</td>\n",
              "      <td>[im, find, lack, post, alarmingsex, bore, posi...</td>\n",
              "      <td>['im', 'find', 'lack', 'post', 'alarmingsex', ...</td>\n",
              "      <td>0.098953</td>\n",
              "      <td>E</td>\n",
              "      <td>N</td>\n",
              "      <td>T</td>\n",
              "      <td>P</td>\n",
              "    </tr>\n",
              "    <tr>\n",
              "      <th>2</th>\n",
              "      <td>INTP</td>\n",
              "      <td>'Good one  _____   https://www.youtube.com/wat...</td>\n",
              "      <td>50</td>\n",
              "      <td>0</td>\n",
              "      <td>[]</td>\n",
              "      <td>[good, one, course, say, know, thats, bless, c...</td>\n",
              "      <td>['good', 'one', 'course', 'say', 'know', 'that...</td>\n",
              "      <td>0.129627</td>\n",
              "      <td>I</td>\n",
              "      <td>N</td>\n",
              "      <td>T</td>\n",
              "      <td>P</td>\n",
              "    </tr>\n",
              "    <tr>\n",
              "      <th>3</th>\n",
              "      <td>INTJ</td>\n",
              "      <td>'Dear INTP,   I enjoyed our conversation the o...</td>\n",
              "      <td>50</td>\n",
              "      <td>0</td>\n",
              "      <td>[]</td>\n",
              "      <td>[dear, intp, enjoy, conversation, day, esoteri...</td>\n",
              "      <td>['dear', 'intp', 'enjoy', 'conversation', 'day...</td>\n",
              "      <td>0.096569</td>\n",
              "      <td>I</td>\n",
              "      <td>N</td>\n",
              "      <td>T</td>\n",
              "      <td>J</td>\n",
              "    </tr>\n",
              "    <tr>\n",
              "      <th>4</th>\n",
              "      <td>ENTJ</td>\n",
              "      <td>'You're fired.|||That's another silly misconce...</td>\n",
              "      <td>50</td>\n",
              "      <td>0</td>\n",
              "      <td>[]</td>\n",
              "      <td>[youre, firedthats, another, silly, misconcept...</td>\n",
              "      <td>['youre', 'firedthats', 'another', 'silly', 'm...</td>\n",
              "      <td>0.011339</td>\n",
              "      <td>E</td>\n",
              "      <td>N</td>\n",
              "      <td>T</td>\n",
              "      <td>J</td>\n",
              "    </tr>\n",
              "  </tbody>\n",
              "</table>\n",
              "</div>\n",
              "      <button class=\"colab-df-convert\" onclick=\"convertToInteractive('df-7df6af7d-7478-4554-b6e6-c1b6abdf37fa')\"\n",
              "              title=\"Convert this dataframe to an interactive table.\"\n",
              "              style=\"display:none;\">\n",
              "        \n",
              "  <svg xmlns=\"http://www.w3.org/2000/svg\" height=\"24px\"viewBox=\"0 0 24 24\"\n",
              "       width=\"24px\">\n",
              "    <path d=\"M0 0h24v24H0V0z\" fill=\"none\"/>\n",
              "    <path d=\"M18.56 5.44l.94 2.06.94-2.06 2.06-.94-2.06-.94-.94-2.06-.94 2.06-2.06.94zm-11 1L8.5 8.5l.94-2.06 2.06-.94-2.06-.94L8.5 2.5l-.94 2.06-2.06.94zm10 10l.94 2.06.94-2.06 2.06-.94-2.06-.94-.94-2.06-.94 2.06-2.06.94z\"/><path d=\"M17.41 7.96l-1.37-1.37c-.4-.4-.92-.59-1.43-.59-.52 0-1.04.2-1.43.59L10.3 9.45l-7.72 7.72c-.78.78-.78 2.05 0 2.83L4 21.41c.39.39.9.59 1.41.59.51 0 1.02-.2 1.41-.59l7.78-7.78 2.81-2.81c.8-.78.8-2.07 0-2.86zM5.41 20L4 18.59l7.72-7.72 1.47 1.35L5.41 20z\"/>\n",
              "  </svg>\n",
              "      </button>\n",
              "      \n",
              "  <style>\n",
              "    .colab-df-container {\n",
              "      display:flex;\n",
              "      flex-wrap:wrap;\n",
              "      gap: 12px;\n",
              "    }\n",
              "\n",
              "    .colab-df-convert {\n",
              "      background-color: #E8F0FE;\n",
              "      border: none;\n",
              "      border-radius: 50%;\n",
              "      cursor: pointer;\n",
              "      display: none;\n",
              "      fill: #1967D2;\n",
              "      height: 32px;\n",
              "      padding: 0 0 0 0;\n",
              "      width: 32px;\n",
              "    }\n",
              "\n",
              "    .colab-df-convert:hover {\n",
              "      background-color: #E2EBFA;\n",
              "      box-shadow: 0px 1px 2px rgba(60, 64, 67, 0.3), 0px 1px 3px 1px rgba(60, 64, 67, 0.15);\n",
              "      fill: #174EA6;\n",
              "    }\n",
              "\n",
              "    [theme=dark] .colab-df-convert {\n",
              "      background-color: #3B4455;\n",
              "      fill: #D2E3FC;\n",
              "    }\n",
              "\n",
              "    [theme=dark] .colab-df-convert:hover {\n",
              "      background-color: #434B5C;\n",
              "      box-shadow: 0px 1px 3px 1px rgba(0, 0, 0, 0.15);\n",
              "      filter: drop-shadow(0px 1px 2px rgba(0, 0, 0, 0.3));\n",
              "      fill: #FFFFFF;\n",
              "    }\n",
              "  </style>\n",
              "\n",
              "      <script>\n",
              "        const buttonEl =\n",
              "          document.querySelector('#df-7df6af7d-7478-4554-b6e6-c1b6abdf37fa button.colab-df-convert');\n",
              "        buttonEl.style.display =\n",
              "          google.colab.kernel.accessAllowed ? 'block' : 'none';\n",
              "\n",
              "        async function convertToInteractive(key) {\n",
              "          const element = document.querySelector('#df-7df6af7d-7478-4554-b6e6-c1b6abdf37fa');\n",
              "          const dataTable =\n",
              "            await google.colab.kernel.invokeFunction('convertToInteractive',\n",
              "                                                     [key], {});\n",
              "          if (!dataTable) return;\n",
              "\n",
              "          const docLinkHtml = 'Like what you see? Visit the ' +\n",
              "            '<a target=\"_blank\" href=https://colab.research.google.com/notebooks/data_table.ipynb>data table notebook</a>'\n",
              "            + ' to learn more about interactive tables.';\n",
              "          element.innerHTML = '';\n",
              "          dataTable['output_type'] = 'display_data';\n",
              "          await google.colab.output.renderOutput(dataTable, element);\n",
              "          const docLink = document.createElement('div');\n",
              "          docLink.innerHTML = docLinkHtml;\n",
              "          element.appendChild(docLink);\n",
              "        }\n",
              "      </script>\n",
              "    </div>\n",
              "  </div>\n",
              "  "
            ],
            "text/plain": [
              "   type                                              posts  ...  torf  jorp\n",
              "0  INFJ  'http://www.youtube.com/watch?v=qsXHcwe3krw|||...  ...     F     J\n",
              "1  ENTP  'I'm finding the lack of me in these posts ver...  ...     T     P\n",
              "2  INTP  'Good one  _____   https://www.youtube.com/wat...  ...     T     P\n",
              "3  INTJ  'Dear INTP,   I enjoyed our conversation the o...  ...     T     J\n",
              "4  ENTJ  'You're fired.|||That's another silly misconce...  ...     T     J\n",
              "\n",
              "[5 rows x 12 columns]"
            ]
          },
          "metadata": {},
          "execution_count": 42
        }
      ],
      "source": [
        "# Add Peronality Type Columns\n",
        "df['eori']=[x[0] for x in df['type']]\n",
        "df['nors']=[x[1] for x in df['type']]\n",
        "df['torf']=[x[2] for x in df['type']]\n",
        "df['jorp']=[x[3] for x in df['type']]\n",
        "df.head()"
      ]
    },
    {
      "cell_type": "markdown",
      "source": [
        "**Extrovert Personality Type Analysis**"
      ],
      "metadata": {
        "id": "L1g9kgOSKxIK"
      },
      "id": "L1g9kgOSKxIK"
    },
    {
      "cell_type": "code",
      "execution_count": 43,
      "id": "35a85380",
      "metadata": {
        "colab": {
          "base_uri": "https://localhost:8080/",
          "height": 206
        },
        "id": "35a85380",
        "outputId": "ee0165aa-8d44-4ac2-f624-239bdcce8edd"
      },
      "outputs": [
        {
          "output_type": "execute_result",
          "data": {
            "text/html": [
              "\n",
              "  <div id=\"df-3730ea52-f4ba-4430-9c5e-7fc3b9027b39\">\n",
              "    <div class=\"colab-df-container\">\n",
              "      <div>\n",
              "<style scoped>\n",
              "    .dataframe tbody tr th:only-of-type {\n",
              "        vertical-align: middle;\n",
              "    }\n",
              "\n",
              "    .dataframe tbody tr th {\n",
              "        vertical-align: top;\n",
              "    }\n",
              "\n",
              "    .dataframe thead th {\n",
              "        text-align: right;\n",
              "    }\n",
              "</style>\n",
              "<table border=\"1\" class=\"dataframe\">\n",
              "  <thead>\n",
              "    <tr style=\"text-align: right;\">\n",
              "      <th></th>\n",
              "      <th>index</th>\n",
              "      <th>type</th>\n",
              "      <th>posts</th>\n",
              "      <th>num_of_posts</th>\n",
              "      <th>emoji_count</th>\n",
              "      <th>emojis</th>\n",
              "      <th>clean_posts</th>\n",
              "      <th>clean_posts1</th>\n",
              "      <th>sentiment</th>\n",
              "      <th>eori</th>\n",
              "      <th>nors</th>\n",
              "      <th>torf</th>\n",
              "      <th>jorp</th>\n",
              "    </tr>\n",
              "  </thead>\n",
              "  <tbody>\n",
              "    <tr>\n",
              "      <th>0</th>\n",
              "      <td>1</td>\n",
              "      <td>ENTP</td>\n",
              "      <td>'I'm finding the lack of me in these posts ver...</td>\n",
              "      <td>50</td>\n",
              "      <td>0</td>\n",
              "      <td>[]</td>\n",
              "      <td>[im, find, lack, post, alarmingsex, bore, posi...</td>\n",
              "      <td>['im', 'find', 'lack', 'post', 'alarmingsex', ...</td>\n",
              "      <td>0.098953</td>\n",
              "      <td>E</td>\n",
              "      <td>N</td>\n",
              "      <td>T</td>\n",
              "      <td>P</td>\n",
              "    </tr>\n",
              "    <tr>\n",
              "      <th>1</th>\n",
              "      <td>4</td>\n",
              "      <td>ENTJ</td>\n",
              "      <td>'You're fired.|||That's another silly misconce...</td>\n",
              "      <td>50</td>\n",
              "      <td>0</td>\n",
              "      <td>[]</td>\n",
              "      <td>[youre, firedthats, another, silly, misconcept...</td>\n",
              "      <td>['youre', 'firedthats', 'another', 'silly', 'm...</td>\n",
              "      <td>0.011339</td>\n",
              "      <td>E</td>\n",
              "      <td>N</td>\n",
              "      <td>T</td>\n",
              "      <td>J</td>\n",
              "    </tr>\n",
              "    <tr>\n",
              "      <th>2</th>\n",
              "      <td>11</td>\n",
              "      <td>ENFJ</td>\n",
              "      <td>'https://www.youtube.com/watch?v=PLAaiKvHvZs||...</td>\n",
              "      <td>43</td>\n",
              "      <td>0</td>\n",
              "      <td>[]</td>\n",
              "      <td>[oi, go, break, month, ago, together, year, pl...</td>\n",
              "      <td>['oi', 'go', 'break', 'month', 'ago', 'togethe...</td>\n",
              "      <td>0.188021</td>\n",
              "      <td>E</td>\n",
              "      <td>N</td>\n",
              "      <td>F</td>\n",
              "      <td>J</td>\n",
              "    </tr>\n",
              "    <tr>\n",
              "      <th>3</th>\n",
              "      <td>22</td>\n",
              "      <td>ENTJ</td>\n",
              "      <td>'Now I'm interested. But too lazy to go resear...</td>\n",
              "      <td>50</td>\n",
              "      <td>0</td>\n",
              "      <td>[]</td>\n",
              "      <td>[im, interest, lazy, go, research, timeconsumi...</td>\n",
              "      <td>['im', 'interest', 'lazy', 'go', 'research', '...</td>\n",
              "      <td>0.081869</td>\n",
              "      <td>E</td>\n",
              "      <td>N</td>\n",
              "      <td>T</td>\n",
              "      <td>J</td>\n",
              "    </tr>\n",
              "    <tr>\n",
              "      <th>4</th>\n",
              "      <td>24</td>\n",
              "      <td>ENTJ</td>\n",
              "      <td>'Still going strong at just over the two year ...</td>\n",
              "      <td>50</td>\n",
              "      <td>0</td>\n",
              "      <td>[]</td>\n",
              "      <td>[still, go, strong, two, year, mark, make, not...</td>\n",
              "      <td>['still', 'go', 'strong', 'two', 'year', 'mark...</td>\n",
              "      <td>0.150040</td>\n",
              "      <td>E</td>\n",
              "      <td>N</td>\n",
              "      <td>T</td>\n",
              "      <td>J</td>\n",
              "    </tr>\n",
              "  </tbody>\n",
              "</table>\n",
              "</div>\n",
              "      <button class=\"colab-df-convert\" onclick=\"convertToInteractive('df-3730ea52-f4ba-4430-9c5e-7fc3b9027b39')\"\n",
              "              title=\"Convert this dataframe to an interactive table.\"\n",
              "              style=\"display:none;\">\n",
              "        \n",
              "  <svg xmlns=\"http://www.w3.org/2000/svg\" height=\"24px\"viewBox=\"0 0 24 24\"\n",
              "       width=\"24px\">\n",
              "    <path d=\"M0 0h24v24H0V0z\" fill=\"none\"/>\n",
              "    <path d=\"M18.56 5.44l.94 2.06.94-2.06 2.06-.94-2.06-.94-.94-2.06-.94 2.06-2.06.94zm-11 1L8.5 8.5l.94-2.06 2.06-.94-2.06-.94L8.5 2.5l-.94 2.06-2.06.94zm10 10l.94 2.06.94-2.06 2.06-.94-2.06-.94-.94-2.06-.94 2.06-2.06.94z\"/><path d=\"M17.41 7.96l-1.37-1.37c-.4-.4-.92-.59-1.43-.59-.52 0-1.04.2-1.43.59L10.3 9.45l-7.72 7.72c-.78.78-.78 2.05 0 2.83L4 21.41c.39.39.9.59 1.41.59.51 0 1.02-.2 1.41-.59l7.78-7.78 2.81-2.81c.8-.78.8-2.07 0-2.86zM5.41 20L4 18.59l7.72-7.72 1.47 1.35L5.41 20z\"/>\n",
              "  </svg>\n",
              "      </button>\n",
              "      \n",
              "  <style>\n",
              "    .colab-df-container {\n",
              "      display:flex;\n",
              "      flex-wrap:wrap;\n",
              "      gap: 12px;\n",
              "    }\n",
              "\n",
              "    .colab-df-convert {\n",
              "      background-color: #E8F0FE;\n",
              "      border: none;\n",
              "      border-radius: 50%;\n",
              "      cursor: pointer;\n",
              "      display: none;\n",
              "      fill: #1967D2;\n",
              "      height: 32px;\n",
              "      padding: 0 0 0 0;\n",
              "      width: 32px;\n",
              "    }\n",
              "\n",
              "    .colab-df-convert:hover {\n",
              "      background-color: #E2EBFA;\n",
              "      box-shadow: 0px 1px 2px rgba(60, 64, 67, 0.3), 0px 1px 3px 1px rgba(60, 64, 67, 0.15);\n",
              "      fill: #174EA6;\n",
              "    }\n",
              "\n",
              "    [theme=dark] .colab-df-convert {\n",
              "      background-color: #3B4455;\n",
              "      fill: #D2E3FC;\n",
              "    }\n",
              "\n",
              "    [theme=dark] .colab-df-convert:hover {\n",
              "      background-color: #434B5C;\n",
              "      box-shadow: 0px 1px 3px 1px rgba(0, 0, 0, 0.15);\n",
              "      filter: drop-shadow(0px 1px 2px rgba(0, 0, 0, 0.3));\n",
              "      fill: #FFFFFF;\n",
              "    }\n",
              "  </style>\n",
              "\n",
              "      <script>\n",
              "        const buttonEl =\n",
              "          document.querySelector('#df-3730ea52-f4ba-4430-9c5e-7fc3b9027b39 button.colab-df-convert');\n",
              "        buttonEl.style.display =\n",
              "          google.colab.kernel.accessAllowed ? 'block' : 'none';\n",
              "\n",
              "        async function convertToInteractive(key) {\n",
              "          const element = document.querySelector('#df-3730ea52-f4ba-4430-9c5e-7fc3b9027b39');\n",
              "          const dataTable =\n",
              "            await google.colab.kernel.invokeFunction('convertToInteractive',\n",
              "                                                     [key], {});\n",
              "          if (!dataTable) return;\n",
              "\n",
              "          const docLinkHtml = 'Like what you see? Visit the ' +\n",
              "            '<a target=\"_blank\" href=https://colab.research.google.com/notebooks/data_table.ipynb>data table notebook</a>'\n",
              "            + ' to learn more about interactive tables.';\n",
              "          element.innerHTML = '';\n",
              "          dataTable['output_type'] = 'display_data';\n",
              "          await google.colab.output.renderOutput(dataTable, element);\n",
              "          const docLink = document.createElement('div');\n",
              "          docLink.innerHTML = docLinkHtml;\n",
              "          element.appendChild(docLink);\n",
              "        }\n",
              "      </script>\n",
              "    </div>\n",
              "  </div>\n",
              "  "
            ],
            "text/plain": [
              "   index  type  ... torf  jorp\n",
              "0      1  ENTP  ...    T     P\n",
              "1      4  ENTJ  ...    T     J\n",
              "2     11  ENFJ  ...    F     J\n",
              "3     22  ENTJ  ...    T     J\n",
              "4     24  ENTJ  ...    T     J\n",
              "\n",
              "[5 rows x 13 columns]"
            ]
          },
          "metadata": {},
          "execution_count": 43
        }
      ],
      "source": [
        "E_df = df[df['eori']=='E']\n",
        "E_df.reset_index(inplace=True)\n",
        "E_df.head()"
      ]
    },
    {
      "cell_type": "code",
      "execution_count": 44,
      "id": "f35de14c",
      "metadata": {
        "id": "f35de14c"
      },
      "outputs": [],
      "source": [
        "all_Ewords=[]        \n",
        "for i in range(len(E_df)):\n",
        "  all_Ewords = all_Ewords + E_df['clean_posts'][i]\n",
        "  #all_Ewords.append(E_df['clean_posts1'][i])"
      ]
    },
    {
      "cell_type": "code",
      "execution_count": 45,
      "id": "2efe5232",
      "metadata": {
        "colab": {
          "base_uri": "https://localhost:8080/"
        },
        "id": "2efe5232",
        "outputId": "99c10c96-c52a-4500-de5b-c0e60b99bae3"
      },
      "outputs": [
        {
          "output_type": "execute_result",
          "data": {
            "text/plain": [
              "1231116"
            ]
          },
          "metadata": {},
          "execution_count": 45
        }
      ],
      "source": [
        "len(all_Ewords)"
      ]
    },
    {
      "cell_type": "code",
      "source": [
        "nlp_words = nltk.FreqDist(all_Ewords)"
      ],
      "metadata": {
        "id": "csX58ngLHuzx"
      },
      "id": "csX58ngLHuzx",
      "execution_count": 46,
      "outputs": []
    },
    {
      "cell_type": "code",
      "source": [
        "len(nlp_words)"
      ],
      "metadata": {
        "colab": {
          "base_uri": "https://localhost:8080/"
        },
        "id": "GmjsAXPxIadq",
        "outputId": "f42cd71d-2852-4757-ee59-0a7c573cdd06"
      },
      "id": "GmjsAXPxIadq",
      "execution_count": 47,
      "outputs": [
        {
          "output_type": "execute_result",
          "data": {
            "text/plain": [
              "96276"
            ]
          },
          "metadata": {},
          "execution_count": 47
        }
      ]
    },
    {
      "cell_type": "code",
      "source": [
        "nlp_words.most_common(10) # Top 10 extrovert words in posts"
      ],
      "metadata": {
        "colab": {
          "base_uri": "https://localhost:8080/"
        },
        "id": "N78AtnEmKgDZ",
        "outputId": "f71534ae-e441-45b5-adb7-9f5495c40ebf"
      },
      "id": "N78AtnEmKgDZ",
      "execution_count": 48,
      "outputs": [
        {
          "output_type": "execute_result",
          "data": {
            "text/plain": [
              "[('like', 16402),\n",
              " ('think', 16098),\n",
              " ('im', 15238),\n",
              " ('get', 12020),\n",
              " ('dont', 11187),\n",
              " ('people', 10296),\n",
              " ('know', 9854),\n",
              " ('one', 8570),\n",
              " ('say', 8516),\n",
              " ('make', 7841)]"
            ]
          },
          "metadata": {},
          "execution_count": 48
        }
      ]
    },
    {
      "cell_type": "code",
      "source": [
        "plt.figure(figsize = (12,6))\n",
        "plotE = nlp_words.plot(30, color='salmon', title='Word Frequency') #Top 30 words frequency\n"
      ],
      "metadata": {
        "colab": {
          "base_uri": "https://localhost:8080/",
          "height": 447
        },
        "id": "Fs4ky57aImdF",
        "outputId": "dd03f30d-28dc-41bf-af84-4d94a96a4230"
      },
      "id": "Fs4ky57aImdF",
      "execution_count": 49,
      "outputs": [
        {
          "output_type": "display_data",
          "data": {
            "image/png": "[encoded data removed]",
            "text/plain": [
              "<Figure size 864x432 with 1 Axes>"
            ]
          },
          "metadata": {
            "needs_background": "light"
          }
        }
      ]
    },
    {
      "cell_type": "code",
      "source": [
        "# Words most commonly used together.\n",
        "bigrmE = list(nltk.bigrams(all_Ewords))\n",
        "wordsE_2 = nltk.FreqDist(bigrmE)\n",
        "plt.figure(figsize = (12,6))\n",
        "wordsE_2.plot(30, color='salmon', title='Bigram Frequency')"
      ],
      "metadata": {
        "colab": {
          "base_uri": "https://localhost:8080/",
          "height": 497
        },
        "id": "I6fK-Zg5J7mU",
        "outputId": "97271b8e-31ec-4a38-95b7-b266864678ef"
      },
      "id": "I6fK-Zg5J7mU",
      "execution_count": 50,
      "outputs": [
        {
          "output_type": "display_data",
          "data": {
            "image/png": "[encoded data removed]",
            "text/plain": [
              "<Figure size 864x432 with 1 Axes>"
            ]
          },
          "metadata": {
            "needs_background": "light"
          }
        }
      ]
    },
    {
      "cell_type": "markdown",
      "source": [
        "**Introvert Personality Analysis**"
      ],
      "metadata": {
        "id": "rTKl2udnLy5t"
      },
      "id": "rTKl2udnLy5t"
    },
    {
      "cell_type": "code",
      "source": [
        "I_df = df[df['eori']=='I']\n",
        "I_df.reset_index(inplace=True)\n",
        "I_df.head()"
      ],
      "metadata": {
        "colab": {
          "base_uri": "https://localhost:8080/",
          "height": 206
        },
        "id": "EBxkePiJLyge",
        "outputId": "3a08119b-6692-4c4f-adab-24724cbf117f"
      },
      "id": "EBxkePiJLyge",
      "execution_count": 51,
      "outputs": [
        {
          "output_type": "execute_result",
          "data": {
            "text/html": [
              "\n",
              "  <div id=\"df-db816108-c51c-42ff-ada4-22d70e8f54ac\">\n",
              "    <div class=\"colab-df-container\">\n",
              "      <div>\n",
              "<style scoped>\n",
              "    .dataframe tbody tr th:only-of-type {\n",
              "        vertical-align: middle;\n",
              "    }\n",
              "\n",
              "    .dataframe tbody tr th {\n",
              "        vertical-align: top;\n",
              "    }\n",
              "\n",
              "    .dataframe thead th {\n",
              "        text-align: right;\n",
              "    }\n",
              "</style>\n",
              "<table border=\"1\" class=\"dataframe\">\n",
              "  <thead>\n",
              "    <tr style=\"text-align: right;\">\n",
              "      <th></th>\n",
              "      <th>index</th>\n",
              "      <th>type</th>\n",
              "      <th>posts</th>\n",
              "      <th>num_of_posts</th>\n",
              "      <th>emoji_count</th>\n",
              "      <th>emojis</th>\n",
              "      <th>clean_posts</th>\n",
              "      <th>clean_posts1</th>\n",
              "      <th>sentiment</th>\n",
              "      <th>eori</th>\n",
              "      <th>nors</th>\n",
              "      <th>torf</th>\n",
              "      <th>jorp</th>\n",
              "    </tr>\n",
              "  </thead>\n",
              "  <tbody>\n",
              "    <tr>\n",
              "      <th>0</th>\n",
              "      <td>0</td>\n",
              "      <td>INFJ</td>\n",
              "      <td>'http://www.youtube.com/watch?v=qsXHcwe3krw|||...</td>\n",
              "      <td>50</td>\n",
              "      <td>0</td>\n",
              "      <td>[]</td>\n",
              "      <td>[intj, moment, sportscenter, top, ten, play, p...</td>\n",
              "      <td>['intj', 'moment', 'sportscenter', 'top', 'ten...</td>\n",
              "      <td>0.098116</td>\n",
              "      <td>I</td>\n",
              "      <td>N</td>\n",
              "      <td>F</td>\n",
              "      <td>J</td>\n",
              "    </tr>\n",
              "    <tr>\n",
              "      <th>1</th>\n",
              "      <td>2</td>\n",
              "      <td>INTP</td>\n",
              "      <td>'Good one  _____   https://www.youtube.com/wat...</td>\n",
              "      <td>50</td>\n",
              "      <td>0</td>\n",
              "      <td>[]</td>\n",
              "      <td>[good, one, course, say, know, thats, bless, c...</td>\n",
              "      <td>['good', 'one', 'course', 'say', 'know', 'that...</td>\n",
              "      <td>0.129627</td>\n",
              "      <td>I</td>\n",
              "      <td>N</td>\n",
              "      <td>T</td>\n",
              "      <td>P</td>\n",
              "    </tr>\n",
              "    <tr>\n",
              "      <th>2</th>\n",
              "      <td>3</td>\n",
              "      <td>INTJ</td>\n",
              "      <td>'Dear INTP,   I enjoyed our conversation the o...</td>\n",
              "      <td>50</td>\n",
              "      <td>0</td>\n",
              "      <td>[]</td>\n",
              "      <td>[dear, intp, enjoy, conversation, day, esoteri...</td>\n",
              "      <td>['dear', 'intp', 'enjoy', 'conversation', 'day...</td>\n",
              "      <td>0.096569</td>\n",
              "      <td>I</td>\n",
              "      <td>N</td>\n",
              "      <td>T</td>\n",
              "      <td>J</td>\n",
              "    </tr>\n",
              "    <tr>\n",
              "      <th>3</th>\n",
              "      <td>5</td>\n",
              "      <td>INTJ</td>\n",
              "      <td>'18/37 @.@|||Science  is not perfect. No scien...</td>\n",
              "      <td>50</td>\n",
              "      <td>0</td>\n",
              "      <td>[]</td>\n",
              "      <td>[science, perfect, scientist, claim, scientifi...</td>\n",
              "      <td>['science', 'perfect', 'scientist', 'claim', '...</td>\n",
              "      <td>0.067968</td>\n",
              "      <td>I</td>\n",
              "      <td>N</td>\n",
              "      <td>T</td>\n",
              "      <td>J</td>\n",
              "    </tr>\n",
              "    <tr>\n",
              "      <th>4</th>\n",
              "      <td>6</td>\n",
              "      <td>INFJ</td>\n",
              "      <td>'No, I can't draw on my own nails (haha). Thos...</td>\n",
              "      <td>50</td>\n",
              "      <td>0</td>\n",
              "      <td>[]</td>\n",
              "      <td>[cant, draw, nail, haha, do, professional, nai...</td>\n",
              "      <td>['cant', 'draw', 'nail', 'haha', 'do', 'profes...</td>\n",
              "      <td>0.110950</td>\n",
              "      <td>I</td>\n",
              "      <td>N</td>\n",
              "      <td>F</td>\n",
              "      <td>J</td>\n",
              "    </tr>\n",
              "  </tbody>\n",
              "</table>\n",
              "</div>\n",
              "      <button class=\"colab-df-convert\" onclick=\"convertToInteractive('df-db816108-c51c-42ff-ada4-22d70e8f54ac')\"\n",
              "              title=\"Convert this dataframe to an interactive table.\"\n",
              "              style=\"display:none;\">\n",
              "        \n",
              "  <svg xmlns=\"http://www.w3.org/2000/svg\" height=\"24px\"viewBox=\"0 0 24 24\"\n",
              "       width=\"24px\">\n",
              "    <path d=\"M0 0h24v24H0V0z\" fill=\"none\"/>\n",
              "    <path d=\"M18.56 5.44l.94 2.06.94-2.06 2.06-.94-2.06-.94-.94-2.06-.94 2.06-2.06.94zm-11 1L8.5 8.5l.94-2.06 2.06-.94-2.06-.94L8.5 2.5l-.94 2.06-2.06.94zm10 10l.94 2.06.94-2.06 2.06-.94-2.06-.94-.94-2.06-.94 2.06-2.06.94z\"/><path d=\"M17.41 7.96l-1.37-1.37c-.4-.4-.92-.59-1.43-.59-.52 0-1.04.2-1.43.59L10.3 9.45l-7.72 7.72c-.78.78-.78 2.05 0 2.83L4 21.41c.39.39.9.59 1.41.59.51 0 1.02-.2 1.41-.59l7.78-7.78 2.81-2.81c.8-.78.8-2.07 0-2.86zM5.41 20L4 18.59l7.72-7.72 1.47 1.35L5.41 20z\"/>\n",
              "  </svg>\n",
              "      </button>\n",
              "      \n",
              "  <style>\n",
              "    .colab-df-container {\n",
              "      display:flex;\n",
              "      flex-wrap:wrap;\n",
              "      gap: 12px;\n",
              "    }\n",
              "\n",
              "    .colab-df-convert {\n",
              "      background-color: #E8F0FE;\n",
              "      border: none;\n",
              "      border-radius: 50%;\n",
              "      cursor: pointer;\n",
              "      display: none;\n",
              "      fill: #1967D2;\n",
              "      height: 32px;\n",
              "      padding: 0 0 0 0;\n",
              "      width: 32px;\n",
              "    }\n",
              "\n",
              "    .colab-df-convert:hover {\n",
              "      background-color: #E2EBFA;\n",
              "      box-shadow: 0px 1px 2px rgba(60, 64, 67, 0.3), 0px 1px 3px 1px rgba(60, 64, 67, 0.15);\n",
              "      fill: #174EA6;\n",
              "    }\n",
              "\n",
              "    [theme=dark] .colab-df-convert {\n",
              "      background-color: #3B4455;\n",
              "      fill: #D2E3FC;\n",
              "    }\n",
              "\n",
              "    [theme=dark] .colab-df-convert:hover {\n",
              "      background-color: #434B5C;\n",
              "      box-shadow: 0px 1px 3px 1px rgba(0, 0, 0, 0.15);\n",
              "      filter: drop-shadow(0px 1px 2px rgba(0, 0, 0, 0.3));\n",
              "      fill: #FFFFFF;\n",
              "    }\n",
              "  </style>\n",
              "\n",
              "      <script>\n",
              "        const buttonEl =\n",
              "          document.querySelector('#df-db816108-c51c-42ff-ada4-22d70e8f54ac button.colab-df-convert');\n",
              "        buttonEl.style.display =\n",
              "          google.colab.kernel.accessAllowed ? 'block' : 'none';\n",
              "\n",
              "        async function convertToInteractive(key) {\n",
              "          const element = document.querySelector('#df-db816108-c51c-42ff-ada4-22d70e8f54ac');\n",
              "          const dataTable =\n",
              "            await google.colab.kernel.invokeFunction('convertToInteractive',\n",
              "                                                     [key], {});\n",
              "          if (!dataTable) return;\n",
              "\n",
              "          const docLinkHtml = 'Like what you see? Visit the ' +\n",
              "            '<a target=\"_blank\" href=https://colab.research.google.com/notebooks/data_table.ipynb>data table notebook</a>'\n",
              "            + ' to learn more about interactive tables.';\n",
              "          element.innerHTML = '';\n",
              "          dataTable['output_type'] = 'display_data';\n",
              "          await google.colab.output.renderOutput(dataTable, element);\n",
              "          const docLink = document.createElement('div');\n",
              "          docLink.innerHTML = docLinkHtml;\n",
              "          element.appendChild(docLink);\n",
              "        }\n",
              "      </script>\n",
              "    </div>\n",
              "  </div>\n",
              "  "
            ],
            "text/plain": [
              "   index  type  ... torf  jorp\n",
              "0      0  INFJ  ...    F     J\n",
              "1      2  INTP  ...    T     P\n",
              "2      3  INTJ  ...    T     J\n",
              "3      5  INTJ  ...    T     J\n",
              "4      6  INFJ  ...    F     J\n",
              "\n",
              "[5 rows x 13 columns]"
            ]
          },
          "metadata": {},
          "execution_count": 51
        }
      ]
    },
    {
      "cell_type": "code",
      "source": [
        "all_Iwords=[]        \n",
        "for i in range(len(I_df)):\n",
        "  all_Iwords = all_Iwords + I_df['clean_posts'][i]"
      ],
      "metadata": {
        "id": "bC1ar-KtMC77"
      },
      "id": "bC1ar-KtMC77",
      "execution_count": 52,
      "outputs": []
    },
    {
      "cell_type": "code",
      "source": [
        "len(all_Iwords)"
      ],
      "metadata": {
        "colab": {
          "base_uri": "https://localhost:8080/"
        },
        "id": "PKugPIpNPAO4",
        "outputId": "d245bf2a-b74b-4759-eb7d-0d6056b5e1b8"
      },
      "id": "PKugPIpNPAO4",
      "execution_count": 53,
      "outputs": [
        {
          "output_type": "execute_result",
          "data": {
            "text/plain": [
              "4117653"
            ]
          },
          "metadata": {},
          "execution_count": 53
        }
      ]
    },
    {
      "cell_type": "code",
      "source": [
        "nlp_wordsI = nltk.FreqDist(all_Iwords)\n",
        "len(nlp_wordsI)"
      ],
      "metadata": {
        "colab": {
          "base_uri": "https://localhost:8080/"
        },
        "id": "z7dum4dwPFMo",
        "outputId": "639f0243-897d-4bb1-a58e-857415cc5cf1"
      },
      "id": "z7dum4dwPFMo",
      "execution_count": 54,
      "outputs": [
        {
          "output_type": "execute_result",
          "data": {
            "text/plain": [
              "230899"
            ]
          },
          "metadata": {},
          "execution_count": 54
        }
      ]
    },
    {
      "cell_type": "code",
      "source": [
        "nlp_wordsI.most_common(10)"
      ],
      "metadata": {
        "colab": {
          "base_uri": "https://localhost:8080/"
        },
        "id": "0BB-MswXPQ1J",
        "outputId": "13ca52bd-2ec6-4146-8dde-d6c6fb8af7ae"
      },
      "id": "0BB-MswXPQ1J",
      "execution_count": 55,
      "outputs": [
        {
          "output_type": "execute_result",
          "data": {
            "text/plain": [
              "[('like', 53576),\n",
              " ('think', 53406),\n",
              " ('im', 49360),\n",
              " ('dont', 39241),\n",
              " ('get', 37070),\n",
              " ('people', 34805),\n",
              " ('know', 31912),\n",
              " ('one', 28317),\n",
              " ('feel', 27924),\n",
              " ('say', 27584)]"
            ]
          },
          "metadata": {},
          "execution_count": 55
        }
      ]
    },
    {
      "cell_type": "code",
      "source": [
        "plt.figure(figsize = (12,6))\n",
        "plotIE = nlp_words.plot(30, color='salmon', title='Word Frequency for Extrovert') #Top 30 words frequency\n",
        "plt.figure(figsize = (12,6))\n",
        "plotIE = nlp_wordsI.plot(30, color='salmon', title='Word Frequency for Introvert') #Top 30 words frequency"
      ],
      "metadata": {
        "colab": {
          "base_uri": "https://localhost:8080/",
          "height": 877
        },
        "id": "UW4j9P2-PxSR",
        "outputId": "365339fd-60ff-4265-81e2-8c1b632de521"
      },
      "id": "UW4j9P2-PxSR",
      "execution_count": 56,
      "outputs": [
        {
          "output_type": "display_data",
          "data": {
            "image/png": "[encoded data removed]",
            "text/plain": [
              "<Figure size 864x432 with 1 Axes>"
            ]
          },
          "metadata": {
            "needs_background": "light"
          }
        },
        {
          "output_type": "display_data",
          "data": {
            "image/png": "[encoded data removed]",
            "text/plain": [
              "<Figure size 864x432 with 1 Axes>"
            ]
          },
          "metadata": {
            "needs_background": "light"
          }
        }
      ]
    },
    {
      "cell_type": "code",
      "source": [
        "bigrmI = list(nltk.bigrams(all_Iwords))\n",
        "wordsI_2 = nltk.FreqDist(bigrmI)"
      ],
      "metadata": {
        "id": "FcLgNyj4I223"
      },
      "id": "FcLgNyj4I223",
      "execution_count": 57,
      "outputs": []
    },
    {
      "cell_type": "code",
      "source": [
        "plt.figure(figsize = (12,6))\n",
        "wordsE_2.plot(30, color='salmon', title='Bigram Frequency for Extrovert')\n",
        "plt.figure(figsize = (12,6))\n",
        "wordsI_2.plot(30, color='salmon', title='Bigram Frequency for Introvert')"
      ],
      "metadata": {
        "colab": {
          "base_uri": "https://localhost:8080/",
          "height": 977
        },
        "id": "CJ8V5KWWQL8c",
        "outputId": "32939c81-870e-499c-cd36-88ac5565d723"
      },
      "id": "CJ8V5KWWQL8c",
      "execution_count": 58,
      "outputs": [
        {
          "output_type": "display_data",
          "data": {
            "image/png": "[encoded data removed]",
            "text/plain": [
              "<Figure size 864x432 with 1 Axes>"
            ]
          },
          "metadata": {
            "needs_background": "light"
          }
        },
        {
          "output_type": "display_data",
          "data": {
            "image/png": "[encoded data removed]",
            "text/plain": [
              "<Figure size 864x432 with 1 Axes>"
            ]
          },
          "metadata": {
            "needs_background": "light"
          }
        }
      ]
    },
    {
      "cell_type": "code",
      "source": [
        "df_emojis=df[df['emoji_count']>0]\n",
        "df_emojis.reset_index(inplace=True)"
      ],
      "metadata": {
        "id": "A2ZZoP6oJQ04"
      },
      "id": "A2ZZoP6oJQ04",
      "execution_count": 59,
      "outputs": []
    },
    {
      "cell_type": "code",
      "source": [
        "df_emojis.head()"
      ],
      "metadata": {
        "colab": {
          "base_uri": "https://localhost:8080/",
          "height": 206
        },
        "id": "VfWFizncJvks",
        "outputId": "2dde43f0-1063-44b0-a88d-7a27e073eada"
      },
      "id": "VfWFizncJvks",
      "execution_count": 60,
      "outputs": [
        {
          "output_type": "execute_result",
          "data": {
            "text/html": [
              "\n",
              "  <div id=\"df-b104a153-267b-4a40-bf9d-bff31ad8e5a4\">\n",
              "    <div class=\"colab-df-container\">\n",
              "      <div>\n",
              "<style scoped>\n",
              "    .dataframe tbody tr th:only-of-type {\n",
              "        vertical-align: middle;\n",
              "    }\n",
              "\n",
              "    .dataframe tbody tr th {\n",
              "        vertical-align: top;\n",
              "    }\n",
              "\n",
              "    .dataframe thead th {\n",
              "        text-align: right;\n",
              "    }\n",
              "</style>\n",
              "<table border=\"1\" class=\"dataframe\">\n",
              "  <thead>\n",
              "    <tr style=\"text-align: right;\">\n",
              "      <th></th>\n",
              "      <th>index</th>\n",
              "      <th>type</th>\n",
              "      <th>posts</th>\n",
              "      <th>num_of_posts</th>\n",
              "      <th>emoji_count</th>\n",
              "      <th>emojis</th>\n",
              "      <th>clean_posts</th>\n",
              "      <th>clean_posts1</th>\n",
              "      <th>sentiment</th>\n",
              "      <th>eori</th>\n",
              "      <th>nors</th>\n",
              "      <th>torf</th>\n",
              "      <th>jorp</th>\n",
              "    </tr>\n",
              "  </thead>\n",
              "  <tbody>\n",
              "    <tr>\n",
              "      <th>0</th>\n",
              "      <td>83</td>\n",
              "      <td>ENTJ</td>\n",
              "      <td>'Bump|||Escobar and Co.  Escobar- ENTJ Gustavo...</td>\n",
              "      <td>50</td>\n",
              "      <td>3</td>\n",
              "      <td>[😂, 😂, 😂]</td>\n",
              "      <td>[bumpescobar, co, escobar, entj, gustavo, istx...</td>\n",
              "      <td>['bumpescobar', 'co', 'escobar', 'entj', 'gust...</td>\n",
              "      <td>0.012337</td>\n",
              "      <td>E</td>\n",
              "      <td>N</td>\n",
              "      <td>T</td>\n",
              "      <td>J</td>\n",
              "    </tr>\n",
              "    <tr>\n",
              "      <th>1</th>\n",
              "      <td>161</td>\n",
              "      <td>INTJ</td>\n",
              "      <td>'Above and on top of that what really irked th...</td>\n",
              "      <td>50</td>\n",
              "      <td>1</td>\n",
              "      <td>[™]</td>\n",
              "      <td>[top, really, irk, people, try, roll, punch, t...</td>\n",
              "      <td>['top', 'really', 'irk', 'people', 'try', 'rol...</td>\n",
              "      <td>0.083056</td>\n",
              "      <td>I</td>\n",
              "      <td>N</td>\n",
              "      <td>T</td>\n",
              "      <td>J</td>\n",
              "    </tr>\n",
              "    <tr>\n",
              "      <th>2</th>\n",
              "      <td>182</td>\n",
              "      <td>INTP</td>\n",
              "      <td>'What are you? A weakling? You're just going t...</td>\n",
              "      <td>50</td>\n",
              "      <td>1</td>\n",
              "      <td>[♥]</td>\n",
              "      <td>[weakling, youre, go, sit, take, dont, stupid,...</td>\n",
              "      <td>['weakling', 'youre', 'go', 'sit', 'take', 'do...</td>\n",
              "      <td>0.106459</td>\n",
              "      <td>I</td>\n",
              "      <td>N</td>\n",
              "      <td>T</td>\n",
              "      <td>P</td>\n",
              "    </tr>\n",
              "    <tr>\n",
              "      <th>3</th>\n",
              "      <td>189</td>\n",
              "      <td>ISTJ</td>\n",
              "      <td>'If it's not what you expected, try browns ins...</td>\n",
              "      <td>50</td>\n",
              "      <td>1</td>\n",
              "      <td>[😊]</td>\n",
              "      <td>[expect, try, brown, instead, definitely, pref...</td>\n",
              "      <td>['expect', 'try', 'brown', 'instead', 'definit...</td>\n",
              "      <td>0.029389</td>\n",
              "      <td>I</td>\n",
              "      <td>S</td>\n",
              "      <td>T</td>\n",
              "      <td>J</td>\n",
              "    </tr>\n",
              "    <tr>\n",
              "      <th>4</th>\n",
              "      <td>396</td>\n",
              "      <td>ENFP</td>\n",
              "      <td>The ENFP Te Bitch Slap Revealed  This has happ...</td>\n",
              "      <td>50</td>\n",
              "      <td>4</td>\n",
              "      <td>[😁, 😂, 😋, 😱]</td>\n",
              "      <td>[enfp, te, bitch, slap, reveal, happen, twice,...</td>\n",
              "      <td>['enfp', 'te', 'bitch', 'slap', 'reveal', 'hap...</td>\n",
              "      <td>0.179043</td>\n",
              "      <td>E</td>\n",
              "      <td>N</td>\n",
              "      <td>F</td>\n",
              "      <td>P</td>\n",
              "    </tr>\n",
              "  </tbody>\n",
              "</table>\n",
              "</div>\n",
              "      <button class=\"colab-df-convert\" onclick=\"convertToInteractive('df-b104a153-267b-4a40-bf9d-bff31ad8e5a4')\"\n",
              "              title=\"Convert this dataframe to an interactive table.\"\n",
              "              style=\"display:none;\">\n",
              "        \n",
              "  <svg xmlns=\"http://www.w3.org/2000/svg\" height=\"24px\"viewBox=\"0 0 24 24\"\n",
              "       width=\"24px\">\n",
              "    <path d=\"M0 0h24v24H0V0z\" fill=\"none\"/>\n",
              "    <path d=\"M18.56 5.44l.94 2.06.94-2.06 2.06-.94-2.06-.94-.94-2.06-.94 2.06-2.06.94zm-11 1L8.5 8.5l.94-2.06 2.06-.94-2.06-.94L8.5 2.5l-.94 2.06-2.06.94zm10 10l.94 2.06.94-2.06 2.06-.94-2.06-.94-.94-2.06-.94 2.06-2.06.94z\"/><path d=\"M17.41 7.96l-1.37-1.37c-.4-.4-.92-.59-1.43-.59-.52 0-1.04.2-1.43.59L10.3 9.45l-7.72 7.72c-.78.78-.78 2.05 0 2.83L4 21.41c.39.39.9.59 1.41.59.51 0 1.02-.2 1.41-.59l7.78-7.78 2.81-2.81c.8-.78.8-2.07 0-2.86zM5.41 20L4 18.59l7.72-7.72 1.47 1.35L5.41 20z\"/>\n",
              "  </svg>\n",
              "      </button>\n",
              "      \n",
              "  <style>\n",
              "    .colab-df-container {\n",
              "      display:flex;\n",
              "      flex-wrap:wrap;\n",
              "      gap: 12px;\n",
              "    }\n",
              "\n",
              "    .colab-df-convert {\n",
              "      background-color: #E8F0FE;\n",
              "      border: none;\n",
              "      border-radius: 50%;\n",
              "      cursor: pointer;\n",
              "      display: none;\n",
              "      fill: #1967D2;\n",
              "      height: 32px;\n",
              "      padding: 0 0 0 0;\n",
              "      width: 32px;\n",
              "    }\n",
              "\n",
              "    .colab-df-convert:hover {\n",
              "      background-color: #E2EBFA;\n",
              "      box-shadow: 0px 1px 2px rgba(60, 64, 67, 0.3), 0px 1px 3px 1px rgba(60, 64, 67, 0.15);\n",
              "      fill: #174EA6;\n",
              "    }\n",
              "\n",
              "    [theme=dark] .colab-df-convert {\n",
              "      background-color: #3B4455;\n",
              "      fill: #D2E3FC;\n",
              "    }\n",
              "\n",
              "    [theme=dark] .colab-df-convert:hover {\n",
              "      background-color: #434B5C;\n",
              "      box-shadow: 0px 1px 3px 1px rgba(0, 0, 0, 0.15);\n",
              "      filter: drop-shadow(0px 1px 2px rgba(0, 0, 0, 0.3));\n",
              "      fill: #FFFFFF;\n",
              "    }\n",
              "  </style>\n",
              "\n",
              "      <script>\n",
              "        const buttonEl =\n",
              "          document.querySelector('#df-b104a153-267b-4a40-bf9d-bff31ad8e5a4 button.colab-df-convert');\n",
              "        buttonEl.style.display =\n",
              "          google.colab.kernel.accessAllowed ? 'block' : 'none';\n",
              "\n",
              "        async function convertToInteractive(key) {\n",
              "          const element = document.querySelector('#df-b104a153-267b-4a40-bf9d-bff31ad8e5a4');\n",
              "          const dataTable =\n",
              "            await google.colab.kernel.invokeFunction('convertToInteractive',\n",
              "                                                     [key], {});\n",
              "          if (!dataTable) return;\n",
              "\n",
              "          const docLinkHtml = 'Like what you see? Visit the ' +\n",
              "            '<a target=\"_blank\" href=https://colab.research.google.com/notebooks/data_table.ipynb>data table notebook</a>'\n",
              "            + ' to learn more about interactive tables.';\n",
              "          element.innerHTML = '';\n",
              "          dataTable['output_type'] = 'display_data';\n",
              "          await google.colab.output.renderOutput(dataTable, element);\n",
              "          const docLink = document.createElement('div');\n",
              "          docLink.innerHTML = docLinkHtml;\n",
              "          element.appendChild(docLink);\n",
              "        }\n",
              "      </script>\n",
              "    </div>\n",
              "  </div>\n",
              "  "
            ],
            "text/plain": [
              "   index  type  ... torf  jorp\n",
              "0     83  ENTJ  ...    T     J\n",
              "1    161  INTJ  ...    T     J\n",
              "2    182  INTP  ...    T     P\n",
              "3    189  ISTJ  ...    T     J\n",
              "4    396  ENFP  ...    F     P\n",
              "\n",
              "[5 rows x 13 columns]"
            ]
          },
          "metadata": {},
          "execution_count": 60
        }
      ]
    },
    {
      "cell_type": "code",
      "source": [
        "df_emojis['emojis'][0]"
      ],
      "metadata": {
        "colab": {
          "base_uri": "https://localhost:8080/"
        },
        "id": "S9B2E3JQJnwk",
        "outputId": "044a5ee2-f9f0-47e6-a379-2802b987075b"
      },
      "id": "S9B2E3JQJnwk",
      "execution_count": 61,
      "outputs": [
        {
          "output_type": "execute_result",
          "data": {
            "text/plain": [
              "['😂', '😂', '😂']"
            ]
          },
          "metadata": {},
          "execution_count": 61
        }
      ]
    },
    {
      "cell_type": "code",
      "source": [
        "all_emojis=[]        \n",
        "for i in range(len(df_emojis)):\n",
        "  all_emojis = all_emojis + df_emojis['emojis'][i]\n",
        "  #all_Ewords.append(E_df['clean_posts1'][i])"
      ],
      "metadata": {
        "id": "TRC820fkJSZi"
      },
      "id": "TRC820fkJSZi",
      "execution_count": 62,
      "outputs": []
    },
    {
      "cell_type": "code",
      "source": [
        "nlp_emojis = nltk.FreqDist(all_emojis)\n",
        "len(all_emojis)"
      ],
      "metadata": {
        "colab": {
          "base_uri": "https://localhost:8080/"
        },
        "id": "wWRG8JTiJ_XE",
        "outputId": "14674a7d-f5b5-4a6c-e216-b15db41aa696"
      },
      "id": "wWRG8JTiJ_XE",
      "execution_count": 63,
      "outputs": [
        {
          "output_type": "execute_result",
          "data": {
            "text/plain": [
              "488"
            ]
          },
          "metadata": {},
          "execution_count": 63
        }
      ]
    },
    {
      "cell_type": "code",
      "source": [
        "nlp_emojis.most_common(10)"
      ],
      "metadata": {
        "colab": {
          "base_uri": "https://localhost:8080/"
        },
        "id": "eDuJhrSiKQQE",
        "outputId": "95c1cff7-b01b-4e7d-d925-a07bfe70d4dd"
      },
      "id": "eDuJhrSiKQQE",
      "execution_count": 64,
      "outputs": [
        {
          "output_type": "execute_result",
          "data": {
            "text/plain": [
              "[('♥', 152),\n",
              " ('❤️', 45),\n",
              " ('🌹', 30),\n",
              " ('®', 29),\n",
              " ('😊', 19),\n",
              " ('™', 17),\n",
              " ('😂', 16),\n",
              " ('❤', 13),\n",
              " ('😄', 12),\n",
              " ('👏', 9)]"
            ]
          },
          "metadata": {},
          "execution_count": 64
        }
      ]
    },
    {
      "cell_type": "code",
      "source": [
        "nlp_emojis.most_common(1)[0][0]"
      ],
      "metadata": {
        "colab": {
          "base_uri": "https://localhost:8080/",
          "height": 35
        },
        "id": "XGkiki95KffW",
        "outputId": "6a285a58-7cdb-4aff-b1b7-52f55901e25e"
      },
      "id": "XGkiki95KffW",
      "execution_count": 65,
      "outputs": [
        {
          "output_type": "execute_result",
          "data": {
            "application/vnd.google.colaboratory.intrinsic+json": {
              "type": "string"
            },
            "text/plain": [
              "'♥'"
            ]
          },
          "metadata": {},
          "execution_count": 65
        }
      ]
    },
    {
      "cell_type": "code",
      "source": [
        "import random"
      ],
      "metadata": {
        "id": "oz4ieJMvvmBw"
      },
      "id": "oz4ieJMvvmBw",
      "execution_count": 69,
      "outputs": []
    },
    {
      "cell_type": "markdown",
      "source": [
        "**Naive Bayes Classification analysis for Extroverts(E) and Introverts(I)**"
      ],
      "metadata": {
        "id": "3RFSHKvXZyy0"
      },
      "id": "3RFSHKvXZyy0"
    },
    {
      "cell_type": "code",
      "source": [
        "# Find words (i.e keys) unique to Extroverts(E) and Introverts(I)\n",
        "Ekeys = nlp_words.keys()\n",
        "Ikeys = nlp_wordsI.keys()\n",
        "#difference = Ekeys - IKeys\n",
        "print(f\"Total Extrover Words - {len(nlp_words)} ; Extrovert only words- {len(Ekeys - Ikeys)}\")\n",
        "print(f\"Total Introvert Words - {len(nlp_wordsI)} ; Introvert only words - {len(Ikeys - Ekeys)}\")\n",
        "Eonlykeys = Ekeys - Ikeys\n",
        "Ionlykeys = Ikeys - Ekeys"
      ],
      "metadata": {
        "colab": {
          "base_uri": "https://localhost:8080/"
        },
        "id": "9Ums70OGvphW",
        "outputId": "6c19114d-a8b0-431d-c9bc-2b5e0d3fb9e1"
      },
      "id": "9Ums70OGvphW",
      "execution_count": 72,
      "outputs": [
        {
          "output_type": "stream",
          "name": "stdout",
          "text": [
            "Total Extrover Words - 96276 ; Extrovert only words- 52555\n",
            "Total Introvert Words - 230899 ; Introvert only words - 187178\n"
          ]
        }
      ]
    },
    {
      "cell_type": "code",
      "source": [
        "#Create list words and correspoding classification (I or E)\n",
        "EIfeatures=[]\n",
        "for k in Eonlykeys:\n",
        "  wdict={}\n",
        "  wdict[k]=nlp_words[k]\n",
        "  EIfeatures += [(wdict,'extrovert')]\n",
        "\n",
        "for k in Ionlykeys:\n",
        "  wdict={}\n",
        "  wdict[k]=nlp_wordsI[k]\n",
        "  EIfeatures += [(wdict,'introvert')]"
      ],
      "metadata": {
        "id": "4Kp5s46xQwUi"
      },
      "id": "4Kp5s46xQwUi",
      "execution_count": 195,
      "outputs": []
    },
    {
      "cell_type": "code",
      "source": [
        "len(EIfeatures)"
      ],
      "metadata": {
        "colab": {
          "base_uri": "https://localhost:8080/"
        },
        "id": "twyFJcSX223z",
        "outputId": "2ce1e8f7-99af-4943-926c-7ab431648643"
      },
      "id": "twyFJcSX223z",
      "execution_count": 196,
      "outputs": [
        {
          "output_type": "execute_result",
          "data": {
            "text/plain": [
              "239733"
            ]
          },
          "metadata": {},
          "execution_count": 196
        }
      ]
    },
    {
      "cell_type": "code",
      "source": [
        "EIfeatures[0:10]"
      ],
      "metadata": {
        "colab": {
          "base_uri": "https://localhost:8080/"
        },
        "id": "R4P7HRaJO7Bk",
        "outputId": "6e958705-4cd0-437b-a4be-178d1049c7e2"
      },
      "id": "R4P7HRaJO7Bk",
      "execution_count": 197,
      "outputs": [
        {
          "output_type": "execute_result",
          "data": {
            "text/plain": [
              "[({'couldsee': 1}, 'extrovert'),\n",
              " ({'allravenclaw': 1}, 'extrovert'),\n",
              " ({'sunne': 1}, 'extrovert'),\n",
              " ({'happyyyyyyy': 1}, 'extrovert'),\n",
              " ({'threadsighcantthinkofaname': 1}, 'extrovert'),\n",
              " ({'harmonically': 1}, 'extrovert'),\n",
              " ({'typesfwiw': 1}, 'extrovert'),\n",
              " ({'dishesevery': 1}, 'extrovert'),\n",
              " ({'looooovee': 1}, 'extrovert'),\n",
              " ({'comine': 1}, 'extrovert')]"
            ]
          },
          "metadata": {},
          "execution_count": 197
        }
      ]
    },
    {
      "cell_type": "code",
      "source": [
        "random.shuffle(EIfeatures)"
      ],
      "metadata": {
        "id": "yAx-fweeFH5u"
      },
      "id": "yAx-fweeFH5u",
      "execution_count": 198,
      "outputs": []
    },
    {
      "cell_type": "code",
      "source": [
        "EIfeatures[0:10]"
      ],
      "metadata": {
        "colab": {
          "base_uri": "https://localhost:8080/"
        },
        "id": "iliuai58-ND6",
        "outputId": "d082f43b-436a-4804-eeb1-a2b4437e7adc"
      },
      "id": "iliuai58-ND6",
      "execution_count": 199,
      "outputs": [
        {
          "output_type": "execute_result",
          "data": {
            "text/plain": [
              "[({'churchthat': 1}, 'introvert'),\n",
              " ({'startkyle': 1}, 'introvert'),\n",
              " ({'workstudy': 4}, 'introvert'),\n",
              " ({'intpssigh': 1}, 'introvert'),\n",
              " ({'brothermaybe': 1}, 'extrovert'),\n",
              " ({'threadtheyre': 2}, 'introvert'),\n",
              " ({'nonfreewill': 1}, 'introvert'),\n",
              " ({'jenni': 2}, 'introvert'),\n",
              " ({'shaver': 1}, 'extrovert'),\n",
              " ({'vitally': 3}, 'introvert')]"
            ]
          },
          "metadata": {},
          "execution_count": 199
        }
      ]
    },
    {
      "cell_type": "code",
      "source": [
        "from sklearn.model_selection import train_test_split"
      ],
      "metadata": {
        "id": "WNcXAN404lik"
      },
      "id": "WNcXAN404lik",
      "execution_count": 91,
      "outputs": []
    },
    {
      "cell_type": "code",
      "source": [
        "#Split into Test and Train data sets\n",
        "x_train,x_test, = train_test_split(EIfeatures)"
      ],
      "metadata": {
        "id": "ZzZWWXyV5-di"
      },
      "id": "ZzZWWXyV5-di",
      "execution_count": 200,
      "outputs": []
    },
    {
      "cell_type": "code",
      "source": [
        "print(len(x_train),len(x_test))"
      ],
      "metadata": {
        "colab": {
          "base_uri": "https://localhost:8080/"
        },
        "id": "Iu21dCPl7EO9",
        "outputId": "f3f6d38d-7206-405f-cc14-2c355836f161"
      },
      "id": "Iu21dCPl7EO9",
      "execution_count": 201,
      "outputs": [
        {
          "output_type": "stream",
          "name": "stdout",
          "text": [
            "179799 59934\n"
          ]
        }
      ]
    },
    {
      "cell_type": "code",
      "source": [
        "from nltk.classify import NaiveBayesClassifier"
      ],
      "metadata": {
        "id": "qsrmOCAT9WLC"
      },
      "id": "qsrmOCAT9WLC",
      "execution_count": 95,
      "outputs": []
    },
    {
      "cell_type": "code",
      "source": [
        "#from sklearn.naive_bayes import GaussianNB"
      ],
      "metadata": {
        "id": "GdickIrPJfdh"
      },
      "id": "GdickIrPJfdh",
      "execution_count": 148,
      "outputs": []
    },
    {
      "cell_type": "code",
      "source": [
        "#Train NaiveBayes classifier\n",
        "IntroExtro = NaiveBayesClassifier.train(x_train)"
      ],
      "metadata": {
        "id": "FY2LKhXnWRGF"
      },
      "id": "FY2LKhXnWRGF",
      "execution_count": 202,
      "outputs": []
    },
    {
      "cell_type": "code",
      "source": [
        "#Training accuracy score for NaiveBayes\n",
        "nltk.classify.util.accuracy(IntroExtro, x_train)*100"
      ],
      "metadata": {
        "colab": {
          "base_uri": "https://localhost:8080/"
        },
        "id": "GyQooVuXWlsS",
        "outputId": "dfd8da2a-3b67-42e2-aa9e-4f11b13e9a85"
      },
      "id": "GyQooVuXWlsS",
      "execution_count": 203,
      "outputs": [
        {
          "output_type": "execute_result",
          "data": {
            "text/plain": [
              "100.0"
            ]
          },
          "metadata": {},
          "execution_count": 203
        }
      ]
    },
    {
      "cell_type": "code",
      "source": [
        "#Testing data accuracy score for NaiveBayes\n",
        "nltk.classify.util.accuracy(IntroExtro, x_test)*100"
      ],
      "metadata": {
        "colab": {
          "base_uri": "https://localhost:8080/"
        },
        "id": "1Olel65QWq3F",
        "outputId": "38d7e4f2-0541-4161-8282-7d2798d6fbd3"
      },
      "id": "1Olel65QWq3F",
      "execution_count": 204,
      "outputs": [
        {
          "output_type": "execute_result",
          "data": {
            "text/plain": [
              "77.90069075983583"
            ]
          },
          "metadata": {},
          "execution_count": 204
        }
      ]
    },
    {
      "cell_type": "markdown",
      "source": [
        "**Naive Bayes Classification analysis for Sensors(S) and Intuitives(N)**"
      ],
      "metadata": {
        "id": "Z4E50PKVaC66"
      },
      "id": "Z4E50PKVaC66"
    },
    {
      "cell_type": "code",
      "source": [
        "df.head()"
      ],
      "metadata": {
        "colab": {
          "base_uri": "https://localhost:8080/",
          "height": 206
        },
        "id": "WMBqPXDMXnRK",
        "outputId": "ed50fe62-9f1b-4b59-9f81-cfb27a3a73ba"
      },
      "id": "WMBqPXDMXnRK",
      "execution_count": 205,
      "outputs": [
        {
          "output_type": "execute_result",
          "data": {
            "text/html": [
              "\n",
              "  <div id=\"df-dd34501d-bb3a-454d-a2c9-b1dcea6ecb4c\">\n",
              "    <div class=\"colab-df-container\">\n",
              "      <div>\n",
              "<style scoped>\n",
              "    .dataframe tbody tr th:only-of-type {\n",
              "        vertical-align: middle;\n",
              "    }\n",
              "\n",
              "    .dataframe tbody tr th {\n",
              "        vertical-align: top;\n",
              "    }\n",
              "\n",
              "    .dataframe thead th {\n",
              "        text-align: right;\n",
              "    }\n",
              "</style>\n",
              "<table border=\"1\" class=\"dataframe\">\n",
              "  <thead>\n",
              "    <tr style=\"text-align: right;\">\n",
              "      <th></th>\n",
              "      <th>type</th>\n",
              "      <th>posts</th>\n",
              "      <th>num_of_posts</th>\n",
              "      <th>emoji_count</th>\n",
              "      <th>emojis</th>\n",
              "      <th>clean_posts</th>\n",
              "      <th>clean_posts1</th>\n",
              "      <th>sentiment</th>\n",
              "      <th>eori</th>\n",
              "      <th>nors</th>\n",
              "      <th>torf</th>\n",
              "      <th>jorp</th>\n",
              "    </tr>\n",
              "  </thead>\n",
              "  <tbody>\n",
              "    <tr>\n",
              "      <th>0</th>\n",
              "      <td>INFJ</td>\n",
              "      <td>'http://www.youtube.com/watch?v=qsXHcwe3krw|||...</td>\n",
              "      <td>50</td>\n",
              "      <td>0</td>\n",
              "      <td>[]</td>\n",
              "      <td>[intj, moment, sportscenter, top, ten, play, p...</td>\n",
              "      <td>['intj', 'moment', 'sportscenter', 'top', 'ten...</td>\n",
              "      <td>0.098116</td>\n",
              "      <td>I</td>\n",
              "      <td>N</td>\n",
              "      <td>F</td>\n",
              "      <td>J</td>\n",
              "    </tr>\n",
              "    <tr>\n",
              "      <th>1</th>\n",
              "      <td>ENTP</td>\n",
              "      <td>'I'm finding the lack of me in these posts ver...</td>\n",
              "      <td>50</td>\n",
              "      <td>0</td>\n",
              "      <td>[]</td>\n",
              "      <td>[im, find, lack, post, alarmingsex, bore, posi...</td>\n",
              "      <td>['im', 'find', 'lack', 'post', 'alarmingsex', ...</td>\n",
              "      <td>0.098953</td>\n",
              "      <td>E</td>\n",
              "      <td>N</td>\n",
              "      <td>T</td>\n",
              "      <td>P</td>\n",
              "    </tr>\n",
              "    <tr>\n",
              "      <th>2</th>\n",
              "      <td>INTP</td>\n",
              "      <td>'Good one  _____   https://www.youtube.com/wat...</td>\n",
              "      <td>50</td>\n",
              "      <td>0</td>\n",
              "      <td>[]</td>\n",
              "      <td>[good, one, course, say, know, thats, bless, c...</td>\n",
              "      <td>['good', 'one', 'course', 'say', 'know', 'that...</td>\n",
              "      <td>0.129627</td>\n",
              "      <td>I</td>\n",
              "      <td>N</td>\n",
              "      <td>T</td>\n",
              "      <td>P</td>\n",
              "    </tr>\n",
              "    <tr>\n",
              "      <th>3</th>\n",
              "      <td>INTJ</td>\n",
              "      <td>'Dear INTP,   I enjoyed our conversation the o...</td>\n",
              "      <td>50</td>\n",
              "      <td>0</td>\n",
              "      <td>[]</td>\n",
              "      <td>[dear, intp, enjoy, conversation, day, esoteri...</td>\n",
              "      <td>['dear', 'intp', 'enjoy', 'conversation', 'day...</td>\n",
              "      <td>0.096569</td>\n",
              "      <td>I</td>\n",
              "      <td>N</td>\n",
              "      <td>T</td>\n",
              "      <td>J</td>\n",
              "    </tr>\n",
              "    <tr>\n",
              "      <th>4</th>\n",
              "      <td>ENTJ</td>\n",
              "      <td>'You're fired.|||That's another silly misconce...</td>\n",
              "      <td>50</td>\n",
              "      <td>0</td>\n",
              "      <td>[]</td>\n",
              "      <td>[youre, firedthats, another, silly, misconcept...</td>\n",
              "      <td>['youre', 'firedthats', 'another', 'silly', 'm...</td>\n",
              "      <td>0.011339</td>\n",
              "      <td>E</td>\n",
              "      <td>N</td>\n",
              "      <td>T</td>\n",
              "      <td>J</td>\n",
              "    </tr>\n",
              "  </tbody>\n",
              "</table>\n",
              "</div>\n",
              "      <button class=\"colab-df-convert\" onclick=\"convertToInteractive('df-dd34501d-bb3a-454d-a2c9-b1dcea6ecb4c')\"\n",
              "              title=\"Convert this dataframe to an interactive table.\"\n",
              "              style=\"display:none;\">\n",
              "        \n",
              "  <svg xmlns=\"http://www.w3.org/2000/svg\" height=\"24px\"viewBox=\"0 0 24 24\"\n",
              "       width=\"24px\">\n",
              "    <path d=\"M0 0h24v24H0V0z\" fill=\"none\"/>\n",
              "    <path d=\"M18.56 5.44l.94 2.06.94-2.06 2.06-.94-2.06-.94-.94-2.06-.94 2.06-2.06.94zm-11 1L8.5 8.5l.94-2.06 2.06-.94-2.06-.94L8.5 2.5l-.94 2.06-2.06.94zm10 10l.94 2.06.94-2.06 2.06-.94-2.06-.94-.94-2.06-.94 2.06-2.06.94z\"/><path d=\"M17.41 7.96l-1.37-1.37c-.4-.4-.92-.59-1.43-.59-.52 0-1.04.2-1.43.59L10.3 9.45l-7.72 7.72c-.78.78-.78 2.05 0 2.83L4 21.41c.39.39.9.59 1.41.59.51 0 1.02-.2 1.41-.59l7.78-7.78 2.81-2.81c.8-.78.8-2.07 0-2.86zM5.41 20L4 18.59l7.72-7.72 1.47 1.35L5.41 20z\"/>\n",
              "  </svg>\n",
              "      </button>\n",
              "      \n",
              "  <style>\n",
              "    .colab-df-container {\n",
              "      display:flex;\n",
              "      flex-wrap:wrap;\n",
              "      gap: 12px;\n",
              "    }\n",
              "\n",
              "    .colab-df-convert {\n",
              "      background-color: #E8F0FE;\n",
              "      border: none;\n",
              "      border-radius: 50%;\n",
              "      cursor: pointer;\n",
              "      display: none;\n",
              "      fill: #1967D2;\n",
              "      height: 32px;\n",
              "      padding: 0 0 0 0;\n",
              "      width: 32px;\n",
              "    }\n",
              "\n",
              "    .colab-df-convert:hover {\n",
              "      background-color: #E2EBFA;\n",
              "      box-shadow: 0px 1px 2px rgba(60, 64, 67, 0.3), 0px 1px 3px 1px rgba(60, 64, 67, 0.15);\n",
              "      fill: #174EA6;\n",
              "    }\n",
              "\n",
              "    [theme=dark] .colab-df-convert {\n",
              "      background-color: #3B4455;\n",
              "      fill: #D2E3FC;\n",
              "    }\n",
              "\n",
              "    [theme=dark] .colab-df-convert:hover {\n",
              "      background-color: #434B5C;\n",
              "      box-shadow: 0px 1px 3px 1px rgba(0, 0, 0, 0.15);\n",
              "      filter: drop-shadow(0px 1px 2px rgba(0, 0, 0, 0.3));\n",
              "      fill: #FFFFFF;\n",
              "    }\n",
              "  </style>\n",
              "\n",
              "      <script>\n",
              "        const buttonEl =\n",
              "          document.querySelector('#df-dd34501d-bb3a-454d-a2c9-b1dcea6ecb4c button.colab-df-convert');\n",
              "        buttonEl.style.display =\n",
              "          google.colab.kernel.accessAllowed ? 'block' : 'none';\n",
              "\n",
              "        async function convertToInteractive(key) {\n",
              "          const element = document.querySelector('#df-dd34501d-bb3a-454d-a2c9-b1dcea6ecb4c');\n",
              "          const dataTable =\n",
              "            await google.colab.kernel.invokeFunction('convertToInteractive',\n",
              "                                                     [key], {});\n",
              "          if (!dataTable) return;\n",
              "\n",
              "          const docLinkHtml = 'Like what you see? Visit the ' +\n",
              "            '<a target=\"_blank\" href=https://colab.research.google.com/notebooks/data_table.ipynb>data table notebook</a>'\n",
              "            + ' to learn more about interactive tables.';\n",
              "          element.innerHTML = '';\n",
              "          dataTable['output_type'] = 'display_data';\n",
              "          await google.colab.output.renderOutput(dataTable, element);\n",
              "          const docLink = document.createElement('div');\n",
              "          docLink.innerHTML = docLinkHtml;\n",
              "          element.appendChild(docLink);\n",
              "        }\n",
              "      </script>\n",
              "    </div>\n",
              "  </div>\n",
              "  "
            ],
            "text/plain": [
              "   type                                              posts  ...  torf  jorp\n",
              "0  INFJ  'http://www.youtube.com/watch?v=qsXHcwe3krw|||...  ...     F     J\n",
              "1  ENTP  'I'm finding the lack of me in these posts ver...  ...     T     P\n",
              "2  INTP  'Good one  _____   https://www.youtube.com/wat...  ...     T     P\n",
              "3  INTJ  'Dear INTP,   I enjoyed our conversation the o...  ...     T     J\n",
              "4  ENTJ  'You're fired.|||That's another silly misconce...  ...     T     J\n",
              "\n",
              "[5 rows x 12 columns]"
            ]
          },
          "metadata": {},
          "execution_count": 205
        }
      ]
    },
    {
      "cell_type": "code",
      "source": [
        "S_df = df[df['nors']=='S']\n",
        "S_df.reset_index(inplace=True)\n",
        "print(S_df.head())\n",
        "N_df = df[df['nors']=='N']\n",
        "N_df.reset_index(inplace=True)\n",
        "print(N_df.head())"
      ],
      "metadata": {
        "colab": {
          "base_uri": "https://localhost:8080/"
        },
        "id": "X4EmuXCwaVFX",
        "outputId": "7c88aee4-b69b-48cf-b623-726f7c1899b6"
      },
      "id": "X4EmuXCwaVFX",
      "execution_count": 206,
      "outputs": [
        {
          "output_type": "stream",
          "name": "stdout",
          "text": [
            "   index  type  ... torf  jorp\n",
            "0     27  ISFP  ...    F     P\n",
            "1     40  ISTP  ...    T     P\n",
            "2     48  ISFJ  ...    F     J\n",
            "3     52  ISFJ  ...    F     J\n",
            "4     66  ISFP  ...    F     P\n",
            "\n",
            "[5 rows x 13 columns]\n",
            "   index  type  ... torf  jorp\n",
            "0      0  INFJ  ...    F     J\n",
            "1      1  ENTP  ...    T     P\n",
            "2      2  INTP  ...    T     P\n",
            "3      3  INTJ  ...    T     J\n",
            "4      4  ENTJ  ...    T     J\n",
            "\n",
            "[5 rows x 13 columns]\n"
          ]
        }
      ]
    },
    {
      "cell_type": "code",
      "source": [
        "all_Swords=[]        \n",
        "for i in range(len(S_df)):\n",
        "  all_Swords = all_Swords + S_df['clean_posts'][i]\n",
        "\n",
        "all_Nwords=[]        \n",
        "for i in range(len(N_df)):\n",
        "  all_Nwords = all_Nwords + N_df['clean_posts'][i]\n",
        "\n",
        "print(len(all_Swords),len(all_Nwords))"
      ],
      "metadata": {
        "colab": {
          "base_uri": "https://localhost:8080/"
        },
        "id": "sLOd3t2Va4pU",
        "outputId": "6a41a691-b55f-4c7a-fb4c-6fba8fca5cd3"
      },
      "id": "sLOd3t2Va4pU",
      "execution_count": 207,
      "outputs": [
        {
          "output_type": "stream",
          "name": "stdout",
          "text": [
            "712628 4636141\n"
          ]
        }
      ]
    },
    {
      "cell_type": "code",
      "source": [
        "nlp_Swords = nltk.FreqDist(all_Swords)\n",
        "nlp_Nwords = nltk.FreqDist(all_Nwords)"
      ],
      "metadata": {
        "id": "V6cqWrwLc2UZ"
      },
      "id": "V6cqWrwLc2UZ",
      "execution_count": 208,
      "outputs": []
    },
    {
      "cell_type": "code",
      "source": [
        "Skeys = nlp_Swords.keys()\n",
        "Nkeys = nlp_Nwords.keys()\n",
        "#difference = Ekeys - IKeys\n",
        "print(f\"Total Sensor Words - {len(nlp_Swords)} ; Sensor only words- {len(Skeys - Nkeys)}\")\n",
        "print(f\"Total Intuitive Words - {len(nlp_Nwords)} ; Intuitive only words - {len(Nkeys - Skeys)}\")\n",
        "Sonlykeys = Skeys - Nkeys\n",
        "Nonlykeys = Nkeys - Skeys"
      ],
      "metadata": {
        "colab": {
          "base_uri": "https://localhost:8080/"
        },
        "id": "bq85fRc-dAV1",
        "outputId": "8e361144-9455-4ab1-c16c-9afbdffcbf01"
      },
      "id": "bq85fRc-dAV1",
      "execution_count": 210,
      "outputs": [
        {
          "output_type": "stream",
          "name": "stdout",
          "text": [
            "Total Sensor Words - 63240 ; Sensor only words- 29287\n",
            "Total Intuitive Words - 230899 ; Intuitive only words - 220214\n"
          ]
        }
      ]
    },
    {
      "cell_type": "code",
      "source": [
        "SNfeatures=[]\n",
        "for k in Sonlykeys:\n",
        "  wdict={}\n",
        "  wdict[k]=nlp_Swords[k]\n",
        "  SNfeatures += [(wdict,'sensor')]\n",
        "\n",
        "for k in Nonlykeys:\n",
        "  wdict={}\n",
        "  wdict[k]=nlp_Nwords[k]\n",
        "  SNfeatures += [(wdict,'intutive')]\n",
        "  \n",
        "random.shuffle(SNfeatures)"
      ],
      "metadata": {
        "id": "USKJKQVOdhAr"
      },
      "id": "USKJKQVOdhAr",
      "execution_count": 213,
      "outputs": []
    },
    {
      "cell_type": "code",
      "source": [
        "print(len(SNfeatures))\n",
        "x_train,x_test, = train_test_split(SNfeatures)\n",
        "print(len(x_train),len(x_test))\n",
        "SensorIntutive = NaiveBayesClassifier.train(x_train)\n",
        "print(f\"Model Score Accuracy on train data {nltk.classify.util.accuracy(SensorIntutive, x_train)*100}%\")\n",
        "print(f\"Model Score Accuracy on test data {nltk.classify.util.accuracy(SensorIntutive, x_test)*100}%\")"
      ],
      "metadata": {
        "colab": {
          "base_uri": "https://localhost:8080/"
        },
        "id": "FfOmvAXxdZVy",
        "outputId": "41c34abe-3768-4121-a659-244ece551dfb"
      },
      "id": "FfOmvAXxdZVy",
      "execution_count": 214,
      "outputs": [
        {
          "output_type": "stream",
          "name": "stdout",
          "text": [
            "249501\n",
            "187125 62376\n",
            "Model Score Accuracy on train data 100.0%\n",
            "Model Score Accuracy on test data 88.2935744517122%\n"
          ]
        }
      ]
    },
    {
      "cell_type": "markdown",
      "source": [
        "**Naive Bayes Classification analysis for Thinkers(T) and Feelers(F)**"
      ],
      "metadata": {
        "id": "D_R_tBGbe9vm"
      },
      "id": "D_R_tBGbe9vm"
    },
    {
      "cell_type": "code",
      "source": [
        "T_df = df[df['torf']=='T']\n",
        "T_df.reset_index(inplace=True)\n",
        "#print(S_df.head())\n",
        "F_df = df[df['torf']=='F']\n",
        "F_df.reset_index(inplace=True)\n",
        "#print(N_df.head())"
      ],
      "metadata": {
        "id": "c6egA-e7e7Lq"
      },
      "execution_count": 215,
      "outputs": [],
      "id": "c6egA-e7e7Lq"
    },
    {
      "cell_type": "code",
      "source": [
        "all_Twords=[]        \n",
        "for i in range(len(T_df)):\n",
        "  all_Twords = all_Twords + T_df['clean_posts'][i]\n",
        "\n",
        "all_Fwords=[]        \n",
        "for i in range(len(F_df)):\n",
        "  all_Fwords = all_Fwords + F_df['clean_posts'][i]\n",
        "\n",
        "print(len(all_Twords),len(all_Fwords))"
      ],
      "metadata": {
        "colab": {
          "base_uri": "https://localhost:8080/"
        },
        "outputId": "f2dd026c-efd0-4825-a8cb-5430cd299d5a",
        "id": "DKG6luRTfWxu"
      },
      "execution_count": 216,
      "outputs": [
        {
          "output_type": "stream",
          "name": "stdout",
          "text": [
            "2414428 2934341\n"
          ]
        }
      ],
      "id": "DKG6luRTfWxu"
    },
    {
      "cell_type": "code",
      "source": [
        "nlp_Twords = nltk.FreqDist(all_Twords)\n",
        "nlp_Fwords = nltk.FreqDist(all_Fwords)"
      ],
      "metadata": {
        "id": "gpwoknPbgv7H"
      },
      "id": "gpwoknPbgv7H",
      "execution_count": 217,
      "outputs": []
    },
    {
      "cell_type": "code",
      "source": [
        "Tkeys = nlp_Twords.keys()\n",
        "Fkeys = nlp_Fwords.keys()\n",
        "#difference = Ekeys - IKeys\n",
        "print(f\"Total Thinker Words - {len(nlp_Twords)} ; Thinker only words- {len(Tkeys - Fkeys)}\")\n",
        "print(f\"Total Feeler Words - {len(nlp_Fwords)} ; Feeler only words - {len(Fkeys - Tkeys)}\")\n",
        "Tonlykeys = Tkeys - Fkeys\n",
        "Fonlykeys = Fkeys - Tkeys"
      ],
      "metadata": {
        "colab": {
          "base_uri": "https://localhost:8080/"
        },
        "outputId": "1cab4953-5576-4185-ccdd-8349b2a56cd9",
        "id": "I6-pa9fjg_b3"
      },
      "execution_count": 219,
      "outputs": [
        {
          "output_type": "stream",
          "name": "stdout",
          "text": [
            "Total Thinker Words - 161098 ; Thinker only words- 109123\n",
            "Total Feeler Words - 230899 ; Feeler only words - 122356\n"
          ]
        }
      ],
      "id": "I6-pa9fjg_b3"
    },
    {
      "cell_type": "code",
      "source": [
        "TFfeatures=[]\n",
        "for k in Tonlykeys:\n",
        "  wdict={}\n",
        "  wdict[k]=nlp_Twords[k]\n",
        "  TFfeatures += [(wdict,'thinker')]\n",
        "\n",
        "for k in Fonlykeys:\n",
        "  wdict={}\n",
        "  wdict[k]=nlp_Fwords[k]\n",
        "  TFfeatures += [(wdict,'feeler')]\n",
        "  \n",
        "random.shuffle(TFfeatures)"
      ],
      "metadata": {
        "id": "kteaALQDhXoy"
      },
      "execution_count": 220,
      "outputs": [],
      "id": "kteaALQDhXoy"
    },
    {
      "cell_type": "code",
      "source": [
        "print(len(TFfeatures))\n",
        "x_train,x_test, = train_test_split(TFfeatures)\n",
        "print(len(x_train),len(x_test))\n",
        "ThinkerFeeler = NaiveBayesClassifier.train(x_train)\n",
        "print(f\"Model Score Accuracy on train data {nltk.classify.util.accuracy(ThinkerFeeler, x_train)*100}%\")\n",
        "print(f\"Model Score Accuracy on test data {nltk.classify.util.accuracy(ThinkerFeeler, x_test)*100}%\")"
      ],
      "metadata": {
        "colab": {
          "base_uri": "https://localhost:8080/"
        },
        "outputId": "e5ced6bc-4b84-48a4-df7a-c418d3c39ed1",
        "id": "gKTTDvZphtpW"
      },
      "execution_count": 221,
      "outputs": [
        {
          "output_type": "stream",
          "name": "stdout",
          "text": [
            "231479\n",
            "173609 57870\n",
            "Model Score Accuracy on train data 100.0%\n",
            "Model Score Accuracy on test data 52.83393813720407%\n"
          ]
        }
      ],
      "id": "gKTTDvZphtpW"
    },
    {
      "cell_type": "markdown",
      "source": [
        "**Naive Bayes Classification analysis for Judgers(J) and Perceivers(P)**"
      ],
      "metadata": {
        "id": "8-V-K4jniQYB"
      },
      "id": "8-V-K4jniQYB"
    },
    {
      "cell_type": "code",
      "source": [
        "J_df = df[df['jorp']=='J']\n",
        "J_df.reset_index(inplace=True)\n",
        "#print(S_df.head())\n",
        "P_df = df[df['jorp']=='P']\n",
        "P_df.reset_index(inplace=True)\n",
        "#print(N_df.head())"
      ],
      "metadata": {
        "id": "Zvde54PWiQYB"
      },
      "execution_count": 222,
      "outputs": [],
      "id": "Zvde54PWiQYB"
    },
    {
      "cell_type": "code",
      "source": [
        "all_Jwords=[]        \n",
        "for i in range(len(J_df)):\n",
        "  all_Jwords = all_Jwords + J_df['clean_posts'][i]\n",
        "\n",
        "all_Pwords=[]        \n",
        "for i in range(len(P_df)):\n",
        "  all_Pwords = all_Pwords + P_df['clean_posts'][i]\n",
        "\n",
        "print(len(all_Jwords),len(all_Pwords))"
      ],
      "metadata": {
        "colab": {
          "base_uri": "https://localhost:8080/"
        },
        "outputId": "b9e6753a-b5b1-43bb-e0da-9ea5b774e290",
        "id": "nGjYZa0RiQYC"
      },
      "execution_count": 223,
      "outputs": [
        {
          "output_type": "stream",
          "name": "stdout",
          "text": [
            "2133924 3214845\n"
          ]
        }
      ],
      "id": "nGjYZa0RiQYC"
    },
    {
      "cell_type": "code",
      "source": [
        "nlp_Jwords = nltk.FreqDist(all_Jwords)\n",
        "nlp_Pwords = nltk.FreqDist(all_Pwords)"
      ],
      "metadata": {
        "id": "cDrG3ZCciQYC"
      },
      "execution_count": 224,
      "outputs": [],
      "id": "cDrG3ZCciQYC"
    },
    {
      "cell_type": "code",
      "source": [
        "Jkeys = nlp_Jwords.keys()\n",
        "Pkeys = nlp_Pwords.keys()\n",
        "#difference = Ekeys - IKeys\n",
        "print(f\"Total Judger Words - {len(nlp_Jwords)} ; Judger only words- {len(Jkeys - Pkeys)}\")\n",
        "print(f\"Total Perceiver Words - {len(nlp_Pwords)} ; Perceiver only words - {len(Pkeys - Jkeys)}\")\n",
        "Jonlykeys = Jkeys - Pkeys\n",
        "Ponlykeys = Pkeys - Jkeys"
      ],
      "metadata": {
        "colab": {
          "base_uri": "https://localhost:8080/"
        },
        "outputId": "7c65b33e-9528-4db6-9a0a-ee79a60339aa",
        "id": "HbXnIJBziQYC"
      },
      "execution_count": 225,
      "outputs": [
        {
          "output_type": "stream",
          "name": "stdout",
          "text": [
            "Total Judger Words - 140374 ; Judger only words- 89185\n",
            "Total Perciver Words - 194269 ; Perciver only words - 143080\n"
          ]
        }
      ],
      "id": "HbXnIJBziQYC"
    },
    {
      "cell_type": "code",
      "source": [
        "JPfeatures=[]\n",
        "for k in Jonlykeys:\n",
        "  wdict={}\n",
        "  wdict[k]=nlp_Jwords[k]\n",
        "  JPfeatures += [(wdict,'judger')]\n",
        "\n",
        "for k in Ponlykeys:\n",
        "  wdict={}\n",
        "  wdict[k]=nlp_Pwords[k]\n",
        "  JPfeatures += [(wdict,'perceiver')]\n",
        "  \n",
        "random.shuffle(JPfeatures)"
      ],
      "metadata": {
        "id": "RFo9TauziQYC"
      },
      "execution_count": 226,
      "outputs": [],
      "id": "RFo9TauziQYC"
    },
    {
      "cell_type": "code",
      "source": [
        "print(len(JPfeatures))\n",
        "x_train,x_test, = train_test_split(JPfeatures)\n",
        "print(len(x_train),len(x_test))\n",
        "JudgerPerceiver = NaiveBayesClassifier.train(x_train)\n",
        "print(f\"Model Score Accuracy on train data {nltk.classify.util.accuracy(JudgerPerceiver, x_train)*100}%\")\n",
        "print(f\"Model Score Accuracy on test data {nltk.classify.util.accuracy(JudgerPerceiver, x_test)*100}%\")"
      ],
      "metadata": {
        "colab": {
          "base_uri": "https://localhost:8080/"
        },
        "outputId": "6d8d02b2-c00b-413f-9b16-bfabfeb39245",
        "id": "zeCUcQuuiQYC"
      },
      "execution_count": 227,
      "outputs": [
        {
          "output_type": "stream",
          "name": "stdout",
          "text": [
            "232265\n",
            "174198 58067\n",
            "Model Score Accuracy on train data 100.0%\n",
            "Model Score Accuracy on test data 61.5840322386209%\n"
          ]
        }
      ],
      "id": "zeCUcQuuiQYC"
    },
    {
      "cell_type": "code",
      "source": [
        "accuracy_percentage={'train':[100,100,100,100],\n",
        "                     'test':[78,88.29,52.83,61.58]}\n",
        "pd.DataFrame.from_dict(accuracy_percentage,orient='index',\n",
        "                       columns=['Introvert - Extrovert', 'Sensor - Intuitives', 'Thinking - Feelers', 'Judgers - Perceivers'])"
      ],
      "metadata": {
        "colab": {
          "base_uri": "https://localhost:8080/",
          "height": 112
        },
        "id": "K4ud9pnUls9m",
        "outputId": "f939a7c7-460d-4d73-ee43-253527935b8c"
      },
      "id": "K4ud9pnUls9m",
      "execution_count": 229,
      "outputs": [
        {
          "output_type": "execute_result",
          "data": {
            "text/html": [
              "\n",
              "  <div id=\"df-2fd2e4d8-bffc-4a74-82b4-9948a7d5cb65\">\n",
              "    <div class=\"colab-df-container\">\n",
              "      <div>\n",
              "<style scoped>\n",
              "    .dataframe tbody tr th:only-of-type {\n",
              "        vertical-align: middle;\n",
              "    }\n",
              "\n",
              "    .dataframe tbody tr th {\n",
              "        vertical-align: top;\n",
              "    }\n",
              "\n",
              "    .dataframe thead th {\n",
              "        text-align: right;\n",
              "    }\n",
              "</style>\n",
              "<table border=\"1\" class=\"dataframe\">\n",
              "  <thead>\n",
              "    <tr style=\"text-align: right;\">\n",
              "      <th></th>\n",
              "      <th>Introvert - Extrovert</th>\n",
              "      <th>Sensor - Intuitives</th>\n",
              "      <th>Thinking - Feelers</th>\n",
              "      <th>Judgers - Perceivers</th>\n",
              "    </tr>\n",
              "  </thead>\n",
              "  <tbody>\n",
              "    <tr>\n",
              "      <th>train</th>\n",
              "      <td>100</td>\n",
              "      <td>100.00</td>\n",
              "      <td>100.00</td>\n",
              "      <td>100.00</td>\n",
              "    </tr>\n",
              "    <tr>\n",
              "      <th>test</th>\n",
              "      <td>78</td>\n",
              "      <td>88.29</td>\n",
              "      <td>52.83</td>\n",
              "      <td>61.58</td>\n",
              "    </tr>\n",
              "  </tbody>\n",
              "</table>\n",
              "</div>\n",
              "      <button class=\"colab-df-convert\" onclick=\"convertToInteractive('df-2fd2e4d8-bffc-4a74-82b4-9948a7d5cb65')\"\n",
              "              title=\"Convert this dataframe to an interactive table.\"\n",
              "              style=\"display:none;\">\n",
              "        \n",
              "  <svg xmlns=\"http://www.w3.org/2000/svg\" height=\"24px\"viewBox=\"0 0 24 24\"\n",
              "       width=\"24px\">\n",
              "    <path d=\"M0 0h24v24H0V0z\" fill=\"none\"/>\n",
              "    <path d=\"M18.56 5.44l.94 2.06.94-2.06 2.06-.94-2.06-.94-.94-2.06-.94 2.06-2.06.94zm-11 1L8.5 8.5l.94-2.06 2.06-.94-2.06-.94L8.5 2.5l-.94 2.06-2.06.94zm10 10l.94 2.06.94-2.06 2.06-.94-2.06-.94-.94-2.06-.94 2.06-2.06.94z\"/><path d=\"M17.41 7.96l-1.37-1.37c-.4-.4-.92-.59-1.43-.59-.52 0-1.04.2-1.43.59L10.3 9.45l-7.72 7.72c-.78.78-.78 2.05 0 2.83L4 21.41c.39.39.9.59 1.41.59.51 0 1.02-.2 1.41-.59l7.78-7.78 2.81-2.81c.8-.78.8-2.07 0-2.86zM5.41 20L4 18.59l7.72-7.72 1.47 1.35L5.41 20z\"/>\n",
              "  </svg>\n",
              "      </button>\n",
              "      \n",
              "  <style>\n",
              "    .colab-df-container {\n",
              "      display:flex;\n",
              "      flex-wrap:wrap;\n",
              "      gap: 12px;\n",
              "    }\n",
              "\n",
              "    .colab-df-convert {\n",
              "      background-color: #E8F0FE;\n",
              "      border: none;\n",
              "      border-radius: 50%;\n",
              "      cursor: pointer;\n",
              "      display: none;\n",
              "      fill: #1967D2;\n",
              "      height: 32px;\n",
              "      padding: 0 0 0 0;\n",
              "      width: 32px;\n",
              "    }\n",
              "\n",
              "    .colab-df-convert:hover {\n",
              "      background-color: #E2EBFA;\n",
              "      box-shadow: 0px 1px 2px rgba(60, 64, 67, 0.3), 0px 1px 3px 1px rgba(60, 64, 67, 0.15);\n",
              "      fill: #174EA6;\n",
              "    }\n",
              "\n",
              "    [theme=dark] .colab-df-convert {\n",
              "      background-color: #3B4455;\n",
              "      fill: #D2E3FC;\n",
              "    }\n",
              "\n",
              "    [theme=dark] .colab-df-convert:hover {\n",
              "      background-color: #434B5C;\n",
              "      box-shadow: 0px 1px 3px 1px rgba(0, 0, 0, 0.15);\n",
              "      filter: drop-shadow(0px 1px 2px rgba(0, 0, 0, 0.3));\n",
              "      fill: #FFFFFF;\n",
              "    }\n",
              "  </style>\n",
              "\n",
              "      <script>\n",
              "        const buttonEl =\n",
              "          document.querySelector('#df-2fd2e4d8-bffc-4a74-82b4-9948a7d5cb65 button.colab-df-convert');\n",
              "        buttonEl.style.display =\n",
              "          google.colab.kernel.accessAllowed ? 'block' : 'none';\n",
              "\n",
              "        async function convertToInteractive(key) {\n",
              "          const element = document.querySelector('#df-2fd2e4d8-bffc-4a74-82b4-9948a7d5cb65');\n",
              "          const dataTable =\n",
              "            await google.colab.kernel.invokeFunction('convertToInteractive',\n",
              "                                                     [key], {});\n",
              "          if (!dataTable) return;\n",
              "\n",
              "          const docLinkHtml = 'Like what you see? Visit the ' +\n",
              "            '<a target=\"_blank\" href=https://colab.research.google.com/notebooks/data_table.ipynb>data table notebook</a>'\n",
              "            + ' to learn more about interactive tables.';\n",
              "          element.innerHTML = '';\n",
              "          dataTable['output_type'] = 'display_data';\n",
              "          await google.colab.output.renderOutput(dataTable, element);\n",
              "          const docLink = document.createElement('div');\n",
              "          docLink.innerHTML = docLinkHtml;\n",
              "          element.appendChild(docLink);\n",
              "        }\n",
              "      </script>\n",
              "    </div>\n",
              "  </div>\n",
              "  "
            ],
            "text/plain": [
              "       Introvert - Extrovert  ...  Judgers - Perceivers\n",
              "train                    100  ...                100.00\n",
              "test                      78  ...                 61.58\n",
              "\n",
              "[2 rows x 4 columns]"
            ]
          },
          "metadata": {},
          "execution_count": 229
        }
      ]
    },
    {
      "cell_type": "markdown",
      "source": [
        "**Personality Prediction**"
      ],
      "metadata": {
        "id": "cZBhHqUQnRkF"
      },
      "id": "cZBhHqUQnRkF"
    },
    {
      "cell_type": "code",
      "source": [
        "def ClassifyMBTI(input):\n",
        "  input=clean_text(input)\n",
        "  word_freq= nltk.FreqDist(input)\n",
        "  wdict={}\n",
        "  for k in word_freq:\n",
        "    wdict[k]=word_freq[k]\n",
        "  mbti=''\n",
        "  for i in \"INTJ\":\n",
        "   if (IntroExtro.classify(wdict) == 'introvert'):\n",
        "        mbti += 'I'\n",
        "  if (IntroExtro.classify(wdict) == 'extrovert'):\n",
        "        mbti += 'E'\n",
        "  if (SensorIntutive.classify(wdict) == 'sensor'):\n",
        "        mbti += 'S'\n",
        "  if (SensorIntutive.classify(wdict) == 'intutive'):\n",
        "        mbti += 'N'\n",
        "  if (ThinkerFeeler.classify(wdict) == 'thinker'):\n",
        "        mbti += 'T'\n",
        "  if (ThinkerFeeler.classify(wdict) == 'feeler'):\n",
        "        mbti += 'F'\n",
        "  if (JudgerPerceiver.classify(wdict) == 'judger'):\n",
        "        mbti += 'J'\n",
        "  if (JudgerPerceiver.classify(wdict) == 'perceiver'):\n",
        "        mbti += 'P'\n",
        "  return mbti"
      ],
      "metadata": {
        "id": "Yb_DWwcAnSnC"
      },
      "id": "Yb_DWwcAnSnC",
      "execution_count": 255,
      "outputs": []
    },
    {
      "cell_type": "code",
      "source": [
        "post1=\"So this happened last Saturday night around 6 on the greenway at Bethelview.  My daughter and I were walking back towards the parking lot.  We were about a mile in. There were Two women approaching both wearing a N95 mask walking two Dobermans (I think). As we passed, one of my cocker spaniels barked… and one lady sprayed a red substance that completely took my daughter and I down.  We couldn’t catch our breath, eyes and nose were on fire.  The ladies kept walking and never looked back. My daughter was totally freaked out.  I yelled what did you spray.  They just walked away.  No, sorry … Nothing!!!A nice lady came by on a bike and gave us some water so we could flush our eyes out and catch our breath.  I called the cops once back to the parking lot and they wanted from them to exit the trail.  The lady said it was “Bear spray”. She stated that one of her dogs had been attacked in the past so she was defending herself.  My dog barked, that is it.  Police said she had a right to use bear spray.  Just wanted to let everyone know, they are out there and will use the spray even if it’s not justified.\"\n",
        "out1=ClassifyMBTI(post1)\n",
        "print(out1)\n",
        "mbti_fre=nltk.FreqDist(out1)\n",
        "mbti_fre.most_common(4)"
      ],
      "metadata": {
        "colab": {
          "base_uri": "https://localhost:8080/"
        },
        "id": "xJ98uMIcux8P",
        "outputId": "714d9e3f-ffef-40bc-86c7-e7b228ba6b82"
      },
      "id": "xJ98uMIcux8P",
      "execution_count": 260,
      "outputs": [
        {
          "output_type": "stream",
          "name": "stdout",
          "text": [
            "ENFJ\n"
          ]
        },
        {
          "output_type": "execute_result",
          "data": {
            "text/plain": [
              "[('E', 1), ('N', 1), ('F', 1), ('J', 1)]"
            ]
          },
          "metadata": {},
          "execution_count": 260
        }
      ]
    },
    {
      "cell_type": "code",
      "source": [
        "post1 = \"I don’t usually take the time to post a negative review, but the experience I had today was so unbelievable I feel I must post. Hopefully some of you will see this and not waste your time going to this horrible store. I Went to Karen’s fabrics on Main Street (Alpharetta)today. Needed to look through a book of fabric samples for a project we have. We had called the store a few days ago to be sure they had the brand we were looking for. When I got there, I saw one Person working in the store, helping some other people. I stood patiently for over 10 minutes at the sales desk, as I just needed to be pointed in the right direction to look through fabric samples. The lady who was on the floor was ignoring me the entire time. I then saw that there was another person in a side office.  She was using the computer. When I asked if she could help me she said no she was busy helping someone else. Now for the 10 minutes I had been there, she had not left that room, and there was no one in there with her. Once again, all she had to do was ask me what I needed help with and point me to the fabric book so I could look for what I needed. She was the most rude person of any business I can recall going to in at least a decade. She was very snotty with me, refused to even ask what I needed. I have never experienced such horrible service in Alpharetta. I have worked in retail in the past, and part of the job is being able to greet customers even when you’re busy doing something. I would never give this store any business. Please do not waste your time going here. Parking is not easy, and when you finally get a space only to be treated like garbage…\"\n",
        "out1=ClassifyMBTI(post1)\n",
        "print(out1)\n",
        "mbti_fre=nltk.FreqDist(out1)\n",
        "mbti_fre.most_common(4)"
      ],
      "metadata": {
        "colab": {
          "base_uri": "https://localhost:8080/"
        },
        "id": "_AhUE0kJ0QlM",
        "outputId": "bf439876-aa3e-457b-cbe3-d4d713de32e4"
      },
      "id": "_AhUE0kJ0QlM",
      "execution_count": 265,
      "outputs": [
        {
          "output_type": "stream",
          "name": "stdout",
          "text": [
            "IIIINFP\n"
          ]
        },
        {
          "output_type": "execute_result",
          "data": {
            "text/plain": [
              "[('I', 4), ('N', 1), ('F', 1), ('P', 1)]"
            ]
          },
          "metadata": {},
          "execution_count": 265
        }
      ]
    },
    {
      "cell_type": "code",
      "source": [
        "post1 = \"I would be interested in a good attorney for this as well. I just lost my brother-n-law at Northside Forsyth! Last Sunday, we were told that he was doing good and should be able to come home Wednesday or Thursday of last week, then we were told on Wednesday that he needed more oxygen so they were getting ready to move him to the PCU floor, which didn’t happen, then Thursday morning we got a call from the ICU dr saying we needed to get to the hospital ASAP that he wasn’t good! We got there and found out he had went into cardiac arrest early that morning and was then put on a ventilator! His organs had started shutting down as well due to the lack of oxygen, that he would have gotten if they would have moved him when they said they were. Instead, he laid there all evening and night suffering and getting worse by the hour, until his heart couldn’t take it anymore! He was at their mercy and they failed him!\"\n",
        "out1=ClassifyMBTI(post1)\n",
        "print(out1)\n",
        "mbti_fre=nltk.FreqDist(out1)\n",
        "mbti_fre.most_common(4)"
      ],
      "metadata": {
        "colab": {
          "base_uri": "https://localhost:8080/"
        },
        "outputId": "9fabf6c2-f88a-4ab9-f2c5-be83d08bdce0",
        "id": "qNR3ky5j3DYa"
      },
      "execution_count": 266,
      "outputs": [
        {
          "output_type": "stream",
          "name": "stdout",
          "text": [
            "ENFP\n"
          ]
        },
        {
          "output_type": "execute_result",
          "data": {
            "text/plain": [
              "[('E', 1), ('N', 1), ('F', 1), ('P', 1)]"
            ]
          },
          "metadata": {},
          "execution_count": 266
        }
      ],
      "id": "qNR3ky5j3DYa"
    },
    {
      "cell_type": "code",
      "source": [
        "pip install wordcloud"
      ],
      "metadata": {
        "colab": {
          "base_uri": "https://localhost:8080/"
        },
        "id": "Y4AAipjN3h-Z",
        "outputId": "efa92bab-42c6-436d-dd2e-0edb55b63dce"
      },
      "id": "Y4AAipjN3h-Z",
      "execution_count": 267,
      "outputs": [
        {
          "output_type": "stream",
          "name": "stdout",
          "text": [
            "Requirement already satisfied: wordcloud in /usr/local/lib/python3.7/dist-packages (1.5.0)\n",
            "Requirement already satisfied: pillow in /usr/local/lib/python3.7/dist-packages (from wordcloud) (7.1.2)\n",
            "Requirement already satisfied: numpy>=1.6.1 in /usr/local/lib/python3.7/dist-packages (from wordcloud) (1.21.5)\n"
          ]
        }
      ]
    },
    {
      "cell_type": "code",
      "source": [
        "from wordcloud import WordCloud"
      ],
      "metadata": {
        "id": "ZmbsMwAp3ozL"
      },
      "id": "ZmbsMwAp3ozL",
      "execution_count": 269,
      "outputs": []
    },
    {
      "cell_type": "code",
      "source": [
        "def listtoString(allwords):\n",
        "  str1=\"\"\n",
        "  for w in allwords:\n",
        "    str1+=w\n",
        "  return str1"
      ],
      "metadata": {
        "id": "aLC8M_Yw4g2Z"
      },
      "id": "aLC8M_Yw4g2Z",
      "execution_count": 272,
      "outputs": []
    },
    {
      "cell_type": "code",
      "source": [
        "#wc=WordCloud().generate(listtoString(all_Ewords))"
      ],
      "metadata": {
        "id": "UMsWjWSs3ukZ"
      },
      "id": "UMsWjWSs3ukZ",
      "execution_count": 274,
      "outputs": []
    }
  ],
  "metadata": {
    "kernelspec": {
      "display_name": "Python 3",
      "language": "python",
      "name": "python3"
    },
    "language_info": {
      "codemirror_mode": {
        "name": "ipython",
        "version": 3
      },
      "file_extension": ".py",
      "mimetype": "text/x-python",
      "name": "python",
      "nbconvert_exporter": "python",
      "pygments_lexer": "ipython3",
      "version": "3.8.2"
    },
    "colab": {
      "name": "mbti_analysis2.ipynb",
      "provenance": [],
      "collapsed_sections": []
    }
  },
  "nbformat": 4,
  "nbformat_minor": 5
}