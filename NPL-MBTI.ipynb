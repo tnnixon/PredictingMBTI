{
 "cells": [
  {
   "cell_type": "code",
   "execution_count": 1,
   "id": "0f8158df",
   "metadata": {},
   "outputs": [],
   "source": [
    "#Installing NLTK - Natural Language Toolkit \n",
    "#!pip install nltk"
   ]
  },
  {
   "cell_type": "code",
   "execution_count": 2,
   "id": "b7aac6bc",
   "metadata": {},
   "outputs": [],
   "source": [
    "import nltk \n",
    "import pandas as pd "
   ]
  },
  {
   "cell_type": "code",
   "execution_count": 3,
   "id": "dfbab9ef",
   "metadata": {},
   "outputs": [],
   "source": [
    "#nltk.download()"
   ]
  },
  {
   "cell_type": "code",
   "execution_count": 4,
   "id": "2b9c0d3a",
   "metadata": {
    "scrolled": true
   },
   "outputs": [
    {
     "data": {
      "text/html": [
       "<div>\n",
       "<style scoped>\n",
       "    .dataframe tbody tr th:only-of-type {\n",
       "        vertical-align: middle;\n",
       "    }\n",
       "\n",
       "    .dataframe tbody tr th {\n",
       "        vertical-align: top;\n",
       "    }\n",
       "\n",
       "    .dataframe thead th {\n",
       "        text-align: right;\n",
       "    }\n",
       "</style>\n",
       "<table border=\"1\" class=\"dataframe\">\n",
       "  <thead>\n",
       "    <tr style=\"text-align: right;\">\n",
       "      <th></th>\n",
       "      <th>Unnamed: 0</th>\n",
       "      <th>type</th>\n",
       "      <th>posts</th>\n",
       "      <th>IorE</th>\n",
       "      <th>SorN</th>\n",
       "      <th>TorF</th>\n",
       "      <th>PorJ</th>\n",
       "    </tr>\n",
       "  </thead>\n",
       "  <tbody>\n",
       "    <tr>\n",
       "      <th>0</th>\n",
       "      <td>5728</td>\n",
       "      <td>INFJ</td>\n",
       "      <td>'Always striving for more interesting possibil...</td>\n",
       "      <td>I</td>\n",
       "      <td>N</td>\n",
       "      <td>F</td>\n",
       "      <td>J</td>\n",
       "    </tr>\n",
       "    <tr>\n",
       "      <th>1</th>\n",
       "      <td>2477</td>\n",
       "      <td>INFJ</td>\n",
       "      <td>'https://youtu.be/57zOdFmDS9c|||Feels a little...</td>\n",
       "      <td>I</td>\n",
       "      <td>N</td>\n",
       "      <td>F</td>\n",
       "      <td>J</td>\n",
       "    </tr>\n",
       "    <tr>\n",
       "      <th>2</th>\n",
       "      <td>3531</td>\n",
       "      <td>INFJ</td>\n",
       "      <td>'Long post short, I want to be in a relationsh...</td>\n",
       "      <td>I</td>\n",
       "      <td>N</td>\n",
       "      <td>F</td>\n",
       "      <td>J</td>\n",
       "    </tr>\n",
       "    <tr>\n",
       "      <th>3</th>\n",
       "      <td>2350</td>\n",
       "      <td>INFJ</td>\n",
       "      <td>I decided to come back to this post. I wasn't ...</td>\n",
       "      <td>I</td>\n",
       "      <td>N</td>\n",
       "      <td>F</td>\n",
       "      <td>J</td>\n",
       "    </tr>\n",
       "    <tr>\n",
       "      <th>4</th>\n",
       "      <td>3575</td>\n",
       "      <td>INFJ</td>\n",
       "      <td>'When you think astrologers could in fact be t...</td>\n",
       "      <td>I</td>\n",
       "      <td>N</td>\n",
       "      <td>F</td>\n",
       "      <td>J</td>\n",
       "    </tr>\n",
       "  </tbody>\n",
       "</table>\n",
       "</div>"
      ],
      "text/plain": [
       "   Unnamed: 0  type                                              posts IorE  \\\n",
       "0        5728  INFJ  'Always striving for more interesting possibil...    I   \n",
       "1        2477  INFJ  'https://youtu.be/57zOdFmDS9c|||Feels a little...    I   \n",
       "2        3531  INFJ  'Long post short, I want to be in a relationsh...    I   \n",
       "3        2350  INFJ  I decided to come back to this post. I wasn't ...    I   \n",
       "4        3575  INFJ  'When you think astrologers could in fact be t...    I   \n",
       "\n",
       "  SorN TorF PorJ  \n",
       "0    N    F    J  \n",
       "1    N    F    J  \n",
       "2    N    F    J  \n",
       "3    N    F    J  \n",
       "4    N    F    J  "
      ]
     },
     "execution_count": 4,
     "metadata": {},
     "output_type": "execute_result"
    }
   ],
   "source": [
    "data = pd.read_csv('Resources/mbti_randomSample.csv')\n",
    "data.head()"
   ]
  },
  {
   "cell_type": "code",
   "execution_count": 57,
   "id": "80002dbe",
   "metadata": {},
   "outputs": [],
   "source": [
    "testDF = pd.read_csv('Resources/mbti_1.csv')"
   ]
  },
  {
   "cell_type": "code",
   "execution_count": 59,
   "id": "28f9ee8a",
   "metadata": {},
   "outputs": [],
   "source": [
    "testDF = testDF[~testDF.index.isin(data['Unnamed: 0'])]"
   ]
  },
  {
   "cell_type": "code",
   "execution_count": 5,
   "id": "e9792905",
   "metadata": {},
   "outputs": [
    {
     "data": {
      "text/plain": [
       "ENTP    25\n",
       "ESFP    25\n",
       "ISTP    25\n",
       "ISFJ    25\n",
       "ENFJ    25\n",
       "ESFJ    25\n",
       "ENTJ    25\n",
       "INTJ    25\n",
       "INFJ    25\n",
       "ISFP    25\n",
       "ISTJ    25\n",
       "INFP    25\n",
       "ENFP    25\n",
       "INTP    25\n",
       "ESTP    25\n",
       "ESTJ    25\n",
       "Name: type, dtype: int64"
      ]
     },
     "execution_count": 5,
     "metadata": {},
     "output_type": "execute_result"
    }
   ],
   "source": [
    "data['type'].value_counts()"
   ]
  },
  {
   "cell_type": "code",
   "execution_count": 6,
   "id": "f27ab54c",
   "metadata": {},
   "outputs": [
    {
     "data": {
      "text/html": [
       "<div>\n",
       "<style scoped>\n",
       "    .dataframe tbody tr th:only-of-type {\n",
       "        vertical-align: middle;\n",
       "    }\n",
       "\n",
       "    .dataframe tbody tr th {\n",
       "        vertical-align: top;\n",
       "    }\n",
       "\n",
       "    .dataframe thead th {\n",
       "        text-align: right;\n",
       "    }\n",
       "</style>\n",
       "<table border=\"1\" class=\"dataframe\">\n",
       "  <thead>\n",
       "    <tr style=\"text-align: right;\">\n",
       "      <th></th>\n",
       "      <th>Unnamed: 0</th>\n",
       "      <th>type</th>\n",
       "      <th>posts</th>\n",
       "      <th>IorE</th>\n",
       "      <th>SorN</th>\n",
       "      <th>TorF</th>\n",
       "      <th>PorJ</th>\n",
       "      <th>posts_array</th>\n",
       "    </tr>\n",
       "  </thead>\n",
       "  <tbody>\n",
       "    <tr>\n",
       "      <th>0</th>\n",
       "      <td>5728</td>\n",
       "      <td>INFJ</td>\n",
       "      <td>'Always striving for more interesting possibil...</td>\n",
       "      <td>I</td>\n",
       "      <td>N</td>\n",
       "      <td>F</td>\n",
       "      <td>J</td>\n",
       "      <td>['Always striving for more interesting possibi...</td>\n",
       "    </tr>\n",
       "    <tr>\n",
       "      <th>1</th>\n",
       "      <td>2477</td>\n",
       "      <td>INFJ</td>\n",
       "      <td>'https://youtu.be/57zOdFmDS9c|||Feels a little...</td>\n",
       "      <td>I</td>\n",
       "      <td>N</td>\n",
       "      <td>F</td>\n",
       "      <td>J</td>\n",
       "      <td>['https://youtu.be/57zOdFmDS9c, Feels a little...</td>\n",
       "    </tr>\n",
       "    <tr>\n",
       "      <th>2</th>\n",
       "      <td>3531</td>\n",
       "      <td>INFJ</td>\n",
       "      <td>'Long post short, I want to be in a relationsh...</td>\n",
       "      <td>I</td>\n",
       "      <td>N</td>\n",
       "      <td>F</td>\n",
       "      <td>J</td>\n",
       "      <td>['Long post short, I want to be in a relations...</td>\n",
       "    </tr>\n",
       "    <tr>\n",
       "      <th>3</th>\n",
       "      <td>2350</td>\n",
       "      <td>INFJ</td>\n",
       "      <td>I decided to come back to this post. I wasn't ...</td>\n",
       "      <td>I</td>\n",
       "      <td>N</td>\n",
       "      <td>F</td>\n",
       "      <td>J</td>\n",
       "      <td>[I decided to come back to this post. I wasn't...</td>\n",
       "    </tr>\n",
       "    <tr>\n",
       "      <th>4</th>\n",
       "      <td>3575</td>\n",
       "      <td>INFJ</td>\n",
       "      <td>'When you think astrologers could in fact be t...</td>\n",
       "      <td>I</td>\n",
       "      <td>N</td>\n",
       "      <td>F</td>\n",
       "      <td>J</td>\n",
       "      <td>['When you think astrologers could in fact be ...</td>\n",
       "    </tr>\n",
       "  </tbody>\n",
       "</table>\n",
       "</div>"
      ],
      "text/plain": [
       "   Unnamed: 0  type                                              posts IorE  \\\n",
       "0        5728  INFJ  'Always striving for more interesting possibil...    I   \n",
       "1        2477  INFJ  'https://youtu.be/57zOdFmDS9c|||Feels a little...    I   \n",
       "2        3531  INFJ  'Long post short, I want to be in a relationsh...    I   \n",
       "3        2350  INFJ  I decided to come back to this post. I wasn't ...    I   \n",
       "4        3575  INFJ  'When you think astrologers could in fact be t...    I   \n",
       "\n",
       "  SorN TorF PorJ                                        posts_array  \n",
       "0    N    F    J  ['Always striving for more interesting possibi...  \n",
       "1    N    F    J  ['https://youtu.be/57zOdFmDS9c, Feels a little...  \n",
       "2    N    F    J  ['Long post short, I want to be in a relations...  \n",
       "3    N    F    J  [I decided to come back to this post. I wasn't...  \n",
       "4    N    F    J  ['When you think astrologers could in fact be ...  "
      ]
     },
     "execution_count": 6,
     "metadata": {},
     "output_type": "execute_result"
    }
   ],
   "source": [
    "#split the posts into arrays \n",
    "data['posts_array']= [[x for x in post.split('|||') if len(x)>0] for post in data['posts']]\n",
    "data.head()"
   ]
  },
  {
   "cell_type": "code",
   "execution_count": 7,
   "id": "0d4a4765",
   "metadata": {},
   "outputs": [],
   "source": [
    "data['No_posts']= [len(posts) for posts in data['posts_array']]"
   ]
  },
  {
   "cell_type": "code",
   "execution_count": 63,
   "id": "f5cb0756",
   "metadata": {},
   "outputs": [],
   "source": [
    "testDF['posts_array']= [[x for x in post.split('|||') if len(x)>0] for post in testDF['posts']]\n",
    "testDF['No_posts']= [len(posts) for posts in testDF['posts_array']]"
   ]
  },
  {
   "cell_type": "markdown",
   "id": "8c4d14aa",
   "metadata": {},
   "source": [
    "# Feature: Number of Links per Post"
   ]
  },
  {
   "cell_type": "code",
   "execution_count": 8,
   "id": "80bc4852",
   "metadata": {},
   "outputs": [
    {
     "name": "stderr",
     "output_type": "stream",
     "text": [
      "<ipython-input-8-fd578c353658>:12: SettingWithCopyWarning: \n",
      "A value is trying to be set on a copy of a slice from a DataFrame\n",
      "\n",
      "See the caveats in the documentation: https://pandas.pydata.org/pandas-docs/stable/user_guide/indexing.html#returning-a-view-versus-a-copy\n",
      "  data['No_links'][index] = temp_a\n",
      "<ipython-input-8-fd578c353658>:13: SettingWithCopyWarning: \n",
      "A value is trying to be set on a copy of a slice from a DataFrame\n",
      "\n",
      "See the caveats in the documentation: https://pandas.pydata.org/pandas-docs/stable/user_guide/indexing.html#returning-a-view-versus-a-copy\n",
      "  data['Cnt_hyperlinks'][index] = cnt_hyperlinks/len(row['posts_array'])\n"
     ]
    }
   ],
   "source": [
    "#creating Feature for #of Hyperlinks in posts & array of posts without any hyper links\n",
    "data['No_links']=\"\"\n",
    "data['Cnt_hyperlinks']=\"\"\n",
    "for index, row in data.iterrows():\n",
    "    temp_a = []\n",
    "    cnt_hyperlinks = 0\n",
    "    for i in row['posts_array']: \n",
    "        if i.count('http')>0:\n",
    "            cnt_hyperlinks = cnt_hyperlinks+1\n",
    "        else: \n",
    "            temp_a.append(i)\n",
    "    data['No_links'][index] = temp_a\n",
    "    data['Cnt_hyperlinks'][index] = cnt_hyperlinks/len(row['posts_array']) \n",
    "\n",
    "    #count hyper links per post "
   ]
  },
  {
   "cell_type": "code",
   "execution_count": 64,
   "id": "87ad4a66",
   "metadata": {},
   "outputs": [
    {
     "name": "stderr",
     "output_type": "stream",
     "text": [
      "<ipython-input-64-f26becde9086>:12: SettingWithCopyWarning: \n",
      "A value is trying to be set on a copy of a slice from a DataFrame\n",
      "\n",
      "See the caveats in the documentation: https://pandas.pydata.org/pandas-docs/stable/user_guide/indexing.html#returning-a-view-versus-a-copy\n",
      "  testDF['No_links'][index] = temp_a\n",
      "<ipython-input-64-f26becde9086>:13: SettingWithCopyWarning: \n",
      "A value is trying to be set on a copy of a slice from a DataFrame\n",
      "\n",
      "See the caveats in the documentation: https://pandas.pydata.org/pandas-docs/stable/user_guide/indexing.html#returning-a-view-versus-a-copy\n",
      "  testDF['Cnt_hyperlinks'][index] = cnt_hyperlinks/len(row['posts_array'])\n"
     ]
    }
   ],
   "source": [
    "#creating Feature for #of Hyperlinks in posts & array of posts without any hyper links\n",
    "testDF['No_links']=\"\"\n",
    "testDF['Cnt_hyperlinks']=\"\"\n",
    "for index, row in testDF.iterrows():\n",
    "    temp_a = []\n",
    "    cnt_hyperlinks = 0\n",
    "    for i in row['posts_array']: \n",
    "        if i.count('http')>0:\n",
    "            cnt_hyperlinks = cnt_hyperlinks+1\n",
    "        else: \n",
    "            temp_a.append(i)\n",
    "    testDF['No_links'][index] = temp_a\n",
    "    testDF['Cnt_hyperlinks'][index] = cnt_hyperlinks/len(row['posts_array']) \n",
    "\n",
    "    #count hyper links per post "
   ]
  },
  {
   "cell_type": "code",
   "execution_count": 9,
   "id": "e248300c",
   "metadata": {},
   "outputs": [
    {
     "data": {
      "text/html": [
       "<div>\n",
       "<style scoped>\n",
       "    .dataframe tbody tr th:only-of-type {\n",
       "        vertical-align: middle;\n",
       "    }\n",
       "\n",
       "    .dataframe tbody tr th {\n",
       "        vertical-align: top;\n",
       "    }\n",
       "\n",
       "    .dataframe thead th {\n",
       "        text-align: right;\n",
       "    }\n",
       "</style>\n",
       "<table border=\"1\" class=\"dataframe\">\n",
       "  <thead>\n",
       "    <tr style=\"text-align: right;\">\n",
       "      <th></th>\n",
       "      <th>Unnamed: 0</th>\n",
       "      <th>type</th>\n",
       "      <th>posts</th>\n",
       "      <th>IorE</th>\n",
       "      <th>SorN</th>\n",
       "      <th>TorF</th>\n",
       "      <th>PorJ</th>\n",
       "      <th>posts_array</th>\n",
       "      <th>No_posts</th>\n",
       "      <th>No_links</th>\n",
       "      <th>Cnt_hyperlinks</th>\n",
       "    </tr>\n",
       "  </thead>\n",
       "  <tbody>\n",
       "    <tr>\n",
       "      <th>0</th>\n",
       "      <td>5728</td>\n",
       "      <td>INFJ</td>\n",
       "      <td>'Always striving for more interesting possibil...</td>\n",
       "      <td>I</td>\n",
       "      <td>N</td>\n",
       "      <td>F</td>\n",
       "      <td>J</td>\n",
       "      <td>['Always striving for more interesting possibi...</td>\n",
       "      <td>42</td>\n",
       "      <td>['Always striving for more interesting possibi...</td>\n",
       "      <td>0.142857</td>\n",
       "    </tr>\n",
       "    <tr>\n",
       "      <th>1</th>\n",
       "      <td>2477</td>\n",
       "      <td>INFJ</td>\n",
       "      <td>'https://youtu.be/57zOdFmDS9c|||Feels a little...</td>\n",
       "      <td>I</td>\n",
       "      <td>N</td>\n",
       "      <td>F</td>\n",
       "      <td>J</td>\n",
       "      <td>['https://youtu.be/57zOdFmDS9c, Feels a little...</td>\n",
       "      <td>50</td>\n",
       "      <td>[I feel so powerless right now. My mom just ha...</td>\n",
       "      <td>0.24</td>\n",
       "    </tr>\n",
       "    <tr>\n",
       "      <th>2</th>\n",
       "      <td>3531</td>\n",
       "      <td>INFJ</td>\n",
       "      <td>'Long post short, I want to be in a relationsh...</td>\n",
       "      <td>I</td>\n",
       "      <td>N</td>\n",
       "      <td>F</td>\n",
       "      <td>J</td>\n",
       "      <td>['Long post short, I want to be in a relations...</td>\n",
       "      <td>50</td>\n",
       "      <td>['Long post short, I want to be in a relations...</td>\n",
       "      <td>0.0</td>\n",
       "    </tr>\n",
       "    <tr>\n",
       "      <th>3</th>\n",
       "      <td>2350</td>\n",
       "      <td>INFJ</td>\n",
       "      <td>I decided to come back to this post. I wasn't ...</td>\n",
       "      <td>I</td>\n",
       "      <td>N</td>\n",
       "      <td>F</td>\n",
       "      <td>J</td>\n",
       "      <td>[I decided to come back to this post. I wasn't...</td>\n",
       "      <td>50</td>\n",
       "      <td>[I decided to come back to this post. I wasn't...</td>\n",
       "      <td>0.18</td>\n",
       "    </tr>\n",
       "    <tr>\n",
       "      <th>4</th>\n",
       "      <td>3575</td>\n",
       "      <td>INFJ</td>\n",
       "      <td>'When you think astrologers could in fact be t...</td>\n",
       "      <td>I</td>\n",
       "      <td>N</td>\n",
       "      <td>F</td>\n",
       "      <td>J</td>\n",
       "      <td>['When you think astrologers could in fact be ...</td>\n",
       "      <td>49</td>\n",
       "      <td>['When you think astrologers could in fact be ...</td>\n",
       "      <td>0.102041</td>\n",
       "    </tr>\n",
       "  </tbody>\n",
       "</table>\n",
       "</div>"
      ],
      "text/plain": [
       "   Unnamed: 0  type                                              posts IorE  \\\n",
       "0        5728  INFJ  'Always striving for more interesting possibil...    I   \n",
       "1        2477  INFJ  'https://youtu.be/57zOdFmDS9c|||Feels a little...    I   \n",
       "2        3531  INFJ  'Long post short, I want to be in a relationsh...    I   \n",
       "3        2350  INFJ  I decided to come back to this post. I wasn't ...    I   \n",
       "4        3575  INFJ  'When you think astrologers could in fact be t...    I   \n",
       "\n",
       "  SorN TorF PorJ                                        posts_array  No_posts  \\\n",
       "0    N    F    J  ['Always striving for more interesting possibi...        42   \n",
       "1    N    F    J  ['https://youtu.be/57zOdFmDS9c, Feels a little...        50   \n",
       "2    N    F    J  ['Long post short, I want to be in a relations...        50   \n",
       "3    N    F    J  [I decided to come back to this post. I wasn't...        50   \n",
       "4    N    F    J  ['When you think astrologers could in fact be ...        49   \n",
       "\n",
       "                                            No_links Cnt_hyperlinks  \n",
       "0  ['Always striving for more interesting possibi...       0.142857  \n",
       "1  [I feel so powerless right now. My mom just ha...           0.24  \n",
       "2  ['Long post short, I want to be in a relations...            0.0  \n",
       "3  [I decided to come back to this post. I wasn't...           0.18  \n",
       "4  ['When you think astrologers could in fact be ...       0.102041  "
      ]
     },
     "execution_count": 9,
     "metadata": {},
     "output_type": "execute_result"
    }
   ],
   "source": [
    "data.head()"
   ]
  },
  {
   "cell_type": "markdown",
   "id": "b95bf10d",
   "metadata": {},
   "source": [
    "# Emojis Used"
   ]
  },
  {
   "cell_type": "code",
   "execution_count": 10,
   "id": "786ca09d",
   "metadata": {},
   "outputs": [],
   "source": [
    "import regex as re,emoji,string"
   ]
  },
  {
   "cell_type": "code",
   "execution_count": 11,
   "id": "0b54593b",
   "metadata": {},
   "outputs": [],
   "source": [
    "def find_emoji(text):\n",
    "\n",
    "    emoji_list = []\n",
    "    data = re.findall(r'\\X', text)\n",
    "    for word in data:\n",
    "        if any(char in emoji.UNICODE_EMOJI['en'] for char in word):\n",
    "            emoji_list.append(word)\n",
    "    \n",
    "    return emoji_list"
   ]
  },
  {
   "cell_type": "code",
   "execution_count": 12,
   "id": "1dda6ae3",
   "metadata": {},
   "outputs": [
    {
     "data": {
      "text/html": [
       "<div>\n",
       "<style scoped>\n",
       "    .dataframe tbody tr th:only-of-type {\n",
       "        vertical-align: middle;\n",
       "    }\n",
       "\n",
       "    .dataframe tbody tr th {\n",
       "        vertical-align: top;\n",
       "    }\n",
       "\n",
       "    .dataframe thead th {\n",
       "        text-align: right;\n",
       "    }\n",
       "</style>\n",
       "<table border=\"1\" class=\"dataframe\">\n",
       "  <thead>\n",
       "    <tr style=\"text-align: right;\">\n",
       "      <th></th>\n",
       "      <th>Unnamed: 0</th>\n",
       "      <th>type</th>\n",
       "      <th>posts</th>\n",
       "      <th>IorE</th>\n",
       "      <th>SorN</th>\n",
       "      <th>TorF</th>\n",
       "      <th>PorJ</th>\n",
       "      <th>posts_array</th>\n",
       "      <th>No_posts</th>\n",
       "      <th>No_links</th>\n",
       "      <th>Cnt_hyperlinks</th>\n",
       "      <th>emoji_count</th>\n",
       "    </tr>\n",
       "  </thead>\n",
       "  <tbody>\n",
       "    <tr>\n",
       "      <th>0</th>\n",
       "      <td>5728</td>\n",
       "      <td>INFJ</td>\n",
       "      <td>'Always striving for more interesting possibil...</td>\n",
       "      <td>I</td>\n",
       "      <td>N</td>\n",
       "      <td>F</td>\n",
       "      <td>J</td>\n",
       "      <td>['Always striving for more interesting possibi...</td>\n",
       "      <td>42</td>\n",
       "      <td>['Always striving for more interesting possibi...</td>\n",
       "      <td>0.142857</td>\n",
       "      <td>0</td>\n",
       "    </tr>\n",
       "    <tr>\n",
       "      <th>1</th>\n",
       "      <td>2477</td>\n",
       "      <td>INFJ</td>\n",
       "      <td>'https://youtu.be/57zOdFmDS9c|||Feels a little...</td>\n",
       "      <td>I</td>\n",
       "      <td>N</td>\n",
       "      <td>F</td>\n",
       "      <td>J</td>\n",
       "      <td>['https://youtu.be/57zOdFmDS9c, Feels a little...</td>\n",
       "      <td>50</td>\n",
       "      <td>[I feel so powerless right now. My mom just ha...</td>\n",
       "      <td>0.24</td>\n",
       "      <td>0</td>\n",
       "    </tr>\n",
       "    <tr>\n",
       "      <th>2</th>\n",
       "      <td>3531</td>\n",
       "      <td>INFJ</td>\n",
       "      <td>'Long post short, I want to be in a relationsh...</td>\n",
       "      <td>I</td>\n",
       "      <td>N</td>\n",
       "      <td>F</td>\n",
       "      <td>J</td>\n",
       "      <td>['Long post short, I want to be in a relations...</td>\n",
       "      <td>50</td>\n",
       "      <td>['Long post short, I want to be in a relations...</td>\n",
       "      <td>0.0</td>\n",
       "      <td>0</td>\n",
       "    </tr>\n",
       "    <tr>\n",
       "      <th>3</th>\n",
       "      <td>2350</td>\n",
       "      <td>INFJ</td>\n",
       "      <td>I decided to come back to this post. I wasn't ...</td>\n",
       "      <td>I</td>\n",
       "      <td>N</td>\n",
       "      <td>F</td>\n",
       "      <td>J</td>\n",
       "      <td>[I decided to come back to this post. I wasn't...</td>\n",
       "      <td>50</td>\n",
       "      <td>[I decided to come back to this post. I wasn't...</td>\n",
       "      <td>0.18</td>\n",
       "      <td>0</td>\n",
       "    </tr>\n",
       "    <tr>\n",
       "      <th>4</th>\n",
       "      <td>3575</td>\n",
       "      <td>INFJ</td>\n",
       "      <td>'When you think astrologers could in fact be t...</td>\n",
       "      <td>I</td>\n",
       "      <td>N</td>\n",
       "      <td>F</td>\n",
       "      <td>J</td>\n",
       "      <td>['When you think astrologers could in fact be ...</td>\n",
       "      <td>49</td>\n",
       "      <td>['When you think astrologers could in fact be ...</td>\n",
       "      <td>0.102041</td>\n",
       "      <td>0</td>\n",
       "    </tr>\n",
       "  </tbody>\n",
       "</table>\n",
       "</div>"
      ],
      "text/plain": [
       "   Unnamed: 0  type                                              posts IorE  \\\n",
       "0        5728  INFJ  'Always striving for more interesting possibil...    I   \n",
       "1        2477  INFJ  'https://youtu.be/57zOdFmDS9c|||Feels a little...    I   \n",
       "2        3531  INFJ  'Long post short, I want to be in a relationsh...    I   \n",
       "3        2350  INFJ  I decided to come back to this post. I wasn't ...    I   \n",
       "4        3575  INFJ  'When you think astrologers could in fact be t...    I   \n",
       "\n",
       "  SorN TorF PorJ                                        posts_array  No_posts  \\\n",
       "0    N    F    J  ['Always striving for more interesting possibi...        42   \n",
       "1    N    F    J  ['https://youtu.be/57zOdFmDS9c, Feels a little...        50   \n",
       "2    N    F    J  ['Long post short, I want to be in a relations...        50   \n",
       "3    N    F    J  [I decided to come back to this post. I wasn't...        50   \n",
       "4    N    F    J  ['When you think astrologers could in fact be ...        49   \n",
       "\n",
       "                                            No_links Cnt_hyperlinks  \\\n",
       "0  ['Always striving for more interesting possibi...       0.142857   \n",
       "1  [I feel so powerless right now. My mom just ha...           0.24   \n",
       "2  ['Long post short, I want to be in a relations...            0.0   \n",
       "3  [I decided to come back to this post. I wasn't...           0.18   \n",
       "4  ['When you think astrologers could in fact be ...       0.102041   \n",
       "\n",
       "   emoji_count  \n",
       "0            0  \n",
       "1            0  \n",
       "2            0  \n",
       "3            0  \n",
       "4            0  "
      ]
     },
     "execution_count": 12,
     "metadata": {},
     "output_type": "execute_result"
    }
   ],
   "source": [
    "data['emoji_count']=[len(find_emoji(post)) for post in data['posts']]\n",
    "data.head()"
   ]
  },
  {
   "cell_type": "code",
   "execution_count": 65,
   "id": "a4069056",
   "metadata": {},
   "outputs": [],
   "source": [
    "testDF['emoji_count']=[len(find_emoji(post)) for post in testDF['posts']]"
   ]
  },
  {
   "cell_type": "code",
   "execution_count": 13,
   "id": "27c8bb43",
   "metadata": {},
   "outputs": [],
   "source": [
    "data['emoji_count']=data['emoji_count']/data['No_posts']"
   ]
  },
  {
   "cell_type": "code",
   "execution_count": 66,
   "id": "e5a93f9f",
   "metadata": {},
   "outputs": [],
   "source": [
    "testDF['emoji_count']=testDF['emoji_count']/testDF['No_posts']"
   ]
  },
  {
   "cell_type": "code",
   "execution_count": 14,
   "id": "3c16492f",
   "metadata": {},
   "outputs": [
    {
     "data": {
      "text/html": [
       "<div>\n",
       "<style scoped>\n",
       "    .dataframe tbody tr th:only-of-type {\n",
       "        vertical-align: middle;\n",
       "    }\n",
       "\n",
       "    .dataframe tbody tr th {\n",
       "        vertical-align: top;\n",
       "    }\n",
       "\n",
       "    .dataframe thead th {\n",
       "        text-align: right;\n",
       "    }\n",
       "</style>\n",
       "<table border=\"1\" class=\"dataframe\">\n",
       "  <thead>\n",
       "    <tr style=\"text-align: right;\">\n",
       "      <th></th>\n",
       "      <th>Unnamed: 0</th>\n",
       "      <th>type</th>\n",
       "      <th>posts</th>\n",
       "      <th>IorE</th>\n",
       "      <th>SorN</th>\n",
       "      <th>TorF</th>\n",
       "      <th>PorJ</th>\n",
       "      <th>posts_array</th>\n",
       "      <th>No_posts</th>\n",
       "      <th>No_links</th>\n",
       "      <th>Cnt_hyperlinks</th>\n",
       "      <th>emoji_count</th>\n",
       "    </tr>\n",
       "  </thead>\n",
       "  <tbody>\n",
       "    <tr>\n",
       "      <th>0</th>\n",
       "      <td>5728</td>\n",
       "      <td>INFJ</td>\n",
       "      <td>'Always striving for more interesting possibil...</td>\n",
       "      <td>I</td>\n",
       "      <td>N</td>\n",
       "      <td>F</td>\n",
       "      <td>J</td>\n",
       "      <td>['Always striving for more interesting possibi...</td>\n",
       "      <td>42</td>\n",
       "      <td>['Always striving for more interesting possibi...</td>\n",
       "      <td>0.142857</td>\n",
       "      <td>0.0</td>\n",
       "    </tr>\n",
       "    <tr>\n",
       "      <th>1</th>\n",
       "      <td>2477</td>\n",
       "      <td>INFJ</td>\n",
       "      <td>'https://youtu.be/57zOdFmDS9c|||Feels a little...</td>\n",
       "      <td>I</td>\n",
       "      <td>N</td>\n",
       "      <td>F</td>\n",
       "      <td>J</td>\n",
       "      <td>['https://youtu.be/57zOdFmDS9c, Feels a little...</td>\n",
       "      <td>50</td>\n",
       "      <td>[I feel so powerless right now. My mom just ha...</td>\n",
       "      <td>0.24</td>\n",
       "      <td>0.0</td>\n",
       "    </tr>\n",
       "    <tr>\n",
       "      <th>2</th>\n",
       "      <td>3531</td>\n",
       "      <td>INFJ</td>\n",
       "      <td>'Long post short, I want to be in a relationsh...</td>\n",
       "      <td>I</td>\n",
       "      <td>N</td>\n",
       "      <td>F</td>\n",
       "      <td>J</td>\n",
       "      <td>['Long post short, I want to be in a relations...</td>\n",
       "      <td>50</td>\n",
       "      <td>['Long post short, I want to be in a relations...</td>\n",
       "      <td>0.0</td>\n",
       "      <td>0.0</td>\n",
       "    </tr>\n",
       "    <tr>\n",
       "      <th>3</th>\n",
       "      <td>2350</td>\n",
       "      <td>INFJ</td>\n",
       "      <td>I decided to come back to this post. I wasn't ...</td>\n",
       "      <td>I</td>\n",
       "      <td>N</td>\n",
       "      <td>F</td>\n",
       "      <td>J</td>\n",
       "      <td>[I decided to come back to this post. I wasn't...</td>\n",
       "      <td>50</td>\n",
       "      <td>[I decided to come back to this post. I wasn't...</td>\n",
       "      <td>0.18</td>\n",
       "      <td>0.0</td>\n",
       "    </tr>\n",
       "    <tr>\n",
       "      <th>4</th>\n",
       "      <td>3575</td>\n",
       "      <td>INFJ</td>\n",
       "      <td>'When you think astrologers could in fact be t...</td>\n",
       "      <td>I</td>\n",
       "      <td>N</td>\n",
       "      <td>F</td>\n",
       "      <td>J</td>\n",
       "      <td>['When you think astrologers could in fact be ...</td>\n",
       "      <td>49</td>\n",
       "      <td>['When you think astrologers could in fact be ...</td>\n",
       "      <td>0.102041</td>\n",
       "      <td>0.0</td>\n",
       "    </tr>\n",
       "  </tbody>\n",
       "</table>\n",
       "</div>"
      ],
      "text/plain": [
       "   Unnamed: 0  type                                              posts IorE  \\\n",
       "0        5728  INFJ  'Always striving for more interesting possibil...    I   \n",
       "1        2477  INFJ  'https://youtu.be/57zOdFmDS9c|||Feels a little...    I   \n",
       "2        3531  INFJ  'Long post short, I want to be in a relationsh...    I   \n",
       "3        2350  INFJ  I decided to come back to this post. I wasn't ...    I   \n",
       "4        3575  INFJ  'When you think astrologers could in fact be t...    I   \n",
       "\n",
       "  SorN TorF PorJ                                        posts_array  No_posts  \\\n",
       "0    N    F    J  ['Always striving for more interesting possibi...        42   \n",
       "1    N    F    J  ['https://youtu.be/57zOdFmDS9c, Feels a little...        50   \n",
       "2    N    F    J  ['Long post short, I want to be in a relations...        50   \n",
       "3    N    F    J  [I decided to come back to this post. I wasn't...        50   \n",
       "4    N    F    J  ['When you think astrologers could in fact be ...        49   \n",
       "\n",
       "                                            No_links Cnt_hyperlinks  \\\n",
       "0  ['Always striving for more interesting possibi...       0.142857   \n",
       "1  [I feel so powerless right now. My mom just ha...           0.24   \n",
       "2  ['Long post short, I want to be in a relations...            0.0   \n",
       "3  [I decided to come back to this post. I wasn't...           0.18   \n",
       "4  ['When you think astrologers could in fact be ...       0.102041   \n",
       "\n",
       "   emoji_count  \n",
       "0          0.0  \n",
       "1          0.0  \n",
       "2          0.0  \n",
       "3          0.0  \n",
       "4          0.0  "
      ]
     },
     "execution_count": 14,
     "metadata": {},
     "output_type": "execute_result"
    }
   ],
   "source": [
    "data.head()"
   ]
  },
  {
   "cell_type": "markdown",
   "id": "15fd82f8",
   "metadata": {},
   "source": [
    "# Other Different Features"
   ]
  },
  {
   "cell_type": "code",
   "execution_count": 15,
   "id": "b53b8efa",
   "metadata": {},
   "outputs": [],
   "source": [
    "data['ref_YT']= [post.count('youtube') for post in data['posts']]"
   ]
  },
  {
   "cell_type": "code",
   "execution_count": 67,
   "id": "15c355dc",
   "metadata": {},
   "outputs": [],
   "source": [
    "testDF['ref_YT']= [post.count('youtube') for post in testDF['posts']]"
   ]
  },
  {
   "cell_type": "markdown",
   "id": "851d6633",
   "metadata": {},
   "source": [
    "# Sentiment Analysis"
   ]
  },
  {
   "cell_type": "code",
   "execution_count": 16,
   "id": "679edc78",
   "metadata": {},
   "outputs": [],
   "source": [
    "import nltk\n",
    "from nltk.corpus import stopwords\n",
    "from nltk.stem import WordNetLemmatizer \n",
    "from textblob import TextBlob"
   ]
  },
  {
   "cell_type": "code",
   "execution_count": 17,
   "id": "bcd6bd13",
   "metadata": {},
   "outputs": [],
   "source": [
    "# nltk.download('punkt')\n",
    "# nltk.download('stopwords')\n",
    "# nltk.download('omw-1.4')\n",
    "# nltk.download('wordnet')"
   ]
  },
  {
   "cell_type": "code",
   "execution_count": 18,
   "id": "a9b0bd4f",
   "metadata": {},
   "outputs": [],
   "source": [
    "sw = stopwords.words('english')\n",
    "\n",
    "def clean_text(text):\n",
    "    text = text.lower()\n",
    "    text = re.sub('@', '', text)\n",
    "    text = re.sub('\\[.*?\\]', '', text)\n",
    "    text = re.sub('https?://\\S+|www\\.\\S+', '', text)\n",
    "    text = re.sub('<.*?>+', '', text)\n",
    "    text = re.sub('[%s]' % re.escape(string.punctuation), '', text)\n",
    "    text = re.sub('\\n', '', text)\n",
    "    text = re.sub('\\w*\\d\\w*', '', text)\n",
    "    text = re.sub(r\"[^a-zA-Z ]+\", \"\", text)\n",
    "    \n",
    "    #Tokenize the data\n",
    "    text = nltk.word_tokenize(text)\n",
    "    #Remove stopwords\n",
    "    text = [w for w in text if w not in sw]\n",
    "    return text"
   ]
  },
  {
   "cell_type": "code",
   "execution_count": 19,
   "id": "576a2705",
   "metadata": {},
   "outputs": [
    {
     "data": {
      "text/html": [
       "<div>\n",
       "<style scoped>\n",
       "    .dataframe tbody tr th:only-of-type {\n",
       "        vertical-align: middle;\n",
       "    }\n",
       "\n",
       "    .dataframe tbody tr th {\n",
       "        vertical-align: top;\n",
       "    }\n",
       "\n",
       "    .dataframe thead th {\n",
       "        text-align: right;\n",
       "    }\n",
       "</style>\n",
       "<table border=\"1\" class=\"dataframe\">\n",
       "  <thead>\n",
       "    <tr style=\"text-align: right;\">\n",
       "      <th></th>\n",
       "      <th>Unnamed: 0</th>\n",
       "      <th>type</th>\n",
       "      <th>posts</th>\n",
       "      <th>IorE</th>\n",
       "      <th>SorN</th>\n",
       "      <th>TorF</th>\n",
       "      <th>PorJ</th>\n",
       "      <th>posts_array</th>\n",
       "      <th>No_posts</th>\n",
       "      <th>No_links</th>\n",
       "      <th>Cnt_hyperlinks</th>\n",
       "      <th>emoji_count</th>\n",
       "      <th>ref_YT</th>\n",
       "      <th>clean_posts</th>\n",
       "    </tr>\n",
       "  </thead>\n",
       "  <tbody>\n",
       "    <tr>\n",
       "      <th>0</th>\n",
       "      <td>5728</td>\n",
       "      <td>INFJ</td>\n",
       "      <td>'Always striving for more interesting possibil...</td>\n",
       "      <td>I</td>\n",
       "      <td>N</td>\n",
       "      <td>F</td>\n",
       "      <td>J</td>\n",
       "      <td>['Always striving for more interesting possibi...</td>\n",
       "      <td>42</td>\n",
       "      <td>['Always striving for more interesting possibi...</td>\n",
       "      <td>0.142857</td>\n",
       "      <td>0.0</td>\n",
       "      <td>6</td>\n",
       "      <td>[always, striving, interesting, possibilitiesw...</td>\n",
       "    </tr>\n",
       "    <tr>\n",
       "      <th>1</th>\n",
       "      <td>2477</td>\n",
       "      <td>INFJ</td>\n",
       "      <td>'https://youtu.be/57zOdFmDS9c|||Feels a little...</td>\n",
       "      <td>I</td>\n",
       "      <td>N</td>\n",
       "      <td>F</td>\n",
       "      <td>J</td>\n",
       "      <td>['https://youtu.be/57zOdFmDS9c, Feels a little...</td>\n",
       "      <td>50</td>\n",
       "      <td>[I feel so powerless right now. My mom just ha...</td>\n",
       "      <td>0.24</td>\n",
       "      <td>0.0</td>\n",
       "      <td>6</td>\n",
       "      <td>[little, place, putting, thrive, intense, ener...</td>\n",
       "    </tr>\n",
       "    <tr>\n",
       "      <th>2</th>\n",
       "      <td>3531</td>\n",
       "      <td>INFJ</td>\n",
       "      <td>'Long post short, I want to be in a relationsh...</td>\n",
       "      <td>I</td>\n",
       "      <td>N</td>\n",
       "      <td>F</td>\n",
       "      <td>J</td>\n",
       "      <td>['Long post short, I want to be in a relations...</td>\n",
       "      <td>50</td>\n",
       "      <td>['Long post short, I want to be in a relations...</td>\n",
       "      <td>0.0</td>\n",
       "      <td>0.0</td>\n",
       "      <td>0</td>\n",
       "      <td>[long, post, short, want, relationship, makes,...</td>\n",
       "    </tr>\n",
       "    <tr>\n",
       "      <th>3</th>\n",
       "      <td>2350</td>\n",
       "      <td>INFJ</td>\n",
       "      <td>I decided to come back to this post. I wasn't ...</td>\n",
       "      <td>I</td>\n",
       "      <td>N</td>\n",
       "      <td>F</td>\n",
       "      <td>J</td>\n",
       "      <td>[I decided to come back to this post. I wasn't...</td>\n",
       "      <td>50</td>\n",
       "      <td>[I decided to come back to this post. I wasn't...</td>\n",
       "      <td>0.18</td>\n",
       "      <td>0.0</td>\n",
       "      <td>12</td>\n",
       "      <td>[decided, come, back, post, wasnt, good, state...</td>\n",
       "    </tr>\n",
       "    <tr>\n",
       "      <th>4</th>\n",
       "      <td>3575</td>\n",
       "      <td>INFJ</td>\n",
       "      <td>'When you think astrologers could in fact be t...</td>\n",
       "      <td>I</td>\n",
       "      <td>N</td>\n",
       "      <td>F</td>\n",
       "      <td>J</td>\n",
       "      <td>['When you think astrologers could in fact be ...</td>\n",
       "      <td>49</td>\n",
       "      <td>['When you think astrologers could in fact be ...</td>\n",
       "      <td>0.102041</td>\n",
       "      <td>0.0</td>\n",
       "      <td>4</td>\n",
       "      <td>[think, astrologers, could, fact, mentally, st...</td>\n",
       "    </tr>\n",
       "  </tbody>\n",
       "</table>\n",
       "</div>"
      ],
      "text/plain": [
       "   Unnamed: 0  type                                              posts IorE  \\\n",
       "0        5728  INFJ  'Always striving for more interesting possibil...    I   \n",
       "1        2477  INFJ  'https://youtu.be/57zOdFmDS9c|||Feels a little...    I   \n",
       "2        3531  INFJ  'Long post short, I want to be in a relationsh...    I   \n",
       "3        2350  INFJ  I decided to come back to this post. I wasn't ...    I   \n",
       "4        3575  INFJ  'When you think astrologers could in fact be t...    I   \n",
       "\n",
       "  SorN TorF PorJ                                        posts_array  No_posts  \\\n",
       "0    N    F    J  ['Always striving for more interesting possibi...        42   \n",
       "1    N    F    J  ['https://youtu.be/57zOdFmDS9c, Feels a little...        50   \n",
       "2    N    F    J  ['Long post short, I want to be in a relations...        50   \n",
       "3    N    F    J  [I decided to come back to this post. I wasn't...        50   \n",
       "4    N    F    J  ['When you think astrologers could in fact be ...        49   \n",
       "\n",
       "                                            No_links Cnt_hyperlinks  \\\n",
       "0  ['Always striving for more interesting possibi...       0.142857   \n",
       "1  [I feel so powerless right now. My mom just ha...           0.24   \n",
       "2  ['Long post short, I want to be in a relations...            0.0   \n",
       "3  [I decided to come back to this post. I wasn't...           0.18   \n",
       "4  ['When you think astrologers could in fact be ...       0.102041   \n",
       "\n",
       "   emoji_count  ref_YT                                        clean_posts  \n",
       "0          0.0       6  [always, striving, interesting, possibilitiesw...  \n",
       "1          0.0       6  [little, place, putting, thrive, intense, ener...  \n",
       "2          0.0       0  [long, post, short, want, relationship, makes,...  \n",
       "3          0.0      12  [decided, come, back, post, wasnt, good, state...  \n",
       "4          0.0       4  [think, astrologers, could, fact, mentally, st...  "
      ]
     },
     "execution_count": 19,
     "metadata": {},
     "output_type": "execute_result"
    }
   ],
   "source": [
    "data['clean_posts']=data['posts'].apply(lambda x: clean_text(x))\n",
    "data.head()"
   ]
  },
  {
   "cell_type": "code",
   "execution_count": 74,
   "id": "57457f47",
   "metadata": {},
   "outputs": [],
   "source": [
    "testDF['clean_posts']=testDF['posts'].apply(lambda x: clean_text(x))"
   ]
  },
  {
   "cell_type": "code",
   "execution_count": 20,
   "id": "faf08f50",
   "metadata": {},
   "outputs": [],
   "source": [
    "#Lemmatizer\n",
    "lemmatizer = WordNetLemmatizer()\n",
    "def lem(text):\n",
    "    text = [lemmatizer.lemmatize(t) for t in text]\n",
    "    text = [lemmatizer.lemmatize(t, 'v') for t in text]\n",
    "    return text\n",
    "data['clean_posts'] = data['clean_posts'].apply(lambda x: lem(x))"
   ]
  },
  {
   "cell_type": "code",
   "execution_count": 21,
   "id": "d5c133fa",
   "metadata": {},
   "outputs": [],
   "source": [
    "data['clean_posts']=[str(thing) for thing in data['clean_posts']]"
   ]
  },
  {
   "cell_type": "code",
   "execution_count": 75,
   "id": "a0461a36",
   "metadata": {},
   "outputs": [],
   "source": [
    "testDF['clean_posts']=[str(thing) for thing in testDF['clean_posts']]"
   ]
  },
  {
   "cell_type": "code",
   "execution_count": 22,
   "id": "cc33280b",
   "metadata": {},
   "outputs": [],
   "source": [
    "sentiment = []\n",
    "for i in range(len(data)):\n",
    "    blob = TextBlob(data['clean_posts'][i])\n",
    "    for sentence in blob.sentences:\n",
    "        sentiment.append(sentence.sentiment.polarity)\n",
    "data['sentiment']=sentiment"
   ]
  },
  {
   "cell_type": "code",
   "execution_count": 92,
   "id": "0e6aa25e",
   "metadata": {},
   "outputs": [],
   "source": [
    "testDF = testDF.reset_index()\n",
    "testDF = testDF.drop(columns =['index'])"
   ]
  },
  {
   "cell_type": "code",
   "execution_count": 93,
   "id": "5b750daa",
   "metadata": {},
   "outputs": [],
   "source": [
    "sentiment = []\n",
    "for i in range(len(testDF)):\n",
    "    blob = TextBlob(testDF['clean_posts'][i])\n",
    "    for sentence in blob.sentences:\n",
    "        sentiment.append(sentence.sentiment.polarity)\n",
    "testDF['sentiment']=sentiment"
   ]
  },
  {
   "cell_type": "code",
   "execution_count": 23,
   "id": "9f85cdf9",
   "metadata": {},
   "outputs": [
    {
     "data": {
      "text/html": [
       "<div>\n",
       "<style scoped>\n",
       "    .dataframe tbody tr th:only-of-type {\n",
       "        vertical-align: middle;\n",
       "    }\n",
       "\n",
       "    .dataframe tbody tr th {\n",
       "        vertical-align: top;\n",
       "    }\n",
       "\n",
       "    .dataframe thead th {\n",
       "        text-align: right;\n",
       "    }\n",
       "</style>\n",
       "<table border=\"1\" class=\"dataframe\">\n",
       "  <thead>\n",
       "    <tr style=\"text-align: right;\">\n",
       "      <th></th>\n",
       "      <th>Unnamed: 0</th>\n",
       "      <th>type</th>\n",
       "      <th>posts</th>\n",
       "      <th>IorE</th>\n",
       "      <th>SorN</th>\n",
       "      <th>TorF</th>\n",
       "      <th>PorJ</th>\n",
       "      <th>posts_array</th>\n",
       "      <th>No_posts</th>\n",
       "      <th>No_links</th>\n",
       "      <th>Cnt_hyperlinks</th>\n",
       "      <th>emoji_count</th>\n",
       "      <th>ref_YT</th>\n",
       "      <th>clean_posts</th>\n",
       "      <th>sentiment</th>\n",
       "    </tr>\n",
       "  </thead>\n",
       "  <tbody>\n",
       "    <tr>\n",
       "      <th>0</th>\n",
       "      <td>5728</td>\n",
       "      <td>INFJ</td>\n",
       "      <td>'Always striving for more interesting possibil...</td>\n",
       "      <td>I</td>\n",
       "      <td>N</td>\n",
       "      <td>F</td>\n",
       "      <td>J</td>\n",
       "      <td>['Always striving for more interesting possibi...</td>\n",
       "      <td>42</td>\n",
       "      <td>['Always striving for more interesting possibi...</td>\n",
       "      <td>0.142857</td>\n",
       "      <td>0.0</td>\n",
       "      <td>6</td>\n",
       "      <td>['always', 'strive', 'interest', 'possibilitie...</td>\n",
       "      <td>0.115780</td>\n",
       "    </tr>\n",
       "    <tr>\n",
       "      <th>1</th>\n",
       "      <td>2477</td>\n",
       "      <td>INFJ</td>\n",
       "      <td>'https://youtu.be/57zOdFmDS9c|||Feels a little...</td>\n",
       "      <td>I</td>\n",
       "      <td>N</td>\n",
       "      <td>F</td>\n",
       "      <td>J</td>\n",
       "      <td>['https://youtu.be/57zOdFmDS9c, Feels a little...</td>\n",
       "      <td>50</td>\n",
       "      <td>[I feel so powerless right now. My mom just ha...</td>\n",
       "      <td>0.24</td>\n",
       "      <td>0.0</td>\n",
       "      <td>6</td>\n",
       "      <td>['little', 'place', 'put', 'thrive', 'intense'...</td>\n",
       "      <td>0.116583</td>\n",
       "    </tr>\n",
       "    <tr>\n",
       "      <th>2</th>\n",
       "      <td>3531</td>\n",
       "      <td>INFJ</td>\n",
       "      <td>'Long post short, I want to be in a relationsh...</td>\n",
       "      <td>I</td>\n",
       "      <td>N</td>\n",
       "      <td>F</td>\n",
       "      <td>J</td>\n",
       "      <td>['Long post short, I want to be in a relations...</td>\n",
       "      <td>50</td>\n",
       "      <td>['Long post short, I want to be in a relations...</td>\n",
       "      <td>0.0</td>\n",
       "      <td>0.0</td>\n",
       "      <td>0</td>\n",
       "      <td>['long', 'post', 'short', 'want', 'relationshi...</td>\n",
       "      <td>0.085627</td>\n",
       "    </tr>\n",
       "    <tr>\n",
       "      <th>3</th>\n",
       "      <td>2350</td>\n",
       "      <td>INFJ</td>\n",
       "      <td>I decided to come back to this post. I wasn't ...</td>\n",
       "      <td>I</td>\n",
       "      <td>N</td>\n",
       "      <td>F</td>\n",
       "      <td>J</td>\n",
       "      <td>[I decided to come back to this post. I wasn't...</td>\n",
       "      <td>50</td>\n",
       "      <td>[I decided to come back to this post. I wasn't...</td>\n",
       "      <td>0.18</td>\n",
       "      <td>0.0</td>\n",
       "      <td>12</td>\n",
       "      <td>['decide', 'come', 'back', 'post', 'wasnt', 'g...</td>\n",
       "      <td>0.008004</td>\n",
       "    </tr>\n",
       "    <tr>\n",
       "      <th>4</th>\n",
       "      <td>3575</td>\n",
       "      <td>INFJ</td>\n",
       "      <td>'When you think astrologers could in fact be t...</td>\n",
       "      <td>I</td>\n",
       "      <td>N</td>\n",
       "      <td>F</td>\n",
       "      <td>J</td>\n",
       "      <td>['When you think astrologers could in fact be ...</td>\n",
       "      <td>49</td>\n",
       "      <td>['When you think astrologers could in fact be ...</td>\n",
       "      <td>0.102041</td>\n",
       "      <td>0.0</td>\n",
       "      <td>4</td>\n",
       "      <td>['think', 'astrologer', 'could', 'fact', 'ment...</td>\n",
       "      <td>0.107584</td>\n",
       "    </tr>\n",
       "  </tbody>\n",
       "</table>\n",
       "</div>"
      ],
      "text/plain": [
       "   Unnamed: 0  type                                              posts IorE  \\\n",
       "0        5728  INFJ  'Always striving for more interesting possibil...    I   \n",
       "1        2477  INFJ  'https://youtu.be/57zOdFmDS9c|||Feels a little...    I   \n",
       "2        3531  INFJ  'Long post short, I want to be in a relationsh...    I   \n",
       "3        2350  INFJ  I decided to come back to this post. I wasn't ...    I   \n",
       "4        3575  INFJ  'When you think astrologers could in fact be t...    I   \n",
       "\n",
       "  SorN TorF PorJ                                        posts_array  No_posts  \\\n",
       "0    N    F    J  ['Always striving for more interesting possibi...        42   \n",
       "1    N    F    J  ['https://youtu.be/57zOdFmDS9c, Feels a little...        50   \n",
       "2    N    F    J  ['Long post short, I want to be in a relations...        50   \n",
       "3    N    F    J  [I decided to come back to this post. I wasn't...        50   \n",
       "4    N    F    J  ['When you think astrologers could in fact be ...        49   \n",
       "\n",
       "                                            No_links Cnt_hyperlinks  \\\n",
       "0  ['Always striving for more interesting possibi...       0.142857   \n",
       "1  [I feel so powerless right now. My mom just ha...           0.24   \n",
       "2  ['Long post short, I want to be in a relations...            0.0   \n",
       "3  [I decided to come back to this post. I wasn't...           0.18   \n",
       "4  ['When you think astrologers could in fact be ...       0.102041   \n",
       "\n",
       "   emoji_count  ref_YT                                        clean_posts  \\\n",
       "0          0.0       6  ['always', 'strive', 'interest', 'possibilitie...   \n",
       "1          0.0       6  ['little', 'place', 'put', 'thrive', 'intense'...   \n",
       "2          0.0       0  ['long', 'post', 'short', 'want', 'relationshi...   \n",
       "3          0.0      12  ['decide', 'come', 'back', 'post', 'wasnt', 'g...   \n",
       "4          0.0       4  ['think', 'astrologer', 'could', 'fact', 'ment...   \n",
       "\n",
       "   sentiment  \n",
       "0   0.115780  \n",
       "1   0.116583  \n",
       "2   0.085627  \n",
       "3   0.008004  \n",
       "4   0.107584  "
      ]
     },
     "execution_count": 23,
     "metadata": {},
     "output_type": "execute_result"
    }
   ],
   "source": [
    "data.head()"
   ]
  },
  {
   "cell_type": "code",
   "execution_count": 135,
   "id": "1f0cf88b",
   "metadata": {},
   "outputs": [
    {
     "ename": "TypeError",
     "evalue": "scatter() missing 2 required positional arguments: 'x' and 'y'",
     "output_type": "error",
     "traceback": [
      "\u001b[1;31m---------------------------------------------------------------------------\u001b[0m",
      "\u001b[1;31mTypeError\u001b[0m                                 Traceback (most recent call last)",
      "\u001b[1;32m<ipython-input-135-e8f473b934fa>\u001b[0m in \u001b[0;36m<module>\u001b[1;34m\u001b[0m\n\u001b[0;32m      1\u001b[0m \u001b[0mihist\u001b[0m\u001b[1;33m=\u001b[0m\u001b[0mtestDF\u001b[0m\u001b[1;33m[\u001b[0m\u001b[1;33m[\u001b[0m\u001b[1;34m'IorE'\u001b[0m\u001b[1;33m,\u001b[0m\u001b[1;34m'sentiment'\u001b[0m\u001b[1;33m]\u001b[0m\u001b[1;33m]\u001b[0m\u001b[1;33m\u001b[0m\u001b[1;33m\u001b[0m\u001b[0m\n\u001b[1;32m----> 2\u001b[1;33m \u001b[0mihist\u001b[0m\u001b[1;33m.\u001b[0m\u001b[0mplot\u001b[0m\u001b[1;33m.\u001b[0m\u001b[0mscatter\u001b[0m\u001b[1;33m(\u001b[0m\u001b[1;33m)\u001b[0m\u001b[1;33m\u001b[0m\u001b[1;33m\u001b[0m\u001b[0m\n\u001b[0m",
      "\u001b[1;31mTypeError\u001b[0m: scatter() missing 2 required positional arguments: 'x' and 'y'"
     ]
    }
   ],
   "source": [
    "ihist=testDF[['IorE','sentiment']]\n"
   ]
  },
  {
   "cell_type": "markdown",
   "id": "4df4f5d2",
   "metadata": {},
   "source": [
    "# Count Vectorizer"
   ]
  },
  {
   "cell_type": "code",
   "execution_count": 24,
   "id": "5849ebd0",
   "metadata": {},
   "outputs": [],
   "source": [
    "from sklearn.feature_extraction.text import CountVectorizer"
   ]
  },
  {
   "cell_type": "code",
   "execution_count": 26,
   "id": "8c7fd8f2",
   "metadata": {},
   "outputs": [],
   "source": [
    "cv = CountVectorizer()\n",
    "X_count = cv.fit_transform(data['clean_posts'])"
   ]
  },
  {
   "cell_type": "code",
   "execution_count": 30,
   "id": "c96ded9f",
   "metadata": {},
   "outputs": [
    {
     "data": {
      "text/plain": [
       "400"
      ]
     },
     "execution_count": 30,
     "metadata": {},
     "output_type": "execute_result"
    }
   ],
   "source": [
    "X_count_feat = pd.DataFrame(X_count.toarray())\n",
    "len(X_count_feat)"
   ]
  },
  {
   "cell_type": "code",
   "execution_count": 33,
   "id": "a8ab793c",
   "metadata": {},
   "outputs": [
    {
     "data": {
      "text/plain": [
       "Index(['Unnamed: 0', 'type', 'posts', 'IorE', 'SorN', 'TorF', 'PorJ',\n",
       "       'posts_array', 'No_posts', 'No_links', 'Cnt_hyperlinks', 'emoji_count',\n",
       "       'ref_YT', 'clean_posts', 'sentiment'],\n",
       "      dtype='object')"
      ]
     },
     "execution_count": 33,
     "metadata": {},
     "output_type": "execute_result"
    }
   ],
   "source": [
    "data.columns"
   ]
  },
  {
   "cell_type": "markdown",
   "id": "68819c92",
   "metadata": {},
   "source": [
    "# Testing Models"
   ]
  },
  {
   "cell_type": "code",
   "execution_count": 107,
   "id": "f068cb6e",
   "metadata": {},
   "outputs": [],
   "source": [
    "x_train =data[['No_posts','Cnt_hyperlinks','emoji_count','ref_YT','sentiment']]"
   ]
  },
  {
   "cell_type": "code",
   "execution_count": 108,
   "id": "5ab25da1",
   "metadata": {},
   "outputs": [
    {
     "data": {
      "text/html": [
       "<div>\n",
       "<style scoped>\n",
       "    .dataframe tbody tr th:only-of-type {\n",
       "        vertical-align: middle;\n",
       "    }\n",
       "\n",
       "    .dataframe tbody tr th {\n",
       "        vertical-align: top;\n",
       "    }\n",
       "\n",
       "    .dataframe thead th {\n",
       "        text-align: right;\n",
       "    }\n",
       "</style>\n",
       "<table border=\"1\" class=\"dataframe\">\n",
       "  <thead>\n",
       "    <tr style=\"text-align: right;\">\n",
       "      <th></th>\n",
       "      <th>No_posts</th>\n",
       "      <th>Cnt_hyperlinks</th>\n",
       "      <th>emoji_count</th>\n",
       "      <th>ref_YT</th>\n",
       "      <th>sentiment</th>\n",
       "    </tr>\n",
       "  </thead>\n",
       "  <tbody>\n",
       "    <tr>\n",
       "      <th>0</th>\n",
       "      <td>42</td>\n",
       "      <td>0.142857</td>\n",
       "      <td>0.0</td>\n",
       "      <td>6</td>\n",
       "      <td>0.115780</td>\n",
       "    </tr>\n",
       "    <tr>\n",
       "      <th>1</th>\n",
       "      <td>50</td>\n",
       "      <td>0.24</td>\n",
       "      <td>0.0</td>\n",
       "      <td>6</td>\n",
       "      <td>0.116583</td>\n",
       "    </tr>\n",
       "    <tr>\n",
       "      <th>2</th>\n",
       "      <td>50</td>\n",
       "      <td>0.0</td>\n",
       "      <td>0.0</td>\n",
       "      <td>0</td>\n",
       "      <td>0.085627</td>\n",
       "    </tr>\n",
       "    <tr>\n",
       "      <th>3</th>\n",
       "      <td>50</td>\n",
       "      <td>0.18</td>\n",
       "      <td>0.0</td>\n",
       "      <td>12</td>\n",
       "      <td>0.008004</td>\n",
       "    </tr>\n",
       "    <tr>\n",
       "      <th>4</th>\n",
       "      <td>49</td>\n",
       "      <td>0.102041</td>\n",
       "      <td>0.0</td>\n",
       "      <td>4</td>\n",
       "      <td>0.107584</td>\n",
       "    </tr>\n",
       "  </tbody>\n",
       "</table>\n",
       "</div>"
      ],
      "text/plain": [
       "   No_posts Cnt_hyperlinks  emoji_count  ref_YT  sentiment\n",
       "0        42       0.142857          0.0       6   0.115780\n",
       "1        50           0.24          0.0       6   0.116583\n",
       "2        50            0.0          0.0       0   0.085627\n",
       "3        50           0.18          0.0      12   0.008004\n",
       "4        49       0.102041          0.0       4   0.107584"
      ]
     },
     "execution_count": 108,
     "metadata": {},
     "output_type": "execute_result"
    }
   ],
   "source": [
    "x_train.head()"
   ]
  },
  {
   "cell_type": "code",
   "execution_count": 109,
   "id": "f9572069",
   "metadata": {},
   "outputs": [],
   "source": [
    "y_train = data[['type','IorE','SorN','TorF','PorJ']]"
   ]
  },
  {
   "cell_type": "code",
   "execution_count": 110,
   "id": "55b9e76d",
   "metadata": {},
   "outputs": [],
   "source": [
    "#create columns for individual letters \n",
    "for index, row in testDF.iterrows(): \n",
    "    mbti_type = list(row['type'])\n",
    "    testDF.loc[index,'IorE']=mbti_type[0]\n",
    "    testDF.loc[index,'SorN']=mbti_type[1]\n",
    "    testDF.loc[index,'TorF']=mbti_type[2]\n",
    "    testDF.loc[index,'PorJ']=mbti_type[3]"
   ]
  },
  {
   "cell_type": "code",
   "execution_count": 142,
   "id": "163dd06e",
   "metadata": {},
   "outputs": [],
   "source": [
    "x_test = testDF[['No_posts','Cnt_hyperlinks','emoji_count','ref_YT','sentiment']]"
   ]
  },
  {
   "cell_type": "code",
   "execution_count": 143,
   "id": "6afa5b29",
   "metadata": {},
   "outputs": [],
   "source": [
    "y_test =testDF[['type','IorE','SorN','TorF','PorJ']]"
   ]
  },
  {
   "cell_type": "code",
   "execution_count": 144,
   "id": "3d78a6e6",
   "metadata": {},
   "outputs": [],
   "source": [
    "from sklearn.linear_model import LogisticRegression\n",
    "from sklearn.preprocessing import StandardScaler\n"
   ]
  },
  {
   "cell_type": "code",
   "execution_count": 145,
   "id": "c8817cbe",
   "metadata": {},
   "outputs": [],
   "source": [
    "classifier = LogisticRegression()"
   ]
  },
  {
   "cell_type": "code",
   "execution_count": 146,
   "id": "f47951b2",
   "metadata": {},
   "outputs": [],
   "source": [
    "classifier.fit(x_train, y_train['IorE'].to_numpy())\n",
    "LRIE = classifier.score(x_train, y_train['IorE'].to_numpy())\n",
    "classifier.fit(x_train, y_train['SorN'].to_numpy())\n",
    "LRSN = classifier.score(x_train, y_train['SorN'].to_numpy())\n",
    "classifier.fit(x_train, y_train['TorF'].to_numpy())\n",
    "LRFT = classifier.score(x_train, y_train['TorF'].to_numpy())\n",
    "classifier.fit(x_train, y_train['PorJ'].to_numpy())\n",
    "LRPJ = classifier.score(x_train, y_train['PorJ'].to_numpy())"
   ]
  },
  {
   "cell_type": "code",
   "execution_count": 149,
   "id": "3976856a",
   "metadata": {},
   "outputs": [
    {
     "name": "stdout",
     "output_type": "stream",
     "text": [
      "Testing score I vs E: 0.5875\n",
      "Testing score S vs N: 0.48\n",
      "Testing score F vs T: 0.5575\n",
      "Testing score P vs J: 0.57\n"
     ]
    }
   ],
   "source": [
    "print(f'Testing score I vs E: {LRIE}')\n",
    "print(f'Testing score S vs N: {LRSN}')\n",
    "print(f'Testing score F vs T: {LRFT}')\n",
    "print(f'Testing score P vs J: {LRPJ}')"
   ]
  },
  {
   "cell_type": "code",
   "execution_count": 118,
   "id": "8c876657",
   "metadata": {},
   "outputs": [],
   "source": [
    "from sklearn.ensemble import RandomForestClassifier"
   ]
  },
  {
   "cell_type": "code",
   "execution_count": 150,
   "id": "bfd945c0",
   "metadata": {},
   "outputs": [],
   "source": [
    "clf = RandomForestClassifier(random_state=1, n_estimators=500).fit(x_train, y_train['IorE'].to_numpy())"
   ]
  },
  {
   "cell_type": "code",
   "execution_count": 151,
   "id": "54af0f5e",
   "metadata": {},
   "outputs": [],
   "source": [
    "RFCIE = clf.score(x_test,y_test['IorE'].to_numpy())"
   ]
  },
  {
   "cell_type": "code",
   "execution_count": 152,
   "id": "7202aaee",
   "metadata": {},
   "outputs": [],
   "source": [
    "clf2 = RandomForestClassifier(random_state=1, n_estimators=500).fit(x_train, y_train['SorN'].to_numpy())\n",
    "RCFSN = clf2.score(x_test,y_test['SorN'].to_numpy())"
   ]
  },
  {
   "cell_type": "code",
   "execution_count": 153,
   "id": "a581d0a5",
   "metadata": {},
   "outputs": [],
   "source": [
    "clf3 = RandomForestClassifier(random_state=1, n_estimators=500).fit(x_train, y_train['TorF'].to_numpy())\n",
    "RFCTF = clf3.score(x_test,y_test['TorF'].to_numpy())"
   ]
  },
  {
   "cell_type": "code",
   "execution_count": 154,
   "id": "838408e3",
   "metadata": {},
   "outputs": [],
   "source": [
    "clf4 = RandomForestClassifier(random_state=1, n_estimators=500).fit(x_train, y_train['PorJ'].to_numpy())\n",
    "RFCPJ = clf4.score(x_test,y_test['PorJ'].to_numpy())"
   ]
  },
  {
   "cell_type": "code",
   "execution_count": 155,
   "id": "a80f422e",
   "metadata": {},
   "outputs": [
    {
     "name": "stdout",
     "output_type": "stream",
     "text": [
      "Testing score I vs E: 0.5290634441087614\n",
      "Testing score S vs N: 0.4884592145015106\n",
      "Testing score F vs T: 0.5277341389728096\n",
      "Testing score P vs J: 0.508761329305136\n"
     ]
    }
   ],
   "source": [
    "print(f'Testing score I vs E: {RFCIE}')\n",
    "print(f'Testing score S vs N: {RCFSN}')\n",
    "print(f'Testing score F vs T: {RFCTF}')\n",
    "print(f'Testing score P vs J: {RFCPJ}')"
   ]
  }
 ],
 "metadata": {
  "kernelspec": {
   "display_name": "Python 3",
   "language": "python",
   "name": "python3"
  },
  "language_info": {
   "codemirror_mode": {
    "name": "ipython",
    "version": 3
   },
   "file_extension": ".py",
   "mimetype": "text/x-python",
   "name": "python",
   "nbconvert_exporter": "python",
   "pygments_lexer": "ipython3",
   "version": "3.8.8"
  }
 },
 "nbformat": 4,
 "nbformat_minor": 5
}
