{
 "cells": [
  {
   "cell_type": "code",
   "execution_count": 1,
   "id": "b677e8ba",
   "metadata": {},
   "outputs": [],
   "source": [
    "import pandas as pd \n",
    "import numpy as np\n",
    "import matplotlib.pyplot as plt\n",
    "import re\n",
    "from sklearn.model_selection import train_test_split"
   ]
  },
  {
   "cell_type": "code",
   "execution_count": 2,
   "id": "eed369cf",
   "metadata": {
    "scrolled": true
   },
   "outputs": [
    {
     "data": {
      "text/html": [
       "<div>\n",
       "<style scoped>\n",
       "    .dataframe tbody tr th:only-of-type {\n",
       "        vertical-align: middle;\n",
       "    }\n",
       "\n",
       "    .dataframe tbody tr th {\n",
       "        vertical-align: top;\n",
       "    }\n",
       "\n",
       "    .dataframe thead th {\n",
       "        text-align: right;\n",
       "    }\n",
       "</style>\n",
       "<table border=\"1\" class=\"dataframe\">\n",
       "  <thead>\n",
       "    <tr style=\"text-align: right;\">\n",
       "      <th></th>\n",
       "      <th>Unnamed: 0</th>\n",
       "      <th>type</th>\n",
       "      <th>posts</th>\n",
       "    </tr>\n",
       "  </thead>\n",
       "  <tbody>\n",
       "    <tr>\n",
       "      <th>0</th>\n",
       "      <td>7333</td>\n",
       "      <td>INFJ</td>\n",
       "      <td>'FDT Yes, you are correct. I don't know who yo...</td>\n",
       "    </tr>\n",
       "    <tr>\n",
       "      <th>1</th>\n",
       "      <td>8403</td>\n",
       "      <td>INFJ</td>\n",
       "      <td>'Almost everything you wrote sounds like me.. ...</td>\n",
       "    </tr>\n",
       "    <tr>\n",
       "      <th>2</th>\n",
       "      <td>4562</td>\n",
       "      <td>INFJ</td>\n",
       "      <td>'I suffered with BDD for around 7 years and ev...</td>\n",
       "    </tr>\n",
       "    <tr>\n",
       "      <th>3</th>\n",
       "      <td>720</td>\n",
       "      <td>INFJ</td>\n",
       "      <td>'Do you think that there should be sparks on a...</td>\n",
       "    </tr>\n",
       "    <tr>\n",
       "      <th>4</th>\n",
       "      <td>3657</td>\n",
       "      <td>INFJ</td>\n",
       "      <td>'It does sound like anxiety to me, especially ...</td>\n",
       "    </tr>\n",
       "  </tbody>\n",
       "</table>\n",
       "</div>"
      ],
      "text/plain": [
       "   Unnamed: 0  type                                              posts\n",
       "0        7333  INFJ  'FDT Yes, you are correct. I don't know who yo...\n",
       "1        8403  INFJ  'Almost everything you wrote sounds like me.. ...\n",
       "2        4562  INFJ  'I suffered with BDD for around 7 years and ev...\n",
       "3         720  INFJ  'Do you think that there should be sparks on a...\n",
       "4        3657  INFJ  'It does sound like anxiety to me, especially ..."
      ]
     },
     "execution_count": 2,
     "metadata": {},
     "output_type": "execute_result"
    }
   ],
   "source": [
    "data = pd.read_csv('Resources/mbti_randomSample.csv')\n",
    "data.head()"
   ]
  },
  {
   "cell_type": "code",
   "execution_count": 101,
   "id": "19ae3499",
   "metadata": {},
   "outputs": [],
   "source": [
    "test_data = pd.read_csv('Resources/mbti_1.csv')"
   ]
  },
  {
   "cell_type": "code",
   "execution_count": 3,
   "id": "7300aca1",
   "metadata": {},
   "outputs": [
    {
     "data": {
      "text/html": [
       "<div>\n",
       "<style scoped>\n",
       "    .dataframe tbody tr th:only-of-type {\n",
       "        vertical-align: middle;\n",
       "    }\n",
       "\n",
       "    .dataframe tbody tr th {\n",
       "        vertical-align: top;\n",
       "    }\n",
       "\n",
       "    .dataframe thead th {\n",
       "        text-align: right;\n",
       "    }\n",
       "</style>\n",
       "<table border=\"1\" class=\"dataframe\">\n",
       "  <thead>\n",
       "    <tr style=\"text-align: right;\">\n",
       "      <th></th>\n",
       "      <th>Unnamed: 0</th>\n",
       "      <th>type</th>\n",
       "      <th>posts</th>\n",
       "      <th>posts_array</th>\n",
       "    </tr>\n",
       "  </thead>\n",
       "  <tbody>\n",
       "    <tr>\n",
       "      <th>0</th>\n",
       "      <td>7333</td>\n",
       "      <td>INFJ</td>\n",
       "      <td>'FDT Yes, you are correct. I don't know who yo...</td>\n",
       "      <td>['FDT Yes, you are correct. I don't know who y...</td>\n",
       "    </tr>\n",
       "    <tr>\n",
       "      <th>1</th>\n",
       "      <td>8403</td>\n",
       "      <td>INFJ</td>\n",
       "      <td>'Almost everything you wrote sounds like me.. ...</td>\n",
       "      <td>['Almost everything you wrote sounds like me.....</td>\n",
       "    </tr>\n",
       "    <tr>\n",
       "      <th>2</th>\n",
       "      <td>4562</td>\n",
       "      <td>INFJ</td>\n",
       "      <td>'I suffered with BDD for around 7 years and ev...</td>\n",
       "      <td>['I suffered with BDD for around 7 years and e...</td>\n",
       "    </tr>\n",
       "    <tr>\n",
       "      <th>3</th>\n",
       "      <td>720</td>\n",
       "      <td>INFJ</td>\n",
       "      <td>'Do you think that there should be sparks on a...</td>\n",
       "      <td>['Do you think that there should be sparks on ...</td>\n",
       "    </tr>\n",
       "    <tr>\n",
       "      <th>4</th>\n",
       "      <td>3657</td>\n",
       "      <td>INFJ</td>\n",
       "      <td>'It does sound like anxiety to me, especially ...</td>\n",
       "      <td>['It does sound like anxiety to me, especially...</td>\n",
       "    </tr>\n",
       "  </tbody>\n",
       "</table>\n",
       "</div>"
      ],
      "text/plain": [
       "   Unnamed: 0  type                                              posts  \\\n",
       "0        7333  INFJ  'FDT Yes, you are correct. I don't know who yo...   \n",
       "1        8403  INFJ  'Almost everything you wrote sounds like me.. ...   \n",
       "2        4562  INFJ  'I suffered with BDD for around 7 years and ev...   \n",
       "3         720  INFJ  'Do you think that there should be sparks on a...   \n",
       "4        3657  INFJ  'It does sound like anxiety to me, especially ...   \n",
       "\n",
       "                                         posts_array  \n",
       "0  ['FDT Yes, you are correct. I don't know who y...  \n",
       "1  ['Almost everything you wrote sounds like me.....  \n",
       "2  ['I suffered with BDD for around 7 years and e...  \n",
       "3  ['Do you think that there should be sparks on ...  \n",
       "4  ['It does sound like anxiety to me, especially...  "
      ]
     },
     "execution_count": 3,
     "metadata": {},
     "output_type": "execute_result"
    }
   ],
   "source": [
    "#split the posts into arrays \n",
    "data['posts_array']= [[x for x in post.split('|||') if len(x)>0] for post in data['posts']]\n",
    "data.head()"
   ]
  },
  {
   "cell_type": "code",
   "execution_count": 102,
   "id": "2fd909a9",
   "metadata": {},
   "outputs": [],
   "source": [
    "test_data['posts_array']= [[x for x in post.split('|||') if len(x)>0] for post in test_data['posts']]"
   ]
  },
  {
   "cell_type": "code",
   "execution_count": 4,
   "id": "0a03189d",
   "metadata": {},
   "outputs": [],
   "source": [
    "#create columns for individual letters \n",
    "for index, row in data.iterrows(): \n",
    "    mbti_type = list(row['type'])\n",
    "    data.loc[index,'IorE']=mbti_type[0]\n",
    "    data.loc[index,'SorN']=mbti_type[1]\n",
    "    data.loc[index,'TorF']=mbti_type[2]\n",
    "    data.loc[index,'PorJ']=mbti_type[3]"
   ]
  },
  {
   "cell_type": "code",
   "execution_count": 103,
   "id": "8a642e05",
   "metadata": {},
   "outputs": [],
   "source": [
    "#create columns for individual letters \n",
    "for index, row in test_data.iterrows(): \n",
    "    mbti_type = list(row['type'])\n",
    "    test_data.loc[index,'IorE']=mbti_type[0]\n",
    "    test_data.loc[index,'SorN']=mbti_type[1]\n",
    "    test_data.loc[index,'TorF']=mbti_type[2]\n",
    "    test_data.loc[index,'PorJ']=mbti_type[3]"
   ]
  },
  {
   "cell_type": "markdown",
   "id": "7605ebcc",
   "metadata": {},
   "source": [
    "# Feature: Number of Links per post "
   ]
  },
  {
   "cell_type": "code",
   "execution_count": 28,
   "id": "450f905c",
   "metadata": {},
   "outputs": [
    {
     "name": "stderr",
     "output_type": "stream",
     "text": [
      "<ipython-input-28-fd578c353658>:12: SettingWithCopyWarning: \n",
      "A value is trying to be set on a copy of a slice from a DataFrame\n",
      "\n",
      "See the caveats in the documentation: https://pandas.pydata.org/pandas-docs/stable/user_guide/indexing.html#returning-a-view-versus-a-copy\n",
      "  data['No_links'][index] = temp_a\n",
      "<ipython-input-28-fd578c353658>:13: SettingWithCopyWarning: \n",
      "A value is trying to be set on a copy of a slice from a DataFrame\n",
      "\n",
      "See the caveats in the documentation: https://pandas.pydata.org/pandas-docs/stable/user_guide/indexing.html#returning-a-view-versus-a-copy\n",
      "  data['Cnt_hyperlinks'][index] = cnt_hyperlinks/len(row['posts_array'])\n"
     ]
    }
   ],
   "source": [
    "#creating Feature for #of Hyperlinks in posts & array of posts without any hyper links\n",
    "data['No_links']=\"\"\n",
    "data['Cnt_hyperlinks']=\"\"\n",
    "for index, row in data.iterrows():\n",
    "    temp_a = []\n",
    "    cnt_hyperlinks = 0\n",
    "    for i in row['posts_array']: \n",
    "        if i.count('http')>0:\n",
    "            cnt_hyperlinks = cnt_hyperlinks+1\n",
    "        else: \n",
    "            temp_a.append(i)\n",
    "    data['No_links'][index] = temp_a\n",
    "    data['Cnt_hyperlinks'][index] = cnt_hyperlinks/len(row['posts_array']) \n",
    "\n",
    "    #count hyper links per post "
   ]
  },
  {
   "cell_type": "code",
   "execution_count": 104,
   "id": "a742ac83",
   "metadata": {},
   "outputs": [],
   "source": [
    "#creating Feature for #of Hyperlinks in posts & array of posts without any hyper links\n",
    "test_data['No_links']=\"\"\n",
    "test_data['Cnt_hyperlinks']=\"\"\n",
    "for index, row in test_data.iterrows():\n",
    "    temp_a = []\n",
    "    cnt_hyperlinks = 0\n",
    "    for i in row['posts_array']: \n",
    "        if i.count('http')>0:\n",
    "            cnt_hyperlinks = cnt_hyperlinks+1\n",
    "        else: \n",
    "            temp_a.append(i)\n",
    "    test_data['No_links'][index] = temp_a\n",
    "    test_data['Cnt_hyperlinks'][index] = cnt_hyperlinks/len(row['posts_array']) \n",
    "\n",
    "    #count hyper links per post "
   ]
  },
  {
   "cell_type": "code",
   "execution_count": 29,
   "id": "9302a50a",
   "metadata": {},
   "outputs": [
    {
     "data": {
      "text/html": [
       "<div>\n",
       "<style scoped>\n",
       "    .dataframe tbody tr th:only-of-type {\n",
       "        vertical-align: middle;\n",
       "    }\n",
       "\n",
       "    .dataframe tbody tr th {\n",
       "        vertical-align: top;\n",
       "    }\n",
       "\n",
       "    .dataframe thead th {\n",
       "        text-align: right;\n",
       "    }\n",
       "</style>\n",
       "<table border=\"1\" class=\"dataframe\">\n",
       "  <thead>\n",
       "    <tr style=\"text-align: right;\">\n",
       "      <th></th>\n",
       "      <th>Unnamed: 0</th>\n",
       "      <th>type</th>\n",
       "      <th>posts</th>\n",
       "      <th>posts_array</th>\n",
       "      <th>IorE</th>\n",
       "      <th>SorN</th>\n",
       "      <th>TorF</th>\n",
       "      <th>PorJ</th>\n",
       "      <th>No_links</th>\n",
       "      <th>Cnt_hyperlinks</th>\n",
       "    </tr>\n",
       "  </thead>\n",
       "  <tbody>\n",
       "    <tr>\n",
       "      <th>0</th>\n",
       "      <td>7333</td>\n",
       "      <td>INFJ</td>\n",
       "      <td>'FDT Yes, you are correct. I don't know who yo...</td>\n",
       "      <td>['FDT Yes, you are correct. I don't know who y...</td>\n",
       "      <td>I</td>\n",
       "      <td>N</td>\n",
       "      <td>F</td>\n",
       "      <td>J</td>\n",
       "      <td>['FDT Yes, you are correct. I don't know who y...</td>\n",
       "      <td>0.0</td>\n",
       "    </tr>\n",
       "    <tr>\n",
       "      <th>1</th>\n",
       "      <td>8403</td>\n",
       "      <td>INFJ</td>\n",
       "      <td>'Almost everything you wrote sounds like me.. ...</td>\n",
       "      <td>['Almost everything you wrote sounds like me.....</td>\n",
       "      <td>I</td>\n",
       "      <td>N</td>\n",
       "      <td>F</td>\n",
       "      <td>J</td>\n",
       "      <td>['Almost everything you wrote sounds like me.....</td>\n",
       "      <td>0.02</td>\n",
       "    </tr>\n",
       "    <tr>\n",
       "      <th>2</th>\n",
       "      <td>4562</td>\n",
       "      <td>INFJ</td>\n",
       "      <td>'I suffered with BDD for around 7 years and ev...</td>\n",
       "      <td>['I suffered with BDD for around 7 years and e...</td>\n",
       "      <td>I</td>\n",
       "      <td>N</td>\n",
       "      <td>F</td>\n",
       "      <td>J</td>\n",
       "      <td>['I suffered with BDD for around 7 years and e...</td>\n",
       "      <td>0.02</td>\n",
       "    </tr>\n",
       "    <tr>\n",
       "      <th>3</th>\n",
       "      <td>720</td>\n",
       "      <td>INFJ</td>\n",
       "      <td>'Do you think that there should be sparks on a...</td>\n",
       "      <td>['Do you think that there should be sparks on ...</td>\n",
       "      <td>I</td>\n",
       "      <td>N</td>\n",
       "      <td>F</td>\n",
       "      <td>J</td>\n",
       "      <td>['Do you think that there should be sparks on ...</td>\n",
       "      <td>0.0</td>\n",
       "    </tr>\n",
       "    <tr>\n",
       "      <th>4</th>\n",
       "      <td>3657</td>\n",
       "      <td>INFJ</td>\n",
       "      <td>'It does sound like anxiety to me, especially ...</td>\n",
       "      <td>['It does sound like anxiety to me, especially...</td>\n",
       "      <td>I</td>\n",
       "      <td>N</td>\n",
       "      <td>F</td>\n",
       "      <td>J</td>\n",
       "      <td>['It does sound like anxiety to me, especially...</td>\n",
       "      <td>0.06</td>\n",
       "    </tr>\n",
       "  </tbody>\n",
       "</table>\n",
       "</div>"
      ],
      "text/plain": [
       "   Unnamed: 0  type                                              posts  \\\n",
       "0        7333  INFJ  'FDT Yes, you are correct. I don't know who yo...   \n",
       "1        8403  INFJ  'Almost everything you wrote sounds like me.. ...   \n",
       "2        4562  INFJ  'I suffered with BDD for around 7 years and ev...   \n",
       "3         720  INFJ  'Do you think that there should be sparks on a...   \n",
       "4        3657  INFJ  'It does sound like anxiety to me, especially ...   \n",
       "\n",
       "                                         posts_array IorE SorN TorF PorJ  \\\n",
       "0  ['FDT Yes, you are correct. I don't know who y...    I    N    F    J   \n",
       "1  ['Almost everything you wrote sounds like me.....    I    N    F    J   \n",
       "2  ['I suffered with BDD for around 7 years and e...    I    N    F    J   \n",
       "3  ['Do you think that there should be sparks on ...    I    N    F    J   \n",
       "4  ['It does sound like anxiety to me, especially...    I    N    F    J   \n",
       "\n",
       "                                            No_links Cnt_hyperlinks  \n",
       "0  ['FDT Yes, you are correct. I don't know who y...            0.0  \n",
       "1  ['Almost everything you wrote sounds like me.....           0.02  \n",
       "2  ['I suffered with BDD for around 7 years and e...           0.02  \n",
       "3  ['Do you think that there should be sparks on ...            0.0  \n",
       "4  ['It does sound like anxiety to me, especially...           0.06  "
      ]
     },
     "execution_count": 29,
     "metadata": {},
     "output_type": "execute_result"
    }
   ],
   "source": [
    "data.head()"
   ]
  },
  {
   "cell_type": "code",
   "execution_count": 30,
   "id": "983ec8c1",
   "metadata": {},
   "outputs": [
    {
     "data": {
      "text/plain": [
       "Text(0.5, 1.0, 'P vs J')"
      ]
     },
     "execution_count": 30,
     "metadata": {},
     "output_type": "execute_result"
    },
    {
     "data": {
      "image/png": "[encoded data removed]",
      "text/plain": [
       "<Figure size 432x288 with 4 Axes>"
      ]
     },
     "metadata": {
      "needs_background": "light"
     },
     "output_type": "display_data"
    }
   ],
   "source": [
    "fig, axs = plt.subplots(2,2) \n",
    "bins = np.linspace(0,.6,20)\n",
    "\n",
    "axs[0, 0].hist(data[data['IorE']=='I']['Cnt_hyperlinks'], bins, alpha=0.5, label='I')\n",
    "axs[0, 0].hist(data[data['IorE']=='E']['Cnt_hyperlinks'], bins, alpha=0.5, label='E')\n",
    "axs[0, 0].legend(loc='upper right')\n",
    "axs[0, 0].set_title('I vs E')\n",
    "\n",
    "axs[0, 1].hist(data[data['SorN']=='S']['Cnt_hyperlinks'], bins, alpha=0.5, label='S')\n",
    "axs[0, 1].hist(data[data['SorN']=='N']['Cnt_hyperlinks'], bins, alpha=0.5, label='N')\n",
    "axs[0, 1].legend(loc='upper right')\n",
    "axs[0, 1].set_title('S vs N')\n",
    "\n",
    "\n",
    "axs[1, 0].hist(data[data['TorF']=='T']['Cnt_hyperlinks'], bins, alpha=0.5, label='T')\n",
    "axs[1, 0].hist(data[data['TorF']=='F']['Cnt_hyperlinks'], bins, alpha=0.5, label='F')\n",
    "axs[1, 0].legend(loc='upper right')\n",
    "axs[1, 0].set_title('T vs F')\n",
    "\n",
    "axs[1, 1].hist(data[data['PorJ']=='P']['Cnt_hyperlinks'], bins, alpha=0.5, label='P')\n",
    "axs[1, 1].hist(data[data['PorJ']=='J']['Cnt_hyperlinks'], bins, alpha=0.5, label='J')\n",
    "axs[1, 1].legend(loc='upper right')\n",
    "axs[1, 1].set_title('P vs J')\n"
   ]
  },
  {
   "cell_type": "markdown",
   "id": "32837cf7",
   "metadata": {},
   "source": [
    "# Feature: Emoji Used "
   ]
  },
  {
   "cell_type": "code",
   "execution_count": 31,
   "id": "da312277",
   "metadata": {},
   "outputs": [],
   "source": [
    "import regex as re,emoji,string"
   ]
  },
  {
   "cell_type": "code",
   "execution_count": 32,
   "id": "f4e6988f",
   "metadata": {},
   "outputs": [],
   "source": [
    "def find_emoji(text):\n",
    "\n",
    "    emoji_list = []\n",
    "    data = re.findall(r'\\X', text)\n",
    "    for word in data:\n",
    "        if any(char in emoji.UNICODE_EMOJI['en'] for char in word):\n",
    "            emoji_list.append(word)\n",
    "    \n",
    "    return emoji_list"
   ]
  },
  {
   "cell_type": "code",
   "execution_count": 33,
   "id": "af613594",
   "metadata": {},
   "outputs": [],
   "source": [
    "data['emoji_count']=[len(find_emoji(post)) for post in data['posts']]"
   ]
  },
  {
   "cell_type": "code",
   "execution_count": 106,
   "id": "edfdbb7b",
   "metadata": {},
   "outputs": [],
   "source": [
    "test_data['emoji_count']=[len(find_emoji(post)) for post in test_data['posts']]"
   ]
  },
  {
   "cell_type": "code",
   "execution_count": 34,
   "id": "a58519e0",
   "metadata": {},
   "outputs": [],
   "source": [
    "data['emojis']=[find_emoji(post) for post in data['posts']]"
   ]
  },
  {
   "cell_type": "code",
   "execution_count": 107,
   "id": "afc5abeb",
   "metadata": {},
   "outputs": [],
   "source": [
    "test_data['emojis']=[find_emoji(post) for post in test_data['posts']]"
   ]
  },
  {
   "cell_type": "code",
   "execution_count": 35,
   "id": "bfa1010b",
   "metadata": {},
   "outputs": [
    {
     "data": {
      "text/plain": [
       "0    397\n",
       "1      3\n",
       "Name: emoji_count, dtype: int64"
      ]
     },
     "execution_count": 35,
     "metadata": {},
     "output_type": "execute_result"
    }
   ],
   "source": [
    "data['emoji_count'].value_counts()"
   ]
  },
  {
   "cell_type": "markdown",
   "id": "749b6a40",
   "metadata": {},
   "source": [
    "# Feature: Number of Posts "
   ]
  },
  {
   "cell_type": "code",
   "execution_count": 36,
   "id": "0ea5f632",
   "metadata": {},
   "outputs": [],
   "source": [
    "data['num_posts'] = [len(array) for array in data['posts_array']]"
   ]
  },
  {
   "cell_type": "code",
   "execution_count": 108,
   "id": "2f26e8c5",
   "metadata": {},
   "outputs": [],
   "source": [
    "test_data['num_posts'] = [len(array) for array in test_data['posts_array']]"
   ]
  },
  {
   "cell_type": "code",
   "execution_count": 37,
   "id": "1d3271e0",
   "metadata": {},
   "outputs": [
    {
     "data": {
      "text/plain": [
       "Text(0.5, 1.0, 'P vs J')"
      ]
     },
     "execution_count": 37,
     "metadata": {},
     "output_type": "execute_result"
    },
    {
     "data": {
      "image/png": "[encoded data removed]",
      "text/plain": [
       "<Figure size 432x288 with 4 Axes>"
      ]
     },
     "metadata": {
      "needs_background": "light"
     },
     "output_type": "display_data"
    }
   ],
   "source": [
    "fig, axs = plt.subplots(2,2) \n",
    "bins = np.linspace(0,50,20)\n",
    "\n",
    "axs[0, 0].hist(data[data['IorE']=='I']['num_posts'], bins, alpha=0.5, label='I')\n",
    "axs[0, 0].hist(data[data['IorE']=='E']['num_posts'], bins, alpha=0.5, label='E')\n",
    "axs[0, 0].legend(loc='upper left')\n",
    "axs[0, 0].set_title('I vs E')\n",
    "\n",
    "axs[0, 1].hist(data[data['SorN']=='S']['num_posts'], bins, alpha=0.5, label='S')\n",
    "axs[0, 1].hist(data[data['SorN']=='N']['num_posts'], bins, alpha=0.5, label='N')\n",
    "axs[0, 1].legend(loc='upper left')\n",
    "axs[0, 1].set_title('S vs N')\n",
    "\n",
    "\n",
    "axs[1, 0].hist(data[data['TorF']=='T']['num_posts'], bins, alpha=0.5, label='T')\n",
    "axs[1, 0].hist(data[data['TorF']=='F']['num_posts'], bins, alpha=0.5, label='F')\n",
    "axs[1, 0].legend(loc='upper left')\n",
    "axs[1, 0].set_title('T vs F')\n",
    "\n",
    "axs[1, 1].hist(data[data['PorJ']=='P']['num_posts'], bins, alpha=0.5, label='P')\n",
    "axs[1, 1].hist(data[data['PorJ']=='J']['num_posts'], bins, alpha=0.5, label='J')\n",
    "axs[1, 1].legend(loc='upper left')\n",
    "axs[1, 1].set_title('P vs J')\n"
   ]
  },
  {
   "cell_type": "code",
   "execution_count": null,
   "id": "9793bfeb",
   "metadata": {},
   "outputs": [],
   "source": []
  },
  {
   "cell_type": "code",
   "execution_count": 38,
   "id": "067612a1",
   "metadata": {},
   "outputs": [],
   "source": [
    "import nltk\n",
    "from nltk.corpus import stopwords\n",
    "from nltk.stem import WordNetLemmatizer \n",
    "from textblob import TextBlob"
   ]
  },
  {
   "cell_type": "code",
   "execution_count": 39,
   "id": "3bb88460",
   "metadata": {},
   "outputs": [
    {
     "name": "stderr",
     "output_type": "stream",
     "text": [
      "[nltk_data] Downloading package punkt to\n",
      "[nltk_data]     C:\\Users\\Hannah\\AppData\\Roaming\\nltk_data...\n",
      "[nltk_data]   Package punkt is already up-to-date!\n",
      "[nltk_data] Downloading package stopwords to\n",
      "[nltk_data]     C:\\Users\\Hannah\\AppData\\Roaming\\nltk_data...\n",
      "[nltk_data]   Package stopwords is already up-to-date!\n",
      "[nltk_data] Downloading package omw-1.4 to\n",
      "[nltk_data]     C:\\Users\\Hannah\\AppData\\Roaming\\nltk_data...\n",
      "[nltk_data]   Package omw-1.4 is already up-to-date!\n",
      "[nltk_data] Downloading package wordnet to\n",
      "[nltk_data]     C:\\Users\\Hannah\\AppData\\Roaming\\nltk_data...\n",
      "[nltk_data]   Package wordnet is already up-to-date!\n"
     ]
    },
    {
     "data": {
      "text/plain": [
       "True"
      ]
     },
     "execution_count": 39,
     "metadata": {},
     "output_type": "execute_result"
    }
   ],
   "source": [
    "nltk.download('punkt')\n",
    "nltk.download('stopwords')\n",
    "nltk.download('omw-1.4')\n",
    "nltk.download('wordnet')"
   ]
  },
  {
   "cell_type": "code",
   "execution_count": 40,
   "id": "5025370f",
   "metadata": {},
   "outputs": [],
   "source": [
    "sw = stopwords.words('english')\n",
    "\n",
    "def clean_text(text):\n",
    "    text = text.lower()\n",
    "    text = re.sub('@', '', text)\n",
    "    text = re.sub('\\[.*?\\]', '', text)\n",
    "    text = re.sub('https?://\\S+|www\\.\\S+', '', text)\n",
    "    text = re.sub('<.*?>+', '', text)\n",
    "    text = re.sub('[%s]' % re.escape(string.punctuation), '', text)\n",
    "    text = re.sub('\\n', '', text)\n",
    "    text = re.sub('\\w*\\d\\w*', '', text)\n",
    "    text = re.sub(r\"[^a-zA-Z ]+\", \"\", text)\n",
    "    \n",
    "    #Tokenize the data\n",
    "    text = nltk.word_tokenize(text)\n",
    "    #Remove stopwords\n",
    "    text = [w for w in text if w not in sw]\n",
    "    return text"
   ]
  },
  {
   "cell_type": "code",
   "execution_count": 41,
   "id": "cdfd149c",
   "metadata": {},
   "outputs": [],
   "source": [
    "data['clean_posts']=data['posts'].apply(lambda x: clean_text(x))"
   ]
  },
  {
   "cell_type": "code",
   "execution_count": 109,
   "id": "f2c0d232",
   "metadata": {},
   "outputs": [],
   "source": [
    "test_data['clean_posts']=test_data['posts'].apply(lambda x: clean_text(x))"
   ]
  },
  {
   "cell_type": "code",
   "execution_count": 42,
   "id": "7c7f400e",
   "metadata": {},
   "outputs": [
    {
     "data": {
      "text/html": [
       "<div>\n",
       "<style scoped>\n",
       "    .dataframe tbody tr th:only-of-type {\n",
       "        vertical-align: middle;\n",
       "    }\n",
       "\n",
       "    .dataframe tbody tr th {\n",
       "        vertical-align: top;\n",
       "    }\n",
       "\n",
       "    .dataframe thead th {\n",
       "        text-align: right;\n",
       "    }\n",
       "</style>\n",
       "<table border=\"1\" class=\"dataframe\">\n",
       "  <thead>\n",
       "    <tr style=\"text-align: right;\">\n",
       "      <th></th>\n",
       "      <th>Unnamed: 0</th>\n",
       "      <th>type</th>\n",
       "      <th>posts</th>\n",
       "      <th>posts_array</th>\n",
       "      <th>IorE</th>\n",
       "      <th>SorN</th>\n",
       "      <th>TorF</th>\n",
       "      <th>PorJ</th>\n",
       "      <th>No_links</th>\n",
       "      <th>Cnt_hyperlinks</th>\n",
       "      <th>emoji_count</th>\n",
       "      <th>emojis</th>\n",
       "      <th>num_posts</th>\n",
       "      <th>clean_posts</th>\n",
       "    </tr>\n",
       "  </thead>\n",
       "  <tbody>\n",
       "    <tr>\n",
       "      <th>0</th>\n",
       "      <td>7333</td>\n",
       "      <td>INFJ</td>\n",
       "      <td>'FDT Yes, you are correct. I don't know who yo...</td>\n",
       "      <td>['FDT Yes, you are correct. I don't know who y...</td>\n",
       "      <td>I</td>\n",
       "      <td>N</td>\n",
       "      <td>F</td>\n",
       "      <td>J</td>\n",
       "      <td>['FDT Yes, you are correct. I don't know who y...</td>\n",
       "      <td>0.0</td>\n",
       "      <td>0</td>\n",
       "      <td>[]</td>\n",
       "      <td>50</td>\n",
       "      <td>[fdt, yes, correct, dont, know, sorry, overste...</td>\n",
       "    </tr>\n",
       "    <tr>\n",
       "      <th>1</th>\n",
       "      <td>8403</td>\n",
       "      <td>INFJ</td>\n",
       "      <td>'Almost everything you wrote sounds like me.. ...</td>\n",
       "      <td>['Almost everything you wrote sounds like me.....</td>\n",
       "      <td>I</td>\n",
       "      <td>N</td>\n",
       "      <td>F</td>\n",
       "      <td>J</td>\n",
       "      <td>['Almost everything you wrote sounds like me.....</td>\n",
       "      <td>0.02</td>\n",
       "      <td>0</td>\n",
       "      <td>[]</td>\n",
       "      <td>50</td>\n",
       "      <td>[almost, everything, wrote, sounds, like, sadt...</td>\n",
       "    </tr>\n",
       "    <tr>\n",
       "      <th>2</th>\n",
       "      <td>4562</td>\n",
       "      <td>INFJ</td>\n",
       "      <td>'I suffered with BDD for around 7 years and ev...</td>\n",
       "      <td>['I suffered with BDD for around 7 years and e...</td>\n",
       "      <td>I</td>\n",
       "      <td>N</td>\n",
       "      <td>F</td>\n",
       "      <td>J</td>\n",
       "      <td>['I suffered with BDD for around 7 years and e...</td>\n",
       "      <td>0.02</td>\n",
       "      <td>0</td>\n",
       "      <td>[]</td>\n",
       "      <td>50</td>\n",
       "      <td>[suffered, bdd, around, years, even, though, i...</td>\n",
       "    </tr>\n",
       "    <tr>\n",
       "      <th>3</th>\n",
       "      <td>720</td>\n",
       "      <td>INFJ</td>\n",
       "      <td>'Do you think that there should be sparks on a...</td>\n",
       "      <td>['Do you think that there should be sparks on ...</td>\n",
       "      <td>I</td>\n",
       "      <td>N</td>\n",
       "      <td>F</td>\n",
       "      <td>J</td>\n",
       "      <td>['Do you think that there should be sparks on ...</td>\n",
       "      <td>0.0</td>\n",
       "      <td>0</td>\n",
       "      <td>[]</td>\n",
       "      <td>50</td>\n",
       "      <td>[think, sparks, first, date, thats, requiremen...</td>\n",
       "    </tr>\n",
       "    <tr>\n",
       "      <th>4</th>\n",
       "      <td>3657</td>\n",
       "      <td>INFJ</td>\n",
       "      <td>'It does sound like anxiety to me, especially ...</td>\n",
       "      <td>['It does sound like anxiety to me, especially...</td>\n",
       "      <td>I</td>\n",
       "      <td>N</td>\n",
       "      <td>F</td>\n",
       "      <td>J</td>\n",
       "      <td>['It does sound like anxiety to me, especially...</td>\n",
       "      <td>0.06</td>\n",
       "      <td>0</td>\n",
       "      <td>[]</td>\n",
       "      <td>50</td>\n",
       "      <td>[sound, like, anxiety, especially, since, deve...</td>\n",
       "    </tr>\n",
       "  </tbody>\n",
       "</table>\n",
       "</div>"
      ],
      "text/plain": [
       "   Unnamed: 0  type                                              posts  \\\n",
       "0        7333  INFJ  'FDT Yes, you are correct. I don't know who yo...   \n",
       "1        8403  INFJ  'Almost everything you wrote sounds like me.. ...   \n",
       "2        4562  INFJ  'I suffered with BDD for around 7 years and ev...   \n",
       "3         720  INFJ  'Do you think that there should be sparks on a...   \n",
       "4        3657  INFJ  'It does sound like anxiety to me, especially ...   \n",
       "\n",
       "                                         posts_array IorE SorN TorF PorJ  \\\n",
       "0  ['FDT Yes, you are correct. I don't know who y...    I    N    F    J   \n",
       "1  ['Almost everything you wrote sounds like me.....    I    N    F    J   \n",
       "2  ['I suffered with BDD for around 7 years and e...    I    N    F    J   \n",
       "3  ['Do you think that there should be sparks on ...    I    N    F    J   \n",
       "4  ['It does sound like anxiety to me, especially...    I    N    F    J   \n",
       "\n",
       "                                            No_links Cnt_hyperlinks  \\\n",
       "0  ['FDT Yes, you are correct. I don't know who y...            0.0   \n",
       "1  ['Almost everything you wrote sounds like me.....           0.02   \n",
       "2  ['I suffered with BDD for around 7 years and e...           0.02   \n",
       "3  ['Do you think that there should be sparks on ...            0.0   \n",
       "4  ['It does sound like anxiety to me, especially...           0.06   \n",
       "\n",
       "   emoji_count emojis  num_posts  \\\n",
       "0            0     []         50   \n",
       "1            0     []         50   \n",
       "2            0     []         50   \n",
       "3            0     []         50   \n",
       "4            0     []         50   \n",
       "\n",
       "                                         clean_posts  \n",
       "0  [fdt, yes, correct, dont, know, sorry, overste...  \n",
       "1  [almost, everything, wrote, sounds, like, sadt...  \n",
       "2  [suffered, bdd, around, years, even, though, i...  \n",
       "3  [think, sparks, first, date, thats, requiremen...  \n",
       "4  [sound, like, anxiety, especially, since, deve...  "
      ]
     },
     "execution_count": 42,
     "metadata": {},
     "output_type": "execute_result"
    }
   ],
   "source": [
    "data.head()"
   ]
  },
  {
   "cell_type": "code",
   "execution_count": 43,
   "id": "d262f906",
   "metadata": {},
   "outputs": [],
   "source": [
    "#Lemmatizer\n",
    "lemmatizer = WordNetLemmatizer()\n",
    "def lem(text):\n",
    "    text = [lemmatizer.lemmatize(t) for t in text]\n",
    "    text = [lemmatizer.lemmatize(t, 'v') for t in text]\n",
    "    return text\n",
    "data['clean_posts'] = data['clean_posts'].apply(lambda x: lem(x))"
   ]
  },
  {
   "cell_type": "code",
   "execution_count": 110,
   "id": "2f374add",
   "metadata": {},
   "outputs": [],
   "source": [
    "test_data['clean_posts'] = test_data['clean_posts'].apply(lambda x: lem(x))"
   ]
  },
  {
   "cell_type": "code",
   "execution_count": 44,
   "id": "faa62f87",
   "metadata": {},
   "outputs": [],
   "source": [
    "data['clean_posts']=[str(thing) for thing in data['clean_posts']]"
   ]
  },
  {
   "cell_type": "code",
   "execution_count": 111,
   "id": "6b541bdf",
   "metadata": {},
   "outputs": [],
   "source": [
    "test_data['clean_posts']=[str(thing) for thing in test_data['clean_posts']]"
   ]
  },
  {
   "cell_type": "code",
   "execution_count": 45,
   "id": "d28462a8",
   "metadata": {},
   "outputs": [],
   "source": [
    "sentiment = []\n",
    "for i in range(len(data)):\n",
    "    blob = TextBlob(data['clean_posts'][i])\n",
    "    for sentence in blob.sentences:\n",
    "        sentiment.append(sentence.sentiment.polarity)\n",
    "data['sentiment']=sentiment"
   ]
  },
  {
   "cell_type": "code",
   "execution_count": 112,
   "id": "63d07ef0",
   "metadata": {},
   "outputs": [],
   "source": [
    "sentiment = []\n",
    "for i in range(len(test_data)):\n",
    "    blob = TextBlob(test_data['clean_posts'][i])\n",
    "    for sentence in blob.sentences:\n",
    "        sentiment.append(sentence.sentiment.polarity)\n",
    "test_data['sentiment']=sentiment"
   ]
  },
  {
   "cell_type": "code",
   "execution_count": 46,
   "id": "381cdd50",
   "metadata": {},
   "outputs": [
    {
     "data": {
      "text/plain": [
       "Text(0.5, 1.0, 'P vs J')"
      ]
     },
     "execution_count": 46,
     "metadata": {},
     "output_type": "execute_result"
    },
    {
     "data": {
      "image/png": "[encoded data removed]",
      "text/plain": [
       "<Figure size 432x288 with 4 Axes>"
      ]
     },
     "metadata": {
      "needs_background": "light"
     },
     "output_type": "display_data"
    }
   ],
   "source": [
    "fig, axs = plt.subplots(2,2) \n",
    "bins = np.linspace(0,.3,20)\n",
    "\n",
    "axs[0, 0].hist(data[data['IorE']=='I']['sentiment'], bins, alpha=0.5, label='I')\n",
    "axs[0, 0].hist(data[data['IorE']=='E']['sentiment'], bins, alpha=0.5, label='E')\n",
    "axs[0, 0].legend(loc='upper left')\n",
    "axs[0, 0].set_title('I vs E')\n",
    "\n",
    "axs[0, 1].hist(data[data['SorN']=='S']['sentiment'], bins, alpha=0.5, label='S')\n",
    "axs[0, 1].hist(data[data['SorN']=='N']['sentiment'], bins, alpha=0.5, label='N')\n",
    "axs[0, 1].legend(loc='upper left')\n",
    "axs[0, 1].set_title('S vs N')\n",
    "\n",
    "\n",
    "axs[1, 0].hist(data[data['TorF']=='T']['sentiment'], bins, alpha=0.5, label='T')\n",
    "axs[1, 0].hist(data[data['TorF']=='F']['sentiment'], bins, alpha=0.5, label='F')\n",
    "axs[1, 0].legend(loc='upper left')\n",
    "axs[1, 0].set_title('T vs F')\n",
    "\n",
    "axs[1, 1].hist(data[data['PorJ']=='P']['sentiment'], bins, alpha=0.5, label='P')\n",
    "axs[1, 1].hist(data[data['PorJ']=='J']['sentiment'], bins, alpha=0.5, label='J')\n",
    "axs[1, 1].legend(loc='upper left')\n",
    "axs[1, 1].set_title('P vs J')"
   ]
  },
  {
   "cell_type": "code",
   "execution_count": null,
   "id": "1166a495",
   "metadata": {},
   "outputs": [],
   "source": []
  },
  {
   "cell_type": "code",
   "execution_count": 48,
   "id": "e772a790",
   "metadata": {},
   "outputs": [],
   "source": [
    "from sklearn.feature_extraction.text import CountVectorizer"
   ]
  },
  {
   "cell_type": "code",
   "execution_count": 66,
   "id": "29ffe01e",
   "metadata": {},
   "outputs": [],
   "source": [
    "cv1 = CountVectorizer()"
   ]
  },
  {
   "cell_type": "code",
   "execution_count": 67,
   "id": "73a5b02e",
   "metadata": {},
   "outputs": [],
   "source": [
    "x_traincv = cv1.fit_transform(data['clean_posts'])"
   ]
  },
  {
   "cell_type": "code",
   "execution_count": 68,
   "id": "63b42083",
   "metadata": {},
   "outputs": [
    {
     "data": {
      "text/plain": [
       "array([[0, 0, 0, ..., 0, 0, 0],\n",
       "       [0, 0, 0, ..., 0, 0, 0],\n",
       "       [0, 0, 0, ..., 0, 0, 0],\n",
       "       ...,\n",
       "       [0, 0, 0, ..., 0, 0, 0],\n",
       "       [0, 0, 0, ..., 0, 0, 0],\n",
       "       [0, 0, 0, ..., 0, 0, 0]], dtype=int64)"
      ]
     },
     "execution_count": 68,
     "metadata": {},
     "output_type": "execute_result"
    }
   ],
   "source": [
    "a= x_traincv.toarray()\n",
    "a"
   ]
  },
  {
   "cell_type": "code",
   "execution_count": 113,
   "id": "f8280b8e",
   "metadata": {},
   "outputs": [],
   "source": [
    "cv2 = CountVectorizer()\n",
    "x_test = cv2.fit_transform(test_data['clean_posts'])"
   ]
  },
  {
   "cell_type": "code",
   "execution_count": 114,
   "id": "e9945f6a",
   "metadata": {},
   "outputs": [
    {
     "ename": "MemoryError",
     "evalue": "Unable to allocate 18.3 GiB for an array with shape (8675, 283429) and data type int64",
     "output_type": "error",
     "traceback": [
      "\u001b[1;31m---------------------------------------------------------------------------\u001b[0m",
      "\u001b[1;31mMemoryError\u001b[0m                               Traceback (most recent call last)",
      "\u001b[1;32m<ipython-input-114-61b6e812a6e0>\u001b[0m in \u001b[0;36m<module>\u001b[1;34m\u001b[0m\n\u001b[1;32m----> 1\u001b[1;33m \u001b[0mX_test\u001b[0m \u001b[1;33m=\u001b[0m \u001b[0mpd\u001b[0m\u001b[1;33m.\u001b[0m\u001b[0mconcat\u001b[0m\u001b[1;33m(\u001b[0m\u001b[1;33m[\u001b[0m\u001b[0mtest_data\u001b[0m\u001b[1;33m[\u001b[0m\u001b[1;33m[\u001b[0m\u001b[1;34m'Cnt_hyperlinks'\u001b[0m\u001b[1;33m,\u001b[0m\u001b[1;34m'sentiment'\u001b[0m\u001b[1;33m,\u001b[0m \u001b[1;34m'emoji_count'\u001b[0m\u001b[1;33m]\u001b[0m\u001b[1;33m]\u001b[0m\u001b[1;33m,\u001b[0m \u001b[0mpd\u001b[0m\u001b[1;33m.\u001b[0m\u001b[0mDataFrame\u001b[0m\u001b[1;33m(\u001b[0m\u001b[0mx_test\u001b[0m\u001b[1;33m.\u001b[0m\u001b[0mtoarray\u001b[0m\u001b[1;33m(\u001b[0m\u001b[1;33m)\u001b[0m\u001b[1;33m)\u001b[0m\u001b[1;33m]\u001b[0m\u001b[1;33m,\u001b[0m \u001b[0maxis\u001b[0m\u001b[1;33m=\u001b[0m\u001b[1;36m1\u001b[0m\u001b[1;33m)\u001b[0m\u001b[1;33m\u001b[0m\u001b[1;33m\u001b[0m\u001b[0m\n\u001b[0m",
      "\u001b[1;32m~\\anaconda3\\lib\\site-packages\\scipy\\sparse\\compressed.py\u001b[0m in \u001b[0;36mtoarray\u001b[1;34m(self, order, out)\u001b[0m\n\u001b[0;32m   1029\u001b[0m         \u001b[1;32mif\u001b[0m \u001b[0mout\u001b[0m \u001b[1;32mis\u001b[0m \u001b[1;32mNone\u001b[0m \u001b[1;32mand\u001b[0m \u001b[0morder\u001b[0m \u001b[1;32mis\u001b[0m \u001b[1;32mNone\u001b[0m\u001b[1;33m:\u001b[0m\u001b[1;33m\u001b[0m\u001b[1;33m\u001b[0m\u001b[0m\n\u001b[0;32m   1030\u001b[0m             \u001b[0morder\u001b[0m \u001b[1;33m=\u001b[0m \u001b[0mself\u001b[0m\u001b[1;33m.\u001b[0m\u001b[0m_swap\u001b[0m\u001b[1;33m(\u001b[0m\u001b[1;34m'cf'\u001b[0m\u001b[1;33m)\u001b[0m\u001b[1;33m[\u001b[0m\u001b[1;36m0\u001b[0m\u001b[1;33m]\u001b[0m\u001b[1;33m\u001b[0m\u001b[1;33m\u001b[0m\u001b[0m\n\u001b[1;32m-> 1031\u001b[1;33m         \u001b[0mout\u001b[0m \u001b[1;33m=\u001b[0m \u001b[0mself\u001b[0m\u001b[1;33m.\u001b[0m\u001b[0m_process_toarray_args\u001b[0m\u001b[1;33m(\u001b[0m\u001b[0morder\u001b[0m\u001b[1;33m,\u001b[0m \u001b[0mout\u001b[0m\u001b[1;33m)\u001b[0m\u001b[1;33m\u001b[0m\u001b[1;33m\u001b[0m\u001b[0m\n\u001b[0m\u001b[0;32m   1032\u001b[0m         \u001b[1;32mif\u001b[0m \u001b[1;32mnot\u001b[0m \u001b[1;33m(\u001b[0m\u001b[0mout\u001b[0m\u001b[1;33m.\u001b[0m\u001b[0mflags\u001b[0m\u001b[1;33m.\u001b[0m\u001b[0mc_contiguous\u001b[0m \u001b[1;32mor\u001b[0m \u001b[0mout\u001b[0m\u001b[1;33m.\u001b[0m\u001b[0mflags\u001b[0m\u001b[1;33m.\u001b[0m\u001b[0mf_contiguous\u001b[0m\u001b[1;33m)\u001b[0m\u001b[1;33m:\u001b[0m\u001b[1;33m\u001b[0m\u001b[1;33m\u001b[0m\u001b[0m\n\u001b[0;32m   1033\u001b[0m             \u001b[1;32mraise\u001b[0m \u001b[0mValueError\u001b[0m\u001b[1;33m(\u001b[0m\u001b[1;34m'Output array must be C or F contiguous'\u001b[0m\u001b[1;33m)\u001b[0m\u001b[1;33m\u001b[0m\u001b[1;33m\u001b[0m\u001b[0m\n",
      "\u001b[1;32m~\\anaconda3\\lib\\site-packages\\scipy\\sparse\\base.py\u001b[0m in \u001b[0;36m_process_toarray_args\u001b[1;34m(self, order, out)\u001b[0m\n\u001b[0;32m   1200\u001b[0m             \u001b[1;32mreturn\u001b[0m \u001b[0mout\u001b[0m\u001b[1;33m\u001b[0m\u001b[1;33m\u001b[0m\u001b[0m\n\u001b[0;32m   1201\u001b[0m         \u001b[1;32melse\u001b[0m\u001b[1;33m:\u001b[0m\u001b[1;33m\u001b[0m\u001b[1;33m\u001b[0m\u001b[0m\n\u001b[1;32m-> 1202\u001b[1;33m             \u001b[1;32mreturn\u001b[0m \u001b[0mnp\u001b[0m\u001b[1;33m.\u001b[0m\u001b[0mzeros\u001b[0m\u001b[1;33m(\u001b[0m\u001b[0mself\u001b[0m\u001b[1;33m.\u001b[0m\u001b[0mshape\u001b[0m\u001b[1;33m,\u001b[0m \u001b[0mdtype\u001b[0m\u001b[1;33m=\u001b[0m\u001b[0mself\u001b[0m\u001b[1;33m.\u001b[0m\u001b[0mdtype\u001b[0m\u001b[1;33m,\u001b[0m \u001b[0morder\u001b[0m\u001b[1;33m=\u001b[0m\u001b[0morder\u001b[0m\u001b[1;33m)\u001b[0m\u001b[1;33m\u001b[0m\u001b[1;33m\u001b[0m\u001b[0m\n\u001b[0m\u001b[0;32m   1203\u001b[0m \u001b[1;33m\u001b[0m\u001b[0m\n\u001b[0;32m   1204\u001b[0m \u001b[1;33m\u001b[0m\u001b[0m\n",
      "\u001b[1;31mMemoryError\u001b[0m: Unable to allocate 18.3 GiB for an array with shape (8675, 283429) and data type int64"
     ]
    }
   ],
   "source": [
    "X_test = pd.concat([test_data[['Cnt_hyperlinks','sentiment', 'emoji_count']], pd.DataFrame(x_test.toarray())], axis=1) "
   ]
  },
  {
   "cell_type": "code",
   "execution_count": 96,
   "id": "432edb3f",
   "metadata": {},
   "outputs": [],
   "source": [
    "X_count_feat = pd.concat([data[['Cnt_hyperlinks','sentiment', 'emoji_count']], pd.DataFrame(X_count.toarray())], axis=1) \n"
   ]
  },
  {
   "cell_type": "code",
   "execution_count": 94,
   "id": "0301aff4",
   "metadata": {},
   "outputs": [
    {
     "data": {
      "text/html": [
       "<div>\n",
       "<style scoped>\n",
       "    .dataframe tbody tr th:only-of-type {\n",
       "        vertical-align: middle;\n",
       "    }\n",
       "\n",
       "    .dataframe tbody tr th {\n",
       "        vertical-align: top;\n",
       "    }\n",
       "\n",
       "    .dataframe thead th {\n",
       "        text-align: right;\n",
       "    }\n",
       "</style>\n",
       "<table border=\"1\" class=\"dataframe\">\n",
       "  <thead>\n",
       "    <tr style=\"text-align: right;\">\n",
       "      <th></th>\n",
       "      <th>No_links</th>\n",
       "      <th>Cnt_hyperlinks</th>\n",
       "      <th>sentiment</th>\n",
       "      <th>emoji_count</th>\n",
       "      <th>0</th>\n",
       "      <th>1</th>\n",
       "      <th>2</th>\n",
       "      <th>3</th>\n",
       "      <th>4</th>\n",
       "      <th>5</th>\n",
       "      <th>...</th>\n",
       "      <th>37081</th>\n",
       "      <th>37082</th>\n",
       "      <th>37083</th>\n",
       "      <th>37084</th>\n",
       "      <th>37085</th>\n",
       "      <th>37086</th>\n",
       "      <th>37087</th>\n",
       "      <th>37088</th>\n",
       "      <th>37089</th>\n",
       "      <th>37090</th>\n",
       "    </tr>\n",
       "  </thead>\n",
       "  <tbody>\n",
       "    <tr>\n",
       "      <th>0</th>\n",
       "      <td>['FDT Yes, you are correct. I don't know who y...</td>\n",
       "      <td>0.0</td>\n",
       "      <td>0.083190</td>\n",
       "      <td>0</td>\n",
       "      <td>0</td>\n",
       "      <td>0</td>\n",
       "      <td>0</td>\n",
       "      <td>0</td>\n",
       "      <td>0</td>\n",
       "      <td>0</td>\n",
       "      <td>...</td>\n",
       "      <td>0</td>\n",
       "      <td>0</td>\n",
       "      <td>0</td>\n",
       "      <td>0</td>\n",
       "      <td>0</td>\n",
       "      <td>0</td>\n",
       "      <td>0</td>\n",
       "      <td>0</td>\n",
       "      <td>0</td>\n",
       "      <td>0</td>\n",
       "    </tr>\n",
       "    <tr>\n",
       "      <th>1</th>\n",
       "      <td>['Almost everything you wrote sounds like me.....</td>\n",
       "      <td>0.02</td>\n",
       "      <td>0.137759</td>\n",
       "      <td>0</td>\n",
       "      <td>0</td>\n",
       "      <td>0</td>\n",
       "      <td>0</td>\n",
       "      <td>0</td>\n",
       "      <td>0</td>\n",
       "      <td>0</td>\n",
       "      <td>...</td>\n",
       "      <td>0</td>\n",
       "      <td>0</td>\n",
       "      <td>0</td>\n",
       "      <td>0</td>\n",
       "      <td>0</td>\n",
       "      <td>0</td>\n",
       "      <td>0</td>\n",
       "      <td>0</td>\n",
       "      <td>0</td>\n",
       "      <td>0</td>\n",
       "    </tr>\n",
       "    <tr>\n",
       "      <th>2</th>\n",
       "      <td>['I suffered with BDD for around 7 years and e...</td>\n",
       "      <td>0.02</td>\n",
       "      <td>0.069872</td>\n",
       "      <td>0</td>\n",
       "      <td>0</td>\n",
       "      <td>0</td>\n",
       "      <td>0</td>\n",
       "      <td>0</td>\n",
       "      <td>0</td>\n",
       "      <td>0</td>\n",
       "      <td>...</td>\n",
       "      <td>0</td>\n",
       "      <td>0</td>\n",
       "      <td>0</td>\n",
       "      <td>0</td>\n",
       "      <td>0</td>\n",
       "      <td>0</td>\n",
       "      <td>0</td>\n",
       "      <td>0</td>\n",
       "      <td>0</td>\n",
       "      <td>0</td>\n",
       "    </tr>\n",
       "    <tr>\n",
       "      <th>3</th>\n",
       "      <td>['Do you think that there should be sparks on ...</td>\n",
       "      <td>0.0</td>\n",
       "      <td>0.077484</td>\n",
       "      <td>0</td>\n",
       "      <td>0</td>\n",
       "      <td>0</td>\n",
       "      <td>0</td>\n",
       "      <td>0</td>\n",
       "      <td>0</td>\n",
       "      <td>0</td>\n",
       "      <td>...</td>\n",
       "      <td>0</td>\n",
       "      <td>0</td>\n",
       "      <td>0</td>\n",
       "      <td>0</td>\n",
       "      <td>0</td>\n",
       "      <td>0</td>\n",
       "      <td>0</td>\n",
       "      <td>0</td>\n",
       "      <td>0</td>\n",
       "      <td>0</td>\n",
       "    </tr>\n",
       "    <tr>\n",
       "      <th>4</th>\n",
       "      <td>['It does sound like anxiety to me, especially...</td>\n",
       "      <td>0.06</td>\n",
       "      <td>0.134456</td>\n",
       "      <td>0</td>\n",
       "      <td>0</td>\n",
       "      <td>0</td>\n",
       "      <td>0</td>\n",
       "      <td>0</td>\n",
       "      <td>0</td>\n",
       "      <td>0</td>\n",
       "      <td>...</td>\n",
       "      <td>0</td>\n",
       "      <td>0</td>\n",
       "      <td>0</td>\n",
       "      <td>0</td>\n",
       "      <td>0</td>\n",
       "      <td>0</td>\n",
       "      <td>0</td>\n",
       "      <td>0</td>\n",
       "      <td>0</td>\n",
       "      <td>0</td>\n",
       "    </tr>\n",
       "  </tbody>\n",
       "</table>\n",
       "<p>5 rows × 37095 columns</p>\n",
       "</div>"
      ],
      "text/plain": [
       "                                            No_links Cnt_hyperlinks  \\\n",
       "0  ['FDT Yes, you are correct. I don't know who y...            0.0   \n",
       "1  ['Almost everything you wrote sounds like me.....           0.02   \n",
       "2  ['I suffered with BDD for around 7 years and e...           0.02   \n",
       "3  ['Do you think that there should be sparks on ...            0.0   \n",
       "4  ['It does sound like anxiety to me, especially...           0.06   \n",
       "\n",
       "   sentiment  emoji_count  0  1  2  3  4  5  ...  37081  37082  37083  37084  \\\n",
       "0   0.083190            0  0  0  0  0  0  0  ...      0      0      0      0   \n",
       "1   0.137759            0  0  0  0  0  0  0  ...      0      0      0      0   \n",
       "2   0.069872            0  0  0  0  0  0  0  ...      0      0      0      0   \n",
       "3   0.077484            0  0  0  0  0  0  0  ...      0      0      0      0   \n",
       "4   0.134456            0  0  0  0  0  0  0  ...      0      0      0      0   \n",
       "\n",
       "   37085  37086  37087  37088  37089  37090  \n",
       "0      0      0      0      0      0      0  \n",
       "1      0      0      0      0      0      0  \n",
       "2      0      0      0      0      0      0  \n",
       "3      0      0      0      0      0      0  \n",
       "4      0      0      0      0      0      0  \n",
       "\n",
       "[5 rows x 37095 columns]"
      ]
     },
     "execution_count": 94,
     "metadata": {},
     "output_type": "execute_result"
    }
   ],
   "source": [
    "X_count_feat.head()"
   ]
  },
  {
   "cell_type": "code",
   "execution_count": 91,
   "id": "639c9cd3",
   "metadata": {},
   "outputs": [],
   "source": [
    "from sklearn.preprocessing import StandardScaler"
   ]
  },
  {
   "cell_type": "code",
   "execution_count": 97,
   "id": "8ed3458d",
   "metadata": {},
   "outputs": [
    {
     "data": {
      "text/plain": [
       "StandardScaler()"
      ]
     },
     "execution_count": 97,
     "metadata": {},
     "output_type": "execute_result"
    }
   ],
   "source": [
    "# Scale the data\n",
    "scaler = StandardScaler()\n",
    "scaler.fit(X_count_feat)"
   ]
  },
  {
   "cell_type": "code",
   "execution_count": null,
   "id": "8a23ab4f",
   "metadata": {},
   "outputs": [],
   "source": [
    "# Scale the data\n",
    "scaler2 = StandardScaler()\n",
    "scaler2.fit(X_test)"
   ]
  },
  {
   "cell_type": "code",
   "execution_count": null,
   "id": "46926c91",
   "metadata": {},
   "outputs": [],
   "source": [
    "x_train_scaled = scaler.transform(X_count_feat)"
   ]
  },
  {
   "cell_type": "code",
   "execution_count": null,
   "id": "ac21609f",
   "metadata": {},
   "outputs": [],
   "source": [
    "x_test_scaled = scaler.transform(X_test)"
   ]
  },
  {
   "cell_type": "code",
   "execution_count": 86,
   "id": "b45931b0",
   "metadata": {},
   "outputs": [
    {
     "data": {
      "text/plain": [
       "LogisticRegression()"
      ]
     },
     "execution_count": 86,
     "metadata": {},
     "output_type": "execute_result"
    }
   ],
   "source": [
    "from sklearn.linear_model import LogisticRegression\n",
    "classifier = LogisticRegression()\n",
    "classifier"
   ]
  },
  {
   "cell_type": "code",
   "execution_count": 100,
   "id": "91216056",
   "metadata": {},
   "outputs": [
    {
     "data": {
      "text/plain": [
       "LogisticRegression()"
      ]
     },
     "execution_count": 100,
     "metadata": {},
     "output_type": "execute_result"
    }
   ],
   "source": [
    "classifier.fit(x_train_scaled, data['IorE'])"
   ]
  },
  {
   "cell_type": "code",
   "execution_count": null,
   "id": "ef5e9fc6",
   "metadata": {},
   "outputs": [],
   "source": []
  },
  {
   "cell_type": "code",
   "execution_count": null,
   "id": "b4439b3f",
   "metadata": {},
   "outputs": [],
   "source": [
    "classifier.score(X_test, test_data['IorE'])"
   ]
  },
  {
   "cell_type": "code",
   "execution_count": null,
   "id": "cf1980f0",
   "metadata": {},
   "outputs": [],
   "source": []
  },
  {
   "cell_type": "code",
   "execution_count": null,
   "id": "04682fa3",
   "metadata": {},
   "outputs": [],
   "source": []
  },
  {
   "cell_type": "code",
   "execution_count": null,
   "id": "0b6b3389",
   "metadata": {},
   "outputs": [],
   "source": []
  },
  {
   "cell_type": "code",
   "execution_count": null,
   "id": "ed8c8f94",
   "metadata": {},
   "outputs": [],
   "source": []
  },
  {
   "cell_type": "code",
   "execution_count": 74,
   "id": "f0068c96",
   "metadata": {},
   "outputs": [
    {
     "data": {
      "text/html": [
       "<div>\n",
       "<style scoped>\n",
       "    .dataframe tbody tr th:only-of-type {\n",
       "        vertical-align: middle;\n",
       "    }\n",
       "\n",
       "    .dataframe tbody tr th {\n",
       "        vertical-align: top;\n",
       "    }\n",
       "\n",
       "    .dataframe thead th {\n",
       "        text-align: right;\n",
       "    }\n",
       "</style>\n",
       "<table border=\"1\" class=\"dataframe\">\n",
       "  <thead>\n",
       "    <tr style=\"text-align: right;\">\n",
       "      <th></th>\n",
       "      <th>Unnamed: 0</th>\n",
       "      <th>type</th>\n",
       "      <th>posts</th>\n",
       "      <th>posts_array</th>\n",
       "      <th>IorE</th>\n",
       "      <th>SorN</th>\n",
       "      <th>TorF</th>\n",
       "      <th>PorJ</th>\n",
       "      <th>No_links</th>\n",
       "      <th>Cnt_hyperlinks</th>\n",
       "      <th>emoji_count</th>\n",
       "      <th>emojis</th>\n",
       "      <th>num_posts</th>\n",
       "      <th>clean_posts</th>\n",
       "      <th>sentiment</th>\n",
       "    </tr>\n",
       "  </thead>\n",
       "  <tbody>\n",
       "    <tr>\n",
       "      <th>0</th>\n",
       "      <td>7333</td>\n",
       "      <td>INFJ</td>\n",
       "      <td>'FDT Yes, you are correct. I don't know who yo...</td>\n",
       "      <td>['FDT Yes, you are correct. I don't know who y...</td>\n",
       "      <td>I</td>\n",
       "      <td>N</td>\n",
       "      <td>F</td>\n",
       "      <td>J</td>\n",
       "      <td>['FDT Yes, you are correct. I don't know who y...</td>\n",
       "      <td>0.0</td>\n",
       "      <td>0</td>\n",
       "      <td>[]</td>\n",
       "      <td>50</td>\n",
       "      <td>['fdt', 'yes', 'correct', 'dont', 'know', 'sor...</td>\n",
       "      <td>0.083190</td>\n",
       "    </tr>\n",
       "    <tr>\n",
       "      <th>1</th>\n",
       "      <td>8403</td>\n",
       "      <td>INFJ</td>\n",
       "      <td>'Almost everything you wrote sounds like me.. ...</td>\n",
       "      <td>['Almost everything you wrote sounds like me.....</td>\n",
       "      <td>I</td>\n",
       "      <td>N</td>\n",
       "      <td>F</td>\n",
       "      <td>J</td>\n",
       "      <td>['Almost everything you wrote sounds like me.....</td>\n",
       "      <td>0.02</td>\n",
       "      <td>0</td>\n",
       "      <td>[]</td>\n",
       "      <td>50</td>\n",
       "      <td>['almost', 'everything', 'write', 'sound', 'li...</td>\n",
       "      <td>0.137759</td>\n",
       "    </tr>\n",
       "    <tr>\n",
       "      <th>2</th>\n",
       "      <td>4562</td>\n",
       "      <td>INFJ</td>\n",
       "      <td>'I suffered with BDD for around 7 years and ev...</td>\n",
       "      <td>['I suffered with BDD for around 7 years and e...</td>\n",
       "      <td>I</td>\n",
       "      <td>N</td>\n",
       "      <td>F</td>\n",
       "      <td>J</td>\n",
       "      <td>['I suffered with BDD for around 7 years and e...</td>\n",
       "      <td>0.02</td>\n",
       "      <td>0</td>\n",
       "      <td>[]</td>\n",
       "      <td>50</td>\n",
       "      <td>['suffer', 'bdd', 'around', 'year', 'even', 't...</td>\n",
       "      <td>0.069872</td>\n",
       "    </tr>\n",
       "    <tr>\n",
       "      <th>3</th>\n",
       "      <td>720</td>\n",
       "      <td>INFJ</td>\n",
       "      <td>'Do you think that there should be sparks on a...</td>\n",
       "      <td>['Do you think that there should be sparks on ...</td>\n",
       "      <td>I</td>\n",
       "      <td>N</td>\n",
       "      <td>F</td>\n",
       "      <td>J</td>\n",
       "      <td>['Do you think that there should be sparks on ...</td>\n",
       "      <td>0.0</td>\n",
       "      <td>0</td>\n",
       "      <td>[]</td>\n",
       "      <td>50</td>\n",
       "      <td>['think', 'spark', 'first', 'date', 'thats', '...</td>\n",
       "      <td>0.077484</td>\n",
       "    </tr>\n",
       "    <tr>\n",
       "      <th>4</th>\n",
       "      <td>3657</td>\n",
       "      <td>INFJ</td>\n",
       "      <td>'It does sound like anxiety to me, especially ...</td>\n",
       "      <td>['It does sound like anxiety to me, especially...</td>\n",
       "      <td>I</td>\n",
       "      <td>N</td>\n",
       "      <td>F</td>\n",
       "      <td>J</td>\n",
       "      <td>['It does sound like anxiety to me, especially...</td>\n",
       "      <td>0.06</td>\n",
       "      <td>0</td>\n",
       "      <td>[]</td>\n",
       "      <td>50</td>\n",
       "      <td>['sound', 'like', 'anxiety', 'especially', 'si...</td>\n",
       "      <td>0.134456</td>\n",
       "    </tr>\n",
       "  </tbody>\n",
       "</table>\n",
       "</div>"
      ],
      "text/plain": [
       "   Unnamed: 0  type                                              posts  \\\n",
       "0        7333  INFJ  'FDT Yes, you are correct. I don't know who yo...   \n",
       "1        8403  INFJ  'Almost everything you wrote sounds like me.. ...   \n",
       "2        4562  INFJ  'I suffered with BDD for around 7 years and ev...   \n",
       "3         720  INFJ  'Do you think that there should be sparks on a...   \n",
       "4        3657  INFJ  'It does sound like anxiety to me, especially ...   \n",
       "\n",
       "                                         posts_array IorE SorN TorF PorJ  \\\n",
       "0  ['FDT Yes, you are correct. I don't know who y...    I    N    F    J   \n",
       "1  ['Almost everything you wrote sounds like me.....    I    N    F    J   \n",
       "2  ['I suffered with BDD for around 7 years and e...    I    N    F    J   \n",
       "3  ['Do you think that there should be sparks on ...    I    N    F    J   \n",
       "4  ['It does sound like anxiety to me, especially...    I    N    F    J   \n",
       "\n",
       "                                            No_links Cnt_hyperlinks  \\\n",
       "0  ['FDT Yes, you are correct. I don't know who y...            0.0   \n",
       "1  ['Almost everything you wrote sounds like me.....           0.02   \n",
       "2  ['I suffered with BDD for around 7 years and e...           0.02   \n",
       "3  ['Do you think that there should be sparks on ...            0.0   \n",
       "4  ['It does sound like anxiety to me, especially...           0.06   \n",
       "\n",
       "   emoji_count emojis  num_posts  \\\n",
       "0            0     []         50   \n",
       "1            0     []         50   \n",
       "2            0     []         50   \n",
       "3            0     []         50   \n",
       "4            0     []         50   \n",
       "\n",
       "                                         clean_posts  sentiment  \n",
       "0  ['fdt', 'yes', 'correct', 'dont', 'know', 'sor...   0.083190  \n",
       "1  ['almost', 'everything', 'write', 'sound', 'li...   0.137759  \n",
       "2  ['suffer', 'bdd', 'around', 'year', 'even', 't...   0.069872  \n",
       "3  ['think', 'spark', 'first', 'date', 'thats', '...   0.077484  \n",
       "4  ['sound', 'like', 'anxiety', 'especially', 'si...   0.134456  "
      ]
     },
     "execution_count": 74,
     "metadata": {},
     "output_type": "execute_result"
    }
   ],
   "source": [
    "data.head()"
   ]
  },
  {
   "cell_type": "code",
   "execution_count": null,
   "id": "e9085077",
   "metadata": {},
   "outputs": [],
   "source": []
  },
  {
   "cell_type": "code",
   "execution_count": 75,
   "id": "ca68f103",
   "metadata": {},
   "outputs": [],
   "source": [
    "from sklearn.linear_model import LogisticRegression"
   ]
  },
  {
   "cell_type": "code",
   "execution_count": null,
   "id": "7f88ef10",
   "metadata": {},
   "outputs": [],
   "source": []
  },
  {
   "cell_type": "code",
   "execution_count": null,
   "id": "7d1a49c5",
   "metadata": {},
   "outputs": [],
   "source": []
  },
  {
   "cell_type": "code",
   "execution_count": null,
   "id": "8d35defe",
   "metadata": {},
   "outputs": [],
   "source": []
  },
  {
   "cell_type": "code",
   "execution_count": null,
   "id": "1ad73063",
   "metadata": {},
   "outputs": [],
   "source": []
  },
  {
   "cell_type": "code",
   "execution_count": 3,
   "id": "3221b845",
   "metadata": {},
   "outputs": [],
   "source": [
    "data['num_of_posts']= [len([x for x in post.split('|||') if len(x)>0]) for post in data['posts']]"
   ]
  },
  {
   "cell_type": "code",
   "execution_count": 4,
   "id": "65d34902",
   "metadata": {},
   "outputs": [
    {
     "data": {
      "text/html": [
       "<div>\n",
       "<style scoped>\n",
       "    .dataframe tbody tr th:only-of-type {\n",
       "        vertical-align: middle;\n",
       "    }\n",
       "\n",
       "    .dataframe tbody tr th {\n",
       "        vertical-align: top;\n",
       "    }\n",
       "\n",
       "    .dataframe thead th {\n",
       "        text-align: right;\n",
       "    }\n",
       "</style>\n",
       "<table border=\"1\" class=\"dataframe\">\n",
       "  <thead>\n",
       "    <tr style=\"text-align: right;\">\n",
       "      <th></th>\n",
       "      <th>Unnamed: 0</th>\n",
       "      <th>type</th>\n",
       "      <th>posts</th>\n",
       "      <th>num_of_posts</th>\n",
       "    </tr>\n",
       "  </thead>\n",
       "  <tbody>\n",
       "    <tr>\n",
       "      <th>0</th>\n",
       "      <td>5150</td>\n",
       "      <td>INFJ</td>\n",
       "      <td>'Until my mid-twenties I couldn't care less wh...</td>\n",
       "      <td>50</td>\n",
       "    </tr>\n",
       "    <tr>\n",
       "      <th>1</th>\n",
       "      <td>4661</td>\n",
       "      <td>INFJ</td>\n",
       "      <td>'http://personalitycafe.com/attachments/infj-f...</td>\n",
       "      <td>50</td>\n",
       "    </tr>\n",
       "    <tr>\n",
       "      <th>2</th>\n",
       "      <td>3397</td>\n",
       "      <td>INFJ</td>\n",
       "      <td>Definitely conflict, too. Unreasonable loudnes...</td>\n",
       "      <td>50</td>\n",
       "    </tr>\n",
       "    <tr>\n",
       "      <th>3</th>\n",
       "      <td>6839</td>\n",
       "      <td>INFJ</td>\n",
       "      <td>'Last night, was racing people on my old schoo...</td>\n",
       "      <td>50</td>\n",
       "    </tr>\n",
       "    <tr>\n",
       "      <th>4</th>\n",
       "      <td>5044</td>\n",
       "      <td>INFJ</td>\n",
       "      <td>'Looks like the preliminary results from the p...</td>\n",
       "      <td>50</td>\n",
       "    </tr>\n",
       "  </tbody>\n",
       "</table>\n",
       "</div>"
      ],
      "text/plain": [
       "   Unnamed: 0  type                                              posts  \\\n",
       "0        5150  INFJ  'Until my mid-twenties I couldn't care less wh...   \n",
       "1        4661  INFJ  'http://personalitycafe.com/attachments/infj-f...   \n",
       "2        3397  INFJ  Definitely conflict, too. Unreasonable loudnes...   \n",
       "3        6839  INFJ  'Last night, was racing people on my old schoo...   \n",
       "4        5044  INFJ  'Looks like the preliminary results from the p...   \n",
       "\n",
       "   num_of_posts  \n",
       "0            50  \n",
       "1            50  \n",
       "2            50  \n",
       "3            50  \n",
       "4            50  "
      ]
     },
     "execution_count": 4,
     "metadata": {},
     "output_type": "execute_result"
    }
   ],
   "source": [
    "data.head()"
   ]
  },
  {
   "cell_type": "code",
   "execution_count": 5,
   "id": "a0c7bc8f",
   "metadata": {},
   "outputs": [],
   "source": [
    "#create columns for individual letters \n",
    "for index, row in data.iterrows(): \n",
    "    mbti_type = list(row['type'])\n",
    "    data.loc[index,'IorE']=mbti_type[0]\n",
    "    data.loc[index,'SorN']=mbti_type[1]\n",
    "    data.loc[index,'TorF']=mbti_type[2]\n",
    "    data.loc[index,'PorJ']=mbti_type[3]"
   ]
  },
  {
   "cell_type": "code",
   "execution_count": 6,
   "id": "443a8b07",
   "metadata": {},
   "outputs": [
    {
     "data": {
      "text/plain": [
       "I    200\n",
       "E    200\n",
       "Name: IorE, dtype: int64"
      ]
     },
     "execution_count": 6,
     "metadata": {},
     "output_type": "execute_result"
    }
   ],
   "source": [
    "data['IorE'].value_counts()"
   ]
  },
  {
   "cell_type": "code",
   "execution_count": 7,
   "id": "47d41101",
   "metadata": {},
   "outputs": [
    {
     "data": {
      "text/plain": [
       "N    200\n",
       "S    200\n",
       "Name: SorN, dtype: int64"
      ]
     },
     "execution_count": 7,
     "metadata": {},
     "output_type": "execute_result"
    }
   ],
   "source": [
    "data['SorN'].value_counts()"
   ]
  },
  {
   "cell_type": "code",
   "execution_count": 8,
   "id": "5a512fc9",
   "metadata": {},
   "outputs": [
    {
     "data": {
      "text/plain": [
       "F    200\n",
       "T    200\n",
       "Name: TorF, dtype: int64"
      ]
     },
     "execution_count": 8,
     "metadata": {},
     "output_type": "execute_result"
    }
   ],
   "source": [
    "data['TorF'].value_counts()"
   ]
  },
  {
   "cell_type": "code",
   "execution_count": 9,
   "id": "2dbea3f1",
   "metadata": {},
   "outputs": [
    {
     "data": {
      "text/plain": [
       "P    200\n",
       "J    200\n",
       "Name: PorJ, dtype: int64"
      ]
     },
     "execution_count": 9,
     "metadata": {},
     "output_type": "execute_result"
    }
   ],
   "source": [
    "data['PorJ'].value_counts()"
   ]
  },
  {
   "cell_type": "code",
   "execution_count": 10,
   "id": "7d3aae41",
   "metadata": {},
   "outputs": [],
   "source": [
    "data = data[['type','IorE','SorN','TorF','PorJ','posts','num_of_posts']]"
   ]
  },
  {
   "cell_type": "code",
   "execution_count": 11,
   "id": "181f53fb",
   "metadata": {
    "scrolled": true
   },
   "outputs": [
    {
     "data": {
      "text/plain": [
       "[\"'Looks like the preliminary results from the poll confirm my little haphazard theory thus far, especially in regards to the possible causality of the mistyping.  May mean my theory will eventually be...\",\n",
       " 'Hello everyone,  I am working on a personal theory of sorts related to male INFJs and our possible tendency to mistype early on when we first learn about MBTI typologies.  For example, I personally...',\n",
       " \"It's been quite a while since I posted, but I'm thinking it might be time to make a come back.  Figured this wouldn't be the worst place to get started.  So hello, again.  Here are two random pics...\",\n",
       " \"Understated, yet refined.  Well-kempt, yet playfully casual.  Projecting a sense of presence, confidence, and stature which cannot be denied, yet does not cry out immaturely for attention.  It's...\",\n",
       " \"Well, I mean, when I someday rule the world, I totally plan to be one of those benevolent dictators.  You know...the tyrant with a heart of gold type of approach.  What's so dark or self-serving...\",\n",
       " 'If she wants to move to Virginia, she can see me once I finish graduate school this year:cool:   But really, picking a mental health provider should probably not be based solely on MBTI...',\n",
       " \"now that i've learned i'm an infj, i figured this would be a good way to introduce myself to my fellow infj's...    fancy photo shoot ...\",\n",
       " 'So I used to post on personalitycafe quite a while ago...and, during that time, I consistently bounced back and forth between believing I was an INFP or an ENFP. I always tended to test as one of...',\n",
       " 'Haha the options are limitless!',\n",
       " \"Haha fair enough.  I retract my earlier assertion then.  I guess I'm alone in enjoying it haha.\",\n",
       " 'sometimes i like to randomly re-appear after a few months of being absent to post some random pictures...  ...',\n",
       " \"I take it from your response that you are either younger and/or have never lived on your own.  I could be wrong, but if I'm not, once you experience having your own place, you will come to understand...\",\n",
       " \"5'11...wish i could say i was 6 feet...but i can't:sad:\",\n",
       " ':shocked:    :confused:    :crying:',\n",
       " \"fine fine...i'll just live in wonder and curiosity about it for the rest of my life then:unsure:\",\n",
       " \"thiiiis is the only picture of myself as a child that I have in digital form...the rest are in a photo album of more physical form..   as for this one, i'm in the middle...in the oakland raiders...\",\n",
       " \"I hope the quotes mean the ghosts aren't real:sad:haha\",\n",
       " 'With vengence and furious anger!',\n",
       " 'http://www.clickoffthegrid.com/images/windturbine-solarpanels01.jpg someday....',\n",
       " \"I do odd things even when I'm not alone:sad:\",\n",
       " \"at my volunteer job at one of the local hospices...they have nothing for me to do today though, so i'm just answering phones aaaand apparently taking a few random pictures to pass the time haha  ...\",\n",
       " 'Why thank you.  I feel so informed now:tongue:',\n",
       " \"Can someone please explain what trolling is to me?:unsure:  I keep seeing people mention it, but I've never seen anyone define it.   I apologize for not knowing:sad:\",\n",
       " 'I am currently engaged in a rather humble attempt at being alive.',\n",
       " \"ummm you are kind of...sort of...ridiculously beautiful:blushed:      so yeah...just thought you'd like to know that...or something haha\",\n",
       " \"I haaaate having my picture taken. I always feel required to pose and doing so always feels so un-natural. I get all stiff and awkward, because it just doesn't feel authentic. And I'm very aware of...\",\n",
       " \"your avatar is VERY distracting...   just thought i'd throw that out there:tongue:\",\n",
       " \"someone on this site has a cartoon in their signature that says something along the lines of i procrastinate, but that's ok!...because it means i'm 10 times less likely to be a serial killer!...i...\",\n",
       " 'haha indeed...i just thought it would be fun to point out how obviously un-ENFP that specific example was:tongue:',\n",
       " \"Oh, don't get me wrong...there's a method to my madness (sort of)...but I doubt anyone else would be able to make any sense of it other than me:sad:haha\",\n",
       " 'Right now I really only have one main focus..  To support, further, and be a part of the current push by postmodern-oriented psychotherapy practitioners to both overhaul and reconceptualize the...',\n",
       " 'Tedium.  Monotony.  And an utter lack of novelty or opportunities for creativity (ie. the public school system, for example)..   I get sad just imagining any scenario that fits those...',\n",
       " \"My room looks like a somewhat well-intentioned and borderline-organized tornado blew through it.  I'd say that about sums it up.\",\n",
       " \"There is noooo frickin' way that Cuddy from House is an ENFP!  She is waaaay too organized and career-focused (ie. doesn't have a short attention span) to be one of us!\",\n",
       " \"It sounds to me like I need to bring you in as a mediator to explain me and my ways to every girl I date!  Then they will know what to expect.  And I'll be able to tell them that they were...\",\n",
       " 'holy grossness!  That is terrible!   Educated, intelligent women = sexy-pants:blushed:',\n",
       " \"Oh, I know.  Certainly didn't stop her from trying though haha.   She saw all my charisma and intelligence and decided I would make the perfect power partner...iiif she could break me of my...\",\n",
       " 'what are these boundaries you speak of?   they sound intriguing..   tell me more..:tongue:',\n",
       " 'One girl tried to tame me and break me of my random/eccentric ways back in college.   She ended up being sorely disappointed:crazy:',\n",
       " 'My dad is an INTJ. And thanks to him I developed the ability to debate persuasively and rationally like no other haha. All of my friends used to think that my family was weird, because while my...',\n",
       " 'To dance the night away.  But it is currently only the afternoon.  So once again my plans are thwarted by the space-time continuum!   :crying:',\n",
       " 'I have a gluten allergy!  *High five* to dietary restrictions!:cool:',\n",
       " \"It is actually possible that you'll be in good company!  I have met several women who were in their 40s or 50s and were working on PhDs.  Several had decided to do the grad school thing after their...\",\n",
       " 'Well fair enough!  PhD it is then!:tongue:lol',\n",
       " 'Good call!  For comparisons sake...here is some of the BLS info on counselors...which is actually a differntial licensure and job classification from psychologists...  Employment of mental...',\n",
       " 'Plans for a second date with the girl mentioned above were just confirmed!:laughing:',\n",
       " \"Judging from your avatar, you aren't so bad looking yourself:tongue:\",\n",
       " \"Yeah, there really are very few advantages to getting a Psy.D now-a-days.  Academia won't take you seriously as a researcher and insurance companies won't pay you much extra as a practitioner, so you...\",\n",
       " \"Well, technically it happened last night, buuut...I had the best first date I've been on in a veeeery long time.  I haven't felt this sort of instant connection/attraction to a girl in years!\",\n",
       " \"I can definitely agree with that!   Let's not forget our rather breath-taking ENFP female companions as well though!  We've got some true beauties here amongst us thanks to them!:proud:'\"]"
      ]
     },
     "execution_count": 11,
     "metadata": {},
     "output_type": "execute_result"
    }
   ],
   "source": [
    "data['posts'][4].split('|||')"
   ]
  },
  {
   "cell_type": "markdown",
   "id": "0629fb44",
   "metadata": {},
   "source": [
    "# Evaluating Number of Posts as a Feature \n",
    "\n",
    "Number of Posts is not a good feature to use - majority of the population is posting more than 45 posts "
   ]
  },
  {
   "cell_type": "code",
   "execution_count": 12,
   "id": "ff296542",
   "metadata": {},
   "outputs": [
    {
     "data": {
      "text/plain": [
       "Text(0.5, 1.0, 'P vs J')"
      ]
     },
     "execution_count": 12,
     "metadata": {},
     "output_type": "execute_result"
    },
    {
     "data": {
      "image/png": "[encoded data removed]",
      "text/plain": [
       "<Figure size 432x288 with 4 Axes>"
      ]
     },
     "metadata": {
      "needs_background": "light"
     },
     "output_type": "display_data"
    }
   ],
   "source": [
    "bins = np.linspace(0,50,10)\n",
    "fig, axs = plt.subplots(2,2) \n",
    "axs[0, 0].hist(data[data['IorE']=='I']['num_of_posts'], bins, alpha=0.5, label='I')\n",
    "axs[0, 0].hist(data[data['IorE']=='E']['num_of_posts'], bins, alpha=0.5, label='E')\n",
    "axs[0, 0].legend(loc='upper left')\n",
    "axs[0, 0].set_title('I vs E')\n",
    "\n",
    "axs[0, 1].hist(data[data['SorN']=='S']['num_of_posts'], bins, alpha=0.5, label='S')\n",
    "axs[0, 1].hist(data[data['SorN']=='N']['num_of_posts'], bins, alpha=0.5, label='N')\n",
    "axs[0, 1].legend(loc='upper left')\n",
    "axs[0, 1].set_title('S vs N')\n",
    "\n",
    "\n",
    "axs[1, 0].hist(data[data['TorF']=='T']['num_of_posts'], bins, alpha=0.5, label='T')\n",
    "axs[1, 0].hist(data[data['TorF']=='F']['num_of_posts'], bins, alpha=0.5, label='F')\n",
    "axs[1, 0].legend(loc='upper left')\n",
    "axs[1, 0].set_title('T vs F')\n",
    "\n",
    "axs[1, 1].hist(data[data['PorJ']=='P']['num_of_posts'], bins, alpha=0.5, label='P')\n",
    "axs[1, 1].hist(data[data['PorJ']=='J']['num_of_posts'], bins, alpha=0.5, label='J')\n",
    "axs[1, 1].legend(loc='upper left')\n",
    "axs[1, 1].set_title('P vs J')\n"
   ]
  },
  {
   "cell_type": "markdown",
   "id": "f1fcfd69",
   "metadata": {},
   "source": [
    "# Evaluating Youtube references as a Feature "
   ]
  },
  {
   "cell_type": "code",
   "execution_count": 13,
   "id": "a6e99516",
   "metadata": {},
   "outputs": [],
   "source": [
    "data['ref_YT']= [post.count('youtube') for post in data['posts']]"
   ]
  },
  {
   "cell_type": "code",
   "execution_count": 14,
   "id": "b7fdd7c7",
   "metadata": {},
   "outputs": [
    {
     "data": {
      "text/plain": [
       "Text(0.5, 1.0, 'P vs J')"
      ]
     },
     "execution_count": 14,
     "metadata": {},
     "output_type": "execute_result"
    },
    {
     "data": {
      "image/png": "[encoded data removed]",
      "text/plain": [
       "<Figure size 432x288 with 4 Axes>"
      ]
     },
     "metadata": {
      "needs_background": "light"
     },
     "output_type": "display_data"
    }
   ],
   "source": [
    "fig, axs = plt.subplots(2,2) \n",
    "bins = np.linspace(0,40,20)\n",
    "\n",
    "axs[0, 0].hist(data[data['IorE']=='I']['ref_YT'], bins, alpha=0.5, label='I')\n",
    "axs[0, 0].hist(data[data['IorE']=='E']['ref_YT'], bins, alpha=0.5, label='E')\n",
    "axs[0, 0].legend(loc='upper left')\n",
    "axs[0, 0].set_title('I vs E')\n",
    "\n",
    "axs[0, 1].hist(data[data['SorN']=='S']['ref_YT'], bins, alpha=0.5, label='S')\n",
    "axs[0, 1].hist(data[data['SorN']=='N']['ref_YT'], bins, alpha=0.5, label='N')\n",
    "axs[0, 1].legend(loc='upper left')\n",
    "axs[0, 1].set_title('S vs N')\n",
    "\n",
    "\n",
    "axs[1, 0].hist(data[data['TorF']=='T']['ref_YT'], bins, alpha=0.5, label='T')\n",
    "axs[1, 0].hist(data[data['TorF']=='F']['ref_YT'], bins, alpha=0.5, label='F')\n",
    "axs[1, 0].legend(loc='upper left')\n",
    "axs[1, 0].set_title('T vs F')\n",
    "\n",
    "axs[1, 1].hist(data[data['PorJ']=='P']['ref_YT'], bins, alpha=0.5, label='P')\n",
    "axs[1, 1].hist(data[data['PorJ']=='J']['ref_YT'], bins, alpha=0.5, label='J')\n",
    "axs[1, 1].legend(loc='upper left')\n",
    "axs[1, 1].set_title('P vs J')\n"
   ]
  },
  {
   "cell_type": "code",
   "execution_count": 15,
   "id": "ba98314b",
   "metadata": {},
   "outputs": [],
   "source": [
    "data['countPunct']= [len(re.findall('[?!]',post)) for post in data['posts']]"
   ]
  },
  {
   "cell_type": "code",
   "execution_count": 16,
   "id": "3de3119e",
   "metadata": {},
   "outputs": [],
   "source": [
    "data['countPunct']= [np.mean([len(re.findall('[?!]',post)) for x in post.split('|||') if len(x)>0]) for post in data['posts']]"
   ]
  },
  {
   "cell_type": "code",
   "execution_count": 17,
   "id": "db2eed40",
   "metadata": {},
   "outputs": [],
   "source": [
    "data['countQM']= [np.mean([post.count('?') for x in post.split('|||') if len(x)>0]) for post in data['posts']]"
   ]
  },
  {
   "cell_type": "code",
   "execution_count": 18,
   "id": "1d8b2b14",
   "metadata": {},
   "outputs": [
    {
     "data": {
      "text/plain": [
       "['.',\n",
       " '.',\n",
       " '.',\n",
       " '.',\n",
       " '.',\n",
       " '.',\n",
       " '.',\n",
       " '.',\n",
       " '.',\n",
       " '.',\n",
       " '.',\n",
       " '.',\n",
       " '.',\n",
       " '.',\n",
       " '.',\n",
       " '.',\n",
       " '.',\n",
       " '.',\n",
       " '.',\n",
       " '.',\n",
       " '.',\n",
       " '.',\n",
       " '.',\n",
       " '.',\n",
       " '.',\n",
       " '.',\n",
       " '.',\n",
       " '.',\n",
       " '.',\n",
       " '.',\n",
       " '.',\n",
       " '.',\n",
       " '.',\n",
       " '.',\n",
       " '.',\n",
       " '.',\n",
       " '.',\n",
       " '.',\n",
       " '.',\n",
       " '.',\n",
       " '.',\n",
       " '.',\n",
       " '.',\n",
       " '.',\n",
       " '!',\n",
       " '.',\n",
       " '.',\n",
       " '.',\n",
       " '.',\n",
       " '.',\n",
       " '.',\n",
       " '.',\n",
       " '.',\n",
       " '.',\n",
       " '.',\n",
       " '.',\n",
       " '.',\n",
       " '.',\n",
       " '.',\n",
       " '.',\n",
       " '.',\n",
       " '.',\n",
       " '.',\n",
       " '.',\n",
       " '.',\n",
       " '.',\n",
       " '.',\n",
       " '.',\n",
       " '.',\n",
       " '.',\n",
       " '.',\n",
       " '.',\n",
       " '.',\n",
       " '.',\n",
       " '.',\n",
       " '.',\n",
       " '.',\n",
       " '.',\n",
       " '!',\n",
       " '.',\n",
       " '.',\n",
       " '.',\n",
       " '.',\n",
       " '.',\n",
       " '.',\n",
       " '.',\n",
       " '.',\n",
       " '.',\n",
       " '.',\n",
       " '.',\n",
       " '.',\n",
       " '.',\n",
       " '.',\n",
       " '?',\n",
       " '.',\n",
       " '.',\n",
       " '.',\n",
       " '.',\n",
       " '.',\n",
       " '.',\n",
       " '.',\n",
       " '.',\n",
       " '.',\n",
       " '.',\n",
       " '.',\n",
       " '.',\n",
       " '.',\n",
       " '.',\n",
       " '.',\n",
       " '.',\n",
       " '.',\n",
       " '.',\n",
       " '.',\n",
       " '.',\n",
       " '.',\n",
       " '.',\n",
       " '.',\n",
       " '!',\n",
       " '.',\n",
       " '.',\n",
       " '.',\n",
       " '!',\n",
       " '.',\n",
       " '.',\n",
       " '.',\n",
       " '.',\n",
       " '.',\n",
       " '.',\n",
       " '.',\n",
       " '.',\n",
       " '.',\n",
       " '.',\n",
       " '.',\n",
       " '.',\n",
       " '.',\n",
       " '.',\n",
       " '.',\n",
       " '.',\n",
       " '.',\n",
       " '.',\n",
       " '.',\n",
       " '.',\n",
       " '.',\n",
       " '.',\n",
       " '.',\n",
       " '.',\n",
       " '.',\n",
       " '.',\n",
       " '.',\n",
       " '.',\n",
       " '.',\n",
       " '.',\n",
       " '!',\n",
       " '.',\n",
       " '!',\n",
       " '!',\n",
       " '.',\n",
       " '.',\n",
       " '.',\n",
       " '.',\n",
       " '!',\n",
       " '!',\n",
       " '.',\n",
       " '.',\n",
       " '.',\n",
       " '.',\n",
       " '.',\n",
       " '.',\n",
       " '.',\n",
       " '.',\n",
       " '?',\n",
       " '.',\n",
       " '.',\n",
       " '.',\n",
       " '.',\n",
       " '.',\n",
       " '.',\n",
       " '.',\n",
       " '.',\n",
       " '.',\n",
       " '.',\n",
       " '.',\n",
       " '.',\n",
       " '!',\n",
       " '!',\n",
       " '!',\n",
       " '!',\n",
       " '.',\n",
       " '.',\n",
       " '.',\n",
       " '.',\n",
       " '!',\n",
       " '!',\n",
       " '!',\n",
       " '.',\n",
       " '.',\n",
       " '.',\n",
       " '.',\n",
       " '.',\n",
       " '.',\n",
       " '.',\n",
       " '.',\n",
       " '.',\n",
       " '.',\n",
       " '.',\n",
       " '.',\n",
       " '!',\n",
       " '.',\n",
       " '.',\n",
       " '.',\n",
       " '.',\n",
       " '.',\n",
       " '.',\n",
       " '.',\n",
       " '.',\n",
       " '.',\n",
       " '!',\n",
       " '!',\n",
       " '!',\n",
       " '!']"
      ]
     },
     "execution_count": 18,
     "metadata": {},
     "output_type": "execute_result"
    }
   ],
   "source": [
    "re.findall('[?!.]',data['posts'][4])"
   ]
  },
  {
   "cell_type": "code",
   "execution_count": 19,
   "id": "3094c9fe",
   "metadata": {},
   "outputs": [
    {
     "data": {
      "text/plain": [
       "Text(0.5, 1.0, 'P vs J')"
      ]
     },
     "execution_count": 19,
     "metadata": {},
     "output_type": "execute_result"
    },
    {
     "data": {
      "image/png": "[encoded data removed]",
      "text/plain": [
       "<Figure size 432x288 with 4 Axes>"
      ]
     },
     "metadata": {
      "needs_background": "light"
     },
     "output_type": "display_data"
    }
   ],
   "source": [
    "fig, axs = plt.subplots(2,2) \n",
    "bins = np.linspace(0,40,20)\n",
    "\n",
    "axs[0, 0].hist(data[data['IorE']=='I']['countPunct'], bins, alpha=0.5, label='I')\n",
    "axs[0, 0].hist(data[data['IorE']=='E']['countPunct'], bins, alpha=0.5, label='E')\n",
    "axs[0, 0].legend(loc='upper left')\n",
    "axs[0, 0].set_title('I vs E')\n",
    "\n",
    "axs[0, 1].hist(data[data['SorN']=='S']['countPunct'], bins, alpha=0.5, label='S')\n",
    "axs[0, 1].hist(data[data['SorN']=='N']['countPunct'], bins, alpha=0.5, label='N')\n",
    "axs[0, 1].legend(loc='upper left')\n",
    "axs[0, 1].set_title('S vs N')\n",
    "\n",
    "\n",
    "axs[1, 0].hist(data[data['TorF']=='T']['countPunct'], bins, alpha=0.5, label='T')\n",
    "axs[1, 0].hist(data[data['TorF']=='F']['countPunct'], bins, alpha=0.5, label='F')\n",
    "axs[1, 0].legend(loc='upper left')\n",
    "axs[1, 0].set_title('T vs F')\n",
    "\n",
    "axs[1, 1].hist(data[data['PorJ']=='P']['countPunct'], bins, alpha=0.5, label='P')\n",
    "axs[1, 1].hist(data[data['PorJ']=='J']['countPunct'], bins, alpha=0.5, label='J')\n",
    "axs[1, 1].legend(loc='upper left')\n",
    "axs[1, 1].set_title('P vs J')\n"
   ]
  },
  {
   "cell_type": "code",
   "execution_count": 20,
   "id": "ad435d27",
   "metadata": {},
   "outputs": [
    {
     "data": {
      "text/plain": [
       "Text(0.5, 1.0, 'P vs J')"
      ]
     },
     "execution_count": 20,
     "metadata": {},
     "output_type": "execute_result"
    },
    {
     "data": {
      "image/png": "[encoded data removed]",
      "text/plain": [
       "<Figure size 432x288 with 4 Axes>"
      ]
     },
     "metadata": {
      "needs_background": "light"
     },
     "output_type": "display_data"
    }
   ],
   "source": [
    "fig, axs = plt.subplots(2,2) \n",
    "bins = np.linspace(0,40,20)\n",
    "\n",
    "axs[0, 0].hist(data[data['IorE']=='I']['countQM'], bins, alpha=0.5, label='I')\n",
    "axs[0, 0].hist(data[data['IorE']=='E']['countQM'], bins, alpha=0.5, label='E')\n",
    "axs[0, 0].legend(loc='upper left')\n",
    "axs[0, 0].set_title('I vs E')\n",
    "\n",
    "axs[0, 1].hist(data[data['SorN']=='S']['countQM'], bins, alpha=0.5, label='S')\n",
    "axs[0, 1].hist(data[data['SorN']=='N']['countQM'], bins, alpha=0.5, label='N')\n",
    "axs[0, 1].legend(loc='upper left')\n",
    "axs[0, 1].set_title('S vs N')\n",
    "\n",
    "\n",
    "axs[1, 0].hist(data[data['TorF']=='T']['countQM'], bins, alpha=0.5, label='T')\n",
    "axs[1, 0].hist(data[data['TorF']=='F']['countQM'], bins, alpha=0.5, label='F')\n",
    "axs[1, 0].legend(loc='upper left')\n",
    "axs[1, 0].set_title('T vs F')\n",
    "\n",
    "axs[1, 1].hist(data[data['PorJ']=='P']['countQM'], bins, alpha=0.5, label='P')\n",
    "axs[1, 1].hist(data[data['PorJ']=='J']['countQM'], bins, alpha=0.5, label='J')\n",
    "axs[1, 1].legend(loc='upper left')\n",
    "axs[1, 1].set_title('P vs J')"
   ]
  },
  {
   "cell_type": "code",
   "execution_count": 21,
   "id": "83a98855",
   "metadata": {},
   "outputs": [],
   "source": [
    "data['countLOL']= [post.count('lol') for post in data['posts']]"
   ]
  },
  {
   "cell_type": "code",
   "execution_count": 22,
   "id": "752fe546",
   "metadata": {},
   "outputs": [
    {
     "data": {
      "text/html": [
       "<div>\n",
       "<style scoped>\n",
       "    .dataframe tbody tr th:only-of-type {\n",
       "        vertical-align: middle;\n",
       "    }\n",
       "\n",
       "    .dataframe tbody tr th {\n",
       "        vertical-align: top;\n",
       "    }\n",
       "\n",
       "    .dataframe thead th {\n",
       "        text-align: right;\n",
       "    }\n",
       "</style>\n",
       "<table border=\"1\" class=\"dataframe\">\n",
       "  <thead>\n",
       "    <tr style=\"text-align: right;\">\n",
       "      <th></th>\n",
       "      <th>type</th>\n",
       "      <th>IorE</th>\n",
       "      <th>SorN</th>\n",
       "      <th>TorF</th>\n",
       "      <th>PorJ</th>\n",
       "      <th>posts</th>\n",
       "      <th>num_of_posts</th>\n",
       "      <th>ref_YT</th>\n",
       "      <th>countPunct</th>\n",
       "      <th>countQM</th>\n",
       "      <th>countLOL</th>\n",
       "    </tr>\n",
       "  </thead>\n",
       "  <tbody>\n",
       "    <tr>\n",
       "      <th>0</th>\n",
       "      <td>INFJ</td>\n",
       "      <td>I</td>\n",
       "      <td>N</td>\n",
       "      <td>F</td>\n",
       "      <td>J</td>\n",
       "      <td>'Until my mid-twenties I couldn't care less wh...</td>\n",
       "      <td>50</td>\n",
       "      <td>0</td>\n",
       "      <td>25.0</td>\n",
       "      <td>9.0</td>\n",
       "      <td>0</td>\n",
       "    </tr>\n",
       "    <tr>\n",
       "      <th>1</th>\n",
       "      <td>INFJ</td>\n",
       "      <td>I</td>\n",
       "      <td>N</td>\n",
       "      <td>F</td>\n",
       "      <td>J</td>\n",
       "      <td>'http://personalitycafe.com/attachments/infj-f...</td>\n",
       "      <td>50</td>\n",
       "      <td>1</td>\n",
       "      <td>17.0</td>\n",
       "      <td>7.0</td>\n",
       "      <td>0</td>\n",
       "    </tr>\n",
       "    <tr>\n",
       "      <th>2</th>\n",
       "      <td>INFJ</td>\n",
       "      <td>I</td>\n",
       "      <td>N</td>\n",
       "      <td>F</td>\n",
       "      <td>J</td>\n",
       "      <td>Definitely conflict, too. Unreasonable loudnes...</td>\n",
       "      <td>50</td>\n",
       "      <td>2</td>\n",
       "      <td>23.0</td>\n",
       "      <td>20.0</td>\n",
       "      <td>0</td>\n",
       "    </tr>\n",
       "    <tr>\n",
       "      <th>3</th>\n",
       "      <td>INFJ</td>\n",
       "      <td>I</td>\n",
       "      <td>N</td>\n",
       "      <td>F</td>\n",
       "      <td>J</td>\n",
       "      <td>'Last night, was racing people on my old schoo...</td>\n",
       "      <td>50</td>\n",
       "      <td>0</td>\n",
       "      <td>3.0</td>\n",
       "      <td>2.0</td>\n",
       "      <td>0</td>\n",
       "    </tr>\n",
       "    <tr>\n",
       "      <th>4</th>\n",
       "      <td>INFJ</td>\n",
       "      <td>I</td>\n",
       "      <td>N</td>\n",
       "      <td>F</td>\n",
       "      <td>J</td>\n",
       "      <td>'Looks like the preliminary results from the p...</td>\n",
       "      <td>50</td>\n",
       "      <td>0</td>\n",
       "      <td>23.0</td>\n",
       "      <td>2.0</td>\n",
       "      <td>1</td>\n",
       "    </tr>\n",
       "  </tbody>\n",
       "</table>\n",
       "</div>"
      ],
      "text/plain": [
       "   type IorE SorN TorF PorJ  \\\n",
       "0  INFJ    I    N    F    J   \n",
       "1  INFJ    I    N    F    J   \n",
       "2  INFJ    I    N    F    J   \n",
       "3  INFJ    I    N    F    J   \n",
       "4  INFJ    I    N    F    J   \n",
       "\n",
       "                                               posts  num_of_posts  ref_YT  \\\n",
       "0  'Until my mid-twenties I couldn't care less wh...            50       0   \n",
       "1  'http://personalitycafe.com/attachments/infj-f...            50       1   \n",
       "2  Definitely conflict, too. Unreasonable loudnes...            50       2   \n",
       "3  'Last night, was racing people on my old schoo...            50       0   \n",
       "4  'Looks like the preliminary results from the p...            50       0   \n",
       "\n",
       "   countPunct  countQM  countLOL  \n",
       "0        25.0      9.0         0  \n",
       "1        17.0      7.0         0  \n",
       "2        23.0     20.0         0  \n",
       "3         3.0      2.0         0  \n",
       "4        23.0      2.0         1  "
      ]
     },
     "execution_count": 22,
     "metadata": {},
     "output_type": "execute_result"
    }
   ],
   "source": [
    "data.head()"
   ]
  },
  {
   "cell_type": "code",
   "execution_count": 23,
   "id": "d61d48d7",
   "metadata": {},
   "outputs": [
    {
     "data": {
      "text/plain": [
       "Text(0.5, 1.0, 'P vs J')"
      ]
     },
     "execution_count": 23,
     "metadata": {},
     "output_type": "execute_result"
    },
    {
     "data": {
      "image/png": "[encoded data removed]",
      "text/plain": [
       "<Figure size 432x288 with 4 Axes>"
      ]
     },
     "metadata": {
      "needs_background": "light"
     },
     "output_type": "display_data"
    }
   ],
   "source": [
    "fig, axs = plt.subplots(2,2) \n",
    "bins = np.linspace(0,40,20)\n",
    "\n",
    "axs[0, 0].hist(data[data['IorE']=='I']['countLOL'], bins, alpha=0.5, label='I')\n",
    "axs[0, 0].hist(data[data['IorE']=='E']['countLOL'], bins, alpha=0.5, label='E')\n",
    "axs[0, 0].legend(loc='upper left')\n",
    "axs[0, 0].set_title('I vs E')\n",
    "\n",
    "axs[0, 1].hist(data[data['SorN']=='S']['countLOL'], bins, alpha=0.5, label='S')\n",
    "axs[0, 1].hist(data[data['SorN']=='N']['countLOL'], bins, alpha=0.5, label='N')\n",
    "axs[0, 1].legend(loc='upper left')\n",
    "axs[0, 1].set_title('S vs N')\n",
    "\n",
    "\n",
    "axs[1, 0].hist(data[data['TorF']=='T']['countLOL'], bins, alpha=0.5, label='T')\n",
    "axs[1, 0].hist(data[data['TorF']=='F']['countLOL'], bins, alpha=0.5, label='F')\n",
    "axs[1, 0].legend(loc='upper left')\n",
    "axs[1, 0].set_title('T vs F')\n",
    "\n",
    "axs[1, 1].hist(data[data['PorJ']=='P']['countLOL'], bins, alpha=0.5, label='P')\n",
    "axs[1, 1].hist(data[data['PorJ']=='J']['countLOL'], bins, alpha=0.5, label='J')\n",
    "axs[1, 1].legend(loc='upper left')\n",
    "axs[1, 1].set_title('P vs J')"
   ]
  },
  {
   "cell_type": "code",
   "execution_count": null,
   "id": "ffaa7deb",
   "metadata": {},
   "outputs": [],
   "source": []
  }
 ],
 "metadata": {
  "kernelspec": {
   "display_name": "Python 3",
   "language": "python",
   "name": "python3"
  },
  "language_info": {
   "codemirror_mode": {
    "name": "ipython",
    "version": 3
   },
   "file_extension": ".py",
   "mimetype": "text/x-python",
   "name": "python",
   "nbconvert_exporter": "python",
   "pygments_lexer": "ipython3",
   "version": "3.8.8"
  }
 },
 "nbformat": 4,
 "nbformat_minor": 5
}
