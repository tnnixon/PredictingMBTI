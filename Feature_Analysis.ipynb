{
 "cells": [
  {
   "cell_type": "code",
   "execution_count": 2,
   "id": "68f741ec",
   "metadata": {},
   "outputs": [],
   "source": [
    "import pandas as pd \n",
    "import numpy as np\n",
    "import matplotlib.pyplot as plt\n",
    "import re\n",
    "from sklearn.model_selection import train_test_split"
   ]
  },
  {
   "cell_type": "code",
   "execution_count": 3,
   "id": "f8f5f917",
   "metadata": {
    "scrolled": true
   },
   "outputs": [
    {
     "data": {
      "text/html": [
       "<div>\n",
       "<style scoped>\n",
       "    .dataframe tbody tr th:only-of-type {\n",
       "        vertical-align: middle;\n",
       "    }\n",
       "\n",
       "    .dataframe tbody tr th {\n",
       "        vertical-align: top;\n",
       "    }\n",
       "\n",
       "    .dataframe thead th {\n",
       "        text-align: right;\n",
       "    }\n",
       "</style>\n",
       "<table border=\"1\" class=\"dataframe\">\n",
       "  <thead>\n",
       "    <tr style=\"text-align: right;\">\n",
       "      <th></th>\n",
       "      <th>type</th>\n",
       "      <th>posts</th>\n",
       "    </tr>\n",
       "  </thead>\n",
       "  <tbody>\n",
       "    <tr>\n",
       "      <th>0</th>\n",
       "      <td>INFJ</td>\n",
       "      <td>'http://www.youtube.com/watch?v=qsXHcwe3krw|||...</td>\n",
       "    </tr>\n",
       "    <tr>\n",
       "      <th>1</th>\n",
       "      <td>ENTP</td>\n",
       "      <td>'I'm finding the lack of me in these posts ver...</td>\n",
       "    </tr>\n",
       "    <tr>\n",
       "      <th>2</th>\n",
       "      <td>INTP</td>\n",
       "      <td>'Good one  _____   https://www.youtube.com/wat...</td>\n",
       "    </tr>\n",
       "    <tr>\n",
       "      <th>3</th>\n",
       "      <td>INTJ</td>\n",
       "      <td>'Dear INTP,   I enjoyed our conversation the o...</td>\n",
       "    </tr>\n",
       "    <tr>\n",
       "      <th>4</th>\n",
       "      <td>ENTJ</td>\n",
       "      <td>'You're fired.|||That's another silly misconce...</td>\n",
       "    </tr>\n",
       "  </tbody>\n",
       "</table>\n",
       "</div>"
      ],
      "text/plain": [
       "   type                                              posts\n",
       "0  INFJ  'http://www.youtube.com/watch?v=qsXHcwe3krw|||...\n",
       "1  ENTP  'I'm finding the lack of me in these posts ver...\n",
       "2  INTP  'Good one  _____   https://www.youtube.com/wat...\n",
       "3  INTJ  'Dear INTP,   I enjoyed our conversation the o...\n",
       "4  ENTJ  'You're fired.|||That's another silly misconce..."
      ]
     },
     "execution_count": 3,
     "metadata": {},
     "output_type": "execute_result"
    }
   ],
   "source": [
    "data = pd.read_csv('Resources/mbti_1.csv')\n",
    "data.head()"
   ]
  },
  {
   "cell_type": "code",
   "execution_count": 4,
   "id": "49973511",
   "metadata": {},
   "outputs": [
    {
     "data": {
      "text/html": [
       "<div>\n",
       "<style scoped>\n",
       "    .dataframe tbody tr th:only-of-type {\n",
       "        vertical-align: middle;\n",
       "    }\n",
       "\n",
       "    .dataframe tbody tr th {\n",
       "        vertical-align: top;\n",
       "    }\n",
       "\n",
       "    .dataframe thead th {\n",
       "        text-align: right;\n",
       "    }\n",
       "</style>\n",
       "<table border=\"1\" class=\"dataframe\">\n",
       "  <thead>\n",
       "    <tr style=\"text-align: right;\">\n",
       "      <th></th>\n",
       "      <th>type</th>\n",
       "      <th>posts</th>\n",
       "      <th>posts_array</th>\n",
       "    </tr>\n",
       "  </thead>\n",
       "  <tbody>\n",
       "    <tr>\n",
       "      <th>0</th>\n",
       "      <td>INFJ</td>\n",
       "      <td>'http://www.youtube.com/watch?v=qsXHcwe3krw|||...</td>\n",
       "      <td>['http://www.youtube.com/watch?v=qsXHcwe3krw, ...</td>\n",
       "    </tr>\n",
       "    <tr>\n",
       "      <th>1</th>\n",
       "      <td>ENTP</td>\n",
       "      <td>'I'm finding the lack of me in these posts ver...</td>\n",
       "      <td>['I'm finding the lack of me in these posts ve...</td>\n",
       "    </tr>\n",
       "    <tr>\n",
       "      <th>2</th>\n",
       "      <td>INTP</td>\n",
       "      <td>'Good one  _____   https://www.youtube.com/wat...</td>\n",
       "      <td>['Good one  _____   https://www.youtube.com/wa...</td>\n",
       "    </tr>\n",
       "    <tr>\n",
       "      <th>3</th>\n",
       "      <td>INTJ</td>\n",
       "      <td>'Dear INTP,   I enjoyed our conversation the o...</td>\n",
       "      <td>['Dear INTP,   I enjoyed our conversation the ...</td>\n",
       "    </tr>\n",
       "    <tr>\n",
       "      <th>4</th>\n",
       "      <td>ENTJ</td>\n",
       "      <td>'You're fired.|||That's another silly misconce...</td>\n",
       "      <td>['You're fired., That's another silly misconce...</td>\n",
       "    </tr>\n",
       "  </tbody>\n",
       "</table>\n",
       "</div>"
      ],
      "text/plain": [
       "   type                                              posts  \\\n",
       "0  INFJ  'http://www.youtube.com/watch?v=qsXHcwe3krw|||...   \n",
       "1  ENTP  'I'm finding the lack of me in these posts ver...   \n",
       "2  INTP  'Good one  _____   https://www.youtube.com/wat...   \n",
       "3  INTJ  'Dear INTP,   I enjoyed our conversation the o...   \n",
       "4  ENTJ  'You're fired.|||That's another silly misconce...   \n",
       "\n",
       "                                         posts_array  \n",
       "0  ['http://www.youtube.com/watch?v=qsXHcwe3krw, ...  \n",
       "1  ['I'm finding the lack of me in these posts ve...  \n",
       "2  ['Good one  _____   https://www.youtube.com/wa...  \n",
       "3  ['Dear INTP,   I enjoyed our conversation the ...  \n",
       "4  ['You're fired., That's another silly misconce...  "
      ]
     },
     "execution_count": 4,
     "metadata": {},
     "output_type": "execute_result"
    }
   ],
   "source": [
    "#split the posts into arrays \n",
    "data['posts_array']= [[x for x in post.split('|||') if len(x)>0] for post in data['posts']]\n",
    "data.head()"
   ]
  },
  {
   "cell_type": "code",
   "execution_count": 5,
   "id": "e6a843e0",
   "metadata": {},
   "outputs": [],
   "source": [
    "#create columns for individual letters \n",
    "for index, row in data.iterrows(): \n",
    "    mbti_type = list(row['type'])\n",
    "    data.loc[index,'IorE']=mbti_type[0]\n",
    "    data.loc[index,'SorN']=mbti_type[1]\n",
    "    data.loc[index,'TorF']=mbti_type[2]\n",
    "    data.loc[index,'PorJ']=mbti_type[3]"
   ]
  },
  {
   "cell_type": "markdown",
   "id": "5cdf006f",
   "metadata": {},
   "source": [
    "# Feature: Number of Links per post "
   ]
  },
  {
   "cell_type": "code",
   "execution_count": 6,
   "id": "0f028863",
   "metadata": {},
   "outputs": [],
   "source": [
    "#creating Feature for #of Hyperlinks in posts & array of posts without any hyper links\n",
    "data['No_links']=\"\"\n",
    "data['Cnt_hyperlinks']=\"\"\n",
    "for index, row in data.iterrows():\n",
    "    temp_a = []\n",
    "    cnt_hyperlinks = 0\n",
    "    for i in row['posts_array']: \n",
    "        if i.count('http')>0:\n",
    "            cnt_hyperlinks = cnt_hyperlinks+1\n",
    "        else: \n",
    "            temp_a.append(i)\n",
    "    data['No_links'][index] = temp_a\n",
    "    data['Cnt_hyperlinks'][index] = cnt_hyperlinks/len(row['posts_array']) \n",
    "\n",
    "    #count hyper links per post "
   ]
  },
  {
   "cell_type": "code",
   "execution_count": 7,
   "id": "4103d7c6",
   "metadata": {},
   "outputs": [
    {
     "data": {
      "text/html": [
       "<div>\n",
       "<style scoped>\n",
       "    .dataframe tbody tr th:only-of-type {\n",
       "        vertical-align: middle;\n",
       "    }\n",
       "\n",
       "    .dataframe tbody tr th {\n",
       "        vertical-align: top;\n",
       "    }\n",
       "\n",
       "    .dataframe thead th {\n",
       "        text-align: right;\n",
       "    }\n",
       "</style>\n",
       "<table border=\"1\" class=\"dataframe\">\n",
       "  <thead>\n",
       "    <tr style=\"text-align: right;\">\n",
       "      <th></th>\n",
       "      <th>type</th>\n",
       "      <th>posts</th>\n",
       "      <th>posts_array</th>\n",
       "      <th>IorE</th>\n",
       "      <th>SorN</th>\n",
       "      <th>TorF</th>\n",
       "      <th>PorJ</th>\n",
       "      <th>No_links</th>\n",
       "      <th>Cnt_hyperlinks</th>\n",
       "    </tr>\n",
       "  </thead>\n",
       "  <tbody>\n",
       "    <tr>\n",
       "      <th>0</th>\n",
       "      <td>INFJ</td>\n",
       "      <td>'http://www.youtube.com/watch?v=qsXHcwe3krw|||...</td>\n",
       "      <td>['http://www.youtube.com/watch?v=qsXHcwe3krw, ...</td>\n",
       "      <td>I</td>\n",
       "      <td>N</td>\n",
       "      <td>F</td>\n",
       "      <td>J</td>\n",
       "      <td>[What has been the most life-changing experien...</td>\n",
       "      <td>0.42</td>\n",
       "    </tr>\n",
       "    <tr>\n",
       "      <th>1</th>\n",
       "      <td>ENTP</td>\n",
       "      <td>'I'm finding the lack of me in these posts ver...</td>\n",
       "      <td>['I'm finding the lack of me in these posts ve...</td>\n",
       "      <td>E</td>\n",
       "      <td>N</td>\n",
       "      <td>T</td>\n",
       "      <td>P</td>\n",
       "      <td>['I'm finding the lack of me in these posts ve...</td>\n",
       "      <td>0.14</td>\n",
       "    </tr>\n",
       "    <tr>\n",
       "      <th>2</th>\n",
       "      <td>INTP</td>\n",
       "      <td>'Good one  _____   https://www.youtube.com/wat...</td>\n",
       "      <td>['Good one  _____   https://www.youtube.com/wa...</td>\n",
       "      <td>I</td>\n",
       "      <td>N</td>\n",
       "      <td>T</td>\n",
       "      <td>P</td>\n",
       "      <td>[Of course, to which I say I know; that's my b...</td>\n",
       "      <td>0.1</td>\n",
       "    </tr>\n",
       "    <tr>\n",
       "      <th>3</th>\n",
       "      <td>INTJ</td>\n",
       "      <td>'Dear INTP,   I enjoyed our conversation the o...</td>\n",
       "      <td>['Dear INTP,   I enjoyed our conversation the ...</td>\n",
       "      <td>I</td>\n",
       "      <td>N</td>\n",
       "      <td>T</td>\n",
       "      <td>J</td>\n",
       "      <td>['Dear INTP,   I enjoyed our conversation the ...</td>\n",
       "      <td>0.04</td>\n",
       "    </tr>\n",
       "    <tr>\n",
       "      <th>4</th>\n",
       "      <td>ENTJ</td>\n",
       "      <td>'You're fired.|||That's another silly misconce...</td>\n",
       "      <td>['You're fired., That's another silly misconce...</td>\n",
       "      <td>E</td>\n",
       "      <td>N</td>\n",
       "      <td>T</td>\n",
       "      <td>J</td>\n",
       "      <td>['You're fired., That's another silly misconce...</td>\n",
       "      <td>0.12</td>\n",
       "    </tr>\n",
       "  </tbody>\n",
       "</table>\n",
       "</div>"
      ],
      "text/plain": [
       "   type                                              posts  \\\n",
       "0  INFJ  'http://www.youtube.com/watch?v=qsXHcwe3krw|||...   \n",
       "1  ENTP  'I'm finding the lack of me in these posts ver...   \n",
       "2  INTP  'Good one  _____   https://www.youtube.com/wat...   \n",
       "3  INTJ  'Dear INTP,   I enjoyed our conversation the o...   \n",
       "4  ENTJ  'You're fired.|||That's another silly misconce...   \n",
       "\n",
       "                                         posts_array IorE SorN TorF PorJ  \\\n",
       "0  ['http://www.youtube.com/watch?v=qsXHcwe3krw, ...    I    N    F    J   \n",
       "1  ['I'm finding the lack of me in these posts ve...    E    N    T    P   \n",
       "2  ['Good one  _____   https://www.youtube.com/wa...    I    N    T    P   \n",
       "3  ['Dear INTP,   I enjoyed our conversation the ...    I    N    T    J   \n",
       "4  ['You're fired., That's another silly misconce...    E    N    T    J   \n",
       "\n",
       "                                            No_links Cnt_hyperlinks  \n",
       "0  [What has been the most life-changing experien...           0.42  \n",
       "1  ['I'm finding the lack of me in these posts ve...           0.14  \n",
       "2  [Of course, to which I say I know; that's my b...            0.1  \n",
       "3  ['Dear INTP,   I enjoyed our conversation the ...           0.04  \n",
       "4  ['You're fired., That's another silly misconce...           0.12  "
      ]
     },
     "execution_count": 7,
     "metadata": {},
     "output_type": "execute_result"
    }
   ],
   "source": [
    "data.head()"
   ]
  },
  {
   "cell_type": "markdown",
   "id": "2b82f9c0",
   "metadata": {},
   "source": [
    "# Feature: Emoji Used "
   ]
  },
  {
   "cell_type": "code",
   "execution_count": 9,
   "id": "4ec2112e",
   "metadata": {},
   "outputs": [],
   "source": [
    "import regex as re,emoji,string"
   ]
  },
  {
   "cell_type": "code",
   "execution_count": 10,
   "id": "b2121110",
   "metadata": {},
   "outputs": [],
   "source": [
    "def find_emoji(text):\n",
    "\n",
    "    emoji_list = []\n",
    "    data = re.findall(r'\\X', text)\n",
    "    for word in data:\n",
    "        if any(char in emoji.UNICODE_EMOJI['en'] for char in word):\n",
    "            emoji_list.append(word)\n",
    "    \n",
    "    return emoji_list"
   ]
  },
  {
   "cell_type": "code",
   "execution_count": 11,
   "id": "65d0394f",
   "metadata": {},
   "outputs": [],
   "source": [
    "data['emoji_count']=[len(find_emoji(post)) for post in data['posts']]"
   ]
  },
  {
   "cell_type": "code",
   "execution_count": 12,
   "id": "c959748f",
   "metadata": {},
   "outputs": [
    {
     "data": {
      "text/plain": [
       "0     8536\n",
       "1       88\n",
       "2       22\n",
       "3       11\n",
       "4        6\n",
       "5        3\n",
       "6        2\n",
       "8        1\n",
       "96       1\n",
       "42       1\n",
       "11       1\n",
       "14       1\n",
       "46       1\n",
       "55       1\n",
       "Name: emoji_count, dtype: int64"
      ]
     },
     "execution_count": 12,
     "metadata": {},
     "output_type": "execute_result"
    }
   ],
   "source": [
    "data['emoji_count'].value_counts()"
   ]
  },
  {
   "cell_type": "markdown",
   "id": "cb4f439c",
   "metadata": {},
   "source": [
    "# Feature: Number of Posts "
   ]
  },
  {
   "cell_type": "code",
   "execution_count": 13,
   "id": "3ad2a101",
   "metadata": {},
   "outputs": [],
   "source": [
    "data['num_posts'] = [len(array) for array in data['posts_array']]"
   ]
  },
  {
   "cell_type": "markdown",
   "id": "556ab408",
   "metadata": {},
   "source": [
    "# Other Different Features"
   ]
  },
  {
   "cell_type": "code",
   "execution_count": null,
   "id": "3d7d1197",
   "metadata": {},
   "outputs": [],
   "source": [
    "data['ref_YT']= [post.count('youtube') for post in data['posts']]"
   ]
  },
  {
   "cell_type": "markdown",
   "id": "8525de02",
   "metadata": {},
   "source": [
    "# Sentiment Analysis"
   ]
  },
  {
   "cell_type": "code",
   "execution_count": 14,
   "id": "740a21ef",
   "metadata": {},
   "outputs": [],
   "source": [
    "import nltk\n",
    "from nltk.corpus import stopwords\n",
    "from nltk.stem import WordNetLemmatizer \n",
    "from textblob import TextBlob"
   ]
  },
  {
   "cell_type": "code",
   "execution_count": 15,
   "id": "e1e5ef2a",
   "metadata": {},
   "outputs": [
    {
     "name": "stderr",
     "output_type": "stream",
     "text": [
      "[nltk_data] Downloading package punkt to\n",
      "[nltk_data]     C:\\Users\\Hannah\\AppData\\Roaming\\nltk_data...\n",
      "[nltk_data]   Package punkt is already up-to-date!\n",
      "[nltk_data] Downloading package stopwords to\n",
      "[nltk_data]     C:\\Users\\Hannah\\AppData\\Roaming\\nltk_data...\n",
      "[nltk_data]   Package stopwords is already up-to-date!\n",
      "[nltk_data] Downloading package omw-1.4 to\n",
      "[nltk_data]     C:\\Users\\Hannah\\AppData\\Roaming\\nltk_data...\n",
      "[nltk_data]   Package omw-1.4 is already up-to-date!\n",
      "[nltk_data] Downloading package wordnet to\n",
      "[nltk_data]     C:\\Users\\Hannah\\AppData\\Roaming\\nltk_data...\n",
      "[nltk_data]   Package wordnet is already up-to-date!\n"
     ]
    },
    {
     "data": {
      "text/plain": [
       "True"
      ]
     },
     "execution_count": 15,
     "metadata": {},
     "output_type": "execute_result"
    }
   ],
   "source": [
    "nltk.download('punkt')\n",
    "nltk.download('stopwords')\n",
    "nltk.download('omw-1.4')\n",
    "nltk.download('wordnet')"
   ]
  },
  {
   "cell_type": "code",
   "execution_count": 16,
   "id": "4c347588",
   "metadata": {},
   "outputs": [],
   "source": [
    "sw = stopwords.words('english')\n",
    "\n",
    "def clean_text(text):\n",
    "    text = text.lower()\n",
    "    text = re.sub('@', '', text)\n",
    "    text = re.sub('\\[.*?\\]', '', text)\n",
    "    text = re.sub('https?://\\S+|www\\.\\S+', '', text)\n",
    "    text = re.sub('<.*?>+', '', text)\n",
    "    text = re.sub('[%s]' % re.escape(string.punctuation), '', text)\n",
    "    text = re.sub('\\n', '', text)\n",
    "    text = re.sub('\\w*\\d\\w*', '', text)\n",
    "    text = re.sub(r\"[^a-zA-Z ]+\", \"\", text)\n",
    "    \n",
    "    #Tokenize the data\n",
    "    text = nltk.word_tokenize(text)\n",
    "    #Remove stopwords\n",
    "    text = [w for w in text if w not in sw]\n",
    "    return text"
   ]
  },
  {
   "cell_type": "code",
   "execution_count": 17,
   "id": "607b4be0",
   "metadata": {},
   "outputs": [],
   "source": [
    "data['clean_posts']=data['posts'].apply(lambda x: clean_text(x))"
   ]
  },
  {
   "cell_type": "code",
   "execution_count": 18,
   "id": "4675d242",
   "metadata": {},
   "outputs": [
    {
     "data": {
      "text/html": [
       "<div>\n",
       "<style scoped>\n",
       "    .dataframe tbody tr th:only-of-type {\n",
       "        vertical-align: middle;\n",
       "    }\n",
       "\n",
       "    .dataframe tbody tr th {\n",
       "        vertical-align: top;\n",
       "    }\n",
       "\n",
       "    .dataframe thead th {\n",
       "        text-align: right;\n",
       "    }\n",
       "</style>\n",
       "<table border=\"1\" class=\"dataframe\">\n",
       "  <thead>\n",
       "    <tr style=\"text-align: right;\">\n",
       "      <th></th>\n",
       "      <th>type</th>\n",
       "      <th>posts</th>\n",
       "      <th>posts_array</th>\n",
       "      <th>IorE</th>\n",
       "      <th>SorN</th>\n",
       "      <th>TorF</th>\n",
       "      <th>PorJ</th>\n",
       "      <th>No_links</th>\n",
       "      <th>Cnt_hyperlinks</th>\n",
       "      <th>emoji_count</th>\n",
       "      <th>num_posts</th>\n",
       "      <th>clean_posts</th>\n",
       "    </tr>\n",
       "  </thead>\n",
       "  <tbody>\n",
       "    <tr>\n",
       "      <th>0</th>\n",
       "      <td>INFJ</td>\n",
       "      <td>'http://www.youtube.com/watch?v=qsXHcwe3krw|||...</td>\n",
       "      <td>['http://www.youtube.com/watch?v=qsXHcwe3krw, ...</td>\n",
       "      <td>I</td>\n",
       "      <td>N</td>\n",
       "      <td>F</td>\n",
       "      <td>J</td>\n",
       "      <td>[What has been the most life-changing experien...</td>\n",
       "      <td>0.42</td>\n",
       "      <td>0</td>\n",
       "      <td>50</td>\n",
       "      <td>[intj, moments, sportscenter, top, ten, plays,...</td>\n",
       "    </tr>\n",
       "    <tr>\n",
       "      <th>1</th>\n",
       "      <td>ENTP</td>\n",
       "      <td>'I'm finding the lack of me in these posts ver...</td>\n",
       "      <td>['I'm finding the lack of me in these posts ve...</td>\n",
       "      <td>E</td>\n",
       "      <td>N</td>\n",
       "      <td>T</td>\n",
       "      <td>P</td>\n",
       "      <td>['I'm finding the lack of me in these posts ve...</td>\n",
       "      <td>0.14</td>\n",
       "      <td>0</td>\n",
       "      <td>50</td>\n",
       "      <td>[im, finding, lack, posts, alarmingsex, boring...</td>\n",
       "    </tr>\n",
       "    <tr>\n",
       "      <th>2</th>\n",
       "      <td>INTP</td>\n",
       "      <td>'Good one  _____   https://www.youtube.com/wat...</td>\n",
       "      <td>['Good one  _____   https://www.youtube.com/wa...</td>\n",
       "      <td>I</td>\n",
       "      <td>N</td>\n",
       "      <td>T</td>\n",
       "      <td>P</td>\n",
       "      <td>[Of course, to which I say I know; that's my b...</td>\n",
       "      <td>0.1</td>\n",
       "      <td>0</td>\n",
       "      <td>50</td>\n",
       "      <td>[good, one, course, say, know, thats, blessing...</td>\n",
       "    </tr>\n",
       "    <tr>\n",
       "      <th>3</th>\n",
       "      <td>INTJ</td>\n",
       "      <td>'Dear INTP,   I enjoyed our conversation the o...</td>\n",
       "      <td>['Dear INTP,   I enjoyed our conversation the ...</td>\n",
       "      <td>I</td>\n",
       "      <td>N</td>\n",
       "      <td>T</td>\n",
       "      <td>J</td>\n",
       "      <td>['Dear INTP,   I enjoyed our conversation the ...</td>\n",
       "      <td>0.04</td>\n",
       "      <td>0</td>\n",
       "      <td>50</td>\n",
       "      <td>[dear, intp, enjoyed, conversation, day, esote...</td>\n",
       "    </tr>\n",
       "    <tr>\n",
       "      <th>4</th>\n",
       "      <td>ENTJ</td>\n",
       "      <td>'You're fired.|||That's another silly misconce...</td>\n",
       "      <td>['You're fired., That's another silly misconce...</td>\n",
       "      <td>E</td>\n",
       "      <td>N</td>\n",
       "      <td>T</td>\n",
       "      <td>J</td>\n",
       "      <td>['You're fired., That's another silly misconce...</td>\n",
       "      <td>0.12</td>\n",
       "      <td>0</td>\n",
       "      <td>50</td>\n",
       "      <td>[youre, firedthats, another, silly, misconcept...</td>\n",
       "    </tr>\n",
       "  </tbody>\n",
       "</table>\n",
       "</div>"
      ],
      "text/plain": [
       "   type                                              posts  \\\n",
       "0  INFJ  'http://www.youtube.com/watch?v=qsXHcwe3krw|||...   \n",
       "1  ENTP  'I'm finding the lack of me in these posts ver...   \n",
       "2  INTP  'Good one  _____   https://www.youtube.com/wat...   \n",
       "3  INTJ  'Dear INTP,   I enjoyed our conversation the o...   \n",
       "4  ENTJ  'You're fired.|||That's another silly misconce...   \n",
       "\n",
       "                                         posts_array IorE SorN TorF PorJ  \\\n",
       "0  ['http://www.youtube.com/watch?v=qsXHcwe3krw, ...    I    N    F    J   \n",
       "1  ['I'm finding the lack of me in these posts ve...    E    N    T    P   \n",
       "2  ['Good one  _____   https://www.youtube.com/wa...    I    N    T    P   \n",
       "3  ['Dear INTP,   I enjoyed our conversation the ...    I    N    T    J   \n",
       "4  ['You're fired., That's another silly misconce...    E    N    T    J   \n",
       "\n",
       "                                            No_links Cnt_hyperlinks  \\\n",
       "0  [What has been the most life-changing experien...           0.42   \n",
       "1  ['I'm finding the lack of me in these posts ve...           0.14   \n",
       "2  [Of course, to which I say I know; that's my b...            0.1   \n",
       "3  ['Dear INTP,   I enjoyed our conversation the ...           0.04   \n",
       "4  ['You're fired., That's another silly misconce...           0.12   \n",
       "\n",
       "   emoji_count  num_posts                                        clean_posts  \n",
       "0            0         50  [intj, moments, sportscenter, top, ten, plays,...  \n",
       "1            0         50  [im, finding, lack, posts, alarmingsex, boring...  \n",
       "2            0         50  [good, one, course, say, know, thats, blessing...  \n",
       "3            0         50  [dear, intp, enjoyed, conversation, day, esote...  \n",
       "4            0         50  [youre, firedthats, another, silly, misconcept...  "
      ]
     },
     "execution_count": 18,
     "metadata": {},
     "output_type": "execute_result"
    }
   ],
   "source": [
    "data.head()"
   ]
  },
  {
   "cell_type": "code",
   "execution_count": 19,
   "id": "88d6b4c5",
   "metadata": {},
   "outputs": [],
   "source": [
    "#Lemmatizer\n",
    "lemmatizer = WordNetLemmatizer()\n",
    "def lem(text):\n",
    "    text = [lemmatizer.lemmatize(t) for t in text]\n",
    "    text = [lemmatizer.lemmatize(t, 'v') for t in text]\n",
    "    return text\n",
    "data['clean_posts'] = data['clean_posts'].apply(lambda x: lem(x))"
   ]
  },
  {
   "cell_type": "code",
   "execution_count": 20,
   "id": "6b139801",
   "metadata": {},
   "outputs": [],
   "source": [
    "data['clean_posts']=[str(thing) for thing in data['clean_posts']]"
   ]
  },
  {
   "cell_type": "code",
   "execution_count": 21,
   "id": "8580aacb",
   "metadata": {},
   "outputs": [],
   "source": [
    "sentiment = []\n",
    "for i in range(len(data)):\n",
    "    blob = TextBlob(data['clean_posts'][i])\n",
    "    for sentence in blob.sentences:\n",
    "        sentiment.append(sentence.sentiment.polarity)\n",
    "data['sentiment']=sentiment"
   ]
  },
  {
   "cell_type": "code",
   "execution_count": 24,
   "id": "7dff278f",
   "metadata": {},
   "outputs": [
    {
     "data": {
      "text/html": [
       "<div>\n",
       "<style scoped>\n",
       "    .dataframe tbody tr th:only-of-type {\n",
       "        vertical-align: middle;\n",
       "    }\n",
       "\n",
       "    .dataframe tbody tr th {\n",
       "        vertical-align: top;\n",
       "    }\n",
       "\n",
       "    .dataframe thead th {\n",
       "        text-align: right;\n",
       "    }\n",
       "</style>\n",
       "<table border=\"1\" class=\"dataframe\">\n",
       "  <thead>\n",
       "    <tr style=\"text-align: right;\">\n",
       "      <th></th>\n",
       "      <th>type</th>\n",
       "      <th>posts</th>\n",
       "      <th>posts_array</th>\n",
       "      <th>IorE</th>\n",
       "      <th>SorN</th>\n",
       "      <th>TorF</th>\n",
       "      <th>PorJ</th>\n",
       "      <th>No_links</th>\n",
       "      <th>Cnt_hyperlinks</th>\n",
       "      <th>emoji_count</th>\n",
       "      <th>num_posts</th>\n",
       "      <th>clean_posts</th>\n",
       "      <th>sentiment</th>\n",
       "    </tr>\n",
       "  </thead>\n",
       "  <tbody>\n",
       "    <tr>\n",
       "      <th>0</th>\n",
       "      <td>INFJ</td>\n",
       "      <td>'http://www.youtube.com/watch?v=qsXHcwe3krw|||...</td>\n",
       "      <td>['http://www.youtube.com/watch?v=qsXHcwe3krw, ...</td>\n",
       "      <td>I</td>\n",
       "      <td>N</td>\n",
       "      <td>F</td>\n",
       "      <td>J</td>\n",
       "      <td>[What has been the most life-changing experien...</td>\n",
       "      <td>0.42</td>\n",
       "      <td>0</td>\n",
       "      <td>50</td>\n",
       "      <td>['intj', 'moment', 'sportscenter', 'top', 'ten...</td>\n",
       "      <td>0.098116</td>\n",
       "    </tr>\n",
       "    <tr>\n",
       "      <th>1</th>\n",
       "      <td>ENTP</td>\n",
       "      <td>'I'm finding the lack of me in these posts ver...</td>\n",
       "      <td>['I'm finding the lack of me in these posts ve...</td>\n",
       "      <td>E</td>\n",
       "      <td>N</td>\n",
       "      <td>T</td>\n",
       "      <td>P</td>\n",
       "      <td>['I'm finding the lack of me in these posts ve...</td>\n",
       "      <td>0.14</td>\n",
       "      <td>0</td>\n",
       "      <td>50</td>\n",
       "      <td>['im', 'find', 'lack', 'post', 'alarmingsex', ...</td>\n",
       "      <td>0.098953</td>\n",
       "    </tr>\n",
       "    <tr>\n",
       "      <th>2</th>\n",
       "      <td>INTP</td>\n",
       "      <td>'Good one  _____   https://www.youtube.com/wat...</td>\n",
       "      <td>['Good one  _____   https://www.youtube.com/wa...</td>\n",
       "      <td>I</td>\n",
       "      <td>N</td>\n",
       "      <td>T</td>\n",
       "      <td>P</td>\n",
       "      <td>[Of course, to which I say I know; that's my b...</td>\n",
       "      <td>0.1</td>\n",
       "      <td>0</td>\n",
       "      <td>50</td>\n",
       "      <td>['good', 'one', 'course', 'say', 'know', 'that...</td>\n",
       "      <td>0.129627</td>\n",
       "    </tr>\n",
       "    <tr>\n",
       "      <th>3</th>\n",
       "      <td>INTJ</td>\n",
       "      <td>'Dear INTP,   I enjoyed our conversation the o...</td>\n",
       "      <td>['Dear INTP,   I enjoyed our conversation the ...</td>\n",
       "      <td>I</td>\n",
       "      <td>N</td>\n",
       "      <td>T</td>\n",
       "      <td>J</td>\n",
       "      <td>['Dear INTP,   I enjoyed our conversation the ...</td>\n",
       "      <td>0.04</td>\n",
       "      <td>0</td>\n",
       "      <td>50</td>\n",
       "      <td>['dear', 'intp', 'enjoy', 'conversation', 'day...</td>\n",
       "      <td>0.096569</td>\n",
       "    </tr>\n",
       "    <tr>\n",
       "      <th>4</th>\n",
       "      <td>ENTJ</td>\n",
       "      <td>'You're fired.|||That's another silly misconce...</td>\n",
       "      <td>['You're fired., That's another silly misconce...</td>\n",
       "      <td>E</td>\n",
       "      <td>N</td>\n",
       "      <td>T</td>\n",
       "      <td>J</td>\n",
       "      <td>['You're fired., That's another silly misconce...</td>\n",
       "      <td>0.12</td>\n",
       "      <td>0</td>\n",
       "      <td>50</td>\n",
       "      <td>['youre', 'firedthats', 'another', 'silly', 'm...</td>\n",
       "      <td>0.011339</td>\n",
       "    </tr>\n",
       "  </tbody>\n",
       "</table>\n",
       "</div>"
      ],
      "text/plain": [
       "   type                                              posts  \\\n",
       "0  INFJ  'http://www.youtube.com/watch?v=qsXHcwe3krw|||...   \n",
       "1  ENTP  'I'm finding the lack of me in these posts ver...   \n",
       "2  INTP  'Good one  _____   https://www.youtube.com/wat...   \n",
       "3  INTJ  'Dear INTP,   I enjoyed our conversation the o...   \n",
       "4  ENTJ  'You're fired.|||That's another silly misconce...   \n",
       "\n",
       "                                         posts_array IorE SorN TorF PorJ  \\\n",
       "0  ['http://www.youtube.com/watch?v=qsXHcwe3krw, ...    I    N    F    J   \n",
       "1  ['I'm finding the lack of me in these posts ve...    E    N    T    P   \n",
       "2  ['Good one  _____   https://www.youtube.com/wa...    I    N    T    P   \n",
       "3  ['Dear INTP,   I enjoyed our conversation the ...    I    N    T    J   \n",
       "4  ['You're fired., That's another silly misconce...    E    N    T    J   \n",
       "\n",
       "                                            No_links Cnt_hyperlinks  \\\n",
       "0  [What has been the most life-changing experien...           0.42   \n",
       "1  ['I'm finding the lack of me in these posts ve...           0.14   \n",
       "2  [Of course, to which I say I know; that's my b...            0.1   \n",
       "3  ['Dear INTP,   I enjoyed our conversation the ...           0.04   \n",
       "4  ['You're fired., That's another silly misconce...           0.12   \n",
       "\n",
       "   emoji_count  num_posts                                        clean_posts  \\\n",
       "0            0         50  ['intj', 'moment', 'sportscenter', 'top', 'ten...   \n",
       "1            0         50  ['im', 'find', 'lack', 'post', 'alarmingsex', ...   \n",
       "2            0         50  ['good', 'one', 'course', 'say', 'know', 'that...   \n",
       "3            0         50  ['dear', 'intp', 'enjoy', 'conversation', 'day...   \n",
       "4            0         50  ['youre', 'firedthats', 'another', 'silly', 'm...   \n",
       "\n",
       "   sentiment  \n",
       "0   0.098116  \n",
       "1   0.098953  \n",
       "2   0.129627  \n",
       "3   0.096569  \n",
       "4   0.011339  "
      ]
     },
     "execution_count": 24,
     "metadata": {},
     "output_type": "execute_result"
    }
   ],
   "source": [
    "data.head()"
   ]
  },
  {
   "cell_type": "markdown",
   "id": "7a434714",
   "metadata": {},
   "source": [
    "# Random Selection of Data for Training Data Set"
   ]
  },
  {
   "cell_type": "code",
   "execution_count": 25,
   "id": "ee2c697d",
   "metadata": {},
   "outputs": [
    {
     "data": {
      "text/plain": [
       "array(['INFJ', 'ENTP', 'INTP', 'INTJ', 'ENTJ', 'ENFJ', 'INFP', 'ENFP',\n",
       "       'ISFP', 'ISTP', 'ISFJ', 'ISTJ', 'ESTP', 'ESFP', 'ESTJ', 'ESFJ'],\n",
       "      dtype=object)"
      ]
     },
     "execution_count": 25,
     "metadata": {},
     "output_type": "execute_result"
    }
   ],
   "source": [
    "unique_mbti = data['type'].unique()\n",
    "unique_mbti #list of unique personality types "
   ]
  },
  {
   "cell_type": "code",
   "execution_count": 26,
   "id": "42b87e6e",
   "metadata": {},
   "outputs": [],
   "source": [
    "data = data[['IorE','SorN','TorF','PorJ','Cnt_hyperlinks','emoji_count','num_posts','sentiment']]"
   ]
  },
  {
   "cell_type": "code",
   "execution_count": 29,
   "id": "1e7b6f48",
   "metadata": {},
   "outputs": [],
   "source": [
    "data2 = pd.read_csv('Resources/mbti_1.csv')"
   ]
  },
  {
   "cell_type": "code",
   "execution_count": 39,
   "id": "9fc6009d",
   "metadata": {},
   "outputs": [],
   "source": [
    "data2 = data.join(data2['type'])"
   ]
  },
  {
   "cell_type": "code",
   "execution_count": 40,
   "id": "f35a3752",
   "metadata": {},
   "outputs": [
    {
     "data": {
      "text/html": [
       "<div>\n",
       "<style scoped>\n",
       "    .dataframe tbody tr th:only-of-type {\n",
       "        vertical-align: middle;\n",
       "    }\n",
       "\n",
       "    .dataframe tbody tr th {\n",
       "        vertical-align: top;\n",
       "    }\n",
       "\n",
       "    .dataframe thead th {\n",
       "        text-align: right;\n",
       "    }\n",
       "</style>\n",
       "<table border=\"1\" class=\"dataframe\">\n",
       "  <thead>\n",
       "    <tr style=\"text-align: right;\">\n",
       "      <th></th>\n",
       "      <th>IorE</th>\n",
       "      <th>SorN</th>\n",
       "      <th>TorF</th>\n",
       "      <th>PorJ</th>\n",
       "      <th>Cnt_hyperlinks</th>\n",
       "      <th>emoji_count</th>\n",
       "      <th>num_posts</th>\n",
       "      <th>sentiment</th>\n",
       "      <th>type</th>\n",
       "    </tr>\n",
       "  </thead>\n",
       "  <tbody>\n",
       "    <tr>\n",
       "      <th>0</th>\n",
       "      <td>I</td>\n",
       "      <td>N</td>\n",
       "      <td>F</td>\n",
       "      <td>J</td>\n",
       "      <td>0.42</td>\n",
       "      <td>0</td>\n",
       "      <td>50</td>\n",
       "      <td>0.098116</td>\n",
       "      <td>INFJ</td>\n",
       "    </tr>\n",
       "    <tr>\n",
       "      <th>1</th>\n",
       "      <td>E</td>\n",
       "      <td>N</td>\n",
       "      <td>T</td>\n",
       "      <td>P</td>\n",
       "      <td>0.14</td>\n",
       "      <td>0</td>\n",
       "      <td>50</td>\n",
       "      <td>0.098953</td>\n",
       "      <td>ENTP</td>\n",
       "    </tr>\n",
       "    <tr>\n",
       "      <th>2</th>\n",
       "      <td>I</td>\n",
       "      <td>N</td>\n",
       "      <td>T</td>\n",
       "      <td>P</td>\n",
       "      <td>0.1</td>\n",
       "      <td>0</td>\n",
       "      <td>50</td>\n",
       "      <td>0.129627</td>\n",
       "      <td>INTP</td>\n",
       "    </tr>\n",
       "    <tr>\n",
       "      <th>3</th>\n",
       "      <td>I</td>\n",
       "      <td>N</td>\n",
       "      <td>T</td>\n",
       "      <td>J</td>\n",
       "      <td>0.04</td>\n",
       "      <td>0</td>\n",
       "      <td>50</td>\n",
       "      <td>0.096569</td>\n",
       "      <td>INTJ</td>\n",
       "    </tr>\n",
       "    <tr>\n",
       "      <th>4</th>\n",
       "      <td>E</td>\n",
       "      <td>N</td>\n",
       "      <td>T</td>\n",
       "      <td>J</td>\n",
       "      <td>0.12</td>\n",
       "      <td>0</td>\n",
       "      <td>50</td>\n",
       "      <td>0.011339</td>\n",
       "      <td>ENTJ</td>\n",
       "    </tr>\n",
       "  </tbody>\n",
       "</table>\n",
       "</div>"
      ],
      "text/plain": [
       "  IorE SorN TorF PorJ Cnt_hyperlinks  emoji_count  num_posts  sentiment  type\n",
       "0    I    N    F    J           0.42            0         50   0.098116  INFJ\n",
       "1    E    N    T    P           0.14            0         50   0.098953  ENTP\n",
       "2    I    N    T    P            0.1            0         50   0.129627  INTP\n",
       "3    I    N    T    J           0.04            0         50   0.096569  INTJ\n",
       "4    E    N    T    J           0.12            0         50   0.011339  ENTJ"
      ]
     },
     "execution_count": 40,
     "metadata": {},
     "output_type": "execute_result"
    }
   ],
   "source": [
    "data2.head()"
   ]
  },
  {
   "cell_type": "code",
   "execution_count": 46,
   "id": "84b4a649",
   "metadata": {},
   "outputs": [],
   "source": [
    "import random"
   ]
  },
  {
   "cell_type": "code",
   "execution_count": 44,
   "id": "5102c472",
   "metadata": {},
   "outputs": [],
   "source": [
    "#creating a function to take in personality and get a random sample set \n",
    "def randomSet(mbti, dframe): \n",
    "    personality = dframe.loc[dframe['type']==mbti]\n",
    "    personality_index = personality.index.tolist()\n",
    "    personality_RSDF = dframe.iloc[random.sample(personality_index,25)] #getting 25 random samples\n",
    "    return personality_RSDF"
   ]
  },
  {
   "cell_type": "code",
   "execution_count": 47,
   "id": "9028aabe",
   "metadata": {},
   "outputs": [],
   "source": [
    "#initialize DF to append to create a clean sample Data Set \n",
    "df = pd.DataFrame() \n",
    "\n",
    "for item in unique_mbti: \n",
    "    df = df.append(randomSet(item, data2))"
   ]
  },
  {
   "cell_type": "code",
   "execution_count": 48,
   "id": "766bcf59",
   "metadata": {},
   "outputs": [
    {
     "data": {
      "text/html": [
       "<div>\n",
       "<style scoped>\n",
       "    .dataframe tbody tr th:only-of-type {\n",
       "        vertical-align: middle;\n",
       "    }\n",
       "\n",
       "    .dataframe tbody tr th {\n",
       "        vertical-align: top;\n",
       "    }\n",
       "\n",
       "    .dataframe thead th {\n",
       "        text-align: right;\n",
       "    }\n",
       "</style>\n",
       "<table border=\"1\" class=\"dataframe\">\n",
       "  <thead>\n",
       "    <tr style=\"text-align: right;\">\n",
       "      <th></th>\n",
       "      <th>IorE</th>\n",
       "      <th>SorN</th>\n",
       "      <th>TorF</th>\n",
       "      <th>PorJ</th>\n",
       "      <th>Cnt_hyperlinks</th>\n",
       "      <th>emoji_count</th>\n",
       "      <th>num_posts</th>\n",
       "      <th>sentiment</th>\n",
       "      <th>type</th>\n",
       "    </tr>\n",
       "  </thead>\n",
       "  <tbody>\n",
       "    <tr>\n",
       "      <th>5315</th>\n",
       "      <td>I</td>\n",
       "      <td>N</td>\n",
       "      <td>F</td>\n",
       "      <td>J</td>\n",
       "      <td>0.06</td>\n",
       "      <td>0</td>\n",
       "      <td>50</td>\n",
       "      <td>0.055275</td>\n",
       "      <td>INFJ</td>\n",
       "    </tr>\n",
       "    <tr>\n",
       "      <th>434</th>\n",
       "      <td>I</td>\n",
       "      <td>N</td>\n",
       "      <td>F</td>\n",
       "      <td>J</td>\n",
       "      <td>0.02</td>\n",
       "      <td>0</td>\n",
       "      <td>50</td>\n",
       "      <td>0.102037</td>\n",
       "      <td>INFJ</td>\n",
       "    </tr>\n",
       "    <tr>\n",
       "      <th>5097</th>\n",
       "      <td>I</td>\n",
       "      <td>N</td>\n",
       "      <td>F</td>\n",
       "      <td>J</td>\n",
       "      <td>0.7</td>\n",
       "      <td>0</td>\n",
       "      <td>50</td>\n",
       "      <td>0.083056</td>\n",
       "      <td>INFJ</td>\n",
       "    </tr>\n",
       "    <tr>\n",
       "      <th>7365</th>\n",
       "      <td>I</td>\n",
       "      <td>N</td>\n",
       "      <td>F</td>\n",
       "      <td>J</td>\n",
       "      <td>0.14</td>\n",
       "      <td>0</td>\n",
       "      <td>50</td>\n",
       "      <td>0.169211</td>\n",
       "      <td>INFJ</td>\n",
       "    </tr>\n",
       "    <tr>\n",
       "      <th>7908</th>\n",
       "      <td>I</td>\n",
       "      <td>N</td>\n",
       "      <td>F</td>\n",
       "      <td>J</td>\n",
       "      <td>0.076923</td>\n",
       "      <td>0</td>\n",
       "      <td>26</td>\n",
       "      <td>0.168133</td>\n",
       "      <td>INFJ</td>\n",
       "    </tr>\n",
       "  </tbody>\n",
       "</table>\n",
       "</div>"
      ],
      "text/plain": [
       "     IorE SorN TorF PorJ Cnt_hyperlinks  emoji_count  num_posts  sentiment  \\\n",
       "5315    I    N    F    J           0.06            0         50   0.055275   \n",
       "434     I    N    F    J           0.02            0         50   0.102037   \n",
       "5097    I    N    F    J            0.7            0         50   0.083056   \n",
       "7365    I    N    F    J           0.14            0         50   0.169211   \n",
       "7908    I    N    F    J       0.076923            0         26   0.168133   \n",
       "\n",
       "      type  \n",
       "5315  INFJ  \n",
       "434   INFJ  \n",
       "5097  INFJ  \n",
       "7365  INFJ  \n",
       "7908  INFJ  "
      ]
     },
     "execution_count": 48,
     "metadata": {},
     "output_type": "execute_result"
    }
   ],
   "source": [
    "df.head()"
   ]
  },
  {
   "cell_type": "code",
   "execution_count": null,
   "id": "88904d78",
   "metadata": {},
   "outputs": [],
   "source": []
  },
  {
   "cell_type": "code",
   "execution_count": 50,
   "id": "8d57fc01",
   "metadata": {},
   "outputs": [
    {
     "data": {
      "text/plain": [
       "Index(['IorE', 'SorN', 'TorF', 'PorJ', 'Cnt_hyperlinks', 'emoji_count',\n",
       "       'num_posts', 'sentiment', 'type'],\n",
       "      dtype='object')"
      ]
     },
     "execution_count": 50,
     "metadata": {},
     "output_type": "execute_result"
    }
   ],
   "source": [
    "df.columns"
   ]
  },
  {
   "cell_type": "code",
   "execution_count": null,
   "id": "ed18aec9",
   "metadata": {},
   "outputs": [],
   "source": [
    "#data2 \n",
    "#df"
   ]
  },
  {
   "cell_type": "code",
   "execution_count": 51,
   "id": "0be5920c",
   "metadata": {},
   "outputs": [],
   "source": [
    "x_train = df[['Cnt_hyperlinks', 'emoji_count','num_posts', 'sentiment']]\n",
    "y_train = df[['IorE']]"
   ]
  },
  {
   "cell_type": "code",
   "execution_count": 59,
   "id": "2e811e25",
   "metadata": {},
   "outputs": [],
   "source": [
    "x_test = data2[['Cnt_hyperlinks', 'emoji_count','num_posts', 'sentiment']]\n",
    "y_test = data2[['IorE']]"
   ]
  },
  {
   "cell_type": "code",
   "execution_count": 49,
   "id": "c8617ed3",
   "metadata": {},
   "outputs": [],
   "source": [
    "from sklearn.preprocessing import StandardScaler"
   ]
  },
  {
   "cell_type": "code",
   "execution_count": 52,
   "id": "6e08a933",
   "metadata": {},
   "outputs": [
    {
     "data": {
      "text/plain": [
       "StandardScaler()"
      ]
     },
     "execution_count": 52,
     "metadata": {},
     "output_type": "execute_result"
    }
   ],
   "source": [
    "# Scale the data\n",
    "scaler = StandardScaler()\n",
    "scaler.fit(x_train)"
   ]
  },
  {
   "cell_type": "code",
   "execution_count": 53,
   "id": "ea0c7b57",
   "metadata": {},
   "outputs": [],
   "source": [
    "x_train_scaled = scaler.transform(x_train)"
   ]
  },
  {
   "cell_type": "code",
   "execution_count": 54,
   "id": "865df7fe",
   "metadata": {},
   "outputs": [
    {
     "data": {
      "text/plain": [
       "LogisticRegression()"
      ]
     },
     "execution_count": 54,
     "metadata": {},
     "output_type": "execute_result"
    }
   ],
   "source": [
    "from sklearn.linear_model import LogisticRegression\n",
    "classifier = LogisticRegression()\n",
    "classifier"
   ]
  },
  {
   "cell_type": "code",
   "execution_count": 56,
   "id": "74b1de2d",
   "metadata": {},
   "outputs": [
    {
     "name": "stderr",
     "output_type": "stream",
     "text": [
      "C:\\Users\\Hannah\\anaconda3\\lib\\site-packages\\sklearn\\utils\\validation.py:63: DataConversionWarning: A column-vector y was passed when a 1d array was expected. Please change the shape of y to (n_samples, ), for example using ravel().\n",
      "  return f(*args, **kwargs)\n"
     ]
    },
    {
     "data": {
      "text/plain": [
       "LogisticRegression()"
      ]
     },
     "execution_count": 56,
     "metadata": {},
     "output_type": "execute_result"
    }
   ],
   "source": [
    "classifier.fit(x_train, y_train)"
   ]
  },
  {
   "cell_type": "code",
   "execution_count": 57,
   "id": "64e1c09f",
   "metadata": {},
   "outputs": [
    {
     "data": {
      "text/plain": [
       "0.57"
      ]
     },
     "execution_count": 57,
     "metadata": {},
     "output_type": "execute_result"
    }
   ],
   "source": [
    "classifier.score(x_train, y_train)"
   ]
  },
  {
   "cell_type": "code",
   "execution_count": 60,
   "id": "6f550a1a",
   "metadata": {},
   "outputs": [
    {
     "data": {
      "text/plain": [
       "0.4122190201729107"
      ]
     },
     "execution_count": 60,
     "metadata": {},
     "output_type": "execute_result"
    }
   ],
   "source": [
    "classifier.score(x_test, y_test)"
   ]
  },
  {
   "cell_type": "code",
   "execution_count": 64,
   "id": "bf83ee69",
   "metadata": {},
   "outputs": [],
   "source": [
    "from sklearn.ensemble import RandomForestClassifier"
   ]
  },
  {
   "cell_type": "code",
   "execution_count": 61,
   "id": "e3ceb6fe",
   "metadata": {},
   "outputs": [],
   "source": [
    "# Scale the data\n",
    "scaler = StandardScaler()\n",
    "scaler.fit(x_train)\n",
    "x_train_scaled = scaler.transform(x_train)\n",
    "x_test_scaled = scaler.transform(x_test) "
   ]
  },
  {
   "cell_type": "code",
   "execution_count": 62,
   "id": "c65ae801",
   "metadata": {},
   "outputs": [
    {
     "name": "stderr",
     "output_type": "stream",
     "text": [
      "C:\\Users\\Hannah\\anaconda3\\lib\\site-packages\\sklearn\\utils\\validation.py:63: DataConversionWarning: A column-vector y was passed when a 1d array was expected. Please change the shape of y to (n_samples, ), for example using ravel().\n",
      "  return f(*args, **kwargs)\n"
     ]
    },
    {
     "data": {
      "text/plain": [
       "0.4556772334293948"
      ]
     },
     "execution_count": 62,
     "metadata": {},
     "output_type": "execute_result"
    }
   ],
   "source": [
    "classifier= LogisticRegression()\n",
    "classifier.fit(x_train_scaled, y_train)\n",
    "classifier.score(x_test_scaled, y_test)"
   ]
  },
  {
   "cell_type": "code",
   "execution_count": 65,
   "id": "58f02c0a",
   "metadata": {},
   "outputs": [
    {
     "name": "stderr",
     "output_type": "stream",
     "text": [
      "<ipython-input-65-829b72762d9d>:2: DataConversionWarning: A column-vector y was passed when a 1d array was expected. Please change the shape of y to (n_samples,), for example using ravel().\n",
      "  rfc.fit(x_train_scaled ,y_train)\n"
     ]
    },
    {
     "data": {
      "text/plain": [
       "0.5601152737752162"
      ]
     },
     "execution_count": 65,
     "metadata": {},
     "output_type": "execute_result"
    }
   ],
   "source": [
    "rfc = RandomForestClassifier()\n",
    "rfc.fit(x_train_scaled ,y_train)\n",
    "rfc.score(x_test_scaled ,y_test)"
   ]
  },
  {
   "cell_type": "code",
   "execution_count": null,
   "id": "39630db5",
   "metadata": {},
   "outputs": [],
   "source": []
  },
  {
   "cell_type": "code",
   "execution_count": 74,
   "id": "0fbd0f1c",
   "metadata": {},
   "outputs": [
    {
     "data": {
      "text/html": [
       "<div>\n",
       "<style scoped>\n",
       "    .dataframe tbody tr th:only-of-type {\n",
       "        vertical-align: middle;\n",
       "    }\n",
       "\n",
       "    .dataframe tbody tr th {\n",
       "        vertical-align: top;\n",
       "    }\n",
       "\n",
       "    .dataframe thead th {\n",
       "        text-align: right;\n",
       "    }\n",
       "</style>\n",
       "<table border=\"1\" class=\"dataframe\">\n",
       "  <thead>\n",
       "    <tr style=\"text-align: right;\">\n",
       "      <th></th>\n",
       "      <th>Unnamed: 0</th>\n",
       "      <th>type</th>\n",
       "      <th>posts</th>\n",
       "      <th>posts_array</th>\n",
       "      <th>IorE</th>\n",
       "      <th>SorN</th>\n",
       "      <th>TorF</th>\n",
       "      <th>PorJ</th>\n",
       "      <th>No_links</th>\n",
       "      <th>Cnt_hyperlinks</th>\n",
       "      <th>emoji_count</th>\n",
       "      <th>emojis</th>\n",
       "      <th>num_posts</th>\n",
       "      <th>clean_posts</th>\n",
       "      <th>sentiment</th>\n",
       "    </tr>\n",
       "  </thead>\n",
       "  <tbody>\n",
       "    <tr>\n",
       "      <th>0</th>\n",
       "      <td>7333</td>\n",
       "      <td>INFJ</td>\n",
       "      <td>'FDT Yes, you are correct. I don't know who yo...</td>\n",
       "      <td>['FDT Yes, you are correct. I don't know who y...</td>\n",
       "      <td>I</td>\n",
       "      <td>N</td>\n",
       "      <td>F</td>\n",
       "      <td>J</td>\n",
       "      <td>['FDT Yes, you are correct. I don't know who y...</td>\n",
       "      <td>0.0</td>\n",
       "      <td>0</td>\n",
       "      <td>[]</td>\n",
       "      <td>50</td>\n",
       "      <td>['fdt', 'yes', 'correct', 'dont', 'know', 'sor...</td>\n",
       "      <td>0.083190</td>\n",
       "    </tr>\n",
       "    <tr>\n",
       "      <th>1</th>\n",
       "      <td>8403</td>\n",
       "      <td>INFJ</td>\n",
       "      <td>'Almost everything you wrote sounds like me.. ...</td>\n",
       "      <td>['Almost everything you wrote sounds like me.....</td>\n",
       "      <td>I</td>\n",
       "      <td>N</td>\n",
       "      <td>F</td>\n",
       "      <td>J</td>\n",
       "      <td>['Almost everything you wrote sounds like me.....</td>\n",
       "      <td>0.02</td>\n",
       "      <td>0</td>\n",
       "      <td>[]</td>\n",
       "      <td>50</td>\n",
       "      <td>['almost', 'everything', 'write', 'sound', 'li...</td>\n",
       "      <td>0.137759</td>\n",
       "    </tr>\n",
       "    <tr>\n",
       "      <th>2</th>\n",
       "      <td>4562</td>\n",
       "      <td>INFJ</td>\n",
       "      <td>'I suffered with BDD for around 7 years and ev...</td>\n",
       "      <td>['I suffered with BDD for around 7 years and e...</td>\n",
       "      <td>I</td>\n",
       "      <td>N</td>\n",
       "      <td>F</td>\n",
       "      <td>J</td>\n",
       "      <td>['I suffered with BDD for around 7 years and e...</td>\n",
       "      <td>0.02</td>\n",
       "      <td>0</td>\n",
       "      <td>[]</td>\n",
       "      <td>50</td>\n",
       "      <td>['suffer', 'bdd', 'around', 'year', 'even', 't...</td>\n",
       "      <td>0.069872</td>\n",
       "    </tr>\n",
       "    <tr>\n",
       "      <th>3</th>\n",
       "      <td>720</td>\n",
       "      <td>INFJ</td>\n",
       "      <td>'Do you think that there should be sparks on a...</td>\n",
       "      <td>['Do you think that there should be sparks on ...</td>\n",
       "      <td>I</td>\n",
       "      <td>N</td>\n",
       "      <td>F</td>\n",
       "      <td>J</td>\n",
       "      <td>['Do you think that there should be sparks on ...</td>\n",
       "      <td>0.0</td>\n",
       "      <td>0</td>\n",
       "      <td>[]</td>\n",
       "      <td>50</td>\n",
       "      <td>['think', 'spark', 'first', 'date', 'thats', '...</td>\n",
       "      <td>0.077484</td>\n",
       "    </tr>\n",
       "    <tr>\n",
       "      <th>4</th>\n",
       "      <td>3657</td>\n",
       "      <td>INFJ</td>\n",
       "      <td>'It does sound like anxiety to me, especially ...</td>\n",
       "      <td>['It does sound like anxiety to me, especially...</td>\n",
       "      <td>I</td>\n",
       "      <td>N</td>\n",
       "      <td>F</td>\n",
       "      <td>J</td>\n",
       "      <td>['It does sound like anxiety to me, especially...</td>\n",
       "      <td>0.06</td>\n",
       "      <td>0</td>\n",
       "      <td>[]</td>\n",
       "      <td>50</td>\n",
       "      <td>['sound', 'like', 'anxiety', 'especially', 'si...</td>\n",
       "      <td>0.134456</td>\n",
       "    </tr>\n",
       "  </tbody>\n",
       "</table>\n",
       "</div>"
      ],
      "text/plain": [
       "   Unnamed: 0  type                                              posts  \\\n",
       "0        7333  INFJ  'FDT Yes, you are correct. I don't know who yo...   \n",
       "1        8403  INFJ  'Almost everything you wrote sounds like me.. ...   \n",
       "2        4562  INFJ  'I suffered with BDD for around 7 years and ev...   \n",
       "3         720  INFJ  'Do you think that there should be sparks on a...   \n",
       "4        3657  INFJ  'It does sound like anxiety to me, especially ...   \n",
       "\n",
       "                                         posts_array IorE SorN TorF PorJ  \\\n",
       "0  ['FDT Yes, you are correct. I don't know who y...    I    N    F    J   \n",
       "1  ['Almost everything you wrote sounds like me.....    I    N    F    J   \n",
       "2  ['I suffered with BDD for around 7 years and e...    I    N    F    J   \n",
       "3  ['Do you think that there should be sparks on ...    I    N    F    J   \n",
       "4  ['It does sound like anxiety to me, especially...    I    N    F    J   \n",
       "\n",
       "                                            No_links Cnt_hyperlinks  \\\n",
       "0  ['FDT Yes, you are correct. I don't know who y...            0.0   \n",
       "1  ['Almost everything you wrote sounds like me.....           0.02   \n",
       "2  ['I suffered with BDD for around 7 years and e...           0.02   \n",
       "3  ['Do you think that there should be sparks on ...            0.0   \n",
       "4  ['It does sound like anxiety to me, especially...           0.06   \n",
       "\n",
       "   emoji_count emojis  num_posts  \\\n",
       "0            0     []         50   \n",
       "1            0     []         50   \n",
       "2            0     []         50   \n",
       "3            0     []         50   \n",
       "4            0     []         50   \n",
       "\n",
       "                                         clean_posts  sentiment  \n",
       "0  ['fdt', 'yes', 'correct', 'dont', 'know', 'sor...   0.083190  \n",
       "1  ['almost', 'everything', 'write', 'sound', 'li...   0.137759  \n",
       "2  ['suffer', 'bdd', 'around', 'year', 'even', 't...   0.069872  \n",
       "3  ['think', 'spark', 'first', 'date', 'thats', '...   0.077484  \n",
       "4  ['sound', 'like', 'anxiety', 'especially', 'si...   0.134456  "
      ]
     },
     "execution_count": 74,
     "metadata": {},
     "output_type": "execute_result"
    }
   ],
   "source": [
    "data.head()"
   ]
  },
  {
   "cell_type": "code",
   "execution_count": null,
   "id": "86294811",
   "metadata": {},
   "outputs": [],
   "source": []
  },
  {
   "cell_type": "code",
   "execution_count": 75,
   "id": "ef90fef0",
   "metadata": {},
   "outputs": [],
   "source": [
    "from sklearn.linear_model import LogisticRegression"
   ]
  },
  {
   "cell_type": "code",
   "execution_count": null,
   "id": "a8fc2f8e",
   "metadata": {},
   "outputs": [],
   "source": []
  },
  {
   "cell_type": "code",
   "execution_count": null,
   "id": "9dc63f50",
   "metadata": {},
   "outputs": [],
   "source": []
  },
  {
   "cell_type": "code",
   "execution_count": null,
   "id": "8b2003ca",
   "metadata": {},
   "outputs": [],
   "source": []
  },
  {
   "cell_type": "code",
   "execution_count": null,
   "id": "c93bd32a",
   "metadata": {},
   "outputs": [],
   "source": []
  },
  {
   "cell_type": "code",
   "execution_count": 3,
   "id": "a40e47d1",
   "metadata": {},
   "outputs": [],
   "source": [
    "data['num_of_posts']= [len([x for x in post.split('|||') if len(x)>0]) for post in data['posts']]"
   ]
  },
  {
   "cell_type": "code",
   "execution_count": 4,
   "id": "755a89e8",
   "metadata": {},
   "outputs": [
    {
     "data": {
      "text/html": [
       "<div>\n",
       "<style scoped>\n",
       "    .dataframe tbody tr th:only-of-type {\n",
       "        vertical-align: middle;\n",
       "    }\n",
       "\n",
       "    .dataframe tbody tr th {\n",
       "        vertical-align: top;\n",
       "    }\n",
       "\n",
       "    .dataframe thead th {\n",
       "        text-align: right;\n",
       "    }\n",
       "</style>\n",
       "<table border=\"1\" class=\"dataframe\">\n",
       "  <thead>\n",
       "    <tr style=\"text-align: right;\">\n",
       "      <th></th>\n",
       "      <th>Unnamed: 0</th>\n",
       "      <th>type</th>\n",
       "      <th>posts</th>\n",
       "      <th>num_of_posts</th>\n",
       "    </tr>\n",
       "  </thead>\n",
       "  <tbody>\n",
       "    <tr>\n",
       "      <th>0</th>\n",
       "      <td>5150</td>\n",
       "      <td>INFJ</td>\n",
       "      <td>'Until my mid-twenties I couldn't care less wh...</td>\n",
       "      <td>50</td>\n",
       "    </tr>\n",
       "    <tr>\n",
       "      <th>1</th>\n",
       "      <td>4661</td>\n",
       "      <td>INFJ</td>\n",
       "      <td>'http://personalitycafe.com/attachments/infj-f...</td>\n",
       "      <td>50</td>\n",
       "    </tr>\n",
       "    <tr>\n",
       "      <th>2</th>\n",
       "      <td>3397</td>\n",
       "      <td>INFJ</td>\n",
       "      <td>Definitely conflict, too. Unreasonable loudnes...</td>\n",
       "      <td>50</td>\n",
       "    </tr>\n",
       "    <tr>\n",
       "      <th>3</th>\n",
       "      <td>6839</td>\n",
       "      <td>INFJ</td>\n",
       "      <td>'Last night, was racing people on my old schoo...</td>\n",
       "      <td>50</td>\n",
       "    </tr>\n",
       "    <tr>\n",
       "      <th>4</th>\n",
       "      <td>5044</td>\n",
       "      <td>INFJ</td>\n",
       "      <td>'Looks like the preliminary results from the p...</td>\n",
       "      <td>50</td>\n",
       "    </tr>\n",
       "  </tbody>\n",
       "</table>\n",
       "</div>"
      ],
      "text/plain": [
       "   Unnamed: 0  type                                              posts  \\\n",
       "0        5150  INFJ  'Until my mid-twenties I couldn't care less wh...   \n",
       "1        4661  INFJ  'http://personalitycafe.com/attachments/infj-f...   \n",
       "2        3397  INFJ  Definitely conflict, too. Unreasonable loudnes...   \n",
       "3        6839  INFJ  'Last night, was racing people on my old schoo...   \n",
       "4        5044  INFJ  'Looks like the preliminary results from the p...   \n",
       "\n",
       "   num_of_posts  \n",
       "0            50  \n",
       "1            50  \n",
       "2            50  \n",
       "3            50  \n",
       "4            50  "
      ]
     },
     "execution_count": 4,
     "metadata": {},
     "output_type": "execute_result"
    }
   ],
   "source": [
    "data.head()"
   ]
  },
  {
   "cell_type": "code",
   "execution_count": 5,
   "id": "4039e9c6",
   "metadata": {},
   "outputs": [],
   "source": [
    "#create columns for individual letters \n",
    "for index, row in data.iterrows(): \n",
    "    mbti_type = list(row['type'])\n",
    "    data.loc[index,'IorE']=mbti_type[0]\n",
    "    data.loc[index,'SorN']=mbti_type[1]\n",
    "    data.loc[index,'TorF']=mbti_type[2]\n",
    "    data.loc[index,'PorJ']=mbti_type[3]"
   ]
  },
  {
   "cell_type": "code",
   "execution_count": 6,
   "id": "d9443ec5",
   "metadata": {},
   "outputs": [
    {
     "data": {
      "text/plain": [
       "I    200\n",
       "E    200\n",
       "Name: IorE, dtype: int64"
      ]
     },
     "execution_count": 6,
     "metadata": {},
     "output_type": "execute_result"
    }
   ],
   "source": [
    "data['IorE'].value_counts()"
   ]
  },
  {
   "cell_type": "code",
   "execution_count": 7,
   "id": "5695f12e",
   "metadata": {},
   "outputs": [
    {
     "data": {
      "text/plain": [
       "N    200\n",
       "S    200\n",
       "Name: SorN, dtype: int64"
      ]
     },
     "execution_count": 7,
     "metadata": {},
     "output_type": "execute_result"
    }
   ],
   "source": [
    "data['SorN'].value_counts()"
   ]
  },
  {
   "cell_type": "code",
   "execution_count": 8,
   "id": "ba9e083e",
   "metadata": {},
   "outputs": [
    {
     "data": {
      "text/plain": [
       "F    200\n",
       "T    200\n",
       "Name: TorF, dtype: int64"
      ]
     },
     "execution_count": 8,
     "metadata": {},
     "output_type": "execute_result"
    }
   ],
   "source": [
    "data['TorF'].value_counts()"
   ]
  },
  {
   "cell_type": "code",
   "execution_count": 9,
   "id": "4087d057",
   "metadata": {},
   "outputs": [
    {
     "data": {
      "text/plain": [
       "P    200\n",
       "J    200\n",
       "Name: PorJ, dtype: int64"
      ]
     },
     "execution_count": 9,
     "metadata": {},
     "output_type": "execute_result"
    }
   ],
   "source": [
    "data['PorJ'].value_counts()"
   ]
  },
  {
   "cell_type": "code",
   "execution_count": 10,
   "id": "46c0442a",
   "metadata": {},
   "outputs": [],
   "source": [
    "data = data[['type','IorE','SorN','TorF','PorJ','posts','num_of_posts']]"
   ]
  },
  {
   "cell_type": "code",
   "execution_count": 11,
   "id": "3d405ceb",
   "metadata": {
    "scrolled": true
   },
   "outputs": [
    {
     "data": {
      "text/plain": [
       "[\"'Looks like the preliminary results from the poll confirm my little haphazard theory thus far, especially in regards to the possible causality of the mistyping.  May mean my theory will eventually be...\",\n",
       " 'Hello everyone,  I am working on a personal theory of sorts related to male INFJs and our possible tendency to mistype early on when we first learn about MBTI typologies.  For example, I personally...',\n",
       " \"It's been quite a while since I posted, but I'm thinking it might be time to make a come back.  Figured this wouldn't be the worst place to get started.  So hello, again.  Here are two random pics...\",\n",
       " \"Understated, yet refined.  Well-kempt, yet playfully casual.  Projecting a sense of presence, confidence, and stature which cannot be denied, yet does not cry out immaturely for attention.  It's...\",\n",
       " \"Well, I mean, when I someday rule the world, I totally plan to be one of those benevolent dictators.  You know...the tyrant with a heart of gold type of approach.  What's so dark or self-serving...\",\n",
       " 'If she wants to move to Virginia, she can see me once I finish graduate school this year:cool:   But really, picking a mental health provider should probably not be based solely on MBTI...',\n",
       " \"now that i've learned i'm an infj, i figured this would be a good way to introduce myself to my fellow infj's...    fancy photo shoot ...\",\n",
       " 'So I used to post on personalitycafe quite a while ago...and, during that time, I consistently bounced back and forth between believing I was an INFP or an ENFP. I always tended to test as one of...',\n",
       " 'Haha the options are limitless!',\n",
       " \"Haha fair enough.  I retract my earlier assertion then.  I guess I'm alone in enjoying it haha.\",\n",
       " 'sometimes i like to randomly re-appear after a few months of being absent to post some random pictures...  ...',\n",
       " \"I take it from your response that you are either younger and/or have never lived on your own.  I could be wrong, but if I'm not, once you experience having your own place, you will come to understand...\",\n",
       " \"5'11...wish i could say i was 6 feet...but i can't:sad:\",\n",
       " ':shocked:    :confused:    :crying:',\n",
       " \"fine fine...i'll just live in wonder and curiosity about it for the rest of my life then:unsure:\",\n",
       " \"thiiiis is the only picture of myself as a child that I have in digital form...the rest are in a photo album of more physical form..   as for this one, i'm in the middle...in the oakland raiders...\",\n",
       " \"I hope the quotes mean the ghosts aren't real:sad:haha\",\n",
       " 'With vengence and furious anger!',\n",
       " 'http://www.clickoffthegrid.com/images/windturbine-solarpanels01.jpg someday....',\n",
       " \"I do odd things even when I'm not alone:sad:\",\n",
       " \"at my volunteer job at one of the local hospices...they have nothing for me to do today though, so i'm just answering phones aaaand apparently taking a few random pictures to pass the time haha  ...\",\n",
       " 'Why thank you.  I feel so informed now:tongue:',\n",
       " \"Can someone please explain what trolling is to me?:unsure:  I keep seeing people mention it, but I've never seen anyone define it.   I apologize for not knowing:sad:\",\n",
       " 'I am currently engaged in a rather humble attempt at being alive.',\n",
       " \"ummm you are kind of...sort of...ridiculously beautiful:blushed:      so yeah...just thought you'd like to know that...or something haha\",\n",
       " \"I haaaate having my picture taken. I always feel required to pose and doing so always feels so un-natural. I get all stiff and awkward, because it just doesn't feel authentic. And I'm very aware of...\",\n",
       " \"your avatar is VERY distracting...   just thought i'd throw that out there:tongue:\",\n",
       " \"someone on this site has a cartoon in their signature that says something along the lines of i procrastinate, but that's ok!...because it means i'm 10 times less likely to be a serial killer!...i...\",\n",
       " 'haha indeed...i just thought it would be fun to point out how obviously un-ENFP that specific example was:tongue:',\n",
       " \"Oh, don't get me wrong...there's a method to my madness (sort of)...but I doubt anyone else would be able to make any sense of it other than me:sad:haha\",\n",
       " 'Right now I really only have one main focus..  To support, further, and be a part of the current push by postmodern-oriented psychotherapy practitioners to both overhaul and reconceptualize the...',\n",
       " 'Tedium.  Monotony.  And an utter lack of novelty or opportunities for creativity (ie. the public school system, for example)..   I get sad just imagining any scenario that fits those...',\n",
       " \"My room looks like a somewhat well-intentioned and borderline-organized tornado blew through it.  I'd say that about sums it up.\",\n",
       " \"There is noooo frickin' way that Cuddy from House is an ENFP!  She is waaaay too organized and career-focused (ie. doesn't have a short attention span) to be one of us!\",\n",
       " \"It sounds to me like I need to bring you in as a mediator to explain me and my ways to every girl I date!  Then they will know what to expect.  And I'll be able to tell them that they were...\",\n",
       " 'holy grossness!  That is terrible!   Educated, intelligent women = sexy-pants:blushed:',\n",
       " \"Oh, I know.  Certainly didn't stop her from trying though haha.   She saw all my charisma and intelligence and decided I would make the perfect power partner...iiif she could break me of my...\",\n",
       " 'what are these boundaries you speak of?   they sound intriguing..   tell me more..:tongue:',\n",
       " 'One girl tried to tame me and break me of my random/eccentric ways back in college.   She ended up being sorely disappointed:crazy:',\n",
       " 'My dad is an INTJ. And thanks to him I developed the ability to debate persuasively and rationally like no other haha. All of my friends used to think that my family was weird, because while my...',\n",
       " 'To dance the night away.  But it is currently only the afternoon.  So once again my plans are thwarted by the space-time continuum!   :crying:',\n",
       " 'I have a gluten allergy!  *High five* to dietary restrictions!:cool:',\n",
       " \"It is actually possible that you'll be in good company!  I have met several women who were in their 40s or 50s and were working on PhDs.  Several had decided to do the grad school thing after their...\",\n",
       " 'Well fair enough!  PhD it is then!:tongue:lol',\n",
       " 'Good call!  For comparisons sake...here is some of the BLS info on counselors...which is actually a differntial licensure and job classification from psychologists...  Employment of mental...',\n",
       " 'Plans for a second date with the girl mentioned above were just confirmed!:laughing:',\n",
       " \"Judging from your avatar, you aren't so bad looking yourself:tongue:\",\n",
       " \"Yeah, there really are very few advantages to getting a Psy.D now-a-days.  Academia won't take you seriously as a researcher and insurance companies won't pay you much extra as a practitioner, so you...\",\n",
       " \"Well, technically it happened last night, buuut...I had the best first date I've been on in a veeeery long time.  I haven't felt this sort of instant connection/attraction to a girl in years!\",\n",
       " \"I can definitely agree with that!   Let's not forget our rather breath-taking ENFP female companions as well though!  We've got some true beauties here amongst us thanks to them!:proud:'\"]"
      ]
     },
     "execution_count": 11,
     "metadata": {},
     "output_type": "execute_result"
    }
   ],
   "source": [
    "data['posts'][4].split('|||')"
   ]
  },
  {
   "cell_type": "markdown",
   "id": "b1010007",
   "metadata": {},
   "source": [
    "# Evaluating Number of Posts as a Feature \n",
    "\n",
    "Number of Posts is not a good feature to use - majority of the population is posting more than 45 posts "
   ]
  },
  {
   "cell_type": "code",
   "execution_count": 12,
   "id": "8d0f25d0",
   "metadata": {},
   "outputs": [
    {
     "data": {
      "text/plain": [
       "Text(0.5, 1.0, 'P vs J')"
      ]
     },
     "execution_count": 12,
     "metadata": {},
     "output_type": "execute_result"
    },
    {
     "data": {
      "image/png": "[encoded data removed]",
      "text/plain": [
       "<Figure size 432x288 with 4 Axes>"
      ]
     },
     "metadata": {
      "needs_background": "light"
     },
     "output_type": "display_data"
    }
   ],
   "source": [
    "bins = np.linspace(0,50,10)\n",
    "fig, axs = plt.subplots(2,2) \n",
    "axs[0, 0].hist(data[data['IorE']=='I']['num_of_posts'], bins, alpha=0.5, label='I')\n",
    "axs[0, 0].hist(data[data['IorE']=='E']['num_of_posts'], bins, alpha=0.5, label='E')\n",
    "axs[0, 0].legend(loc='upper left')\n",
    "axs[0, 0].set_title('I vs E')\n",
    "\n",
    "axs[0, 1].hist(data[data['SorN']=='S']['num_of_posts'], bins, alpha=0.5, label='S')\n",
    "axs[0, 1].hist(data[data['SorN']=='N']['num_of_posts'], bins, alpha=0.5, label='N')\n",
    "axs[0, 1].legend(loc='upper left')\n",
    "axs[0, 1].set_title('S vs N')\n",
    "\n",
    "\n",
    "axs[1, 0].hist(data[data['TorF']=='T']['num_of_posts'], bins, alpha=0.5, label='T')\n",
    "axs[1, 0].hist(data[data['TorF']=='F']['num_of_posts'], bins, alpha=0.5, label='F')\n",
    "axs[1, 0].legend(loc='upper left')\n",
    "axs[1, 0].set_title('T vs F')\n",
    "\n",
    "axs[1, 1].hist(data[data['PorJ']=='P']['num_of_posts'], bins, alpha=0.5, label='P')\n",
    "axs[1, 1].hist(data[data['PorJ']=='J']['num_of_posts'], bins, alpha=0.5, label='J')\n",
    "axs[1, 1].legend(loc='upper left')\n",
    "axs[1, 1].set_title('P vs J')\n"
   ]
  },
  {
   "cell_type": "markdown",
   "id": "1ba605bf",
   "metadata": {},
   "source": [
    "# Evaluating Youtube references as a Feature "
   ]
  },
  {
   "cell_type": "code",
   "execution_count": 13,
   "id": "a3f0d40a",
   "metadata": {},
   "outputs": [],
   "source": [
    "data['ref_YT']= [post.count('youtube') for post in data['posts']]"
   ]
  },
  {
   "cell_type": "code",
   "execution_count": 14,
   "id": "f84154be",
   "metadata": {},
   "outputs": [
    {
     "data": {
      "text/plain": [
       "Text(0.5, 1.0, 'P vs J')"
      ]
     },
     "execution_count": 14,
     "metadata": {},
     "output_type": "execute_result"
    },
    {
     "data": {
      "image/png": "[encoded data removed]",
      "text/plain": [
       "<Figure size 432x288 with 4 Axes>"
      ]
     },
     "metadata": {
      "needs_background": "light"
     },
     "output_type": "display_data"
    }
   ],
   "source": [
    "fig, axs = plt.subplots(2,2) \n",
    "bins = np.linspace(0,40,20)\n",
    "\n",
    "axs[0, 0].hist(data[data['IorE']=='I']['ref_YT'], bins, alpha=0.5, label='I')\n",
    "axs[0, 0].hist(data[data['IorE']=='E']['ref_YT'], bins, alpha=0.5, label='E')\n",
    "axs[0, 0].legend(loc='upper left')\n",
    "axs[0, 0].set_title('I vs E')\n",
    "\n",
    "axs[0, 1].hist(data[data['SorN']=='S']['ref_YT'], bins, alpha=0.5, label='S')\n",
    "axs[0, 1].hist(data[data['SorN']=='N']['ref_YT'], bins, alpha=0.5, label='N')\n",
    "axs[0, 1].legend(loc='upper left')\n",
    "axs[0, 1].set_title('S vs N')\n",
    "\n",
    "\n",
    "axs[1, 0].hist(data[data['TorF']=='T']['ref_YT'], bins, alpha=0.5, label='T')\n",
    "axs[1, 0].hist(data[data['TorF']=='F']['ref_YT'], bins, alpha=0.5, label='F')\n",
    "axs[1, 0].legend(loc='upper left')\n",
    "axs[1, 0].set_title('T vs F')\n",
    "\n",
    "axs[1, 1].hist(data[data['PorJ']=='P']['ref_YT'], bins, alpha=0.5, label='P')\n",
    "axs[1, 1].hist(data[data['PorJ']=='J']['ref_YT'], bins, alpha=0.5, label='J')\n",
    "axs[1, 1].legend(loc='upper left')\n",
    "axs[1, 1].set_title('P vs J')\n"
   ]
  },
  {
   "cell_type": "code",
   "execution_count": 15,
   "id": "7890ccc4",
   "metadata": {},
   "outputs": [],
   "source": [
    "data['countPunct']= [len(re.findall('[?!]',post)) for post in data['posts']]"
   ]
  },
  {
   "cell_type": "code",
   "execution_count": 16,
   "id": "cfffa125",
   "metadata": {},
   "outputs": [],
   "source": [
    "data['countPunct']= [np.mean([len(re.findall('[?!]',post)) for x in post.split('|||') if len(x)>0]) for post in data['posts']]"
   ]
  },
  {
   "cell_type": "code",
   "execution_count": 17,
   "id": "59408251",
   "metadata": {},
   "outputs": [],
   "source": [
    "data['countQM']= [np.mean([post.count('?') for x in post.split('|||') if len(x)>0]) for post in data['posts']]"
   ]
  },
  {
   "cell_type": "code",
   "execution_count": 18,
   "id": "cc43672a",
   "metadata": {},
   "outputs": [
    {
     "data": {
      "text/plain": [
       "['.',\n",
       " '.',\n",
       " '.',\n",
       " '.',\n",
       " '.',\n",
       " '.',\n",
       " '.',\n",
       " '.',\n",
       " '.',\n",
       " '.',\n",
       " '.',\n",
       " '.',\n",
       " '.',\n",
       " '.',\n",
       " '.',\n",
       " '.',\n",
       " '.',\n",
       " '.',\n",
       " '.',\n",
       " '.',\n",
       " '.',\n",
       " '.',\n",
       " '.',\n",
       " '.',\n",
       " '.',\n",
       " '.',\n",
       " '.',\n",
       " '.',\n",
       " '.',\n",
       " '.',\n",
       " '.',\n",
       " '.',\n",
       " '.',\n",
       " '.',\n",
       " '.',\n",
       " '.',\n",
       " '.',\n",
       " '.',\n",
       " '.',\n",
       " '.',\n",
       " '.',\n",
       " '.',\n",
       " '.',\n",
       " '.',\n",
       " '!',\n",
       " '.',\n",
       " '.',\n",
       " '.',\n",
       " '.',\n",
       " '.',\n",
       " '.',\n",
       " '.',\n",
       " '.',\n",
       " '.',\n",
       " '.',\n",
       " '.',\n",
       " '.',\n",
       " '.',\n",
       " '.',\n",
       " '.',\n",
       " '.',\n",
       " '.',\n",
       " '.',\n",
       " '.',\n",
       " '.',\n",
       " '.',\n",
       " '.',\n",
       " '.',\n",
       " '.',\n",
       " '.',\n",
       " '.',\n",
       " '.',\n",
       " '.',\n",
       " '.',\n",
       " '.',\n",
       " '.',\n",
       " '.',\n",
       " '.',\n",
       " '!',\n",
       " '.',\n",
       " '.',\n",
       " '.',\n",
       " '.',\n",
       " '.',\n",
       " '.',\n",
       " '.',\n",
       " '.',\n",
       " '.',\n",
       " '.',\n",
       " '.',\n",
       " '.',\n",
       " '.',\n",
       " '.',\n",
       " '?',\n",
       " '.',\n",
       " '.',\n",
       " '.',\n",
       " '.',\n",
       " '.',\n",
       " '.',\n",
       " '.',\n",
       " '.',\n",
       " '.',\n",
       " '.',\n",
       " '.',\n",
       " '.',\n",
       " '.',\n",
       " '.',\n",
       " '.',\n",
       " '.',\n",
       " '.',\n",
       " '.',\n",
       " '.',\n",
       " '.',\n",
       " '.',\n",
       " '.',\n",
       " '.',\n",
       " '!',\n",
       " '.',\n",
       " '.',\n",
       " '.',\n",
       " '!',\n",
       " '.',\n",
       " '.',\n",
       " '.',\n",
       " '.',\n",
       " '.',\n",
       " '.',\n",
       " '.',\n",
       " '.',\n",
       " '.',\n",
       " '.',\n",
       " '.',\n",
       " '.',\n",
       " '.',\n",
       " '.',\n",
       " '.',\n",
       " '.',\n",
       " '.',\n",
       " '.',\n",
       " '.',\n",
       " '.',\n",
       " '.',\n",
       " '.',\n",
       " '.',\n",
       " '.',\n",
       " '.',\n",
       " '.',\n",
       " '.',\n",
       " '.',\n",
       " '.',\n",
       " '.',\n",
       " '!',\n",
       " '.',\n",
       " '!',\n",
       " '!',\n",
       " '.',\n",
       " '.',\n",
       " '.',\n",
       " '.',\n",
       " '!',\n",
       " '!',\n",
       " '.',\n",
       " '.',\n",
       " '.',\n",
       " '.',\n",
       " '.',\n",
       " '.',\n",
       " '.',\n",
       " '.',\n",
       " '?',\n",
       " '.',\n",
       " '.',\n",
       " '.',\n",
       " '.',\n",
       " '.',\n",
       " '.',\n",
       " '.',\n",
       " '.',\n",
       " '.',\n",
       " '.',\n",
       " '.',\n",
       " '.',\n",
       " '!',\n",
       " '!',\n",
       " '!',\n",
       " '!',\n",
       " '.',\n",
       " '.',\n",
       " '.',\n",
       " '.',\n",
       " '!',\n",
       " '!',\n",
       " '!',\n",
       " '.',\n",
       " '.',\n",
       " '.',\n",
       " '.',\n",
       " '.',\n",
       " '.',\n",
       " '.',\n",
       " '.',\n",
       " '.',\n",
       " '.',\n",
       " '.',\n",
       " '.',\n",
       " '!',\n",
       " '.',\n",
       " '.',\n",
       " '.',\n",
       " '.',\n",
       " '.',\n",
       " '.',\n",
       " '.',\n",
       " '.',\n",
       " '.',\n",
       " '!',\n",
       " '!',\n",
       " '!',\n",
       " '!']"
      ]
     },
     "execution_count": 18,
     "metadata": {},
     "output_type": "execute_result"
    }
   ],
   "source": [
    "re.findall('[?!.]',data['posts'][4])"
   ]
  },
  {
   "cell_type": "code",
   "execution_count": 19,
   "id": "ff939387",
   "metadata": {},
   "outputs": [
    {
     "data": {
      "text/plain": [
       "Text(0.5, 1.0, 'P vs J')"
      ]
     },
     "execution_count": 19,
     "metadata": {},
     "output_type": "execute_result"
    },
    {
     "data": {
      "image/png": "[encoded data removed]",
      "text/plain": [
       "<Figure size 432x288 with 4 Axes>"
      ]
     },
     "metadata": {
      "needs_background": "light"
     },
     "output_type": "display_data"
    }
   ],
   "source": [
    "fig, axs = plt.subplots(2,2) \n",
    "bins = np.linspace(0,40,20)\n",
    "\n",
    "axs[0, 0].hist(data[data['IorE']=='I']['countPunct'], bins, alpha=0.5, label='I')\n",
    "axs[0, 0].hist(data[data['IorE']=='E']['countPunct'], bins, alpha=0.5, label='E')\n",
    "axs[0, 0].legend(loc='upper left')\n",
    "axs[0, 0].set_title('I vs E')\n",
    "\n",
    "axs[0, 1].hist(data[data['SorN']=='S']['countPunct'], bins, alpha=0.5, label='S')\n",
    "axs[0, 1].hist(data[data['SorN']=='N']['countPunct'], bins, alpha=0.5, label='N')\n",
    "axs[0, 1].legend(loc='upper left')\n",
    "axs[0, 1].set_title('S vs N')\n",
    "\n",
    "\n",
    "axs[1, 0].hist(data[data['TorF']=='T']['countPunct'], bins, alpha=0.5, label='T')\n",
    "axs[1, 0].hist(data[data['TorF']=='F']['countPunct'], bins, alpha=0.5, label='F')\n",
    "axs[1, 0].legend(loc='upper left')\n",
    "axs[1, 0].set_title('T vs F')\n",
    "\n",
    "axs[1, 1].hist(data[data['PorJ']=='P']['countPunct'], bins, alpha=0.5, label='P')\n",
    "axs[1, 1].hist(data[data['PorJ']=='J']['countPunct'], bins, alpha=0.5, label='J')\n",
    "axs[1, 1].legend(loc='upper left')\n",
    "axs[1, 1].set_title('P vs J')\n"
   ]
  },
  {
   "cell_type": "code",
   "execution_count": 20,
   "id": "753a7b1e",
   "metadata": {},
   "outputs": [
    {
     "data": {
      "text/plain": [
       "Text(0.5, 1.0, 'P vs J')"
      ]
     },
     "execution_count": 20,
     "metadata": {},
     "output_type": "execute_result"
    },
    {
     "data": {
      "image/png": "[encoded data removed]",
      "text/plain": [
       "<Figure size 432x288 with 4 Axes>"
      ]
     },
     "metadata": {
      "needs_background": "light"
     },
     "output_type": "display_data"
    }
   ],
   "source": [
    "fig, axs = plt.subplots(2,2) \n",
    "bins = np.linspace(0,40,20)\n",
    "\n",
    "axs[0, 0].hist(data[data['IorE']=='I']['countQM'], bins, alpha=0.5, label='I')\n",
    "axs[0, 0].hist(data[data['IorE']=='E']['countQM'], bins, alpha=0.5, label='E')\n",
    "axs[0, 0].legend(loc='upper left')\n",
    "axs[0, 0].set_title('I vs E')\n",
    "\n",
    "axs[0, 1].hist(data[data['SorN']=='S']['countQM'], bins, alpha=0.5, label='S')\n",
    "axs[0, 1].hist(data[data['SorN']=='N']['countQM'], bins, alpha=0.5, label='N')\n",
    "axs[0, 1].legend(loc='upper left')\n",
    "axs[0, 1].set_title('S vs N')\n",
    "\n",
    "\n",
    "axs[1, 0].hist(data[data['TorF']=='T']['countQM'], bins, alpha=0.5, label='T')\n",
    "axs[1, 0].hist(data[data['TorF']=='F']['countQM'], bins, alpha=0.5, label='F')\n",
    "axs[1, 0].legend(loc='upper left')\n",
    "axs[1, 0].set_title('T vs F')\n",
    "\n",
    "axs[1, 1].hist(data[data['PorJ']=='P']['countQM'], bins, alpha=0.5, label='P')\n",
    "axs[1, 1].hist(data[data['PorJ']=='J']['countQM'], bins, alpha=0.5, label='J')\n",
    "axs[1, 1].legend(loc='upper left')\n",
    "axs[1, 1].set_title('P vs J')"
   ]
  },
  {
   "cell_type": "code",
   "execution_count": 21,
   "id": "b1f17082",
   "metadata": {},
   "outputs": [],
   "source": [
    "data['countLOL']= [post.count('lol') for post in data['posts']]"
   ]
  },
  {
   "cell_type": "code",
   "execution_count": 22,
   "id": "02b516cf",
   "metadata": {},
   "outputs": [
    {
     "data": {
      "text/html": [
       "<div>\n",
       "<style scoped>\n",
       "    .dataframe tbody tr th:only-of-type {\n",
       "        vertical-align: middle;\n",
       "    }\n",
       "\n",
       "    .dataframe tbody tr th {\n",
       "        vertical-align: top;\n",
       "    }\n",
       "\n",
       "    .dataframe thead th {\n",
       "        text-align: right;\n",
       "    }\n",
       "</style>\n",
       "<table border=\"1\" class=\"dataframe\">\n",
       "  <thead>\n",
       "    <tr style=\"text-align: right;\">\n",
       "      <th></th>\n",
       "      <th>type</th>\n",
       "      <th>IorE</th>\n",
       "      <th>SorN</th>\n",
       "      <th>TorF</th>\n",
       "      <th>PorJ</th>\n",
       "      <th>posts</th>\n",
       "      <th>num_of_posts</th>\n",
       "      <th>ref_YT</th>\n",
       "      <th>countPunct</th>\n",
       "      <th>countQM</th>\n",
       "      <th>countLOL</th>\n",
       "    </tr>\n",
       "  </thead>\n",
       "  <tbody>\n",
       "    <tr>\n",
       "      <th>0</th>\n",
       "      <td>INFJ</td>\n",
       "      <td>I</td>\n",
       "      <td>N</td>\n",
       "      <td>F</td>\n",
       "      <td>J</td>\n",
       "      <td>'Until my mid-twenties I couldn't care less wh...</td>\n",
       "      <td>50</td>\n",
       "      <td>0</td>\n",
       "      <td>25.0</td>\n",
       "      <td>9.0</td>\n",
       "      <td>0</td>\n",
       "    </tr>\n",
       "    <tr>\n",
       "      <th>1</th>\n",
       "      <td>INFJ</td>\n",
       "      <td>I</td>\n",
       "      <td>N</td>\n",
       "      <td>F</td>\n",
       "      <td>J</td>\n",
       "      <td>'http://personalitycafe.com/attachments/infj-f...</td>\n",
       "      <td>50</td>\n",
       "      <td>1</td>\n",
       "      <td>17.0</td>\n",
       "      <td>7.0</td>\n",
       "      <td>0</td>\n",
       "    </tr>\n",
       "    <tr>\n",
       "      <th>2</th>\n",
       "      <td>INFJ</td>\n",
       "      <td>I</td>\n",
       "      <td>N</td>\n",
       "      <td>F</td>\n",
       "      <td>J</td>\n",
       "      <td>Definitely conflict, too. Unreasonable loudnes...</td>\n",
       "      <td>50</td>\n",
       "      <td>2</td>\n",
       "      <td>23.0</td>\n",
       "      <td>20.0</td>\n",
       "      <td>0</td>\n",
       "    </tr>\n",
       "    <tr>\n",
       "      <th>3</th>\n",
       "      <td>INFJ</td>\n",
       "      <td>I</td>\n",
       "      <td>N</td>\n",
       "      <td>F</td>\n",
       "      <td>J</td>\n",
       "      <td>'Last night, was racing people on my old schoo...</td>\n",
       "      <td>50</td>\n",
       "      <td>0</td>\n",
       "      <td>3.0</td>\n",
       "      <td>2.0</td>\n",
       "      <td>0</td>\n",
       "    </tr>\n",
       "    <tr>\n",
       "      <th>4</th>\n",
       "      <td>INFJ</td>\n",
       "      <td>I</td>\n",
       "      <td>N</td>\n",
       "      <td>F</td>\n",
       "      <td>J</td>\n",
       "      <td>'Looks like the preliminary results from the p...</td>\n",
       "      <td>50</td>\n",
       "      <td>0</td>\n",
       "      <td>23.0</td>\n",
       "      <td>2.0</td>\n",
       "      <td>1</td>\n",
       "    </tr>\n",
       "  </tbody>\n",
       "</table>\n",
       "</div>"
      ],
      "text/plain": [
       "   type IorE SorN TorF PorJ  \\\n",
       "0  INFJ    I    N    F    J   \n",
       "1  INFJ    I    N    F    J   \n",
       "2  INFJ    I    N    F    J   \n",
       "3  INFJ    I    N    F    J   \n",
       "4  INFJ    I    N    F    J   \n",
       "\n",
       "                                               posts  num_of_posts  ref_YT  \\\n",
       "0  'Until my mid-twenties I couldn't care less wh...            50       0   \n",
       "1  'http://personalitycafe.com/attachments/infj-f...            50       1   \n",
       "2  Definitely conflict, too. Unreasonable loudnes...            50       2   \n",
       "3  'Last night, was racing people on my old schoo...            50       0   \n",
       "4  'Looks like the preliminary results from the p...            50       0   \n",
       "\n",
       "   countPunct  countQM  countLOL  \n",
       "0        25.0      9.0         0  \n",
       "1        17.0      7.0         0  \n",
       "2        23.0     20.0         0  \n",
       "3         3.0      2.0         0  \n",
       "4        23.0      2.0         1  "
      ]
     },
     "execution_count": 22,
     "metadata": {},
     "output_type": "execute_result"
    }
   ],
   "source": [
    "data.head()"
   ]
  },
  {
   "cell_type": "code",
   "execution_count": 23,
   "id": "87498bed",
   "metadata": {},
   "outputs": [
    {
     "data": {
      "text/plain": [
       "Text(0.5, 1.0, 'P vs J')"
      ]
     },
     "execution_count": 23,
     "metadata": {},
     "output_type": "execute_result"
    },
    {
     "data": {
      "image/png": "[encoded data removed]",
      "text/plain": [
       "<Figure size 432x288 with 4 Axes>"
      ]
     },
     "metadata": {
      "needs_background": "light"
     },
     "output_type": "display_data"
    }
   ],
   "source": [
    "fig, axs = plt.subplots(2,2) \n",
    "bins = np.linspace(0,40,20)\n",
    "\n",
    "axs[0, 0].hist(data[data['IorE']=='I']['countLOL'], bins, alpha=0.5, label='I')\n",
    "axs[0, 0].hist(data[data['IorE']=='E']['countLOL'], bins, alpha=0.5, label='E')\n",
    "axs[0, 0].legend(loc='upper left')\n",
    "axs[0, 0].set_title('I vs E')\n",
    "\n",
    "axs[0, 1].hist(data[data['SorN']=='S']['countLOL'], bins, alpha=0.5, label='S')\n",
    "axs[0, 1].hist(data[data['SorN']=='N']['countLOL'], bins, alpha=0.5, label='N')\n",
    "axs[0, 1].legend(loc='upper left')\n",
    "axs[0, 1].set_title('S vs N')\n",
    "\n",
    "\n",
    "axs[1, 0].hist(data[data['TorF']=='T']['countLOL'], bins, alpha=0.5, label='T')\n",
    "axs[1, 0].hist(data[data['TorF']=='F']['countLOL'], bins, alpha=0.5, label='F')\n",
    "axs[1, 0].legend(loc='upper left')\n",
    "axs[1, 0].set_title('T vs F')\n",
    "\n",
    "axs[1, 1].hist(data[data['PorJ']=='P']['countLOL'], bins, alpha=0.5, label='P')\n",
    "axs[1, 1].hist(data[data['PorJ']=='J']['countLOL'], bins, alpha=0.5, label='J')\n",
    "axs[1, 1].legend(loc='upper left')\n",
    "axs[1, 1].set_title('P vs J')"
   ]
  },
  {
   "cell_type": "code",
   "execution_count": null,
   "id": "3fbb6106",
   "metadata": {},
   "outputs": [],
   "source": []
  }
 ],
 "metadata": {
  "kernelspec": {
   "display_name": "Python 3",
   "language": "python",
   "name": "python3"
  },
  "language_info": {
   "codemirror_mode": {
    "name": "ipython",
    "version": 3
   },
   "file_extension": ".py",
   "mimetype": "text/x-python",
   "name": "python",
   "nbconvert_exporter": "python",
   "pygments_lexer": "ipython3",
   "version": "3.8.8"
  }
 },
 "nbformat": 4,
 "nbformat_minor": 5
}
