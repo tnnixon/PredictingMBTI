{
 "cells": [
  {
   "cell_type": "code",
   "execution_count": 1,
   "id": "52af7f07",
   "metadata": {},
   "outputs": [],
   "source": [
    "import pandas as pd \n",
    "import numpy as np\n",
    "import matplotlib.pyplot as plt\n",
    "import re\n",
    "from sklearn.model_selection import train_test_split"
   ]
  },
  {
   "cell_type": "code",
   "execution_count": 2,
   "id": "3e5d46a7",
   "metadata": {
    "scrolled": true
   },
   "outputs": [
    {
     "data": {
      "text/html": [
       "<div>\n",
       "<style scoped>\n",
       "    .dataframe tbody tr th:only-of-type {\n",
       "        vertical-align: middle;\n",
       "    }\n",
       "\n",
       "    .dataframe tbody tr th {\n",
       "        vertical-align: top;\n",
       "    }\n",
       "\n",
       "    .dataframe thead th {\n",
       "        text-align: right;\n",
       "    }\n",
       "</style>\n",
       "<table border=\"1\" class=\"dataframe\">\n",
       "  <thead>\n",
       "    <tr style=\"text-align: right;\">\n",
       "      <th></th>\n",
       "      <th>Unnamed: 0</th>\n",
       "      <th>type</th>\n",
       "      <th>posts</th>\n",
       "    </tr>\n",
       "  </thead>\n",
       "  <tbody>\n",
       "    <tr>\n",
       "      <th>0</th>\n",
       "      <td>5150</td>\n",
       "      <td>INFJ</td>\n",
       "      <td>'Until my mid-twenties I couldn't care less wh...</td>\n",
       "    </tr>\n",
       "    <tr>\n",
       "      <th>1</th>\n",
       "      <td>4661</td>\n",
       "      <td>INFJ</td>\n",
       "      <td>'http://personalitycafe.com/attachments/infj-f...</td>\n",
       "    </tr>\n",
       "    <tr>\n",
       "      <th>2</th>\n",
       "      <td>3397</td>\n",
       "      <td>INFJ</td>\n",
       "      <td>Definitely conflict, too. Unreasonable loudnes...</td>\n",
       "    </tr>\n",
       "    <tr>\n",
       "      <th>3</th>\n",
       "      <td>6839</td>\n",
       "      <td>INFJ</td>\n",
       "      <td>'Last night, was racing people on my old schoo...</td>\n",
       "    </tr>\n",
       "    <tr>\n",
       "      <th>4</th>\n",
       "      <td>5044</td>\n",
       "      <td>INFJ</td>\n",
       "      <td>'Looks like the preliminary results from the p...</td>\n",
       "    </tr>\n",
       "  </tbody>\n",
       "</table>\n",
       "</div>"
      ],
      "text/plain": [
       "   Unnamed: 0  type                                              posts\n",
       "0        5150  INFJ  'Until my mid-twenties I couldn't care less wh...\n",
       "1        4661  INFJ  'http://personalitycafe.com/attachments/infj-f...\n",
       "2        3397  INFJ  Definitely conflict, too. Unreasonable loudnes...\n",
       "3        6839  INFJ  'Last night, was racing people on my old schoo...\n",
       "4        5044  INFJ  'Looks like the preliminary results from the p..."
      ]
     },
     "execution_count": 2,
     "metadata": {},
     "output_type": "execute_result"
    }
   ],
   "source": [
    "data = pd.read_csv('Resources/mbti_randomSample.csv')\n",
    "data.head()"
   ]
  },
  {
   "cell_type": "code",
   "execution_count": 3,
   "id": "fd43ed73",
   "metadata": {},
   "outputs": [],
   "source": [
    "data['num_of_posts']= [len([x for x in post.split('|||') if len(x)>0]) for post in data['posts']]"
   ]
  },
  {
   "cell_type": "code",
   "execution_count": 4,
   "id": "241395ec",
   "metadata": {},
   "outputs": [
    {
     "data": {
      "text/html": [
       "<div>\n",
       "<style scoped>\n",
       "    .dataframe tbody tr th:only-of-type {\n",
       "        vertical-align: middle;\n",
       "    }\n",
       "\n",
       "    .dataframe tbody tr th {\n",
       "        vertical-align: top;\n",
       "    }\n",
       "\n",
       "    .dataframe thead th {\n",
       "        text-align: right;\n",
       "    }\n",
       "</style>\n",
       "<table border=\"1\" class=\"dataframe\">\n",
       "  <thead>\n",
       "    <tr style=\"text-align: right;\">\n",
       "      <th></th>\n",
       "      <th>Unnamed: 0</th>\n",
       "      <th>type</th>\n",
       "      <th>posts</th>\n",
       "      <th>num_of_posts</th>\n",
       "    </tr>\n",
       "  </thead>\n",
       "  <tbody>\n",
       "    <tr>\n",
       "      <th>0</th>\n",
       "      <td>5150</td>\n",
       "      <td>INFJ</td>\n",
       "      <td>'Until my mid-twenties I couldn't care less wh...</td>\n",
       "      <td>50</td>\n",
       "    </tr>\n",
       "    <tr>\n",
       "      <th>1</th>\n",
       "      <td>4661</td>\n",
       "      <td>INFJ</td>\n",
       "      <td>'http://personalitycafe.com/attachments/infj-f...</td>\n",
       "      <td>50</td>\n",
       "    </tr>\n",
       "    <tr>\n",
       "      <th>2</th>\n",
       "      <td>3397</td>\n",
       "      <td>INFJ</td>\n",
       "      <td>Definitely conflict, too. Unreasonable loudnes...</td>\n",
       "      <td>50</td>\n",
       "    </tr>\n",
       "    <tr>\n",
       "      <th>3</th>\n",
       "      <td>6839</td>\n",
       "      <td>INFJ</td>\n",
       "      <td>'Last night, was racing people on my old schoo...</td>\n",
       "      <td>50</td>\n",
       "    </tr>\n",
       "    <tr>\n",
       "      <th>4</th>\n",
       "      <td>5044</td>\n",
       "      <td>INFJ</td>\n",
       "      <td>'Looks like the preliminary results from the p...</td>\n",
       "      <td>50</td>\n",
       "    </tr>\n",
       "  </tbody>\n",
       "</table>\n",
       "</div>"
      ],
      "text/plain": [
       "   Unnamed: 0  type                                              posts  \\\n",
       "0        5150  INFJ  'Until my mid-twenties I couldn't care less wh...   \n",
       "1        4661  INFJ  'http://personalitycafe.com/attachments/infj-f...   \n",
       "2        3397  INFJ  Definitely conflict, too. Unreasonable loudnes...   \n",
       "3        6839  INFJ  'Last night, was racing people on my old schoo...   \n",
       "4        5044  INFJ  'Looks like the preliminary results from the p...   \n",
       "\n",
       "   num_of_posts  \n",
       "0            50  \n",
       "1            50  \n",
       "2            50  \n",
       "3            50  \n",
       "4            50  "
      ]
     },
     "execution_count": 4,
     "metadata": {},
     "output_type": "execute_result"
    }
   ],
   "source": [
    "data.head()"
   ]
  },
  {
   "cell_type": "code",
   "execution_count": 5,
   "id": "8794848b",
   "metadata": {},
   "outputs": [],
   "source": [
    "#create columns for individual letters \n",
    "for index, row in data.iterrows(): \n",
    "    mbti_type = list(row['type'])\n",
    "    data.loc[index,'IorE']=mbti_type[0]\n",
    "    data.loc[index,'SorN']=mbti_type[1]\n",
    "    data.loc[index,'TorF']=mbti_type[2]\n",
    "    data.loc[index,'PorJ']=mbti_type[3]"
   ]
  },
  {
   "cell_type": "code",
   "execution_count": 6,
   "id": "2a354c96",
   "metadata": {},
   "outputs": [
    {
     "data": {
      "text/plain": [
       "I    200\n",
       "E    200\n",
       "Name: IorE, dtype: int64"
      ]
     },
     "execution_count": 6,
     "metadata": {},
     "output_type": "execute_result"
    }
   ],
   "source": [
    "data['IorE'].value_counts()"
   ]
  },
  {
   "cell_type": "code",
   "execution_count": 7,
   "id": "69cda5ca",
   "metadata": {},
   "outputs": [
    {
     "data": {
      "text/plain": [
       "N    200\n",
       "S    200\n",
       "Name: SorN, dtype: int64"
      ]
     },
     "execution_count": 7,
     "metadata": {},
     "output_type": "execute_result"
    }
   ],
   "source": [
    "data['SorN'].value_counts()"
   ]
  },
  {
   "cell_type": "code",
   "execution_count": 8,
   "id": "b5199d06",
   "metadata": {},
   "outputs": [
    {
     "data": {
      "text/plain": [
       "F    200\n",
       "T    200\n",
       "Name: TorF, dtype: int64"
      ]
     },
     "execution_count": 8,
     "metadata": {},
     "output_type": "execute_result"
    }
   ],
   "source": [
    "data['TorF'].value_counts()"
   ]
  },
  {
   "cell_type": "code",
   "execution_count": 9,
   "id": "7590e3b1",
   "metadata": {},
   "outputs": [
    {
     "data": {
      "text/plain": [
       "P    200\n",
       "J    200\n",
       "Name: PorJ, dtype: int64"
      ]
     },
     "execution_count": 9,
     "metadata": {},
     "output_type": "execute_result"
    }
   ],
   "source": [
    "data['PorJ'].value_counts()"
   ]
  },
  {
   "cell_type": "code",
   "execution_count": 10,
   "id": "8d4b3236",
   "metadata": {},
   "outputs": [],
   "source": [
    "data = data[['type','IorE','SorN','TorF','PorJ','posts','num_of_posts']]"
   ]
  },
  {
   "cell_type": "code",
   "execution_count": 11,
   "id": "9a3aac83",
   "metadata": {
    "scrolled": true
   },
   "outputs": [
    {
     "data": {
      "text/plain": [
       "[\"'Looks like the preliminary results from the poll confirm my little haphazard theory thus far, especially in regards to the possible causality of the mistyping.  May mean my theory will eventually be...\",\n",
       " 'Hello everyone,  I am working on a personal theory of sorts related to male INFJs and our possible tendency to mistype early on when we first learn about MBTI typologies.  For example, I personally...',\n",
       " \"It's been quite a while since I posted, but I'm thinking it might be time to make a come back.  Figured this wouldn't be the worst place to get started.  So hello, again.  Here are two random pics...\",\n",
       " \"Understated, yet refined.  Well-kempt, yet playfully casual.  Projecting a sense of presence, confidence, and stature which cannot be denied, yet does not cry out immaturely for attention.  It's...\",\n",
       " \"Well, I mean, when I someday rule the world, I totally plan to be one of those benevolent dictators.  You know...the tyrant with a heart of gold type of approach.  What's so dark or self-serving...\",\n",
       " 'If she wants to move to Virginia, she can see me once I finish graduate school this year:cool:   But really, picking a mental health provider should probably not be based solely on MBTI...',\n",
       " \"now that i've learned i'm an infj, i figured this would be a good way to introduce myself to my fellow infj's...    fancy photo shoot ...\",\n",
       " 'So I used to post on personalitycafe quite a while ago...and, during that time, I consistently bounced back and forth between believing I was an INFP or an ENFP. I always tended to test as one of...',\n",
       " 'Haha the options are limitless!',\n",
       " \"Haha fair enough.  I retract my earlier assertion then.  I guess I'm alone in enjoying it haha.\",\n",
       " 'sometimes i like to randomly re-appear after a few months of being absent to post some random pictures...  ...',\n",
       " \"I take it from your response that you are either younger and/or have never lived on your own.  I could be wrong, but if I'm not, once you experience having your own place, you will come to understand...\",\n",
       " \"5'11...wish i could say i was 6 feet...but i can't:sad:\",\n",
       " ':shocked:    :confused:    :crying:',\n",
       " \"fine fine...i'll just live in wonder and curiosity about it for the rest of my life then:unsure:\",\n",
       " \"thiiiis is the only picture of myself as a child that I have in digital form...the rest are in a photo album of more physical form..   as for this one, i'm in the middle...in the oakland raiders...\",\n",
       " \"I hope the quotes mean the ghosts aren't real:sad:haha\",\n",
       " 'With vengence and furious anger!',\n",
       " 'http://www.clickoffthegrid.com/images/windturbine-solarpanels01.jpg someday....',\n",
       " \"I do odd things even when I'm not alone:sad:\",\n",
       " \"at my volunteer job at one of the local hospices...they have nothing for me to do today though, so i'm just answering phones aaaand apparently taking a few random pictures to pass the time haha  ...\",\n",
       " 'Why thank you.  I feel so informed now:tongue:',\n",
       " \"Can someone please explain what trolling is to me?:unsure:  I keep seeing people mention it, but I've never seen anyone define it.   I apologize for not knowing:sad:\",\n",
       " 'I am currently engaged in a rather humble attempt at being alive.',\n",
       " \"ummm you are kind of...sort of...ridiculously beautiful:blushed:      so yeah...just thought you'd like to know that...or something haha\",\n",
       " \"I haaaate having my picture taken. I always feel required to pose and doing so always feels so un-natural. I get all stiff and awkward, because it just doesn't feel authentic. And I'm very aware of...\",\n",
       " \"your avatar is VERY distracting...   just thought i'd throw that out there:tongue:\",\n",
       " \"someone on this site has a cartoon in their signature that says something along the lines of i procrastinate, but that's ok!...because it means i'm 10 times less likely to be a serial killer!...i...\",\n",
       " 'haha indeed...i just thought it would be fun to point out how obviously un-ENFP that specific example was:tongue:',\n",
       " \"Oh, don't get me wrong...there's a method to my madness (sort of)...but I doubt anyone else would be able to make any sense of it other than me:sad:haha\",\n",
       " 'Right now I really only have one main focus..  To support, further, and be a part of the current push by postmodern-oriented psychotherapy practitioners to both overhaul and reconceptualize the...',\n",
       " 'Tedium.  Monotony.  And an utter lack of novelty or opportunities for creativity (ie. the public school system, for example)..   I get sad just imagining any scenario that fits those...',\n",
       " \"My room looks like a somewhat well-intentioned and borderline-organized tornado blew through it.  I'd say that about sums it up.\",\n",
       " \"There is noooo frickin' way that Cuddy from House is an ENFP!  She is waaaay too organized and career-focused (ie. doesn't have a short attention span) to be one of us!\",\n",
       " \"It sounds to me like I need to bring you in as a mediator to explain me and my ways to every girl I date!  Then they will know what to expect.  And I'll be able to tell them that they were...\",\n",
       " 'holy grossness!  That is terrible!   Educated, intelligent women = sexy-pants:blushed:',\n",
       " \"Oh, I know.  Certainly didn't stop her from trying though haha.   She saw all my charisma and intelligence and decided I would make the perfect power partner...iiif she could break me of my...\",\n",
       " 'what are these boundaries you speak of?   they sound intriguing..   tell me more..:tongue:',\n",
       " 'One girl tried to tame me and break me of my random/eccentric ways back in college.   She ended up being sorely disappointed:crazy:',\n",
       " 'My dad is an INTJ. And thanks to him I developed the ability to debate persuasively and rationally like no other haha. All of my friends used to think that my family was weird, because while my...',\n",
       " 'To dance the night away.  But it is currently only the afternoon.  So once again my plans are thwarted by the space-time continuum!   :crying:',\n",
       " 'I have a gluten allergy!  *High five* to dietary restrictions!:cool:',\n",
       " \"It is actually possible that you'll be in good company!  I have met several women who were in their 40s or 50s and were working on PhDs.  Several had decided to do the grad school thing after their...\",\n",
       " 'Well fair enough!  PhD it is then!:tongue:lol',\n",
       " 'Good call!  For comparisons sake...here is some of the BLS info on counselors...which is actually a differntial licensure and job classification from psychologists...  Employment of mental...',\n",
       " 'Plans for a second date with the girl mentioned above were just confirmed!:laughing:',\n",
       " \"Judging from your avatar, you aren't so bad looking yourself:tongue:\",\n",
       " \"Yeah, there really are very few advantages to getting a Psy.D now-a-days.  Academia won't take you seriously as a researcher and insurance companies won't pay you much extra as a practitioner, so you...\",\n",
       " \"Well, technically it happened last night, buuut...I had the best first date I've been on in a veeeery long time.  I haven't felt this sort of instant connection/attraction to a girl in years!\",\n",
       " \"I can definitely agree with that!   Let's not forget our rather breath-taking ENFP female companions as well though!  We've got some true beauties here amongst us thanks to them!:proud:'\"]"
      ]
     },
     "execution_count": 11,
     "metadata": {},
     "output_type": "execute_result"
    }
   ],
   "source": [
    "data['posts'][4].split('|||')"
   ]
  },
  {
   "cell_type": "markdown",
   "id": "8a66673e",
   "metadata": {},
   "source": [
    "# Evaluating Number of Posts as a Feature \n",
    "\n",
    "Number of Posts is not a good feature to use - majority of the population is posting more than 45 posts "
   ]
  },
  {
   "cell_type": "code",
   "execution_count": 12,
   "id": "19ec60eb",
   "metadata": {},
   "outputs": [
    {
     "data": {
      "text/plain": [
       "Text(0.5, 1.0, 'P vs J')"
      ]
     },
     "execution_count": 12,
     "metadata": {},
     "output_type": "execute_result"
    },
    {
     "data": {
      "image/png": "[encoded data removed]",
      "text/plain": [
       "<Figure size 432x288 with 4 Axes>"
      ]
     },
     "metadata": {
      "needs_background": "light"
     },
     "output_type": "display_data"
    }
   ],
   "source": [
    "bins = np.linspace(0,50,10)\n",
    "fig, axs = plt.subplots(2,2) \n",
    "axs[0, 0].hist(data[data['IorE']=='I']['num_of_posts'], bins, alpha=0.5, label='I')\n",
    "axs[0, 0].hist(data[data['IorE']=='E']['num_of_posts'], bins, alpha=0.5, label='E')\n",
    "axs[0, 0].legend(loc='upper left')\n",
    "axs[0, 0].set_title('I vs E')\n",
    "\n",
    "axs[0, 1].hist(data[data['SorN']=='S']['num_of_posts'], bins, alpha=0.5, label='S')\n",
    "axs[0, 1].hist(data[data['SorN']=='N']['num_of_posts'], bins, alpha=0.5, label='N')\n",
    "axs[0, 1].legend(loc='upper left')\n",
    "axs[0, 1].set_title('S vs N')\n",
    "\n",
    "\n",
    "axs[1, 0].hist(data[data['TorF']=='T']['num_of_posts'], bins, alpha=0.5, label='T')\n",
    "axs[1, 0].hist(data[data['TorF']=='F']['num_of_posts'], bins, alpha=0.5, label='F')\n",
    "axs[1, 0].legend(loc='upper left')\n",
    "axs[1, 0].set_title('T vs F')\n",
    "\n",
    "axs[1, 1].hist(data[data['PorJ']=='P']['num_of_posts'], bins, alpha=0.5, label='P')\n",
    "axs[1, 1].hist(data[data['PorJ']=='J']['num_of_posts'], bins, alpha=0.5, label='J')\n",
    "axs[1, 1].legend(loc='upper left')\n",
    "axs[1, 1].set_title('P vs J')\n"
   ]
  },
  {
   "cell_type": "markdown",
   "id": "3ce68617",
   "metadata": {},
   "source": [
    "# Evaluating Youtube references as a Feature "
   ]
  },
  {
   "cell_type": "code",
   "execution_count": 13,
   "id": "fcf75571",
   "metadata": {},
   "outputs": [],
   "source": [
    "data['ref_YT']= [post.count('youtube') for post in data['posts']]"
   ]
  },
  {
   "cell_type": "code",
   "execution_count": 14,
   "id": "7c341a26",
   "metadata": {},
   "outputs": [
    {
     "data": {
      "text/plain": [
       "Text(0.5, 1.0, 'P vs J')"
      ]
     },
     "execution_count": 14,
     "metadata": {},
     "output_type": "execute_result"
    },
    {
     "data": {
      "image/png": "[encoded data removed]",
      "text/plain": [
       "<Figure size 432x288 with 4 Axes>"
      ]
     },
     "metadata": {
      "needs_background": "light"
     },
     "output_type": "display_data"
    }
   ],
   "source": [
    "fig, axs = plt.subplots(2,2) \n",
    "bins = np.linspace(0,40,20)\n",
    "\n",
    "axs[0, 0].hist(data[data['IorE']=='I']['ref_YT'], bins, alpha=0.5, label='I')\n",
    "axs[0, 0].hist(data[data['IorE']=='E']['ref_YT'], bins, alpha=0.5, label='E')\n",
    "axs[0, 0].legend(loc='upper left')\n",
    "axs[0, 0].set_title('I vs E')\n",
    "\n",
    "axs[0, 1].hist(data[data['SorN']=='S']['ref_YT'], bins, alpha=0.5, label='S')\n",
    "axs[0, 1].hist(data[data['SorN']=='N']['ref_YT'], bins, alpha=0.5, label='N')\n",
    "axs[0, 1].legend(loc='upper left')\n",
    "axs[0, 1].set_title('S vs N')\n",
    "\n",
    "\n",
    "axs[1, 0].hist(data[data['TorF']=='T']['ref_YT'], bins, alpha=0.5, label='T')\n",
    "axs[1, 0].hist(data[data['TorF']=='F']['ref_YT'], bins, alpha=0.5, label='F')\n",
    "axs[1, 0].legend(loc='upper left')\n",
    "axs[1, 0].set_title('T vs F')\n",
    "\n",
    "axs[1, 1].hist(data[data['PorJ']=='P']['ref_YT'], bins, alpha=0.5, label='P')\n",
    "axs[1, 1].hist(data[data['PorJ']=='J']['ref_YT'], bins, alpha=0.5, label='J')\n",
    "axs[1, 1].legend(loc='upper left')\n",
    "axs[1, 1].set_title('P vs J')\n"
   ]
  },
  {
   "cell_type": "code",
   "execution_count": 15,
   "id": "d5da4fb6",
   "metadata": {},
   "outputs": [],
   "source": [
    "data['countPunct']= [len(re.findall('[?!]',post)) for post in data['posts']]"
   ]
  },
  {
   "cell_type": "code",
   "execution_count": 16,
   "id": "de39827d",
   "metadata": {},
   "outputs": [],
   "source": [
    "data['countPunct']= [np.mean([len(re.findall('[?!]',post)) for x in post.split('|||') if len(x)>0]) for post in data['posts']]"
   ]
  },
  {
   "cell_type": "code",
   "execution_count": 17,
   "id": "ad597749",
   "metadata": {},
   "outputs": [],
   "source": [
    "data['countQM']= [np.mean([post.count('?') for x in post.split('|||') if len(x)>0]) for post in data['posts']]"
   ]
  },
  {
   "cell_type": "code",
   "execution_count": 18,
   "id": "13b62318",
   "metadata": {},
   "outputs": [
    {
     "data": {
      "text/plain": [
       "['.',\n",
       " '.',\n",
       " '.',\n",
       " '.',\n",
       " '.',\n",
       " '.',\n",
       " '.',\n",
       " '.',\n",
       " '.',\n",
       " '.',\n",
       " '.',\n",
       " '.',\n",
       " '.',\n",
       " '.',\n",
       " '.',\n",
       " '.',\n",
       " '.',\n",
       " '.',\n",
       " '.',\n",
       " '.',\n",
       " '.',\n",
       " '.',\n",
       " '.',\n",
       " '.',\n",
       " '.',\n",
       " '.',\n",
       " '.',\n",
       " '.',\n",
       " '.',\n",
       " '.',\n",
       " '.',\n",
       " '.',\n",
       " '.',\n",
       " '.',\n",
       " '.',\n",
       " '.',\n",
       " '.',\n",
       " '.',\n",
       " '.',\n",
       " '.',\n",
       " '.',\n",
       " '.',\n",
       " '.',\n",
       " '.',\n",
       " '!',\n",
       " '.',\n",
       " '.',\n",
       " '.',\n",
       " '.',\n",
       " '.',\n",
       " '.',\n",
       " '.',\n",
       " '.',\n",
       " '.',\n",
       " '.',\n",
       " '.',\n",
       " '.',\n",
       " '.',\n",
       " '.',\n",
       " '.',\n",
       " '.',\n",
       " '.',\n",
       " '.',\n",
       " '.',\n",
       " '.',\n",
       " '.',\n",
       " '.',\n",
       " '.',\n",
       " '.',\n",
       " '.',\n",
       " '.',\n",
       " '.',\n",
       " '.',\n",
       " '.',\n",
       " '.',\n",
       " '.',\n",
       " '.',\n",
       " '.',\n",
       " '!',\n",
       " '.',\n",
       " '.',\n",
       " '.',\n",
       " '.',\n",
       " '.',\n",
       " '.',\n",
       " '.',\n",
       " '.',\n",
       " '.',\n",
       " '.',\n",
       " '.',\n",
       " '.',\n",
       " '.',\n",
       " '.',\n",
       " '?',\n",
       " '.',\n",
       " '.',\n",
       " '.',\n",
       " '.',\n",
       " '.',\n",
       " '.',\n",
       " '.',\n",
       " '.',\n",
       " '.',\n",
       " '.',\n",
       " '.',\n",
       " '.',\n",
       " '.',\n",
       " '.',\n",
       " '.',\n",
       " '.',\n",
       " '.',\n",
       " '.',\n",
       " '.',\n",
       " '.',\n",
       " '.',\n",
       " '.',\n",
       " '.',\n",
       " '!',\n",
       " '.',\n",
       " '.',\n",
       " '.',\n",
       " '!',\n",
       " '.',\n",
       " '.',\n",
       " '.',\n",
       " '.',\n",
       " '.',\n",
       " '.',\n",
       " '.',\n",
       " '.',\n",
       " '.',\n",
       " '.',\n",
       " '.',\n",
       " '.',\n",
       " '.',\n",
       " '.',\n",
       " '.',\n",
       " '.',\n",
       " '.',\n",
       " '.',\n",
       " '.',\n",
       " '.',\n",
       " '.',\n",
       " '.',\n",
       " '.',\n",
       " '.',\n",
       " '.',\n",
       " '.',\n",
       " '.',\n",
       " '.',\n",
       " '.',\n",
       " '.',\n",
       " '!',\n",
       " '.',\n",
       " '!',\n",
       " '!',\n",
       " '.',\n",
       " '.',\n",
       " '.',\n",
       " '.',\n",
       " '!',\n",
       " '!',\n",
       " '.',\n",
       " '.',\n",
       " '.',\n",
       " '.',\n",
       " '.',\n",
       " '.',\n",
       " '.',\n",
       " '.',\n",
       " '?',\n",
       " '.',\n",
       " '.',\n",
       " '.',\n",
       " '.',\n",
       " '.',\n",
       " '.',\n",
       " '.',\n",
       " '.',\n",
       " '.',\n",
       " '.',\n",
       " '.',\n",
       " '.',\n",
       " '!',\n",
       " '!',\n",
       " '!',\n",
       " '!',\n",
       " '.',\n",
       " '.',\n",
       " '.',\n",
       " '.',\n",
       " '!',\n",
       " '!',\n",
       " '!',\n",
       " '.',\n",
       " '.',\n",
       " '.',\n",
       " '.',\n",
       " '.',\n",
       " '.',\n",
       " '.',\n",
       " '.',\n",
       " '.',\n",
       " '.',\n",
       " '.',\n",
       " '.',\n",
       " '!',\n",
       " '.',\n",
       " '.',\n",
       " '.',\n",
       " '.',\n",
       " '.',\n",
       " '.',\n",
       " '.',\n",
       " '.',\n",
       " '.',\n",
       " '!',\n",
       " '!',\n",
       " '!',\n",
       " '!']"
      ]
     },
     "execution_count": 18,
     "metadata": {},
     "output_type": "execute_result"
    }
   ],
   "source": [
    "re.findall('[?!.]',data['posts'][4])"
   ]
  },
  {
   "cell_type": "code",
   "execution_count": 19,
   "id": "11aa02aa",
   "metadata": {},
   "outputs": [
    {
     "data": {
      "text/plain": [
       "Text(0.5, 1.0, 'P vs J')"
      ]
     },
     "execution_count": 19,
     "metadata": {},
     "output_type": "execute_result"
    },
    {
     "data": {
      "image/png": "[encoded data removed]",
      "text/plain": [
       "<Figure size 432x288 with 4 Axes>"
      ]
     },
     "metadata": {
      "needs_background": "light"
     },
     "output_type": "display_data"
    }
   ],
   "source": [
    "fig, axs = plt.subplots(2,2) \n",
    "bins = np.linspace(0,40,20)\n",
    "\n",
    "axs[0, 0].hist(data[data['IorE']=='I']['countPunct'], bins, alpha=0.5, label='I')\n",
    "axs[0, 0].hist(data[data['IorE']=='E']['countPunct'], bins, alpha=0.5, label='E')\n",
    "axs[0, 0].legend(loc='upper left')\n",
    "axs[0, 0].set_title('I vs E')\n",
    "\n",
    "axs[0, 1].hist(data[data['SorN']=='S']['countPunct'], bins, alpha=0.5, label='S')\n",
    "axs[0, 1].hist(data[data['SorN']=='N']['countPunct'], bins, alpha=0.5, label='N')\n",
    "axs[0, 1].legend(loc='upper left')\n",
    "axs[0, 1].set_title('S vs N')\n",
    "\n",
    "\n",
    "axs[1, 0].hist(data[data['TorF']=='T']['countPunct'], bins, alpha=0.5, label='T')\n",
    "axs[1, 0].hist(data[data['TorF']=='F']['countPunct'], bins, alpha=0.5, label='F')\n",
    "axs[1, 0].legend(loc='upper left')\n",
    "axs[1, 0].set_title('T vs F')\n",
    "\n",
    "axs[1, 1].hist(data[data['PorJ']=='P']['countPunct'], bins, alpha=0.5, label='P')\n",
    "axs[1, 1].hist(data[data['PorJ']=='J']['countPunct'], bins, alpha=0.5, label='J')\n",
    "axs[1, 1].legend(loc='upper left')\n",
    "axs[1, 1].set_title('P vs J')\n"
   ]
  },
  {
   "cell_type": "code",
   "execution_count": 20,
   "id": "550e942b",
   "metadata": {},
   "outputs": [
    {
     "data": {
      "text/plain": [
       "Text(0.5, 1.0, 'P vs J')"
      ]
     },
     "execution_count": 20,
     "metadata": {},
     "output_type": "execute_result"
    },
    {
     "data": {
      "image/png": "[encoded data removed]",
      "text/plain": [
       "<Figure size 432x288 with 4 Axes>"
      ]
     },
     "metadata": {
      "needs_background": "light"
     },
     "output_type": "display_data"
    }
   ],
   "source": [
    "fig, axs = plt.subplots(2,2) \n",
    "bins = np.linspace(0,40,20)\n",
    "\n",
    "axs[0, 0].hist(data[data['IorE']=='I']['countQM'], bins, alpha=0.5, label='I')\n",
    "axs[0, 0].hist(data[data['IorE']=='E']['countQM'], bins, alpha=0.5, label='E')\n",
    "axs[0, 0].legend(loc='upper left')\n",
    "axs[0, 0].set_title('I vs E')\n",
    "\n",
    "axs[0, 1].hist(data[data['SorN']=='S']['countQM'], bins, alpha=0.5, label='S')\n",
    "axs[0, 1].hist(data[data['SorN']=='N']['countQM'], bins, alpha=0.5, label='N')\n",
    "axs[0, 1].legend(loc='upper left')\n",
    "axs[0, 1].set_title('S vs N')\n",
    "\n",
    "\n",
    "axs[1, 0].hist(data[data['TorF']=='T']['countQM'], bins, alpha=0.5, label='T')\n",
    "axs[1, 0].hist(data[data['TorF']=='F']['countQM'], bins, alpha=0.5, label='F')\n",
    "axs[1, 0].legend(loc='upper left')\n",
    "axs[1, 0].set_title('T vs F')\n",
    "\n",
    "axs[1, 1].hist(data[data['PorJ']=='P']['countQM'], bins, alpha=0.5, label='P')\n",
    "axs[1, 1].hist(data[data['PorJ']=='J']['countQM'], bins, alpha=0.5, label='J')\n",
    "axs[1, 1].legend(loc='upper left')\n",
    "axs[1, 1].set_title('P vs J')"
   ]
  },
  {
   "cell_type": "code",
   "execution_count": 99,
   "id": "4b67d5d5",
   "metadata": {},
   "outputs": [],
   "source": [
    "data['countLOL']= [post.count('lol') for post in data['posts']]"
   ]
  },
  {
   "cell_type": "code",
   "execution_count": 101,
   "id": "4086c8f9",
   "metadata": {},
   "outputs": [
    {
     "data": {
      "text/html": [
       "<div>\n",
       "<style scoped>\n",
       "    .dataframe tbody tr th:only-of-type {\n",
       "        vertical-align: middle;\n",
       "    }\n",
       "\n",
       "    .dataframe tbody tr th {\n",
       "        vertical-align: top;\n",
       "    }\n",
       "\n",
       "    .dataframe thead th {\n",
       "        text-align: right;\n",
       "    }\n",
       "</style>\n",
       "<table border=\"1\" class=\"dataframe\">\n",
       "  <thead>\n",
       "    <tr style=\"text-align: right;\">\n",
       "      <th></th>\n",
       "      <th>type</th>\n",
       "      <th>IorE</th>\n",
       "      <th>SorN</th>\n",
       "      <th>TorF</th>\n",
       "      <th>PorJ</th>\n",
       "      <th>posts</th>\n",
       "      <th>num_of_posts</th>\n",
       "      <th>ref_YT</th>\n",
       "      <th>countQM</th>\n",
       "      <th>countPunct</th>\n",
       "      <th>countLOL</th>\n",
       "    </tr>\n",
       "  </thead>\n",
       "  <tbody>\n",
       "    <tr>\n",
       "      <th>0</th>\n",
       "      <td>INFJ</td>\n",
       "      <td>I</td>\n",
       "      <td>N</td>\n",
       "      <td>F</td>\n",
       "      <td>J</td>\n",
       "      <td>'http://www.youtube.com/watch?v=qsXHcwe3krw|||...</td>\n",
       "      <td>50</td>\n",
       "      <td>16</td>\n",
       "      <td>18.0</td>\n",
       "      <td>21.0</td>\n",
       "      <td>0</td>\n",
       "    </tr>\n",
       "    <tr>\n",
       "      <th>1</th>\n",
       "      <td>ENTP</td>\n",
       "      <td>E</td>\n",
       "      <td>N</td>\n",
       "      <td>T</td>\n",
       "      <td>P</td>\n",
       "      <td>'I'm finding the lack of me in these posts ver...</td>\n",
       "      <td>50</td>\n",
       "      <td>1</td>\n",
       "      <td>5.0</td>\n",
       "      <td>5.0</td>\n",
       "      <td>1</td>\n",
       "    </tr>\n",
       "    <tr>\n",
       "      <th>2</th>\n",
       "      <td>INTP</td>\n",
       "      <td>I</td>\n",
       "      <td>N</td>\n",
       "      <td>T</td>\n",
       "      <td>P</td>\n",
       "      <td>'Good one  _____   https://www.youtube.com/wat...</td>\n",
       "      <td>50</td>\n",
       "      <td>3</td>\n",
       "      <td>12.0</td>\n",
       "      <td>16.0</td>\n",
       "      <td>0</td>\n",
       "    </tr>\n",
       "    <tr>\n",
       "      <th>3</th>\n",
       "      <td>INTJ</td>\n",
       "      <td>I</td>\n",
       "      <td>N</td>\n",
       "      <td>T</td>\n",
       "      <td>J</td>\n",
       "      <td>'Dear INTP,   I enjoyed our conversation the o...</td>\n",
       "      <td>50</td>\n",
       "      <td>2</td>\n",
       "      <td>11.0</td>\n",
       "      <td>14.0</td>\n",
       "      <td>0</td>\n",
       "    </tr>\n",
       "    <tr>\n",
       "      <th>4</th>\n",
       "      <td>ENTJ</td>\n",
       "      <td>E</td>\n",
       "      <td>N</td>\n",
       "      <td>T</td>\n",
       "      <td>J</td>\n",
       "      <td>'You're fired.|||That's another silly misconce...</td>\n",
       "      <td>50</td>\n",
       "      <td>1</td>\n",
       "      <td>10.0</td>\n",
       "      <td>11.0</td>\n",
       "      <td>0</td>\n",
       "    </tr>\n",
       "  </tbody>\n",
       "</table>\n",
       "</div>"
      ],
      "text/plain": [
       "   type IorE SorN TorF PorJ  \\\n",
       "0  INFJ    I    N    F    J   \n",
       "1  ENTP    E    N    T    P   \n",
       "2  INTP    I    N    T    P   \n",
       "3  INTJ    I    N    T    J   \n",
       "4  ENTJ    E    N    T    J   \n",
       "\n",
       "                                               posts  num_of_posts  ref_YT  \\\n",
       "0  'http://www.youtube.com/watch?v=qsXHcwe3krw|||...            50      16   \n",
       "1  'I'm finding the lack of me in these posts ver...            50       1   \n",
       "2  'Good one  _____   https://www.youtube.com/wat...            50       3   \n",
       "3  'Dear INTP,   I enjoyed our conversation the o...            50       2   \n",
       "4  'You're fired.|||That's another silly misconce...            50       1   \n",
       "\n",
       "   countQM  countPunct  countLOL  \n",
       "0     18.0        21.0         0  \n",
       "1      5.0         5.0         1  \n",
       "2     12.0        16.0         0  \n",
       "3     11.0        14.0         0  \n",
       "4     10.0        11.0         0  "
      ]
     },
     "execution_count": 101,
     "metadata": {},
     "output_type": "execute_result"
    }
   ],
   "source": [
    "data.head()"
   ]
  },
  {
   "cell_type": "code",
   "execution_count": 100,
   "id": "88644bcc",
   "metadata": {},
   "outputs": [
    {
     "data": {
      "text/plain": [
       "Text(0.5, 1.0, 'P vs J')"
      ]
     },
     "execution_count": 100,
     "metadata": {},
     "output_type": "execute_result"
    },
    {
     "data": {
      "image/png": "[encoded data removed]",
      "text/plain": [
       "<Figure size 432x288 with 4 Axes>"
      ]
     },
     "metadata": {
      "needs_background": "light"
     },
     "output_type": "display_data"
    }
   ],
   "source": [
    "fig, axs = plt.subplots(2,2) \n",
    "bins = np.linspace(0,40,20)\n",
    "\n",
    "axs[0, 0].hist(data[data['IorE']=='I']['countLOL'], bins, alpha=0.5, label='I')\n",
    "axs[0, 0].hist(data[data['IorE']=='E']['countLOL'], bins, alpha=0.5, label='E')\n",
    "axs[0, 0].legend(loc='upper left')\n",
    "axs[0, 0].set_title('I vs E')\n",
    "\n",
    "axs[0, 1].hist(data[data['SorN']=='S']['countLOL'], bins, alpha=0.5, label='S')\n",
    "axs[0, 1].hist(data[data['SorN']=='N']['countLOL'], bins, alpha=0.5, label='N')\n",
    "axs[0, 1].legend(loc='upper left')\n",
    "axs[0, 1].set_title('S vs N')\n",
    "\n",
    "\n",
    "axs[1, 0].hist(data[data['TorF']=='T']['countLOL'], bins, alpha=0.5, label='T')\n",
    "axs[1, 0].hist(data[data['TorF']=='F']['countLOL'], bins, alpha=0.5, label='F')\n",
    "axs[1, 0].legend(loc='upper left')\n",
    "axs[1, 0].set_title('T vs F')\n",
    "\n",
    "axs[1, 1].hist(data[data['PorJ']=='P']['countLOL'], bins, alpha=0.5, label='P')\n",
    "axs[1, 1].hist(data[data['PorJ']=='J']['countLOL'], bins, alpha=0.5, label='J')\n",
    "axs[1, 1].legend(loc='upper left')\n",
    "axs[1, 1].set_title('P vs J')"
   ]
  },
  {
   "cell_type": "code",
   "execution_count": null,
   "id": "d8e3bde6",
   "metadata": {},
   "outputs": [],
   "source": []
  }
 ],
 "metadata": {
  "kernelspec": {
   "display_name": "Python 3",
   "language": "python",
   "name": "python3"
  },
  "language_info": {
   "codemirror_mode": {
    "name": "ipython",
    "version": 3
   },
   "file_extension": ".py",
   "mimetype": "text/x-python",
   "name": "python",
   "nbconvert_exporter": "python",
   "pygments_lexer": "ipython3",
   "version": "3.8.8"
  }
 },
 "nbformat": 4,
 "nbformat_minor": 5
}
