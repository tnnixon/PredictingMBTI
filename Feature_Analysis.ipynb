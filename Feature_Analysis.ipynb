{
 "cells": [
  {
   "cell_type": "code",
   "execution_count": 51,
   "id": "98e12d4e",
   "metadata": {},
   "outputs": [],
   "source": [
    "import pandas as pd \n",
    "import numpy as np\n",
    "import matplotlib.pyplot as plt\n",
    "import re"
   ]
  },
  {
   "cell_type": "code",
   "execution_count": 24,
   "id": "f792228b",
   "metadata": {},
   "outputs": [
    {
     "data": {
      "text/html": [
       "<div>\n",
       "<style scoped>\n",
       "    .dataframe tbody tr th:only-of-type {\n",
       "        vertical-align: middle;\n",
       "    }\n",
       "\n",
       "    .dataframe tbody tr th {\n",
       "        vertical-align: top;\n",
       "    }\n",
       "\n",
       "    .dataframe thead th {\n",
       "        text-align: right;\n",
       "    }\n",
       "</style>\n",
       "<table border=\"1\" class=\"dataframe\">\n",
       "  <thead>\n",
       "    <tr style=\"text-align: right;\">\n",
       "      <th></th>\n",
       "      <th>type</th>\n",
       "      <th>posts</th>\n",
       "    </tr>\n",
       "  </thead>\n",
       "  <tbody>\n",
       "    <tr>\n",
       "      <th>0</th>\n",
       "      <td>INFJ</td>\n",
       "      <td>'http://www.youtube.com/watch?v=qsXHcwe3krw|||...</td>\n",
       "    </tr>\n",
       "    <tr>\n",
       "      <th>1</th>\n",
       "      <td>ENTP</td>\n",
       "      <td>'I'm finding the lack of me in these posts ver...</td>\n",
       "    </tr>\n",
       "    <tr>\n",
       "      <th>2</th>\n",
       "      <td>INTP</td>\n",
       "      <td>'Good one  _____   https://www.youtube.com/wat...</td>\n",
       "    </tr>\n",
       "    <tr>\n",
       "      <th>3</th>\n",
       "      <td>INTJ</td>\n",
       "      <td>'Dear INTP,   I enjoyed our conversation the o...</td>\n",
       "    </tr>\n",
       "    <tr>\n",
       "      <th>4</th>\n",
       "      <td>ENTJ</td>\n",
       "      <td>'You're fired.|||That's another silly misconce...</td>\n",
       "    </tr>\n",
       "  </tbody>\n",
       "</table>\n",
       "</div>"
      ],
      "text/plain": [
       "   type                                              posts\n",
       "0  INFJ  'http://www.youtube.com/watch?v=qsXHcwe3krw|||...\n",
       "1  ENTP  'I'm finding the lack of me in these posts ver...\n",
       "2  INTP  'Good one  _____   https://www.youtube.com/wat...\n",
       "3  INTJ  'Dear INTP,   I enjoyed our conversation the o...\n",
       "4  ENTJ  'You're fired.|||That's another silly misconce..."
      ]
     },
     "execution_count": 24,
     "metadata": {},
     "output_type": "execute_result"
    }
   ],
   "source": [
    "data = pd.read_csv('Resources/mbti_1.csv')\n",
    "data.head()"
   ]
  },
  {
   "cell_type": "code",
   "execution_count": 29,
   "id": "ba09f87c",
   "metadata": {},
   "outputs": [],
   "source": [
    "data['num_of_posts']= [len([x for x in post.split('|||') if len(x)>0]) for post in data['posts']]"
   ]
  },
  {
   "cell_type": "code",
   "execution_count": 30,
   "id": "0d6c98a7",
   "metadata": {},
   "outputs": [
    {
     "data": {
      "text/html": [
       "<div>\n",
       "<style scoped>\n",
       "    .dataframe tbody tr th:only-of-type {\n",
       "        vertical-align: middle;\n",
       "    }\n",
       "\n",
       "    .dataframe tbody tr th {\n",
       "        vertical-align: top;\n",
       "    }\n",
       "\n",
       "    .dataframe thead th {\n",
       "        text-align: right;\n",
       "    }\n",
       "</style>\n",
       "<table border=\"1\" class=\"dataframe\">\n",
       "  <thead>\n",
       "    <tr style=\"text-align: right;\">\n",
       "      <th></th>\n",
       "      <th>type</th>\n",
       "      <th>posts</th>\n",
       "      <th>num_of_posts</th>\n",
       "    </tr>\n",
       "  </thead>\n",
       "  <tbody>\n",
       "    <tr>\n",
       "      <th>0</th>\n",
       "      <td>INFJ</td>\n",
       "      <td>'http://www.youtube.com/watch?v=qsXHcwe3krw|||...</td>\n",
       "      <td>50</td>\n",
       "    </tr>\n",
       "    <tr>\n",
       "      <th>1</th>\n",
       "      <td>ENTP</td>\n",
       "      <td>'I'm finding the lack of me in these posts ver...</td>\n",
       "      <td>50</td>\n",
       "    </tr>\n",
       "    <tr>\n",
       "      <th>2</th>\n",
       "      <td>INTP</td>\n",
       "      <td>'Good one  _____   https://www.youtube.com/wat...</td>\n",
       "      <td>50</td>\n",
       "    </tr>\n",
       "    <tr>\n",
       "      <th>3</th>\n",
       "      <td>INTJ</td>\n",
       "      <td>'Dear INTP,   I enjoyed our conversation the o...</td>\n",
       "      <td>50</td>\n",
       "    </tr>\n",
       "    <tr>\n",
       "      <th>4</th>\n",
       "      <td>ENTJ</td>\n",
       "      <td>'You're fired.|||That's another silly misconce...</td>\n",
       "      <td>50</td>\n",
       "    </tr>\n",
       "  </tbody>\n",
       "</table>\n",
       "</div>"
      ],
      "text/plain": [
       "   type                                              posts  num_of_posts\n",
       "0  INFJ  'http://www.youtube.com/watch?v=qsXHcwe3krw|||...            50\n",
       "1  ENTP  'I'm finding the lack of me in these posts ver...            50\n",
       "2  INTP  'Good one  _____   https://www.youtube.com/wat...            50\n",
       "3  INTJ  'Dear INTP,   I enjoyed our conversation the o...            50\n",
       "4  ENTJ  'You're fired.|||That's another silly misconce...            50"
      ]
     },
     "execution_count": 30,
     "metadata": {},
     "output_type": "execute_result"
    }
   ],
   "source": [
    "data.head()"
   ]
  },
  {
   "cell_type": "code",
   "execution_count": 39,
   "id": "1a01a74f",
   "metadata": {},
   "outputs": [],
   "source": [
    "#create columns for individual letters \n",
    "for index, row in data.iterrows(): \n",
    "    mbti_type = list(row['type'])\n",
    "    data.loc[index,'IorE']=mbti_type[0]\n",
    "    data.loc[index,'SorN']=mbti_type[1]\n",
    "    data.loc[index,'TorF']=mbti_type[2]\n",
    "    data.loc[index,'PorJ']=mbti_type[3]"
   ]
  },
  {
   "cell_type": "code",
   "execution_count": 77,
   "id": "0a6e1fa3",
   "metadata": {},
   "outputs": [
    {
     "data": {
      "text/plain": [
       "I    6676\n",
       "E    1999\n",
       "Name: IorE, dtype: int64"
      ]
     },
     "execution_count": 77,
     "metadata": {},
     "output_type": "execute_result"
    }
   ],
   "source": [
    "data['IorE'].value_counts()"
   ]
  },
  {
   "cell_type": "code",
   "execution_count": 78,
   "id": "65051a90",
   "metadata": {},
   "outputs": [
    {
     "data": {
      "text/plain": [
       "N    7478\n",
       "S    1197\n",
       "Name: SorN, dtype: int64"
      ]
     },
     "execution_count": 78,
     "metadata": {},
     "output_type": "execute_result"
    }
   ],
   "source": [
    "data['SorN'].value_counts()"
   ]
  },
  {
   "cell_type": "code",
   "execution_count": 79,
   "id": "88f71c51",
   "metadata": {},
   "outputs": [
    {
     "data": {
      "text/plain": [
       "F    4694\n",
       "T    3981\n",
       "Name: TorF, dtype: int64"
      ]
     },
     "execution_count": 79,
     "metadata": {},
     "output_type": "execute_result"
    }
   ],
   "source": [
    "data['TorF'].value_counts()"
   ]
  },
  {
   "cell_type": "code",
   "execution_count": 80,
   "id": "3be1676f",
   "metadata": {},
   "outputs": [
    {
     "data": {
      "text/plain": [
       "P    5241\n",
       "J    3434\n",
       "Name: PorJ, dtype: int64"
      ]
     },
     "execution_count": 80,
     "metadata": {},
     "output_type": "execute_result"
    }
   ],
   "source": [
    "data['PorJ'].value_counts()"
   ]
  },
  {
   "cell_type": "code",
   "execution_count": 41,
   "id": "d6f97af6",
   "metadata": {},
   "outputs": [],
   "source": [
    "data = data[['type','IorE','SorN','TorF','PorJ','posts','num_of_posts']]"
   ]
  },
  {
   "cell_type": "code",
   "execution_count": 34,
   "id": "af567d10",
   "metadata": {
    "scrolled": true
   },
   "outputs": [
    {
     "data": {
      "text/plain": [
       "[\"'You're fired.\",\n",
       " \"That's another silly misconception. That approaching is logically is going to be the key to unlocking whatever it is you think you are entitled to.   Nobody wants to be approached with BS...\",\n",
       " \"But guys... he REALLY wants to go on a super-duper-long-ass vacation. C'mon guys. His boss just doesn't listen or get it. He even approached him logically and everything.\",\n",
       " 'Never mind. Just go on permanent vacation.',\n",
       " \"Two months? I wouldn't be crazy about the idea. If you are really his best employee, then that's what may be cooking him. Who wants their most reliable asset gone for that long?  ENTJ employer...\",\n",
       " 'Lol. Its not like our views were unsolicited. What a victim.',\n",
       " 'Sometimes I just really like impoverished rap music.   https://www.youtube.com/watch?v=Xh0vA6_8mv8',\n",
       " \"I probably would have lost it too. His stonewalling was insignificant. He was being an idiot over semantics that didn't have any impact on anything. It's one thing to stone wall on critical shit, but...\",\n",
       " 'I would have just taken the project and gave them something later.',\n",
       " \"The court deposition wasn't a skit. That actually happened. It was a verbatim reenactment.\",\n",
       " 'And her ass.',\n",
       " \"I'll flirt a woman for a piece of candy at the grocery store. Of course. I use whatever I have at my disposal to get what I want in the most efficient manner possible. If that means flirting that...\",\n",
       " 'http://youtu.be/PZbqAMEwtOE',\n",
       " \"Yes. In the comments she gave more info, then was shut down because she went from having a crush on her boss and wanted to know how to impress him, to her boss is married and she wasn't interested. I...\",\n",
       " \"What's this we thing about?\",\n",
       " 'Callaendia are you the same INFP girl who was on the ENTJ Facebook forum with this similar question? I just have to ask because the times are so close together, and the scenario is so similar.',\n",
       " '3X',\n",
       " '11/25 I do not modify myself to suit others, however I do like the spotlight.',\n",
       " \"I think the easiest and most efficient approach is a tarp, jigsaw, and mulcher. But that's just my personal preference. Not all ENTJs are the same.\",\n",
       " \"Just don't hump my leg...\",\n",
       " 'What are you like a chihuahua or some shit?',\n",
       " 'I once dumped a girl in college who I was having a 6 month romp with over making me late for class. She said I was petty for it.',\n",
       " 'DEAD XD   http://youtu.be/PaghIdSJKvQ',\n",
       " \"MBTIPC perfect. I don't like dealing with middle men either. You can talk directly to me.  ;)\",\n",
       " 'I can sell you the dream...',\n",
       " 'LOL DEAD. Ha!',\n",
       " \"The point is that when you are making a point of thinking critically but not thinking beyond common sense, you aren't using your brain. A little bit of effort now to have an understanding of the...\",\n",
       " \"That's just common sense  No, that's just a value judgement backed by popular opinion from social stupidity/laziness. That's only doing what works instead of pushing harder and doing what is...\",\n",
       " 'When it comes to children, they either cry or climb all over me. There is never a gray area.',\n",
       " \"I don't drink, but when I drank:  Beer: Hardcore ciders and sweet brown ales.  Liquor: VODKA chased with cran or water. < my preferred drink  Wine: Anything dark, dry and sweet. There are so...\",\n",
       " 'Well that escalated quickly.',\n",
       " 'https://encrypted-tbn2.gstatic.com/images?q=tbn:ANd9GcSDA-GNSWRqDgxZibQPN3dfS2LlChp8tO6FCCeVBHuIlYUVfjzkVH2sGAv_  You deal with them.',\n",
       " 'tl;dr fuuuuu',\n",
       " 'Those people who think they know everything are a great annoyance to those of us who do IA',\n",
       " '@Darth Alpha  I would never claim it to be healthy either. Just in my best interest.',\n",
       " 'On loyalty:  I am loyal to the vision. I am loyal to those who share the vision. I am not into co-dependency in terms of the vision cannot be accomplished without others involved. I stay on course,...',\n",
       " 'Your answer was worth more time to entertain than the OP.',\n",
       " \"Hey @MsBossyPants are you down for a debate on Ayn Rand vs Marx? Maybe we should talk about our poor Fi? Oh I know- let's try to correlate testing ENTJ with being sociopathic.  :laughing:\",\n",
       " \"Hitler was no exception- this concept has, is and always will be a principle, tenet, and rule. Politics, ideology, religion, eating, shitting usual.  And if it's not ,then there is nothing to...\",\n",
       " 'Hitler thought he was doing great things. Stalin thought he was justified. These guys thought they were uncorrupt. They viewed any heretic to their dogmas as morally bankrupt, and so did many of...',\n",
       " 'Meh. There were plenty of evil people who did good things, and plenty of good people who got blood on their hands achieving and attaining higher goals. Bad situations that had good long term effects,...',\n",
       " 'You would have to ask the OP. He is asking ambiguous questions. I would go with whatever is more efficient/effective vs what is perceived as good every time in the good vs evil dichotomy. It in my...',\n",
       " 'Good vs Bad =/= Good vs Evil One is an objective positive vs negative dichotomy, the other is a subjective interpretation of characteristics.   NameUser  So to be evil may be a better solution and...',\n",
       " 'I think they are for sure idiots, but I also think these people went out of their way to fuck their lives up. Did they expose themselves on the internet? Yes. Does this warrant or validate a reason...',\n",
       " 'I really REEEEEEAAALLLY hate rigidly PC thumb sucking nanny bitches. They remind me of five year olds who are trying too hard to gain their parents approval by taddling. These are the same people,...',\n",
       " \"I think people need to get some skin. Even if these people are wrong or racist. That's just a waste of time, energy, and resources. These people end up being the focus for being petty and overboard...\",\n",
       " 'http://www.penciltribe.com/cms/wp-content/uploads/2013/04/Brian_snowflake-300x225.jpg',\n",
       " 'http://www.penciltribe.com/cms/wp-content/uploads/2013/04/Brian_snowflake-300x225.jpg',\n",
       " \"I'm not trying to be condescending when I tell you- all those things you have mentioned people saying and have written off as all I have been met with are legit arguments. They don't need to be...\",\n",
       " \"The brevity of my posts is because you don't take much to refute. Just because you aren't acknowledging what people are saying doesn't mean they are saying nothing.'\"]"
      ]
     },
     "execution_count": 34,
     "metadata": {},
     "output_type": "execute_result"
    }
   ],
   "source": [
    "data['posts'][4].split('|||')"
   ]
  },
  {
   "cell_type": "markdown",
   "id": "8d76897f",
   "metadata": {},
   "source": [
    "# Evaluating Number of Posts as a Feature \n",
    "\n",
    "Number of Posts is not a good feature to use - majority of the population is posting more than 45 posts "
   ]
  },
  {
   "cell_type": "code",
   "execution_count": 69,
   "id": "6cc5bb98",
   "metadata": {},
   "outputs": [
    {
     "data": {
      "text/plain": [
       "Text(0.5, 1.0, 'P vs J')"
      ]
     },
     "execution_count": 69,
     "metadata": {},
     "output_type": "execute_result"
    },
    {
     "data": {
      "image/png": "[encoded data removed]",
      "text/plain": [
       "<Figure size 432x288 with 4 Axes>"
      ]
     },
     "metadata": {
      "needs_background": "light"
     },
     "output_type": "display_data"
    }
   ],
   "source": [
    "bins = np.linspace(0,50,10)\n",
    "fig, axs = plt.subplots(2,2) \n",
    "axs[0, 0].hist(data[data['IorE']=='I']['num_of_posts'], bins, alpha=0.5, label='I')\n",
    "axs[0, 0].hist(data[data['IorE']=='E']['num_of_posts'], bins, alpha=0.5, label='E')\n",
    "axs[0, 0].legend(loc='upper left')\n",
    "axs[0, 0].set_title('I vs E')\n",
    "\n",
    "axs[0, 1].hist(data[data['SorN']=='S']['num_of_posts'], bins, alpha=0.5, label='S')\n",
    "axs[0, 1].hist(data[data['SorN']=='N']['num_of_posts'], bins, alpha=0.5, label='N')\n",
    "axs[0, 1].legend(loc='upper left')\n",
    "axs[0, 1].set_title('S vs N')\n",
    "\n",
    "\n",
    "axs[1, 0].hist(data[data['TorF']=='T']['num_of_posts'], bins, alpha=0.5, label='T')\n",
    "axs[1, 0].hist(data[data['TorF']=='F']['num_of_posts'], bins, alpha=0.5, label='F')\n",
    "axs[1, 0].legend(loc='upper left')\n",
    "axs[1, 0].set_title('T vs F')\n",
    "\n",
    "axs[1, 1].hist(data[data['PorJ']=='P']['num_of_posts'], bins, alpha=0.5, label='P')\n",
    "axs[1, 1].hist(data[data['PorJ']=='J']['num_of_posts'], bins, alpha=0.5, label='J')\n",
    "axs[1, 1].legend(loc='upper left')\n",
    "axs[1, 1].set_title('P vs J')\n"
   ]
  },
  {
   "cell_type": "markdown",
   "id": "51ef1aa1",
   "metadata": {},
   "source": [
    "# Evaluating Youtube references as a Feature "
   ]
  },
  {
   "cell_type": "code",
   "execution_count": 54,
   "id": "92160861",
   "metadata": {},
   "outputs": [],
   "source": [
    "data['ref_YT']= [post.count('youtube') for post in data['posts']]"
   ]
  },
  {
   "cell_type": "code",
   "execution_count": 68,
   "id": "ee8bd9a6",
   "metadata": {},
   "outputs": [
    {
     "data": {
      "text/plain": [
       "Text(0.5, 1.0, 'P vs J')"
      ]
     },
     "execution_count": 68,
     "metadata": {},
     "output_type": "execute_result"
    },
    {
     "data": {
      "image/png": "[encoded data removed]",
      "text/plain": [
       "<Figure size 432x288 with 4 Axes>"
      ]
     },
     "metadata": {
      "needs_background": "light"
     },
     "output_type": "display_data"
    }
   ],
   "source": [
    "fig, axs = plt.subplots(2,2) \n",
    "bins = np.linspace(0,40,20)\n",
    "\n",
    "axs[0, 0].hist(data[data['IorE']=='I']['ref_YT'], bins, alpha=0.5, label='I')\n",
    "axs[0, 0].hist(data[data['IorE']=='E']['ref_YT'], bins, alpha=0.5, label='E')\n",
    "axs[0, 0].legend(loc='upper left')\n",
    "axs[0, 0].set_title('I vs E')\n",
    "\n",
    "axs[0, 1].hist(data[data['SorN']=='S']['ref_YT'], bins, alpha=0.5, label='S')\n",
    "axs[0, 1].hist(data[data['SorN']=='N']['ref_YT'], bins, alpha=0.5, label='N')\n",
    "axs[0, 1].legend(loc='upper left')\n",
    "axs[0, 1].set_title('S vs N')\n",
    "\n",
    "\n",
    "axs[1, 0].hist(data[data['TorF']=='T']['ref_YT'], bins, alpha=0.5, label='T')\n",
    "axs[1, 0].hist(data[data['TorF']=='F']['ref_YT'], bins, alpha=0.5, label='F')\n",
    "axs[1, 0].legend(loc='upper left')\n",
    "axs[1, 0].set_title('T vs F')\n",
    "\n",
    "axs[1, 1].hist(data[data['PorJ']=='P']['ref_YT'], bins, alpha=0.5, label='P')\n",
    "axs[1, 1].hist(data[data['PorJ']=='J']['ref_YT'], bins, alpha=0.5, label='J')\n",
    "axs[1, 1].legend(loc='upper left')\n",
    "axs[1, 1].set_title('P vs J')\n"
   ]
  },
  {
   "cell_type": "code",
   "execution_count": 81,
   "id": "00fc0cfb",
   "metadata": {},
   "outputs": [],
   "source": [
    "data['countPunct']= [len(re.findall('!',post)) for post in data['posts']]"
   ]
  },
  {
   "cell_type": "code",
   "execution_count": 74,
   "id": "4ee61174",
   "metadata": {},
   "outputs": [
    {
     "data": {
      "text/plain": [
       "['.',\n",
       " '.',\n",
       " '.',\n",
       " '.',\n",
       " '.',\n",
       " '.',\n",
       " '.',\n",
       " '.',\n",
       " '.',\n",
       " '.',\n",
       " '.',\n",
       " '.',\n",
       " '.',\n",
       " '.',\n",
       " '.',\n",
       " '?',\n",
       " '.',\n",
       " '.',\n",
       " '?',\n",
       " '.',\n",
       " '.',\n",
       " '.',\n",
       " '.',\n",
       " '.',\n",
       " '.',\n",
       " '.',\n",
       " '.',\n",
       " '.',\n",
       " '?',\n",
       " '.',\n",
       " '.',\n",
       " '.',\n",
       " '.',\n",
       " '.',\n",
       " '.',\n",
       " '.',\n",
       " '.',\n",
       " '.',\n",
       " '.',\n",
       " '.',\n",
       " '.',\n",
       " '.',\n",
       " '.',\n",
       " '.',\n",
       " '.',\n",
       " '.',\n",
       " '.',\n",
       " '.',\n",
       " '.',\n",
       " '.',\n",
       " '.',\n",
       " '.',\n",
       " '?',\n",
       " '?',\n",
       " '.',\n",
       " '.',\n",
       " '.',\n",
       " '.',\n",
       " '.',\n",
       " '.',\n",
       " '.',\n",
       " '.',\n",
       " '?',\n",
       " '.',\n",
       " '.',\n",
       " '.',\n",
       " '.',\n",
       " '.',\n",
       " '.',\n",
       " '.',\n",
       " '.',\n",
       " '.',\n",
       " '.',\n",
       " '!',\n",
       " '.',\n",
       " '.',\n",
       " '.',\n",
       " '.',\n",
       " '.',\n",
       " '.',\n",
       " '.',\n",
       " '.',\n",
       " '.',\n",
       " '.',\n",
       " '.',\n",
       " '.',\n",
       " '.',\n",
       " '.',\n",
       " '.',\n",
       " '.',\n",
       " '.',\n",
       " '.',\n",
       " '.',\n",
       " '?',\n",
       " '.',\n",
       " '.',\n",
       " '.',\n",
       " '.',\n",
       " '.',\n",
       " '.',\n",
       " '.',\n",
       " '.',\n",
       " '.',\n",
       " '.',\n",
       " '?',\n",
       " '?',\n",
       " '.',\n",
       " '.',\n",
       " '.',\n",
       " '.',\n",
       " '.',\n",
       " '.',\n",
       " '.',\n",
       " '.',\n",
       " '.',\n",
       " '.',\n",
       " '.',\n",
       " '.',\n",
       " '.',\n",
       " '.',\n",
       " '.',\n",
       " '.',\n",
       " '.',\n",
       " '.',\n",
       " '.',\n",
       " '.',\n",
       " '.',\n",
       " '.',\n",
       " '.',\n",
       " '.',\n",
       " '.',\n",
       " '.',\n",
       " '.',\n",
       " '.',\n",
       " '?',\n",
       " '.',\n",
       " '.',\n",
       " '.',\n",
       " '.',\n",
       " '.',\n",
       " '.',\n",
       " '.',\n",
       " '.',\n",
       " '.',\n",
       " '.',\n",
       " '.',\n",
       " '.',\n",
       " '.',\n",
       " '.',\n",
       " '.',\n",
       " '.',\n",
       " '.',\n",
       " '.',\n",
       " '.',\n",
       " '.',\n",
       " '.',\n",
       " '.',\n",
       " '.',\n",
       " '.',\n",
       " '.',\n",
       " '.',\n",
       " '.']"
      ]
     },
     "execution_count": 74,
     "metadata": {},
     "output_type": "execute_result"
    }
   ],
   "source": [
    "re.findall('[?!.]',data['posts'][4])"
   ]
  },
  {
   "cell_type": "code",
   "execution_count": 82,
   "id": "46e8c93a",
   "metadata": {},
   "outputs": [
    {
     "data": {
      "text/plain": [
       "Text(0.5, 1.0, 'P vs J')"
      ]
     },
     "execution_count": 82,
     "metadata": {},
     "output_type": "execute_result"
    },
    {
     "data": {
      "image/png": "[encoded data removed]",
      "text/plain": [
       "<Figure size 432x288 with 4 Axes>"
      ]
     },
     "metadata": {
      "needs_background": "light"
     },
     "output_type": "display_data"
    }
   ],
   "source": [
    "fig, axs = plt.subplots(2,2) \n",
    "bins = np.linspace(0,40,20)\n",
    "\n",
    "axs[0, 0].hist(data[data['IorE']=='I']['countPunct'], bins, alpha=0.5, label='I')\n",
    "axs[0, 0].hist(data[data['IorE']=='E']['countPunct'], bins, alpha=0.5, label='E')\n",
    "axs[0, 0].legend(loc='upper left')\n",
    "axs[0, 0].set_title('I vs E')\n",
    "\n",
    "axs[0, 1].hist(data[data['SorN']=='S']['countPunct'], bins, alpha=0.5, label='S')\n",
    "axs[0, 1].hist(data[data['SorN']=='N']['countPunct'], bins, alpha=0.5, label='N')\n",
    "axs[0, 1].legend(loc='upper left')\n",
    "axs[0, 1].set_title('S vs N')\n",
    "\n",
    "\n",
    "axs[1, 0].hist(data[data['TorF']=='T']['countPunct'], bins, alpha=0.5, label='T')\n",
    "axs[1, 0].hist(data[data['TorF']=='F']['countPunct'], bins, alpha=0.5, label='F')\n",
    "axs[1, 0].legend(loc='upper left')\n",
    "axs[1, 0].set_title('T vs F')\n",
    "\n",
    "axs[1, 1].hist(data[data['PorJ']=='P']['countPunct'], bins, alpha=0.5, label='P')\n",
    "axs[1, 1].hist(data[data['PorJ']=='J']['countPunct'], bins, alpha=0.5, label='J')\n",
    "axs[1, 1].legend(loc='upper left')\n",
    "axs[1, 1].set_title('P vs J')\n"
   ]
  },
  {
   "cell_type": "code",
   "execution_count": null,
   "id": "420bf68d",
   "metadata": {},
   "outputs": [],
   "source": []
  }
 ],
 "metadata": {
  "kernelspec": {
   "display_name": "Python 3",
   "language": "python",
   "name": "python3"
  },
  "language_info": {
   "codemirror_mode": {
    "name": "ipython",
    "version": 3
   },
   "file_extension": ".py",
   "mimetype": "text/x-python",
   "name": "python",
   "nbconvert_exporter": "python",
   "pygments_lexer": "ipython3",
   "version": "3.8.8"
  }
 },
 "nbformat": 4,
 "nbformat_minor": 5
}
