{
 "cells": [
  {
   "cell_type": "code",
   "execution_count": 1,
   "id": "ce7d9fa7",
   "metadata": {},
   "outputs": [],
   "source": [
    "import pandas as pd \n",
    "import numpy as np\n",
    "import matplotlib.pyplot as plt\n",
    "import re\n",
    "from sklearn.model_selection import train_test_split"
   ]
  },
  {
   "cell_type": "code",
   "execution_count": 2,
   "id": "0fec495e",
   "metadata": {
    "scrolled": true
   },
   "outputs": [
    {
     "data": {
      "text/html": [
       "<div>\n",
       "<style scoped>\n",
       "    .dataframe tbody tr th:only-of-type {\n",
       "        vertical-align: middle;\n",
       "    }\n",
       "\n",
       "    .dataframe tbody tr th {\n",
       "        vertical-align: top;\n",
       "    }\n",
       "\n",
       "    .dataframe thead th {\n",
       "        text-align: right;\n",
       "    }\n",
       "</style>\n",
       "<table border=\"1\" class=\"dataframe\">\n",
       "  <thead>\n",
       "    <tr style=\"text-align: right;\">\n",
       "      <th></th>\n",
       "      <th>Unnamed: 0</th>\n",
       "      <th>type</th>\n",
       "      <th>posts</th>\n",
       "    </tr>\n",
       "  </thead>\n",
       "  <tbody>\n",
       "    <tr>\n",
       "      <th>0</th>\n",
       "      <td>5150</td>\n",
       "      <td>INFJ</td>\n",
       "      <td>'Until my mid-twenties I couldn't care less wh...</td>\n",
       "    </tr>\n",
       "    <tr>\n",
       "      <th>1</th>\n",
       "      <td>4661</td>\n",
       "      <td>INFJ</td>\n",
       "      <td>'http://personalitycafe.com/attachments/infj-f...</td>\n",
       "    </tr>\n",
       "    <tr>\n",
       "      <th>2</th>\n",
       "      <td>3397</td>\n",
       "      <td>INFJ</td>\n",
       "      <td>Definitely conflict, too. Unreasonable loudnes...</td>\n",
       "    </tr>\n",
       "    <tr>\n",
       "      <th>3</th>\n",
       "      <td>6839</td>\n",
       "      <td>INFJ</td>\n",
       "      <td>'Last night, was racing people on my old schoo...</td>\n",
       "    </tr>\n",
       "    <tr>\n",
       "      <th>4</th>\n",
       "      <td>5044</td>\n",
       "      <td>INFJ</td>\n",
       "      <td>'Looks like the preliminary results from the p...</td>\n",
       "    </tr>\n",
       "  </tbody>\n",
       "</table>\n",
       "</div>"
      ],
      "text/plain": [
       "   Unnamed: 0  type                                              posts\n",
       "0        5150  INFJ  'Until my mid-twenties I couldn't care less wh...\n",
       "1        4661  INFJ  'http://personalitycafe.com/attachments/infj-f...\n",
       "2        3397  INFJ  Definitely conflict, too. Unreasonable loudnes...\n",
       "3        6839  INFJ  'Last night, was racing people on my old schoo...\n",
       "4        5044  INFJ  'Looks like the preliminary results from the p..."
      ]
     },
     "execution_count": 2,
     "metadata": {},
     "output_type": "execute_result"
    }
   ],
   "source": [
    "data = pd.read_csv('Resources/mbti_randomSample.csv')\n",
    "data.head()"
   ]
  },
  {
   "cell_type": "code",
   "execution_count": 3,
   "id": "568d47e9",
   "metadata": {},
   "outputs": [
    {
     "data": {
      "text/html": [
       "<div>\n",
       "<style scoped>\n",
       "    .dataframe tbody tr th:only-of-type {\n",
       "        vertical-align: middle;\n",
       "    }\n",
       "\n",
       "    .dataframe tbody tr th {\n",
       "        vertical-align: top;\n",
       "    }\n",
       "\n",
       "    .dataframe thead th {\n",
       "        text-align: right;\n",
       "    }\n",
       "</style>\n",
       "<table border=\"1\" class=\"dataframe\">\n",
       "  <thead>\n",
       "    <tr style=\"text-align: right;\">\n",
       "      <th></th>\n",
       "      <th>Unnamed: 0</th>\n",
       "      <th>type</th>\n",
       "      <th>posts</th>\n",
       "      <th>posts_array</th>\n",
       "    </tr>\n",
       "  </thead>\n",
       "  <tbody>\n",
       "    <tr>\n",
       "      <th>0</th>\n",
       "      <td>5150</td>\n",
       "      <td>INFJ</td>\n",
       "      <td>'Until my mid-twenties I couldn't care less wh...</td>\n",
       "      <td>['Until my mid-twenties I couldn't care less w...</td>\n",
       "    </tr>\n",
       "    <tr>\n",
       "      <th>1</th>\n",
       "      <td>4661</td>\n",
       "      <td>INFJ</td>\n",
       "      <td>'http://personalitycafe.com/attachments/infj-f...</td>\n",
       "      <td>['http://personalitycafe.com/attachments/infj-...</td>\n",
       "    </tr>\n",
       "    <tr>\n",
       "      <th>2</th>\n",
       "      <td>3397</td>\n",
       "      <td>INFJ</td>\n",
       "      <td>Definitely conflict, too. Unreasonable loudnes...</td>\n",
       "      <td>[Definitely conflict, too. Unreasonable loudne...</td>\n",
       "    </tr>\n",
       "    <tr>\n",
       "      <th>3</th>\n",
       "      <td>6839</td>\n",
       "      <td>INFJ</td>\n",
       "      <td>'Last night, was racing people on my old schoo...</td>\n",
       "      <td>['Last night, was racing people on my old scho...</td>\n",
       "    </tr>\n",
       "    <tr>\n",
       "      <th>4</th>\n",
       "      <td>5044</td>\n",
       "      <td>INFJ</td>\n",
       "      <td>'Looks like the preliminary results from the p...</td>\n",
       "      <td>['Looks like the preliminary results from the ...</td>\n",
       "    </tr>\n",
       "  </tbody>\n",
       "</table>\n",
       "</div>"
      ],
      "text/plain": [
       "   Unnamed: 0  type                                              posts  \\\n",
       "0        5150  INFJ  'Until my mid-twenties I couldn't care less wh...   \n",
       "1        4661  INFJ  'http://personalitycafe.com/attachments/infj-f...   \n",
       "2        3397  INFJ  Definitely conflict, too. Unreasonable loudnes...   \n",
       "3        6839  INFJ  'Last night, was racing people on my old schoo...   \n",
       "4        5044  INFJ  'Looks like the preliminary results from the p...   \n",
       "\n",
       "                                         posts_array  \n",
       "0  ['Until my mid-twenties I couldn't care less w...  \n",
       "1  ['http://personalitycafe.com/attachments/infj-...  \n",
       "2  [Definitely conflict, too. Unreasonable loudne...  \n",
       "3  ['Last night, was racing people on my old scho...  \n",
       "4  ['Looks like the preliminary results from the ...  "
      ]
     },
     "execution_count": 3,
     "metadata": {},
     "output_type": "execute_result"
    }
   ],
   "source": [
    "#split the posts into arrays \n",
    "data['posts_array']= [[x for x in post.split('|||') if len(x)>0] for post in data['posts']]\n",
    "data.head()"
   ]
  },
  {
   "cell_type": "code",
   "execution_count": null,
   "id": "79916cbf",
   "metadata": {},
   "outputs": [],
   "source": [
    "#create columns for individual letters \n",
    "for index, row in data.iterrows(): \n",
    "    mbti_type = list(row['type'])\n",
    "    data.loc[index,'IorE']=mbti_type[0]\n",
    "    data.loc[index,'SorN']=mbti_type[1]\n",
    "    data.loc[index,'TorF']=mbti_type[2]\n",
    "    data.loc[index,'PorJ']=mbti_type[3]"
   ]
  },
  {
   "cell_type": "code",
   "execution_count": 85,
   "id": "55c0410e",
   "metadata": {},
   "outputs": [],
   "source": [
    "#creating Feature for #of Hyperlinks in posts & array of posts without any hyper links\n",
    "for index, row in data.iterrows():\n",
    "    temp_a = []\n",
    "    cnt_hyperlinks = 0\n",
    "    for i in row['posts_array']: \n",
    "        if i.count('http')>0:\n",
    "            cnt_hyperlinks = cnt_hyperlinks+1\n",
    "        else: \n",
    "            temp_a.append(i)\n",
    "    data.at[index, 'No_links'] = temp_a\n",
    "    data.at[index, 'Cnt_hyperlinks'] = cnt_hyperlinks/len(row['posts_array'])"
   ]
  },
  {
   "cell_type": "code",
   "execution_count": 87,
   "id": "67e5e9cf",
   "metadata": {},
   "outputs": [
    {
     "data": {
      "text/html": [
       "<div>\n",
       "<style scoped>\n",
       "    .dataframe tbody tr th:only-of-type {\n",
       "        vertical-align: middle;\n",
       "    }\n",
       "\n",
       "    .dataframe tbody tr th {\n",
       "        vertical-align: top;\n",
       "    }\n",
       "\n",
       "    .dataframe thead th {\n",
       "        text-align: right;\n",
       "    }\n",
       "</style>\n",
       "<table border=\"1\" class=\"dataframe\">\n",
       "  <thead>\n",
       "    <tr style=\"text-align: right;\">\n",
       "      <th></th>\n",
       "      <th>Unnamed: 0</th>\n",
       "      <th>type</th>\n",
       "      <th>posts</th>\n",
       "      <th>posts_array</th>\n",
       "      <th>No_links</th>\n",
       "      <th>Cnt_hyperlinks</th>\n",
       "      <th>IorE</th>\n",
       "      <th>SorN</th>\n",
       "      <th>TorF</th>\n",
       "      <th>PorJ</th>\n",
       "    </tr>\n",
       "  </thead>\n",
       "  <tbody>\n",
       "    <tr>\n",
       "      <th>0</th>\n",
       "      <td>5150</td>\n",
       "      <td>INFJ</td>\n",
       "      <td>'Until my mid-twenties I couldn't care less wh...</td>\n",
       "      <td>['Until my mid-twenties I couldn't care less w...</td>\n",
       "      <td>['Until my mid-twenties I couldn't care less w...</td>\n",
       "      <td>0.06</td>\n",
       "      <td>I</td>\n",
       "      <td>N</td>\n",
       "      <td>F</td>\n",
       "      <td>J</td>\n",
       "    </tr>\n",
       "    <tr>\n",
       "      <th>1</th>\n",
       "      <td>4661</td>\n",
       "      <td>INFJ</td>\n",
       "      <td>'http://personalitycafe.com/attachments/infj-f...</td>\n",
       "      <td>['http://personalitycafe.com/attachments/infj-...</td>\n",
       "      <td>[I don't quite know what I want. I choose to l...</td>\n",
       "      <td>0.28</td>\n",
       "      <td>I</td>\n",
       "      <td>N</td>\n",
       "      <td>F</td>\n",
       "      <td>J</td>\n",
       "    </tr>\n",
       "    <tr>\n",
       "      <th>2</th>\n",
       "      <td>3397</td>\n",
       "      <td>INFJ</td>\n",
       "      <td>Definitely conflict, too. Unreasonable loudnes...</td>\n",
       "      <td>[Definitely conflict, too. Unreasonable loudne...</td>\n",
       "      <td>[Definitely conflict, too. Unreasonable loudne...</td>\n",
       "      <td>0.04</td>\n",
       "      <td>I</td>\n",
       "      <td>N</td>\n",
       "      <td>F</td>\n",
       "      <td>J</td>\n",
       "    </tr>\n",
       "    <tr>\n",
       "      <th>3</th>\n",
       "      <td>6839</td>\n",
       "      <td>INFJ</td>\n",
       "      <td>'Last night, was racing people on my old schoo...</td>\n",
       "      <td>['Last night, was racing people on my old scho...</td>\n",
       "      <td>['Last night, was racing people on my old scho...</td>\n",
       "      <td>0.02</td>\n",
       "      <td>I</td>\n",
       "      <td>N</td>\n",
       "      <td>F</td>\n",
       "      <td>J</td>\n",
       "    </tr>\n",
       "    <tr>\n",
       "      <th>4</th>\n",
       "      <td>5044</td>\n",
       "      <td>INFJ</td>\n",
       "      <td>'Looks like the preliminary results from the p...</td>\n",
       "      <td>['Looks like the preliminary results from the ...</td>\n",
       "      <td>['Looks like the preliminary results from the ...</td>\n",
       "      <td>0.02</td>\n",
       "      <td>I</td>\n",
       "      <td>N</td>\n",
       "      <td>F</td>\n",
       "      <td>J</td>\n",
       "    </tr>\n",
       "  </tbody>\n",
       "</table>\n",
       "</div>"
      ],
      "text/plain": [
       "   Unnamed: 0  type                                              posts  \\\n",
       "0        5150  INFJ  'Until my mid-twenties I couldn't care less wh...   \n",
       "1        4661  INFJ  'http://personalitycafe.com/attachments/infj-f...   \n",
       "2        3397  INFJ  Definitely conflict, too. Unreasonable loudnes...   \n",
       "3        6839  INFJ  'Last night, was racing people on my old schoo...   \n",
       "4        5044  INFJ  'Looks like the preliminary results from the p...   \n",
       "\n",
       "                                         posts_array  \\\n",
       "0  ['Until my mid-twenties I couldn't care less w...   \n",
       "1  ['http://personalitycafe.com/attachments/infj-...   \n",
       "2  [Definitely conflict, too. Unreasonable loudne...   \n",
       "3  ['Last night, was racing people on my old scho...   \n",
       "4  ['Looks like the preliminary results from the ...   \n",
       "\n",
       "                                            No_links  Cnt_hyperlinks IorE  \\\n",
       "0  ['Until my mid-twenties I couldn't care less w...            0.06    I   \n",
       "1  [I don't quite know what I want. I choose to l...            0.28    I   \n",
       "2  [Definitely conflict, too. Unreasonable loudne...            0.04    I   \n",
       "3  ['Last night, was racing people on my old scho...            0.02    I   \n",
       "4  ['Looks like the preliminary results from the ...            0.02    I   \n",
       "\n",
       "  SorN TorF PorJ  \n",
       "0    N    F    J  \n",
       "1    N    F    J  \n",
       "2    N    F    J  \n",
       "3    N    F    J  \n",
       "4    N    F    J  "
      ]
     },
     "execution_count": 87,
     "metadata": {},
     "output_type": "execute_result"
    }
   ],
   "source": [
    "data.head()"
   ]
  },
  {
   "cell_type": "code",
   "execution_count": 83,
   "id": "bf205e39",
   "metadata": {},
   "outputs": [],
   "source": []
  },
  {
   "cell_type": "code",
   "execution_count": 93,
   "id": "176e4c65",
   "metadata": {},
   "outputs": [
    {
     "data": {
      "text/plain": [
       "0.56"
      ]
     },
     "execution_count": 93,
     "metadata": {},
     "output_type": "execute_result"
    }
   ],
   "source": [
    "max(data['Cnt_hyperlinks'])"
   ]
  },
  {
   "cell_type": "code",
   "execution_count": 95,
   "id": "8d2cd589",
   "metadata": {},
   "outputs": [
    {
     "data": {
      "text/plain": [
       "Text(0.5, 1.0, 'P vs J')"
      ]
     },
     "execution_count": 95,
     "metadata": {},
     "output_type": "execute_result"
    },
    {
     "data": {
      "image/png": "[encoded data removed]",
      "text/plain": [
       "<Figure size 432x288 with 4 Axes>"
      ]
     },
     "metadata": {
      "needs_background": "light"
     },
     "output_type": "display_data"
    }
   ],
   "source": [
    "fig, axs = plt.subplots(2,2) \n",
    "bins = np.linspace(0,.6,20)\n",
    "\n",
    "axs[0, 0].hist(data[data['IorE']=='I']['Cnt_hyperlinks'], bins, alpha=0.5, label='I')\n",
    "axs[0, 0].hist(data[data['IorE']=='E']['Cnt_hyperlinks'], bins, alpha=0.5, label='E')\n",
    "axs[0, 0].legend(loc='upper right')\n",
    "axs[0, 0].set_title('I vs E')\n",
    "\n",
    "axs[0, 1].hist(data[data['SorN']=='S']['Cnt_hyperlinks'], bins, alpha=0.5, label='S')\n",
    "axs[0, 1].hist(data[data['SorN']=='N']['Cnt_hyperlinks'], bins, alpha=0.5, label='N')\n",
    "axs[0, 1].legend(loc='upper right')\n",
    "axs[0, 1].set_title('S vs N')\n",
    "\n",
    "\n",
    "axs[1, 0].hist(data[data['TorF']=='T']['Cnt_hyperlinks'], bins, alpha=0.5, label='T')\n",
    "axs[1, 0].hist(data[data['TorF']=='F']['Cnt_hyperlinks'], bins, alpha=0.5, label='F')\n",
    "axs[1, 0].legend(loc='upper right')\n",
    "axs[1, 0].set_title('T vs F')\n",
    "\n",
    "axs[1, 1].hist(data[data['PorJ']=='P']['Cnt_hyperlinks'], bins, alpha=0.5, label='P')\n",
    "axs[1, 1].hist(data[data['PorJ']=='J']['Cnt_hyperlinks'], bins, alpha=0.5, label='J')\n",
    "axs[1, 1].legend(loc='upper right')\n",
    "axs[1, 1].set_title('P vs J')\n"
   ]
  },
  {
   "cell_type": "code",
   "execution_count": null,
   "id": "7f515bae",
   "metadata": {},
   "outputs": [],
   "source": []
  },
  {
   "cell_type": "code",
   "execution_count": null,
   "id": "fcf0121e",
   "metadata": {},
   "outputs": [],
   "source": []
  },
  {
   "cell_type": "code",
   "execution_count": null,
   "id": "d389be21",
   "metadata": {},
   "outputs": [],
   "source": []
  },
  {
   "cell_type": "code",
   "execution_count": 3,
   "id": "0268ff8d",
   "metadata": {},
   "outputs": [],
   "source": [
    "data['num_of_posts']= [len([x for x in post.split('|||') if len(x)>0]) for post in data['posts']]"
   ]
  },
  {
   "cell_type": "code",
   "execution_count": 4,
   "id": "0f97dc00",
   "metadata": {},
   "outputs": [
    {
     "data": {
      "text/html": [
       "<div>\n",
       "<style scoped>\n",
       "    .dataframe tbody tr th:only-of-type {\n",
       "        vertical-align: middle;\n",
       "    }\n",
       "\n",
       "    .dataframe tbody tr th {\n",
       "        vertical-align: top;\n",
       "    }\n",
       "\n",
       "    .dataframe thead th {\n",
       "        text-align: right;\n",
       "    }\n",
       "</style>\n",
       "<table border=\"1\" class=\"dataframe\">\n",
       "  <thead>\n",
       "    <tr style=\"text-align: right;\">\n",
       "      <th></th>\n",
       "      <th>Unnamed: 0</th>\n",
       "      <th>type</th>\n",
       "      <th>posts</th>\n",
       "      <th>num_of_posts</th>\n",
       "    </tr>\n",
       "  </thead>\n",
       "  <tbody>\n",
       "    <tr>\n",
       "      <th>0</th>\n",
       "      <td>5150</td>\n",
       "      <td>INFJ</td>\n",
       "      <td>'Until my mid-twenties I couldn't care less wh...</td>\n",
       "      <td>50</td>\n",
       "    </tr>\n",
       "    <tr>\n",
       "      <th>1</th>\n",
       "      <td>4661</td>\n",
       "      <td>INFJ</td>\n",
       "      <td>'http://personalitycafe.com/attachments/infj-f...</td>\n",
       "      <td>50</td>\n",
       "    </tr>\n",
       "    <tr>\n",
       "      <th>2</th>\n",
       "      <td>3397</td>\n",
       "      <td>INFJ</td>\n",
       "      <td>Definitely conflict, too. Unreasonable loudnes...</td>\n",
       "      <td>50</td>\n",
       "    </tr>\n",
       "    <tr>\n",
       "      <th>3</th>\n",
       "      <td>6839</td>\n",
       "      <td>INFJ</td>\n",
       "      <td>'Last night, was racing people on my old schoo...</td>\n",
       "      <td>50</td>\n",
       "    </tr>\n",
       "    <tr>\n",
       "      <th>4</th>\n",
       "      <td>5044</td>\n",
       "      <td>INFJ</td>\n",
       "      <td>'Looks like the preliminary results from the p...</td>\n",
       "      <td>50</td>\n",
       "    </tr>\n",
       "  </tbody>\n",
       "</table>\n",
       "</div>"
      ],
      "text/plain": [
       "   Unnamed: 0  type                                              posts  \\\n",
       "0        5150  INFJ  'Until my mid-twenties I couldn't care less wh...   \n",
       "1        4661  INFJ  'http://personalitycafe.com/attachments/infj-f...   \n",
       "2        3397  INFJ  Definitely conflict, too. Unreasonable loudnes...   \n",
       "3        6839  INFJ  'Last night, was racing people on my old schoo...   \n",
       "4        5044  INFJ  'Looks like the preliminary results from the p...   \n",
       "\n",
       "   num_of_posts  \n",
       "0            50  \n",
       "1            50  \n",
       "2            50  \n",
       "3            50  \n",
       "4            50  "
      ]
     },
     "execution_count": 4,
     "metadata": {},
     "output_type": "execute_result"
    }
   ],
   "source": [
    "data.head()"
   ]
  },
  {
   "cell_type": "code",
   "execution_count": 5,
   "id": "af9e719d",
   "metadata": {},
   "outputs": [],
   "source": [
    "#create columns for individual letters \n",
    "for index, row in data.iterrows(): \n",
    "    mbti_type = list(row['type'])\n",
    "    data.loc[index,'IorE']=mbti_type[0]\n",
    "    data.loc[index,'SorN']=mbti_type[1]\n",
    "    data.loc[index,'TorF']=mbti_type[2]\n",
    "    data.loc[index,'PorJ']=mbti_type[3]"
   ]
  },
  {
   "cell_type": "code",
   "execution_count": 6,
   "id": "4c622e9b",
   "metadata": {},
   "outputs": [
    {
     "data": {
      "text/plain": [
       "I    200\n",
       "E    200\n",
       "Name: IorE, dtype: int64"
      ]
     },
     "execution_count": 6,
     "metadata": {},
     "output_type": "execute_result"
    }
   ],
   "source": [
    "data['IorE'].value_counts()"
   ]
  },
  {
   "cell_type": "code",
   "execution_count": 7,
   "id": "a7fd8dca",
   "metadata": {},
   "outputs": [
    {
     "data": {
      "text/plain": [
       "N    200\n",
       "S    200\n",
       "Name: SorN, dtype: int64"
      ]
     },
     "execution_count": 7,
     "metadata": {},
     "output_type": "execute_result"
    }
   ],
   "source": [
    "data['SorN'].value_counts()"
   ]
  },
  {
   "cell_type": "code",
   "execution_count": 8,
   "id": "cf2ffb92",
   "metadata": {},
   "outputs": [
    {
     "data": {
      "text/plain": [
       "F    200\n",
       "T    200\n",
       "Name: TorF, dtype: int64"
      ]
     },
     "execution_count": 8,
     "metadata": {},
     "output_type": "execute_result"
    }
   ],
   "source": [
    "data['TorF'].value_counts()"
   ]
  },
  {
   "cell_type": "code",
   "execution_count": 9,
   "id": "2fd2a517",
   "metadata": {},
   "outputs": [
    {
     "data": {
      "text/plain": [
       "P    200\n",
       "J    200\n",
       "Name: PorJ, dtype: int64"
      ]
     },
     "execution_count": 9,
     "metadata": {},
     "output_type": "execute_result"
    }
   ],
   "source": [
    "data['PorJ'].value_counts()"
   ]
  },
  {
   "cell_type": "code",
   "execution_count": 10,
   "id": "632a741b",
   "metadata": {},
   "outputs": [],
   "source": [
    "data = data[['type','IorE','SorN','TorF','PorJ','posts','num_of_posts']]"
   ]
  },
  {
   "cell_type": "code",
   "execution_count": 11,
   "id": "382f4da5",
   "metadata": {
    "scrolled": true
   },
   "outputs": [
    {
     "data": {
      "text/plain": [
       "[\"'Looks like the preliminary results from the poll confirm my little haphazard theory thus far, especially in regards to the possible causality of the mistyping.  May mean my theory will eventually be...\",\n",
       " 'Hello everyone,  I am working on a personal theory of sorts related to male INFJs and our possible tendency to mistype early on when we first learn about MBTI typologies.  For example, I personally...',\n",
       " \"It's been quite a while since I posted, but I'm thinking it might be time to make a come back.  Figured this wouldn't be the worst place to get started.  So hello, again.  Here are two random pics...\",\n",
       " \"Understated, yet refined.  Well-kempt, yet playfully casual.  Projecting a sense of presence, confidence, and stature which cannot be denied, yet does not cry out immaturely for attention.  It's...\",\n",
       " \"Well, I mean, when I someday rule the world, I totally plan to be one of those benevolent dictators.  You know...the tyrant with a heart of gold type of approach.  What's so dark or self-serving...\",\n",
       " 'If she wants to move to Virginia, she can see me once I finish graduate school this year:cool:   But really, picking a mental health provider should probably not be based solely on MBTI...',\n",
       " \"now that i've learned i'm an infj, i figured this would be a good way to introduce myself to my fellow infj's...    fancy photo shoot ...\",\n",
       " 'So I used to post on personalitycafe quite a while ago...and, during that time, I consistently bounced back and forth between believing I was an INFP or an ENFP. I always tended to test as one of...',\n",
       " 'Haha the options are limitless!',\n",
       " \"Haha fair enough.  I retract my earlier assertion then.  I guess I'm alone in enjoying it haha.\",\n",
       " 'sometimes i like to randomly re-appear after a few months of being absent to post some random pictures...  ...',\n",
       " \"I take it from your response that you are either younger and/or have never lived on your own.  I could be wrong, but if I'm not, once you experience having your own place, you will come to understand...\",\n",
       " \"5'11...wish i could say i was 6 feet...but i can't:sad:\",\n",
       " ':shocked:    :confused:    :crying:',\n",
       " \"fine fine...i'll just live in wonder and curiosity about it for the rest of my life then:unsure:\",\n",
       " \"thiiiis is the only picture of myself as a child that I have in digital form...the rest are in a photo album of more physical form..   as for this one, i'm in the middle...in the oakland raiders...\",\n",
       " \"I hope the quotes mean the ghosts aren't real:sad:haha\",\n",
       " 'With vengence and furious anger!',\n",
       " 'http://www.clickoffthegrid.com/images/windturbine-solarpanels01.jpg someday....',\n",
       " \"I do odd things even when I'm not alone:sad:\",\n",
       " \"at my volunteer job at one of the local hospices...they have nothing for me to do today though, so i'm just answering phones aaaand apparently taking a few random pictures to pass the time haha  ...\",\n",
       " 'Why thank you.  I feel so informed now:tongue:',\n",
       " \"Can someone please explain what trolling is to me?:unsure:  I keep seeing people mention it, but I've never seen anyone define it.   I apologize for not knowing:sad:\",\n",
       " 'I am currently engaged in a rather humble attempt at being alive.',\n",
       " \"ummm you are kind of...sort of...ridiculously beautiful:blushed:      so yeah...just thought you'd like to know that...or something haha\",\n",
       " \"I haaaate having my picture taken. I always feel required to pose and doing so always feels so un-natural. I get all stiff and awkward, because it just doesn't feel authentic. And I'm very aware of...\",\n",
       " \"your avatar is VERY distracting...   just thought i'd throw that out there:tongue:\",\n",
       " \"someone on this site has a cartoon in their signature that says something along the lines of i procrastinate, but that's ok!...because it means i'm 10 times less likely to be a serial killer!...i...\",\n",
       " 'haha indeed...i just thought it would be fun to point out how obviously un-ENFP that specific example was:tongue:',\n",
       " \"Oh, don't get me wrong...there's a method to my madness (sort of)...but I doubt anyone else would be able to make any sense of it other than me:sad:haha\",\n",
       " 'Right now I really only have one main focus..  To support, further, and be a part of the current push by postmodern-oriented psychotherapy practitioners to both overhaul and reconceptualize the...',\n",
       " 'Tedium.  Monotony.  And an utter lack of novelty or opportunities for creativity (ie. the public school system, for example)..   I get sad just imagining any scenario that fits those...',\n",
       " \"My room looks like a somewhat well-intentioned and borderline-organized tornado blew through it.  I'd say that about sums it up.\",\n",
       " \"There is noooo frickin' way that Cuddy from House is an ENFP!  She is waaaay too organized and career-focused (ie. doesn't have a short attention span) to be one of us!\",\n",
       " \"It sounds to me like I need to bring you in as a mediator to explain me and my ways to every girl I date!  Then they will know what to expect.  And I'll be able to tell them that they were...\",\n",
       " 'holy grossness!  That is terrible!   Educated, intelligent women = sexy-pants:blushed:',\n",
       " \"Oh, I know.  Certainly didn't stop her from trying though haha.   She saw all my charisma and intelligence and decided I would make the perfect power partner...iiif she could break me of my...\",\n",
       " 'what are these boundaries you speak of?   they sound intriguing..   tell me more..:tongue:',\n",
       " 'One girl tried to tame me and break me of my random/eccentric ways back in college.   She ended up being sorely disappointed:crazy:',\n",
       " 'My dad is an INTJ. And thanks to him I developed the ability to debate persuasively and rationally like no other haha. All of my friends used to think that my family was weird, because while my...',\n",
       " 'To dance the night away.  But it is currently only the afternoon.  So once again my plans are thwarted by the space-time continuum!   :crying:',\n",
       " 'I have a gluten allergy!  *High five* to dietary restrictions!:cool:',\n",
       " \"It is actually possible that you'll be in good company!  I have met several women who were in their 40s or 50s and were working on PhDs.  Several had decided to do the grad school thing after their...\",\n",
       " 'Well fair enough!  PhD it is then!:tongue:lol',\n",
       " 'Good call!  For comparisons sake...here is some of the BLS info on counselors...which is actually a differntial licensure and job classification from psychologists...  Employment of mental...',\n",
       " 'Plans for a second date with the girl mentioned above were just confirmed!:laughing:',\n",
       " \"Judging from your avatar, you aren't so bad looking yourself:tongue:\",\n",
       " \"Yeah, there really are very few advantages to getting a Psy.D now-a-days.  Academia won't take you seriously as a researcher and insurance companies won't pay you much extra as a practitioner, so you...\",\n",
       " \"Well, technically it happened last night, buuut...I had the best first date I've been on in a veeeery long time.  I haven't felt this sort of instant connection/attraction to a girl in years!\",\n",
       " \"I can definitely agree with that!   Let's not forget our rather breath-taking ENFP female companions as well though!  We've got some true beauties here amongst us thanks to them!:proud:'\"]"
      ]
     },
     "execution_count": 11,
     "metadata": {},
     "output_type": "execute_result"
    }
   ],
   "source": [
    "data['posts'][4].split('|||')"
   ]
  },
  {
   "cell_type": "markdown",
   "id": "924b5e10",
   "metadata": {},
   "source": [
    "# Evaluating Number of Posts as a Feature \n",
    "\n",
    "Number of Posts is not a good feature to use - majority of the population is posting more than 45 posts "
   ]
  },
  {
   "cell_type": "code",
   "execution_count": 12,
   "id": "62063686",
   "metadata": {},
   "outputs": [
    {
     "data": {
      "text/plain": [
       "Text(0.5, 1.0, 'P vs J')"
      ]
     },
     "execution_count": 12,
     "metadata": {},
     "output_type": "execute_result"
    },
    {
     "data": {
      "image/png": "[encoded data removed]",
      "text/plain": [
       "<Figure size 432x288 with 4 Axes>"
      ]
     },
     "metadata": {
      "needs_background": "light"
     },
     "output_type": "display_data"
    }
   ],
   "source": [
    "bins = np.linspace(0,50,10)\n",
    "fig, axs = plt.subplots(2,2) \n",
    "axs[0, 0].hist(data[data['IorE']=='I']['num_of_posts'], bins, alpha=0.5, label='I')\n",
    "axs[0, 0].hist(data[data['IorE']=='E']['num_of_posts'], bins, alpha=0.5, label='E')\n",
    "axs[0, 0].legend(loc='upper left')\n",
    "axs[0, 0].set_title('I vs E')\n",
    "\n",
    "axs[0, 1].hist(data[data['SorN']=='S']['num_of_posts'], bins, alpha=0.5, label='S')\n",
    "axs[0, 1].hist(data[data['SorN']=='N']['num_of_posts'], bins, alpha=0.5, label='N')\n",
    "axs[0, 1].legend(loc='upper left')\n",
    "axs[0, 1].set_title('S vs N')\n",
    "\n",
    "\n",
    "axs[1, 0].hist(data[data['TorF']=='T']['num_of_posts'], bins, alpha=0.5, label='T')\n",
    "axs[1, 0].hist(data[data['TorF']=='F']['num_of_posts'], bins, alpha=0.5, label='F')\n",
    "axs[1, 0].legend(loc='upper left')\n",
    "axs[1, 0].set_title('T vs F')\n",
    "\n",
    "axs[1, 1].hist(data[data['PorJ']=='P']['num_of_posts'], bins, alpha=0.5, label='P')\n",
    "axs[1, 1].hist(data[data['PorJ']=='J']['num_of_posts'], bins, alpha=0.5, label='J')\n",
    "axs[1, 1].legend(loc='upper left')\n",
    "axs[1, 1].set_title('P vs J')\n"
   ]
  },
  {
   "cell_type": "markdown",
   "id": "e1d2cafe",
   "metadata": {},
   "source": [
    "# Evaluating Youtube references as a Feature "
   ]
  },
  {
   "cell_type": "code",
   "execution_count": 13,
   "id": "1780e071",
   "metadata": {},
   "outputs": [],
   "source": [
    "data['ref_YT']= [post.count('youtube') for post in data['posts']]"
   ]
  },
  {
   "cell_type": "code",
   "execution_count": 14,
   "id": "22ebe214",
   "metadata": {},
   "outputs": [
    {
     "data": {
      "text/plain": [
       "Text(0.5, 1.0, 'P vs J')"
      ]
     },
     "execution_count": 14,
     "metadata": {},
     "output_type": "execute_result"
    },
    {
     "data": {
      "image/png": "[encoded data removed]",
      "text/plain": [
       "<Figure size 432x288 with 4 Axes>"
      ]
     },
     "metadata": {
      "needs_background": "light"
     },
     "output_type": "display_data"
    }
   ],
   "source": [
    "fig, axs = plt.subplots(2,2) \n",
    "bins = np.linspace(0,40,20)\n",
    "\n",
    "axs[0, 0].hist(data[data['IorE']=='I']['ref_YT'], bins, alpha=0.5, label='I')\n",
    "axs[0, 0].hist(data[data['IorE']=='E']['ref_YT'], bins, alpha=0.5, label='E')\n",
    "axs[0, 0].legend(loc='upper left')\n",
    "axs[0, 0].set_title('I vs E')\n",
    "\n",
    "axs[0, 1].hist(data[data['SorN']=='S']['ref_YT'], bins, alpha=0.5, label='S')\n",
    "axs[0, 1].hist(data[data['SorN']=='N']['ref_YT'], bins, alpha=0.5, label='N')\n",
    "axs[0, 1].legend(loc='upper left')\n",
    "axs[0, 1].set_title('S vs N')\n",
    "\n",
    "\n",
    "axs[1, 0].hist(data[data['TorF']=='T']['ref_YT'], bins, alpha=0.5, label='T')\n",
    "axs[1, 0].hist(data[data['TorF']=='F']['ref_YT'], bins, alpha=0.5, label='F')\n",
    "axs[1, 0].legend(loc='upper left')\n",
    "axs[1, 0].set_title('T vs F')\n",
    "\n",
    "axs[1, 1].hist(data[data['PorJ']=='P']['ref_YT'], bins, alpha=0.5, label='P')\n",
    "axs[1, 1].hist(data[data['PorJ']=='J']['ref_YT'], bins, alpha=0.5, label='J')\n",
    "axs[1, 1].legend(loc='upper left')\n",
    "axs[1, 1].set_title('P vs J')\n"
   ]
  },
  {
   "cell_type": "code",
   "execution_count": 15,
   "id": "cd948b5b",
   "metadata": {},
   "outputs": [],
   "source": [
    "data['countPunct']= [len(re.findall('[?!]',post)) for post in data['posts']]"
   ]
  },
  {
   "cell_type": "code",
   "execution_count": 16,
   "id": "c4ec8090",
   "metadata": {},
   "outputs": [],
   "source": [
    "data['countPunct']= [np.mean([len(re.findall('[?!]',post)) for x in post.split('|||') if len(x)>0]) for post in data['posts']]"
   ]
  },
  {
   "cell_type": "code",
   "execution_count": 17,
   "id": "96a31c0e",
   "metadata": {},
   "outputs": [],
   "source": [
    "data['countQM']= [np.mean([post.count('?') for x in post.split('|||') if len(x)>0]) for post in data['posts']]"
   ]
  },
  {
   "cell_type": "code",
   "execution_count": 18,
   "id": "13a3edb1",
   "metadata": {},
   "outputs": [
    {
     "data": {
      "text/plain": [
       "['.',\n",
       " '.',\n",
       " '.',\n",
       " '.',\n",
       " '.',\n",
       " '.',\n",
       " '.',\n",
       " '.',\n",
       " '.',\n",
       " '.',\n",
       " '.',\n",
       " '.',\n",
       " '.',\n",
       " '.',\n",
       " '.',\n",
       " '.',\n",
       " '.',\n",
       " '.',\n",
       " '.',\n",
       " '.',\n",
       " '.',\n",
       " '.',\n",
       " '.',\n",
       " '.',\n",
       " '.',\n",
       " '.',\n",
       " '.',\n",
       " '.',\n",
       " '.',\n",
       " '.',\n",
       " '.',\n",
       " '.',\n",
       " '.',\n",
       " '.',\n",
       " '.',\n",
       " '.',\n",
       " '.',\n",
       " '.',\n",
       " '.',\n",
       " '.',\n",
       " '.',\n",
       " '.',\n",
       " '.',\n",
       " '.',\n",
       " '!',\n",
       " '.',\n",
       " '.',\n",
       " '.',\n",
       " '.',\n",
       " '.',\n",
       " '.',\n",
       " '.',\n",
       " '.',\n",
       " '.',\n",
       " '.',\n",
       " '.',\n",
       " '.',\n",
       " '.',\n",
       " '.',\n",
       " '.',\n",
       " '.',\n",
       " '.',\n",
       " '.',\n",
       " '.',\n",
       " '.',\n",
       " '.',\n",
       " '.',\n",
       " '.',\n",
       " '.',\n",
       " '.',\n",
       " '.',\n",
       " '.',\n",
       " '.',\n",
       " '.',\n",
       " '.',\n",
       " '.',\n",
       " '.',\n",
       " '.',\n",
       " '!',\n",
       " '.',\n",
       " '.',\n",
       " '.',\n",
       " '.',\n",
       " '.',\n",
       " '.',\n",
       " '.',\n",
       " '.',\n",
       " '.',\n",
       " '.',\n",
       " '.',\n",
       " '.',\n",
       " '.',\n",
       " '.',\n",
       " '?',\n",
       " '.',\n",
       " '.',\n",
       " '.',\n",
       " '.',\n",
       " '.',\n",
       " '.',\n",
       " '.',\n",
       " '.',\n",
       " '.',\n",
       " '.',\n",
       " '.',\n",
       " '.',\n",
       " '.',\n",
       " '.',\n",
       " '.',\n",
       " '.',\n",
       " '.',\n",
       " '.',\n",
       " '.',\n",
       " '.',\n",
       " '.',\n",
       " '.',\n",
       " '.',\n",
       " '!',\n",
       " '.',\n",
       " '.',\n",
       " '.',\n",
       " '!',\n",
       " '.',\n",
       " '.',\n",
       " '.',\n",
       " '.',\n",
       " '.',\n",
       " '.',\n",
       " '.',\n",
       " '.',\n",
       " '.',\n",
       " '.',\n",
       " '.',\n",
       " '.',\n",
       " '.',\n",
       " '.',\n",
       " '.',\n",
       " '.',\n",
       " '.',\n",
       " '.',\n",
       " '.',\n",
       " '.',\n",
       " '.',\n",
       " '.',\n",
       " '.',\n",
       " '.',\n",
       " '.',\n",
       " '.',\n",
       " '.',\n",
       " '.',\n",
       " '.',\n",
       " '.',\n",
       " '!',\n",
       " '.',\n",
       " '!',\n",
       " '!',\n",
       " '.',\n",
       " '.',\n",
       " '.',\n",
       " '.',\n",
       " '!',\n",
       " '!',\n",
       " '.',\n",
       " '.',\n",
       " '.',\n",
       " '.',\n",
       " '.',\n",
       " '.',\n",
       " '.',\n",
       " '.',\n",
       " '?',\n",
       " '.',\n",
       " '.',\n",
       " '.',\n",
       " '.',\n",
       " '.',\n",
       " '.',\n",
       " '.',\n",
       " '.',\n",
       " '.',\n",
       " '.',\n",
       " '.',\n",
       " '.',\n",
       " '!',\n",
       " '!',\n",
       " '!',\n",
       " '!',\n",
       " '.',\n",
       " '.',\n",
       " '.',\n",
       " '.',\n",
       " '!',\n",
       " '!',\n",
       " '!',\n",
       " '.',\n",
       " '.',\n",
       " '.',\n",
       " '.',\n",
       " '.',\n",
       " '.',\n",
       " '.',\n",
       " '.',\n",
       " '.',\n",
       " '.',\n",
       " '.',\n",
       " '.',\n",
       " '!',\n",
       " '.',\n",
       " '.',\n",
       " '.',\n",
       " '.',\n",
       " '.',\n",
       " '.',\n",
       " '.',\n",
       " '.',\n",
       " '.',\n",
       " '!',\n",
       " '!',\n",
       " '!',\n",
       " '!']"
      ]
     },
     "execution_count": 18,
     "metadata": {},
     "output_type": "execute_result"
    }
   ],
   "source": [
    "re.findall('[?!.]',data['posts'][4])"
   ]
  },
  {
   "cell_type": "code",
   "execution_count": 19,
   "id": "d2bbfbca",
   "metadata": {},
   "outputs": [
    {
     "data": {
      "text/plain": [
       "Text(0.5, 1.0, 'P vs J')"
      ]
     },
     "execution_count": 19,
     "metadata": {},
     "output_type": "execute_result"
    },
    {
     "data": {
      "image/png": "[encoded data removed]",
      "text/plain": [
       "<Figure size 432x288 with 4 Axes>"
      ]
     },
     "metadata": {
      "needs_background": "light"
     },
     "output_type": "display_data"
    }
   ],
   "source": [
    "fig, axs = plt.subplots(2,2) \n",
    "bins = np.linspace(0,40,20)\n",
    "\n",
    "axs[0, 0].hist(data[data['IorE']=='I']['countPunct'], bins, alpha=0.5, label='I')\n",
    "axs[0, 0].hist(data[data['IorE']=='E']['countPunct'], bins, alpha=0.5, label='E')\n",
    "axs[0, 0].legend(loc='upper left')\n",
    "axs[0, 0].set_title('I vs E')\n",
    "\n",
    "axs[0, 1].hist(data[data['SorN']=='S']['countPunct'], bins, alpha=0.5, label='S')\n",
    "axs[0, 1].hist(data[data['SorN']=='N']['countPunct'], bins, alpha=0.5, label='N')\n",
    "axs[0, 1].legend(loc='upper left')\n",
    "axs[0, 1].set_title('S vs N')\n",
    "\n",
    "\n",
    "axs[1, 0].hist(data[data['TorF']=='T']['countPunct'], bins, alpha=0.5, label='T')\n",
    "axs[1, 0].hist(data[data['TorF']=='F']['countPunct'], bins, alpha=0.5, label='F')\n",
    "axs[1, 0].legend(loc='upper left')\n",
    "axs[1, 0].set_title('T vs F')\n",
    "\n",
    "axs[1, 1].hist(data[data['PorJ']=='P']['countPunct'], bins, alpha=0.5, label='P')\n",
    "axs[1, 1].hist(data[data['PorJ']=='J']['countPunct'], bins, alpha=0.5, label='J')\n",
    "axs[1, 1].legend(loc='upper left')\n",
    "axs[1, 1].set_title('P vs J')\n"
   ]
  },
  {
   "cell_type": "code",
   "execution_count": 20,
   "id": "88156066",
   "metadata": {},
   "outputs": [
    {
     "data": {
      "text/plain": [
       "Text(0.5, 1.0, 'P vs J')"
      ]
     },
     "execution_count": 20,
     "metadata": {},
     "output_type": "execute_result"
    },
    {
     "data": {
      "image/png": "[encoded data removed]",
      "text/plain": [
       "<Figure size 432x288 with 4 Axes>"
      ]
     },
     "metadata": {
      "needs_background": "light"
     },
     "output_type": "display_data"
    }
   ],
   "source": [
    "fig, axs = plt.subplots(2,2) \n",
    "bins = np.linspace(0,40,20)\n",
    "\n",
    "axs[0, 0].hist(data[data['IorE']=='I']['countQM'], bins, alpha=0.5, label='I')\n",
    "axs[0, 0].hist(data[data['IorE']=='E']['countQM'], bins, alpha=0.5, label='E')\n",
    "axs[0, 0].legend(loc='upper left')\n",
    "axs[0, 0].set_title('I vs E')\n",
    "\n",
    "axs[0, 1].hist(data[data['SorN']=='S']['countQM'], bins, alpha=0.5, label='S')\n",
    "axs[0, 1].hist(data[data['SorN']=='N']['countQM'], bins, alpha=0.5, label='N')\n",
    "axs[0, 1].legend(loc='upper left')\n",
    "axs[0, 1].set_title('S vs N')\n",
    "\n",
    "\n",
    "axs[1, 0].hist(data[data['TorF']=='T']['countQM'], bins, alpha=0.5, label='T')\n",
    "axs[1, 0].hist(data[data['TorF']=='F']['countQM'], bins, alpha=0.5, label='F')\n",
    "axs[1, 0].legend(loc='upper left')\n",
    "axs[1, 0].set_title('T vs F')\n",
    "\n",
    "axs[1, 1].hist(data[data['PorJ']=='P']['countQM'], bins, alpha=0.5, label='P')\n",
    "axs[1, 1].hist(data[data['PorJ']=='J']['countQM'], bins, alpha=0.5, label='J')\n",
    "axs[1, 1].legend(loc='upper left')\n",
    "axs[1, 1].set_title('P vs J')"
   ]
  },
  {
   "cell_type": "code",
   "execution_count": 21,
   "id": "903a1bde",
   "metadata": {},
   "outputs": [],
   "source": [
    "data['countLOL']= [post.count('lol') for post in data['posts']]"
   ]
  },
  {
   "cell_type": "code",
   "execution_count": 22,
   "id": "1131a3f0",
   "metadata": {},
   "outputs": [
    {
     "data": {
      "text/html": [
       "<div>\n",
       "<style scoped>\n",
       "    .dataframe tbody tr th:only-of-type {\n",
       "        vertical-align: middle;\n",
       "    }\n",
       "\n",
       "    .dataframe tbody tr th {\n",
       "        vertical-align: top;\n",
       "    }\n",
       "\n",
       "    .dataframe thead th {\n",
       "        text-align: right;\n",
       "    }\n",
       "</style>\n",
       "<table border=\"1\" class=\"dataframe\">\n",
       "  <thead>\n",
       "    <tr style=\"text-align: right;\">\n",
       "      <th></th>\n",
       "      <th>type</th>\n",
       "      <th>IorE</th>\n",
       "      <th>SorN</th>\n",
       "      <th>TorF</th>\n",
       "      <th>PorJ</th>\n",
       "      <th>posts</th>\n",
       "      <th>num_of_posts</th>\n",
       "      <th>ref_YT</th>\n",
       "      <th>countPunct</th>\n",
       "      <th>countQM</th>\n",
       "      <th>countLOL</th>\n",
       "    </tr>\n",
       "  </thead>\n",
       "  <tbody>\n",
       "    <tr>\n",
       "      <th>0</th>\n",
       "      <td>INFJ</td>\n",
       "      <td>I</td>\n",
       "      <td>N</td>\n",
       "      <td>F</td>\n",
       "      <td>J</td>\n",
       "      <td>'Until my mid-twenties I couldn't care less wh...</td>\n",
       "      <td>50</td>\n",
       "      <td>0</td>\n",
       "      <td>25.0</td>\n",
       "      <td>9.0</td>\n",
       "      <td>0</td>\n",
       "    </tr>\n",
       "    <tr>\n",
       "      <th>1</th>\n",
       "      <td>INFJ</td>\n",
       "      <td>I</td>\n",
       "      <td>N</td>\n",
       "      <td>F</td>\n",
       "      <td>J</td>\n",
       "      <td>'http://personalitycafe.com/attachments/infj-f...</td>\n",
       "      <td>50</td>\n",
       "      <td>1</td>\n",
       "      <td>17.0</td>\n",
       "      <td>7.0</td>\n",
       "      <td>0</td>\n",
       "    </tr>\n",
       "    <tr>\n",
       "      <th>2</th>\n",
       "      <td>INFJ</td>\n",
       "      <td>I</td>\n",
       "      <td>N</td>\n",
       "      <td>F</td>\n",
       "      <td>J</td>\n",
       "      <td>Definitely conflict, too. Unreasonable loudnes...</td>\n",
       "      <td>50</td>\n",
       "      <td>2</td>\n",
       "      <td>23.0</td>\n",
       "      <td>20.0</td>\n",
       "      <td>0</td>\n",
       "    </tr>\n",
       "    <tr>\n",
       "      <th>3</th>\n",
       "      <td>INFJ</td>\n",
       "      <td>I</td>\n",
       "      <td>N</td>\n",
       "      <td>F</td>\n",
       "      <td>J</td>\n",
       "      <td>'Last night, was racing people on my old schoo...</td>\n",
       "      <td>50</td>\n",
       "      <td>0</td>\n",
       "      <td>3.0</td>\n",
       "      <td>2.0</td>\n",
       "      <td>0</td>\n",
       "    </tr>\n",
       "    <tr>\n",
       "      <th>4</th>\n",
       "      <td>INFJ</td>\n",
       "      <td>I</td>\n",
       "      <td>N</td>\n",
       "      <td>F</td>\n",
       "      <td>J</td>\n",
       "      <td>'Looks like the preliminary results from the p...</td>\n",
       "      <td>50</td>\n",
       "      <td>0</td>\n",
       "      <td>23.0</td>\n",
       "      <td>2.0</td>\n",
       "      <td>1</td>\n",
       "    </tr>\n",
       "  </tbody>\n",
       "</table>\n",
       "</div>"
      ],
      "text/plain": [
       "   type IorE SorN TorF PorJ  \\\n",
       "0  INFJ    I    N    F    J   \n",
       "1  INFJ    I    N    F    J   \n",
       "2  INFJ    I    N    F    J   \n",
       "3  INFJ    I    N    F    J   \n",
       "4  INFJ    I    N    F    J   \n",
       "\n",
       "                                               posts  num_of_posts  ref_YT  \\\n",
       "0  'Until my mid-twenties I couldn't care less wh...            50       0   \n",
       "1  'http://personalitycafe.com/attachments/infj-f...            50       1   \n",
       "2  Definitely conflict, too. Unreasonable loudnes...            50       2   \n",
       "3  'Last night, was racing people on my old schoo...            50       0   \n",
       "4  'Looks like the preliminary results from the p...            50       0   \n",
       "\n",
       "   countPunct  countQM  countLOL  \n",
       "0        25.0      9.0         0  \n",
       "1        17.0      7.0         0  \n",
       "2        23.0     20.0         0  \n",
       "3         3.0      2.0         0  \n",
       "4        23.0      2.0         1  "
      ]
     },
     "execution_count": 22,
     "metadata": {},
     "output_type": "execute_result"
    }
   ],
   "source": [
    "data.head()"
   ]
  },
  {
   "cell_type": "code",
   "execution_count": 23,
   "id": "cea53f79",
   "metadata": {},
   "outputs": [
    {
     "data": {
      "text/plain": [
       "Text(0.5, 1.0, 'P vs J')"
      ]
     },
     "execution_count": 23,
     "metadata": {},
     "output_type": "execute_result"
    },
    {
     "data": {
      "image/png": "[encoded data removed]",
      "text/plain": [
       "<Figure size 432x288 with 4 Axes>"
      ]
     },
     "metadata": {
      "needs_background": "light"
     },
     "output_type": "display_data"
    }
   ],
   "source": [
    "fig, axs = plt.subplots(2,2) \n",
    "bins = np.linspace(0,40,20)\n",
    "\n",
    "axs[0, 0].hist(data[data['IorE']=='I']['countLOL'], bins, alpha=0.5, label='I')\n",
    "axs[0, 0].hist(data[data['IorE']=='E']['countLOL'], bins, alpha=0.5, label='E')\n",
    "axs[0, 0].legend(loc='upper left')\n",
    "axs[0, 0].set_title('I vs E')\n",
    "\n",
    "axs[0, 1].hist(data[data['SorN']=='S']['countLOL'], bins, alpha=0.5, label='S')\n",
    "axs[0, 1].hist(data[data['SorN']=='N']['countLOL'], bins, alpha=0.5, label='N')\n",
    "axs[0, 1].legend(loc='upper left')\n",
    "axs[0, 1].set_title('S vs N')\n",
    "\n",
    "\n",
    "axs[1, 0].hist(data[data['TorF']=='T']['countLOL'], bins, alpha=0.5, label='T')\n",
    "axs[1, 0].hist(data[data['TorF']=='F']['countLOL'], bins, alpha=0.5, label='F')\n",
    "axs[1, 0].legend(loc='upper left')\n",
    "axs[1, 0].set_title('T vs F')\n",
    "\n",
    "axs[1, 1].hist(data[data['PorJ']=='P']['countLOL'], bins, alpha=0.5, label='P')\n",
    "axs[1, 1].hist(data[data['PorJ']=='J']['countLOL'], bins, alpha=0.5, label='J')\n",
    "axs[1, 1].legend(loc='upper left')\n",
    "axs[1, 1].set_title('P vs J')"
   ]
  },
  {
   "cell_type": "code",
   "execution_count": null,
   "id": "6bf4ce4e",
   "metadata": {},
   "outputs": [],
   "source": []
  }
 ],
 "metadata": {
  "kernelspec": {
   "display_name": "Python 3",
   "language": "python",
   "name": "python3"
  },
  "language_info": {
   "codemirror_mode": {
    "name": "ipython",
    "version": 3
   },
   "file_extension": ".py",
   "mimetype": "text/x-python",
   "name": "python",
   "nbconvert_exporter": "python",
   "pygments_lexer": "ipython3",
   "version": "3.8.8"
  }
 },
 "nbformat": 4,
 "nbformat_minor": 5
}
